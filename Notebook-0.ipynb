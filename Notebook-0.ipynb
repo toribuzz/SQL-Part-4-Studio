{
    "metadata": {
        "kernelspec": {
            "name": "SQL",
            "display_name": "SQL",
            "language": "sql"
        },
        "language_info": {
            "name": "sql",
            "version": ""
        },
        "extensions": {
            "azuredatastudio": {
                "version": 1,
                "views": []
            }
        }
    },
    "nbformat_minor": 2,
    "nbformat": 4,
    "cells": [
        {
            "cell_type": "markdown",
            "source": [
                "# SQL Part 4 Studio\n",
                "\n",
                "For this studio, you will be working in small groups and using the BooksDB.  One group member should screen share while fellow group members code along in their own notebooks.  Each group member will submit a link to their studio notebook.\n",
                "\n",
                "You are back at the bookstore helping employees with their inventory of books.   Four employees need your help with finding books to create in-store displays.  Read their requests and decide if you want to use a correlated subquery, nested subquery, UNION operator, EXCEPT operator, or INTERSECT operator.  You may not use any joins or add multiple statements to the WHERE clause unless explicitly asked."
            ],
            "metadata": {
                "azdata_cell_guid": "3ea3f8a2-b444-4354-be8b-eebc139b3c13"
            },
            "attachments": {}
        },
        {
            "cell_type": "markdown",
            "source": [
                "## QUESTION 1:  Willow\n",
                "\n",
                "Willow wants a list of book titles that have multiple authors attributed to them.  Write a query to return her desired results."
            ],
            "metadata": {
                "azdata_cell_guid": "5c8b1c77-0878-4dc6-8e79-7f64e5e1df0d"
            },
            "attachments": {}
        },
        {
            "cell_type": "code",
            "source": [
                "-- Code here:\r\n",
                "USE BooksDB\r\n",
                "SELECT authors, title\r\n",
                "FROM books\r\n",
                "WHERE authors like '%,%'"
            ],
            "metadata": {
                "azdata_cell_guid": "46c76d2f-acbc-4fd2-9c2a-367044fda616",
                "tags": [],
                "language": "sql"
            },
            "outputs": [
                {
                    "output_type": "display_data",
                    "data": {
                        "text/html": "(2079 rows affected)"
                    },
                    "metadata": {}
                },
                {
                    "output_type": "display_data",
                    "data": {
                        "text/html": "Total execution time: 00:00:00.304"
                    },
                    "metadata": {}
                },
                {
                    "output_type": "execute_result",
                    "metadata": {},
                    "execution_count": 7,
                    "data": {
                        "application/vnd.dataresource+json": {
                            "schema": {
                                "fields": [
                                    {
                                        "name": "authors"
                                    },
                                    {
                                        "name": "title"
                                    }
                                ]
                            },
                            "data": [
                                {
                                    "0": "J.K. Rowling, Mary GrandPré",
                                    "1": "Harry Potter and the Sorcerer's Stone (Harry Potter, #1)"
                                },
                                {
                                    "0": "George Orwell, Erich Fromm, Celâl Üster",
                                    "1": "1984"
                                },
                                {
                                    "0": "Anne Frank, Eleanor Roosevelt, B.M. Mooyaart-Doubleday",
                                    "1": "The Diary of a Young Girl"
                                },
                                {
                                    "0": "Stieg Larsson, Reg Keeland",
                                    "1": "The Girl with the Dragon Tattoo (Millennium, #1)"
                                },
                                {
                                    "0": "J.K. Rowling, Mary GrandPré, Rufus Beck",
                                    "1": "Harry Potter and the Prisoner of Azkaban (Harry Potter, #3)"
                                },
                                {
                                    "0": "J.K. Rowling, Mary GrandPré",
                                    "1": "Harry Potter and the Order of the Phoenix (Harry Potter, #5)"
                                },
                                {
                                    "0": "J.K. Rowling, Mary GrandPré",
                                    "1": "Harry Potter and the Chamber of Secrets (Harry Potter, #2)"
                                },
                                {
                                    "0": "J.K. Rowling, Mary GrandPré",
                                    "1": "Harry Potter and the Goblet of Fire (Harry Potter, #4)"
                                },
                                {
                                    "0": "J.K. Rowling, Mary GrandPré",
                                    "1": "Harry Potter and the Deathly Hallows (Harry Potter, #7)"
                                },
                                {
                                    "0": "J.K. Rowling, Mary GrandPré",
                                    "1": "Harry Potter and the Half-Blood Prince (Harry Potter, #6)"
                                },
                                {
                                    "0": "William Shakespeare, Robert           Jackson",
                                    "1": "Romeo and Juliet"
                                },
                                {
                                    "0": "Paulo Coelho, Alan R. Clarke",
                                    "1": "The Alchemist"
                                },
                                {
                                    "0": "Charlotte Brontë, Michael Mason",
                                    "1": "Jane Eyre"
                                },
                                {
                                    "0": "Mark Twain, John Seelye, Guy Cardwell",
                                    "1": "The Adventures of Huckleberry Finn"
                                },
                                {
                                    "0": "E.B. White, Garth Williams, Rosemary Wells",
                                    "1": "Charlotte's Web"
                                },
                                {
                                    "0": "Emily Brontë, Richard J. Dunn",
                                    "1": "Wuthering Heights"
                                },
                                {
                                    "0": "Mary Wollstonecraft Shelley, Percy Bysshe Shelley, Maurice Hindle",
                                    "1": "Frankenstein"
                                },
                                {
                                    "0": "Jane Austen, Tony Tanner, Ros Ballaster",
                                    "1": "Sense and Sensibility"
                                },
                                {
                                    "0": "Louis Sachar, Louis Sachar",
                                    "1": "Holes (Holes, #1)"
                                },
                                {
                                    "0": "Homer, Robert Fagles, E.V. Rieu, Frédéric Mugler, Bernard Knox",
                                    "1": "The Odyssey"
                                },
                                {
                                    "0": "Antoine de Saint-Exupéry, Richard Howard, Dom Marcos Barbosa, Melina Karakosta",
                                    "1": "The Little Prince"
                                },
                                {
                                    "0": "Charles Dickens, Richard Maxwell, Hablot Knight Browne",
                                    "1": "A Tale of Two Cities"
                                },
                                {
                                    "0": "Elie Wiesel, Marion Wiesel",
                                    "1": "Night (The Night Trilogy #1)"
                                },
                                {
                                    "0": "Steven D. Levitt, Stephen J. Dubner",
                                    "1": "Freakonomics: A Rogue Economist Explores the Hidden Side of Everything (Freakonomics, #1)"
                                },
                                {
                                    "0": "Gabriel García Márquez, Gregory Rabassa",
                                    "1": "One Hundred Years of Solitude"
                                },
                                {
                                    "0": "Oscar Wilde, Jeffrey Eugenides",
                                    "1": "The Picture of Dorian Gray"
                                },
                                {
                                    "0": "Bram Stoker, Nina Auerbach, David J. Skal",
                                    "1": "Dracula"
                                },
                                {
                                    "0": "Stieg Larsson, Reg Keeland",
                                    "1": "The Girl Who Played with Fire (Millennium, #2)"
                                },
                                {
                                    "0": "Alexandre Dumas, Robin Buss",
                                    "1": "The Count of Monte Cristo"
                                },
                                {
                                    "0": "Victor Hugo, Lee Fahnestock, Norman MacAfee",
                                    "1": "Les Misérables"
                                },
                                {
                                    "0": "Mitch Albom, Saulius Dagys",
                                    "1": "Tuesdays with Morrie"
                                },
                                {
                                    "0": "Mark Twain, Guy Cardwell, John Seelye",
                                    "1": "The Adventures of Tom Sawyer"
                                },
                                {
                                    "0": "Vladimir Nabokov, Craig Raine",
                                    "1": "Lolita"
                                },
                                {
                                    "0": "Gregory Maguire, Douglas Smith",
                                    "1": "Wicked: The Life and Times of the Wicked Witch of the West (The Wicked Years, #1)"
                                },
                                {
                                    "0": "William Shakespeare, Richard Andrews, Rex Gibson",
                                    "1": "Hamlet"
                                },
                                {
                                    "0": "Nathaniel Hawthorne, Thomas E. Connolly, Nina Baym",
                                    "1": "The Scarlet Letter"
                                },
                                {
                                    "0": "Stieg Larsson, Reg Keeland",
                                    "1": "The Girl Who Kicked the Hornet's Nest (Millennium, #3)"
                                },
                                {
                                    "0": "Dr. Seuss, לאה נאור",
                                    "1": "Green Eggs and Ham"
                                },
                                {
                                    "0": "Roald Dahl, Quentin Blake",
                                    "1": "Charlie and the Chocolate Factory (Charlie Bucket, #1)"
                                },
                                {
                                    "0": "Albert Camus, Matthew    Ward",
                                    "1": "The Stranger"
                                },
                                {
                                    "0": "Stephen King, Bernie Wrightson",
                                    "1": "The Stand"
                                },
                                {
                                    "0": "Jane Austen, Fiona Stafford",
                                    "1": "Emma"
                                },
                                {
                                    "0": "Leo Tolstoy, Louise Maude, Leo Tolstoj, Aylmer Maude",
                                    "1": "Anna Karenina"
                                },
                                {
                                    "0": "Fyodor Dostoyevsky, David McDuff",
                                    "1": "Crime and Punishment"
                                },
                                {
                                    "0": "Hermann Hesse, Hilda Rosner",
                                    "1": "Siddhartha"
                                },
                                {
                                    "0": "Kami Garcia, Margaret Stohl",
                                    "1": "Beautiful Creatures (Caster Chronicles, #1)"
                                },
                                {
                                    "0": "Roald Dahl, Quentin Blake",
                                    "1": "Matilda"
                                },
                                {
                                    "0": "Alan Moore, Dave Gibbons, John Higgins",
                                    "1": "Watchmen"
                                },
                                {
                                    "0": "Herman Melville, Andrew Delbanco, Tom Quirk",
                                    "1": "Moby-Dick or, The Whale"
                                },
                                {
                                    "0": "Mary Ann Shaffer, Annie Barrows",
                                    "1": "The Guernsey Literary and Potato Peel Pie Society"
                                },
                                {
                                    "0": "Franz Kafka, Stanley Corngold",
                                    "1": "The Metamorphosis"
                                },
                                {
                                    "0": "Erik Larson, Tony Goldwyn",
                                    "1": "The Devil in the White City: Murder, Magic, and Madness at the Fair That Changed America"
                                },
                                {
                                    "0": "C.S. Lewis, Pauline Baynes",
                                    "1": "The Chronicles of Narnia (Chronicles of Narnia, #1-7)"
                                },
                                {
                                    "0": "Emma McLaughlin, Nicola Kraus",
                                    "1": "The Nanny Diaries (Nanny, #1)"
                                },
                                {
                                    "0": "Lewis Carroll, John Tenniel, Martin Gardner",
                                    "1": "Alice's Adventures in Wonderland & Through the Looking-Glass"
                                },
                                {
                                    "0": "Jane Austen, James Kinsley, Deidre Shauna Lynch",
                                    "1": "Persuasion"
                                },
                                {
                                    "0": "Gabriel García Márquez, Edith Grossman",
                                    "1": "Love in the Time of Cholera"
                                },
                                {
                                    "0": "P.C. Cast, Kristin Cast",
                                    "1": "Marked (House of Night, #1)"
                                },
                                {
                                    "0": "William Shakespeare, Barbara A. Mowat, Paul Werstine, Catherine Belsey",
                                    "1": "A Midsummer Night's Dream"
                                },
                                {
                                    "0": "Robert Galbraith, J.K. Rowling",
                                    "1": "The Cuckoo's Calling (Cormoran Strike, #1)"
                                },
                                {
                                    "0": "Ayn Rand, Leonard Peikoff",
                                    "1": "Atlas Shrugged"
                                },
                                {
                                    "0": "Greg Mortenson, David Oliver Relin",
                                    "1": "Three Cups of Tea: One Man's Mission to Promote Peace ... One School at a Time"
                                },
                                {
                                    "0": "Jane Carruth, Lewis Carroll, Rene Cloke",
                                    "1": "Alice in Wonderland"
                                },
                                {
                                    "0": "Carlos Ruiz Zafón, Lucia Graves",
                                    "1": "The Shadow of the Wind (The Cemetery of Forgotten Books,  #1)"
                                },
                                {
                                    "0": "Daphne du Maurier, Sally Beauman",
                                    "1": "Rebecca"
                                },
                                {
                                    "0": "Laura Esquivel, Thomas  Christensen, Carol Christensen",
                                    "1": "Like Water for Chocolate"
                                },
                                {
                                    "0": "Mario Puzo, Robert Thompson, Peter Bart",
                                    "1": "The Godfather"
                                },
                                {
                                    "0": "John Tiffany, Jack Thorne, J.K. Rowling",
                                    "1": "Harry Potter and the Cursed Child - Parts One and Two (Harry Potter, #8)"
                                },
                                {
                                    "0": "Terry Pratchett, Neil Gaiman",
                                    "1": "Good Omens: The Nice and Accurate Prophecies of Agnes Nutter, Witch"
                                },
                                {
                                    "0": "Ayn Rand, Leonard Peikoff",
                                    "1": "The Fountainhead"
                                },
                                {
                                    "0": "C.S. Lewis, Pauline Baynes",
                                    "1": "The Voyage of the Dawn Treader (Chronicles of Narnia, #3)"
                                },
                                {
                                    "0": "H.G. Wells, Greg Bear, Carlo Pagetti",
                                    "1": "The Time Machine"
                                },
                                {
                                    "0": "Todd Burpo, Lynn Vincent",
                                    "1": "Heaven is for Real: A Little Boy's Astounding Story of His Trip to Heaven and Back"
                                },
                                {
                                    "0": "Neil Gaiman, Dave McKean",
                                    "1": "The Graveyard Book"
                                },
                                {
                                    "0": "Cornelia Funke, Anthea Bell",
                                    "1": "Inkheart (Inkworld, #1)"
                                },
                                {
                                    "0": "Spencer Johnson, Kenneth H. Blanchard",
                                    "1": "Who Moved My Cheese?"
                                },
                                {
                                    "0": "Milan Kundera, Michael Henry Heim",
                                    "1": "The Unbearable Lightness of Being"
                                },
                                {
                                    "0": "Randy Pausch, Jeffrey Zaslow",
                                    "1": "The Last Lecture"
                                },
                                {
                                    "0": "Roald Dahl, Quentin Blake",
                                    "1": "James and the Giant Peach"
                                },
                                {
                                    "0": "Margaret Wise Brown, Clement Hurd",
                                    "1": "Goodnight Moon"
                                },
                                {
                                    "0": "Homer, Robert Fagles, Frédéric Mugler, Bernard Knox",
                                    "1": "The Iliad"
                                },
                                {
                                    "0": "L. Frank Baum, W.W. Denslow",
                                    "1": "The Wonderful Wizard of Oz (Oz, #1)"
                                },
                                {
                                    "0": "Hunter S. Thompson, Ralph Steadman",
                                    "1": "Fear and Loathing in Las Vegas"
                                },
                                {
                                    "0": "Lemony Snicket, Brett Helquist",
                                    "1": "The Bad Beginning (A Series of Unfortunate Events, #1)"
                                },
                                {
                                    "0": "Erich Maria Remarque, A.W. Wheen",
                                    "1": "All Quiet on the Western Front"
                                },
                                {
                                    "0": "Philip K. Dick, Roger Zelazny",
                                    "1": "Do Androids Dream of Electric Sheep?"
                                },
                                {
                                    "0": "Charles Dickens, George Cruikshank, Philip Horne",
                                    "1": "Oliver Twist"
                                },
                                {
                                    "0": "Alan Moore, David   Lloyd",
                                    "1": "V for Vendetta"
                                },
                                {
                                    "0": "Roald Dahl, Quentin Blake",
                                    "1": "The BFG"
                                },
                                {
                                    "0": "Haruki Murakami, Jay Rubin",
                                    "1": "Norwegian Wood"
                                },
                                {
                                    "0": "John Green, David Levithan",
                                    "1": "Will Grayson, Will Grayson"
                                },
                                {
                                    "0": "Arthur Miller, Christopher Bigsby",
                                    "1": "The Crucible"
                                },
                                {
                                    "0": "Robert Louis Stevenson, Vladimir Nabokov, Mervyn Peake, Dan Chaon",
                                    "1": "The Strange Case of Dr. Jekyll and Mr. Hyde"
                                },
                                {
                                    "0": "Patrick Süskind, John E. Woods",
                                    "1": "Perfume: The Story of a Murderer"
                                },
                                {
                                    "0": "Sun Tzu, Thomas Cleary",
                                    "1": "The Art of War"
                                },
                                {
                                    "0": "Roald Dahl, Quentin Blake",
                                    "1": "The Witches"
                                },
                                {
                                    "0": "Umberto Eco, William Weaver, Seán Barrett",
                                    "1": "The Name of the Rose"
                                },
                                {
                                    "0": "Beatrice Sparks, Anonymous",
                                    "1": "Go Ask Alice"
                                },
                                {
                                    "0": "John Kennedy Toole, Walker Percy",
                                    "1": "A Confederacy of Dunces"
                                },
                                {
                                    "0": "Haruki Murakami, Philip Gabriel",
                                    "1": "Kafka on the Shore"
                                },
                                {
                                    "0": "Stephen Hawking, Cao Chi, Phạm Văn Thiều",
                                    "1": "A Brief History of Time"
                                },
                                {
                                    "0": "A.A. Milne, Ernest H. Shepard",
                                    "1": "Winnie-the-Pooh (Winnie-the-Pooh, #1)"
                                },
                                {
                                    "0": "P.C. Cast, Kristin Cast",
                                    "1": "Betrayed (House of Night, #2)"
                                },
                                {
                                    "0": "Jane Austen, Alfred MacAdam",
                                    "1": "Northanger Abbey"
                                },
                                {
                                    "0": "Laura Joffe Numeroff, Felicia Bond",
                                    "1": "If You Give a Mouse a Cookie"
                                },
                                {
                                    "0": "Fredrik Backman, Henning Koch",
                                    "1": "A Man Called Ove"
                                },
                                {
                                    "0": "Chuck Dixon, J.R.R. Tolkien, David Wenzel, Sean Deming",
                                    "1": "The Hobbit: Graphic Novel"
                                },
                                {
                                    "0": "Newt Scamander, J.K. Rowling, Albus Dumbledore",
                                    "1": "Fantastic Beasts and Where to Find Them"
                                },
                                {
                                    "0": "Malala Yousafzai, Christina Lamb",
                                    "1": "I Am Malala: The Story of the Girl Who Stood Up for Education and Was Shot by the Taliban"
                                },
                                {
                                    "0": "Jane Austen, Kathryn Sutherland, Tony Tanner, Claire Lamont",
                                    "1": "Mansfield Park"
                                },
                                {
                                    "0": "Daniel Defoe, Gerald McCann, Virginia Woolf",
                                    "1": "Robinson Crusoe"
                                },
                                {
                                    "0": "Niccolò Machiavelli, Adolph Caso, Rufus Goodwin, Benjamin Martinez",
                                    "1": "The Prince"
                                },
                                {
                                    "0": "Fyodor Dostoyevsky, Richard Pevear, Larissa Volokhonsky",
                                    "1": "The Brothers Karamazov"
                                },
                                {
                                    "0": "P.C. Cast, Kristin Cast",
                                    "1": "Untamed (House of Night, #4)"
                                },
                                {
                                    "0": "Leo Tolstoy, Henry Gifford, Aylmer Maude, Louise Maude",
                                    "1": "War and Peace"
                                },
                                {
                                    "0": "Robert Kirkman, Tony Moore",
                                    "1": "The Walking Dead, Vol. 01: Days Gone Bye"
                                },
                                {
                                    "0": "Tim LaHaye, Jerry B. Jenkins",
                                    "1": "Left Behind (Left Behind, #1)"
                                },
                                {
                                    "0": "Corrie ten Boom, John Sherrill, Elizabeth Sherrill",
                                    "1": "The Hiding Place: The Triumphant True Story of Corrie Ten Boom"
                                },
                                {
                                    "0": "J.M. Barrie, Michael Hague",
                                    "1": "Peter Pan"
                                },
                                {
                                    "0": "Haruki Murakami, Jay Rubin",
                                    "1": "The Wind-Up Bird Chronicle"
                                },
                                {
                                    "0": "Jonathan Swift, Robert DeMaria Jr.",
                                    "1": "Gulliver's Travels"
                                },
                                {
                                    "0": "William Shakespeare, Barbara A. Mowat, Paul Werstine, Gail Kern Paster, Robert          Jackson",
                                    "1": "Much Ado About Nothing"
                                },
                                {
                                    "0": "Unknown, Seamus Heaney",
                                    "1": "Beowulf"
                                },
                                {
                                    "0": "Frank Miller, David Mazzucchelli, Richmond Lewis, Dennis O'Neil",
                                    "1": "Batman: Year One"
                                },
                                {
                                    "0": "Frances Hodgson Burnett, Nancy Bond",
                                    "1": "A Little Princess"
                                },
                                {
                                    "0": "Laura Ingalls Wilder, Garth Williams",
                                    "1": "Little House on the Prairie (Little House, #2)"
                                },
                                {
                                    "0": "Margery Williams Bianco, William   Nicholson",
                                    "1": "The Velveteen Rabbit"
                                },
                                {
                                    "0": "H.G. Wells, Arthur C. Clarke",
                                    "1": "The War of the Worlds"
                                },
                                {
                                    "0": "Kenneth Branagh, William Shakespeare",
                                    "1": "Hamlet: Screenplay, Introduction And Film Diary"
                                },
                                {
                                    "0": "Thomas Hardy, Tim Dolin, Margaret R. Higonnet",
                                    "1": "Tess of the D'Urbervilles"
                                },
                                {
                                    "0": "Gustave Flaubert, Margaret Mauldon, Malcolm Bowie, Mark Overstall",
                                    "1": "Madame Bovary"
                                },
                                {
                                    "0": "Norton Juster, Jules Feiffer",
                                    "1": "The Phantom Tollbooth"
                                },
                                {
                                    "0": "Frank Miller, Klaus Janson, Lynn Varley",
                                    "1": "Batman: The Dark Knight Returns (The Dark Knight Saga, #1)"
                                },
                                {
                                    "0": "Stephen King, Marie Milpois",
                                    "1": "Christine"
                                },
                                {
                                    "0": "Tsugumi Ohba, Takeshi Obata",
                                    "1": "Death Note, Vol. 1: Boredom (Death Note, #1)"
                                },
                                {
                                    "0": "Charles Dickens, Jeremy Tambling",
                                    "1": "David Copperfield"
                                },
                                {
                                    "0": "Sherman Alexie, Ellen Forney",
                                    "1": "The Absolutely True Diary of a Part-Time Indian"
                                },
                                {
                                    "0": "Mikhail Bulgakov, Katherine Tiernan O'Connor, Diana Burgin, Ellendea Proffer",
                                    "1": "The Master and Margarita"
                                },
                                {
                                    "0": "Kate DiCamillo, Chris Sheban",
                                    "1": "Because of Winn-Dixie"
                                },
                                {
                                    "0": "Miguel de Cervantes Saavedra, Roberto González Echevarría, John Rutherford",
                                    "1": "Don Quixote"
                                },
                                {
                                    "0": "C.S. Lewis, Pauline Baynes",
                                    "1": "The Silver Chair (Chronicles of Narnia, #4)"
                                },
                                {
                                    "0": "Richard Bach, Russell Munson",
                                    "1": "Jonathan Livingston Seagull"
                                },
                                {
                                    "0": "Robert Munsch, Sheila McGraw",
                                    "1": "Love You Forever"
                                },
                                {
                                    "0": "J.R.R. Tolkien, Christopher Tolkien, Ted Nasmith",
                                    "1": "The Silmarillion (Middle-Earth Universe)"
                                },
                                {
                                    "0": "Franz Kafka, Edwin Muir, Willa Muir, Max Brod",
                                    "1": "The Trial"
                                },
                                {
                                    "0": "Arthur Conan Doyle, Anne Perry",
                                    "1": "The Hound of the Baskervilles"
                                },
                                {
                                    "0": "Jon Scieszka, Lane Smith",
                                    "1": "The True Story of the 3 Little Pigs"
                                },
                                {
                                    "0": "Paulo Coelho, Margaret Jull Costa",
                                    "1": "Veronika Decides to Die"
                                },
                                {
                                    "0": "Sheryl Sandberg, Nell Scovell",
                                    "1": "Lean In: Women, Work, and the Will to Lead"
                                },
                                {
                                    "0": "Jostein Gaarder, Paulette Møller",
                                    "1": "Sophie's World"
                                },
                                {
                                    "0": "Johanna Spyri, Angelo  Rinaldi, Beverly Cleary",
                                    "1": "Heidi"
                                },
                                {
                                    "0": "P.C. Cast, Kristin Cast",
                                    "1": "Chosen (House of Night, #3)"
                                },
                                {
                                    "0": "Geoffrey Chaucer, Nevill Coghill",
                                    "1": "The Canterbury Tales"
                                },
                                {
                                    "0": "Haruki Murakami, Jay Rubin, Philip Gabriel",
                                    "1": "1Q84"
                                },
                                {
                                    "0": "Gaston Leroux, Alexander Teixeira de Mattos",
                                    "1": "The Phantom of the Opera"
                                },
                                {
                                    "0": "José Saramago, Giovanni Pontiero",
                                    "1": "Blindness"
                                },
                                {
                                    "0": "Judith Viorst, Ray Cruz",
                                    "1": "Alexander and the Terrible, Horrible, No Good, Very Bad Day"
                                },
                                {
                                    "0": "Isabel Allende, Magda Bogin",
                                    "1": "The House of the Spirits"
                                },
                                {
                                    "0": "Agatha Christie, Ροζίτα Σώκου",
                                    "1": "The Mysterious Affair at Styles (Hercule Poirot, #1)"
                                },
                                {
                                    "0": "Laura Ingalls Wilder, Garth Williams",
                                    "1": "Little House in the Big Woods (Little House, #1)"
                                },
                                {
                                    "0": "Robert Galbraith, J.K. Rowling",
                                    "1": "The Silkworm (Cormoran Strike, #2)"
                                },
                                {
                                    "0": "Jules Verne, Anthony Bonner",
                                    "1": "Twenty Thousand Leagues Under the Sea"
                                },
                                {
                                    "0": "Virginia Woolf, Maureen Howard",
                                    "1": "Mrs. Dalloway"
                                },
                                {
                                    "0": "Jonas Jonasson, Rod Bradbury",
                                    "1": "The Hundred-Year-Old Man Who Climbed Out of the Window and Disappeared"
                                },
                                {
                                    "0": "Richard Bachman, Stephen King",
                                    "1": "Thinner"
                                },
                                {
                                    "0": "Jules Verne, Michael Glencross, Brian W. Aldiss",
                                    "1": "Around the World in Eighty Days"
                                },
                                {
                                    "0": "Paulo Coelho, Margaret Jull Costa",
                                    "1": "Eleven Minutes"
                                },
                                {
                                    "0": "Stephen King, Ned Dameron",
                                    "1": "The Waste Lands (The Dark Tower, #3)"
                                },
                                {
                                    "0": "Bernhard Schlink, Carol Brown Janeway",
                                    "1": "The Reader"
                                },
                                {
                                    "0": "Bill Martin Jr., Eric Carle",
                                    "1": "Brown Bear, Brown Bear, What Do You See?"
                                },
                                {
                                    "0": "Alan Moore, Brian Bolland, Tim Sale",
                                    "1": "Batman: The Killing Joke"
                                },
                                {
                                    "0": "Laura Ingalls Wilder, Garth Williams",
                                    "1": "The Little House Collection (Little House, #1-9)"
                                },
                                {
                                    "0": "Malcolm X, Alex Haley",
                                    "1": "The Autobiography of Malcolm X"
                                },
                                {
                                    "0": "Neil Gaiman, Sam Kieth, Mike Dringenberg, Malcolm Jones III, Todd Klein, Karen  Berger",
                                    "1": "Preludes & Nocturnes (The Sandman #1)"
                                },
                                {
                                    "0": "William Shakespeare, Roma Gill",
                                    "1": "Julius Caesar"
                                },
                                {
                                    "0": "Plato, Desmond Lee",
                                    "1": "The Republic"
                                },
                                {
                                    "0": "Victor Hugo, Walter J. Cobb",
                                    "1": "The Hunchback of Notre-Dame"
                                },
                                {
                                    "0": "Bill Watterson, G.B. Trudeau",
                                    "1": "Calvin and Hobbes"
                                },
                                {
                                    "0": "P.C. Cast, Kristin Cast",
                                    "1": "Hunted (House of Night, #5)"
                                },
                                {
                                    "0": "Irvine Welsh, Eric Lindor Fall",
                                    "1": "Trainspotting"
                                },
                                {
                                    "0": "Jacob Grimm, Wilhelm Grimm, Josef Scharl, Padraic Colum, Joseph Campbell, Margaret Raine Hunt, James Stern",
                                    "1": "The Complete Grimm's Fairy Tales"
                                },
                                {
                                    "0": "Francis Chan, Danae Yankoski, Chris Tomlin",
                                    "1": "Crazy Love: Overwhelmed by a Relentless God"
                                },
                                {
                                    "0": "Natsuki Takaya, Alethea Nibley, Athena Nibley",
                                    "1": "Fruits Basket, Vol. 1"
                                },
                                {
                                    "0": "P.C. Cast, Kristin Cast",
                                    "1": "Burned (House of Night, #7)"
                                },
                                {
                                    "0": "Stephen King, Dave McKean",
                                    "1": "Wizard and Glass (The Dark Tower, #4)"
                                },
                                {
                                    "0": "Aldous Huxley, Christopher Hitchens",
                                    "1": "Brave New World / Brave New World Revisited"
                                },
                                {
                                    "0": "P.C. Cast, Kristin Cast",
                                    "1": "Tempted (House of Night, #6)"
                                },
                                {
                                    "0": "Stephen King, William Olivier Desmond",
                                    "1": "Dreamcatcher"
                                },
                                {
                                    "0": "Sophocles, J.E. Thomas",
                                    "1": "Oedipus Rex  (The Theban Plays, #1)"
                                },
                                {
                                    "0": "Kenneth Grahame, Gillian Avery",
                                    "1": "The Wind in the Willows"
                                },
                                {
                                    "0": "Marjane Satrapi, Mattias Ripa",
                                    "1": "Persepolis: The Story of a Childhood (Persepolis, #1)"
                                },
                                {
                                    "0": "Masashi Kishimoto, Katy Bridges",
                                    "1": "Naruto, Vol. 01: The Tests of the Ninja (Naruto, #1)"
                                },
                                {
                                    "0": "William Shakespeare, Robert          Jackson, Barbara A. Mowat, Paul Werstine",
                                    "1": "The Merchant of Venice"
                                },
                                {
                                    "0": "Bill Martin Jr., John Archambault, Lois Ehlert",
                                    "1": "Chicka Chicka Boom Boom"
                                },
                                {
                                    "0": "George Orwell, Christopher Hitchens",
                                    "1": "Animal Farm / 1984"
                                },
                                {
                                    "0": "Paul Kalanithi, Abraham Verghese",
                                    "1": "When Breath Becomes Air"
                                },
                                {
                                    "0": "Sam McBratney, Anita Jeram",
                                    "1": "Guess How Much I Love You"
                                },
                                {
                                    "0": "Stephen King, John D. MacDonald",
                                    "1": "Night Shift"
                                },
                                {
                                    "0": "Astrid Lindgren, Lauren Child, Florence Lamborn, Nancy Seligsohn",
                                    "1": "Pippi Longstocking"
                                },
                                {
                                    "0": "Muriel Barbery, Alison Anderson",
                                    "1": "The Elegance of the Hedgehog"
                                },
                                {
                                    "0": "Doris Kearns Goodwin, Suzanne Toren",
                                    "1": "Team of Rivals: The Political Genius of Abraham Lincoln"
                                },
                                {
                                    "0": "Albert Camus, Stuart Gilbert",
                                    "1": "The Plague"
                                },
                                {
                                    "0": "Lemony Snicket, Brett Helquist",
                                    "1": "The Reptile Room (A Series of Unfortunate Events, #2)"
                                },
                                {
                                    "0": "Michael Ende, Ralph Manheim, Roswitha Quadflieg",
                                    "1": "The Neverending Story"
                                },
                                {
                                    "0": "Upton Sinclair, Earl Lee, Kathleen DeGrave",
                                    "1": "The Jungle"
                                },
                                {
                                    "0": "Hiromu Arakawa, Akira Watanabe",
                                    "1": "Fullmetal Alchemist, Vol. 1 (Fullmetal Alchemist, #1)"
                                },
                                {
                                    "0": "Edith Wharton, Maureen Howard",
                                    "1": "The Age of Innocence"
                                },
                                {
                                    "0": "Judi Barrett, Ron Barrett",
                                    "1": "Cloudy With a Chance of Meatballs"
                                },
                                {
                                    "0": "Irma S. Rombauer, Marion Rombauer Becker, Ethan Becker",
                                    "1": "The Joy of Cooking"
                                },
                                {
                                    "0": "Stephen King, Bettina Blanch Tyroller",
                                    "1": "Insomnia"
                                },
                                {
                                    "0": "Marie Kondō, Cathy Hirano",
                                    "1": "The Life-Changing Magic of Tidying Up: The Japanese Art of Decluttering and Organizing"
                                },
                                {
                                    "0": "Jennifer Niven, فرانک معنوی",
                                    "1": "All the Bright Places"
                                },
                                {
                                    "0": "Isabel Allende, Margaret Sayers Peden",
                                    "1": "Daughter of Fortune"
                                },
                                {
                                    "0": "Lena Dunham, Joana Avillez",
                                    "1": "Not That Kind of Girl: A Young Woman Tells You What She's \"Learned\""
                                },
                                {
                                    "0": "Stephen King, Bernie Wrightson",
                                    "1": "Wolves of the Calla (The Dark Tower, #5)"
                                },
                                {
                                    "0": "James Joyce, Seamus Deane",
                                    "1": "A Portrait of the Artist as a Young Man"
                                },
                                {
                                    "0": "Robert Jordan, Brandon Sanderson",
                                    "1": "The Gathering Storm (Wheel of Time, #12)"
                                },
                                {
                                    "0": "George Eliot, Michel Faber",
                                    "1": "Middlemarch"
                                },
                                {
                                    "0": "Marcus Pfister, J. Alison James",
                                    "1": "The Rainbow Fish"
                                },
                                {
                                    "0": "Vincent Bugliosi, Curt Gentry",
                                    "1": "Helter Skelter: The True Story of the Manson Murders"
                                },
                                {
                                    "0": "Robert Kapilow, Dr. Seuss",
                                    "1": "Dr. Seuss's Green Eggs and Ham: For Soprano, Boy Soprano, and Orchestra"
                                },
                                {
                                    "0": "Dante Alighieri, Anthony M. Esolen",
                                    "1": "Inferno (The Divine Comedy #1)"
                                },
                                {
                                    "0": "John Milton, John      Leonard",
                                    "1": "Paradise Lost"
                                },
                                {
                                    "0": "Patrick Ness, Jim Kay, Siobhan Dowd",
                                    "1": "A Monster Calls"
                                },
                                {
                                    "0": "Robert Jordan, Brandon Sanderson",
                                    "1": "Towers of Midnight (Wheel of Time, #13)"
                                },
                                {
                                    "0": "Jason Fried, David Heinemeier Hansson",
                                    "1": "Rework"
                                },
                                {
                                    "0": "Stephenie Meyer, Ilyana Kadushin, Matt Walters",
                                    "1": "The Twilight Saga (Twilight, #1-4)"
                                },
                                {
                                    "0": "Jon Stone, Michael J. Smollin",
                                    "1": "The Monster at the End of this Book"
                                },
                                {
                                    "0": "Herman Koch, Sam Garrett",
                                    "1": "The Dinner"
                                },
                                {
                                    "0": "Chris Kyle, Scott McEwen, Jim DeFelice",
                                    "1": "American Sniper: The Autobiography of the Most Lethal Sniper in U.S. Military History"
                                },
                                {
                                    "0": "Hermann Hesse, Basil Creighton",
                                    "1": "Steppenwolf"
                                },
                                {
                                    "0": "Kate DiCamillo, Timothy Basil Ering",
                                    "1": "The Tale of Despereaux"
                                },
                                {
                                    "0": "Barbara Kingsolver, Steven L. Hopp, Camille Kingsolver, Richard A. Houser",
                                    "1": "Animal, Vegetable, Miracle: A Year of Food Life"
                                },
                                {
                                    "0": "Brian K. Vaughan, Fiona Staples",
                                    "1": "Saga, Vol. 1 (Saga, #1)"
                                },
                                {
                                    "0": "Lemony Snicket, Brett Helquist",
                                    "1": "The Wide Window (A Series of Unfortunate Events, #3)"
                                },
                                {
                                    "0": "Seth Grahame-Smith, Jane Austen",
                                    "1": "Pride and Prejudice and Zombies (Pride and Prejudice and Zombies, #1)"
                                },
                                {
                                    "0": "Fyodor Dostoyevsky, Constance Garnett, Alan Myers, Joseph Frank, Anna Brailovsky",
                                    "1": "The Idiot"
                                },
                                {
                                    "0": "Aziz Ansari, Eric Klinenberg",
                                    "1": "Modern Romance"
                                },
                                {
                                    "0": "Katherine Applegate, Patricia Castelao",
                                    "1": "The One and Only Ivan"
                                },
                                {
                                    "0": "Stephen King, Darrel Anderson",
                                    "1": "Song of Susannah (The Dark Tower, #6)"
                                },
                                {
                                    "0": "Wilkie Collins, Matthew Sweet",
                                    "1": "The Woman in White"
                                },
                                {
                                    "0": "Robert Galbraith, J.K. Rowling",
                                    "1": "Career of Evil (Cormoran Strike, #3)"
                                },
                                {
                                    "0": "Steven D. Levitt, Stephen J. Dubner",
                                    "1": "SuperFreakonomics: Global Cooling, Patriotic Prostitutes And Why Suicide Bombers Should Buy Life Insurance"
                                },
                                {
                                    "0": "William Makepeace Thackeray, John Carey",
                                    "1": "Vanity Fair"
                                },
                                {
                                    "0": "Stephen King, Dominique Dill",
                                    "1": "Dolores Claiborne"
                                },
                                {
                                    "0": "Bill Willingham, Lan Medina, Steve Leialoha, Craig Hamilton, James Jean",
                                    "1": "Fables, Vol. 1: Legends in Exile"
                                },
                                {
                                    "0": "Haruki Murakami, Philip Gabriel",
                                    "1": "Colorless Tsukuru Tazaki and His Years of Pilgrimage"
                                },
                                {
                                    "0": "Thomas Hardy, Rosemarie Morgan, Shannon Russell",
                                    "1": "Far from the Madding Crowd"
                                },
                                {
                                    "0": "P.C. Cast, Kristin Cast",
                                    "1": "Awakened (House of Night, #8)"
                                },
                                {
                                    "0": "Jon Stewart, Ben Karlin, David Javerbaum, Rich Bloomquist, Steve Bodow, Tim Carvell, Eric Drysdale, J.R. Havlan, Scott Jacobson, Tom Johnson, Rob Kutner, Chris Regan, Jason Reich, Jason Ross, Stephen Colbert, Samantha Bee, Rob Corddry, Brendan Hay, Ed Helms",
                                    "1": "America (The Book): A Citizen's Guide to Democracy Inaction"
                                },
                                {
                                    "0": "Don Piper, Cecil Murphey",
                                    "1": "90 Minutes in Heaven: A True Story of Death and Life"
                                },
                                {
                                    "0": "Lao Tzu, Gia-Fu Feng, Jane English, Chungliang Al Huang, Rowena Pattee Kryder, Toinette Lippe",
                                    "1": "Tao Te Ching"
                                },
                                {
                                    "0": "Hans Christian Andersen, Lily Owens, Arthur Rackham, Hans Richter",
                                    "1": "The Complete Fairy Tales"
                                },
                                {
                                    "0": "Friedrich Nietzsche, Walter Kaufmann",
                                    "1": "Thus Spoke Zarathustra"
                                },
                                {
                                    "0": "Elizabeth Gaskell, Alan Shelston",
                                    "1": "North and South"
                                },
                                {
                                    "0": "Aesop, Laura Harris, Laura Gibbs",
                                    "1": "Aesop's Fables"
                                },
                                {
                                    "0": "Matsuri Hino, Tomo Kimura",
                                    "1": "Vampire Knight, Vol. 1 (Vampire Knight, #1)"
                                },
                                {
                                    "0": "Anne McCaffrey, Teodor Panasiński",
                                    "1": "Dragonflight (Dragonriders of Pern, #1)"
                                },
                                {
                                    "0": "John D. Rateliff, J.R.R. Tolkien",
                                    "1": "The History of the Hobbit, Part One: Mr. Baggins"
                                },
                                {
                                    "0": "James Joyce, Jeri Johnson",
                                    "1": "Dubliners"
                                },
                                {
                                    "0": "Kami Garcia, Margaret Stohl",
                                    "1": "Beautiful Darkness (Caster Chronicles, #2)"
                                },
                                {
                                    "0": "Stephen Colbert, Richard Dahm, Paul Dinello, Allison Silverman, Michael Brumm, Eric Drydale, Rob Dubbin, Glenn Eichler, Peter Grosz, Peter Gwinn, Jay Katsir, Laura Krafft, Frank Lesser, Tom Purcell",
                                    "1": "I Am America (And So Can You!)"
                                },
                                {
                                    "0": "Kenneth H. Blanchard, Spencer Johnson",
                                    "1": "The One Minute Manager"
                                },
                                {
                                    "0": "Lemony Snicket, Brett Helquist",
                                    "1": "The Miserable Mill (A Series of Unfortunate Events, #4)"
                                },
                                {
                                    "0": "J. Lynn, Jennifer L. Armentrout",
                                    "1": "Wait for You (Wait for You, #1)"
                                },
                                {
                                    "0": "Dante Alighieri, Allen Mandelbaum, Eugenio Montale",
                                    "1": "The Divine Comedy"
                                },
                                {
                                    "0": "Benjamin Hoff, Ernest H. Shepard",
                                    "1": "The Tao of Pooh"
                                },
                                {
                                    "0": "David Lagercrantz, Stieg Larsson, George Goulding",
                                    "1": "The Girl in the Spider's Web (Millennium, #4)"
                                },
                                {
                                    "0": "Mark Twain, Everett H. Emerson",
                                    "1": "The Prince and the Pauper"
                                },
                                {
                                    "0": "Elif Shafak, إليف شافاق, ارسلان فصیحی, محمد درويش",
                                    "1": "The Forty Rules of Love"
                                },
                                {
                                    "0": "Hajime Isayama, Sheldon Drzka",
                                    "1": "Attack on Titan, Vol. 1 (Attack on Titan, #1)"
                                },
                                {
                                    "0": "Elena Ferrante, Ann Goldstein",
                                    "1": "My Brilliant Friend (The Neapolitan Novels #1)"
                                },
                                {
                                    "0": "Andrew Clements, Brian Selznick",
                                    "1": "Frindle"
                                },
                                {
                                    "0": "Brian K. Vaughan, Pia Guerra, José Marzán Jr.",
                                    "1": "Y: The Last Man, Vol. 1: Unmanned"
                                },
                                {
                                    "0": "Anne Tyler, Jennifer Bassett",
                                    "1": "The Accidental Tourist"
                                },
                                {
                                    "0": "Haruki Murakami, Alfred Birnbaum",
                                    "1": "Hard-Boiled Wonderland and the End of the World"
                                },
                                {
                                    "0": "Paulo Coelho, Alan R. Clarke",
                                    "1": "By the River Piedra I Sat Down and Wept"
                                },
                                {
                                    "0": "Johann David Wyss, Scott McKowen, Arthur Pober",
                                    "1": "The Swiss Family Robinson  "
                                },
                                {
                                    "0": "Watty Piper, Doris Hauman, George Hauman",
                                    "1": "The Little Engine That Could"
                                },
                                {
                                    "0": "E.B. White, Garth Williams",
                                    "1": "Stuart Little"
                                },
                                {
                                    "0": "Lemony Snicket, Brett Helquist",
                                    "1": "The Austere Academy (A Series of Unfortunate Events, #5)"
                                },
                                {
                                    "0": "Janet Evanovich, Lorelei King",
                                    "1": "Hard Eight (Stephanie Plum, #8)"
                                },
                                {
                                    "0": "Lemony Snicket, Brett Helquist",
                                    "1": "The Vile Village (A Series of Unfortunate Events, #7)"
                                },
                                {
                                    "0": "Gabriel García Márquez, Gregory Rabassa",
                                    "1": "Chronicle of a Death Foretold"
                                },
                                {
                                    "0": "Ronald Holt, Arthur Conan Doyle",
                                    "1": "A Scandal in Bohemia (The Adventures of Sherlock Holmes, #1)"
                                },
                                {
                                    "0": "Bill O'Reilly, Martin Dugard",
                                    "1": "Killing Lincoln: The Shocking Assassination that Changed America Forever"
                                },
                                {
                                    "0": "Stephen King, Peter Straub",
                                    "1": "The Talisman (The Talisman, #1)"
                                },
                                {
                                    "0": "P.L. Travers, Mary Shepard",
                                    "1": "Mary Poppins (Mary Poppins, #1)"
                                },
                                {
                                    "0": "Roald Dahl, Quentin Blake",
                                    "1": "The Twits"
                                },
                                {
                                    "0": "James Patterson, Peter de Jonge",
                                    "1": "The Beach House"
                                },
                                {
                                    "0": "Haruki Murakami, Philip Gabriel",
                                    "1": "Sputnik Sweetheart"
                                },
                                {
                                    "0": "Clement C. Moore, Jan Brett",
                                    "1": "The Night Before Christmas"
                                },
                                {
                                    "0": "Virgil, Robert Fitzgerald",
                                    "1": "The Aeneid"
                                },
                                {
                                    "0": "Haruki Murakami, Jay Rubin",
                                    "1": "After Dark"
                                },
                                {
                                    "0": "Kennilworthy Whisp, J.K. Rowling",
                                    "1": "Quidditch Through the Ages"
                                },
                                {
                                    "0": "Harry Allard, James  Marshall",
                                    "1": "Miss Nelson Is Missing! (Miss Nelson, #1)"
                                },
                                {
                                    "0": "Richard Bachman, Stephen King",
                                    "1": "The Long Walk"
                                },
                                {
                                    "0": "Lemony Snicket, Brett Helquist",
                                    "1": "The Ersatz Elevator (A Series of Unfortunate Events, #6)"
                                },
                                {
                                    "0": "Stephen King, Jerry N. Uelsmann",
                                    "1": "'Salem's Lot"
                                },
                                {
                                    "0": "Trenton Lee Stewart, Carson Ellis",
                                    "1": "The Mysterious Benedict Society (The Mysterious Benedict Society, #1)"
                                },
                                {
                                    "0": "Gertrude Chandler Warner, L. Kate Deal",
                                    "1": "The Boxcar Children (The Boxcar Children, #1)"
                                },
                                {
                                    "0": "Arthur Conan Doyle, Kyle Freeman",
                                    "1": "The Complete Sherlock Holmes, Vol 2"
                                },
                                {
                                    "0": "Eiichirō Oda, Andy Nakatani",
                                    "1": "One Piece, Volume 01: Romance Dawn (One Piece, #1)"
                                },
                                {
                                    "0": "Allen Ginsberg, William Carlos Williams",
                                    "1": "Howl and Other Poems"
                                },
                                {
                                    "0": "Adam Mansbach, Ricardo Cortés",
                                    "1": "Go the Fuck to Sleep"
                                },
                                {
                                    "0": "Anonymous, Joseph Smith Jr.",
                                    "1": "The Book of Mormon: Another Testament of Jesus Christ"
                                },
                                {
                                    "0": "Yana Toboso, Tomo Kimura",
                                    "1": "Black Butler, Vol. 1 (Black Butler, #1)"
                                },
                                {
                                    "0": "Robert Louis Stevenson, Robert Mighall",
                                    "1": "The Strange Case of Dr. Jekyll and Mr. Hyde and Other Tales of Terror"
                                },
                                {
                                    "0": "Fyodor Dostoyevsky, Andrew R. MacAndrew, Ben Marcus",
                                    "1": "Notes from Underground, White Nights, The Dream of a Ridiculous Man, and Selections from The House of the Dead"
                                },
                                {
                                    "0": "Robert Jordan, Brandon Sanderson",
                                    "1": "A Memory of Light (Wheel of Time, #14)"
                                },
                                {
                                    "0": "James Patterson, Andrew Gross",
                                    "1": "2nd Chance (Women's Murder Club, #2)"
                                },
                                {
                                    "0": "Faye Perozich, Anne Rice, John Bolton, Daerick Gröss",
                                    "1": "Anne Rice's The Vampire Lestat: A Graphic Novel"
                                },
                                {
                                    "0": "Louis Sachar, Adam McCauley",
                                    "1": "Sideways Stories from Wayside School (Wayside School #1)"
                                },
                                {
                                    "0": "Dalai Lama XIV, Howard C. Cutler",
                                    "1": "The Art of Happiness"
                                },
                                {
                                    "0": "L.J. Smith, Kevin Williamson, Julie Plec",
                                    "1": "Origins (The Vampire Diaries: Stefan's Diaries, #1)"
                                },
                                {
                                    "0": "Cornelia Funke, Anthea Bell",
                                    "1": "Inkspell (Inkworld, #2)"
                                },
                                {
                                    "0": "Margaret Weis, Tracy Hickman",
                                    "1": "Dragons of Autumn Twilight  (Dragonlance: Chronicles, #1)"
                                },
                                {
                                    "0": "Jon Scieszka, Lane Smith",
                                    "1": "The Stinky Cheese Man and Other Fairly Stupid Tales"
                                },
                                {
                                    "0": "Marcus Luttrell, Patrick Robinson",
                                    "1": "Lone Survivor: The Eyewitness Account of Operation Redwing and the Lost Heroes of SEAL Team 10"
                                },
                                {
                                    "0": "Roberto Aguirre-Sacasa, Stephen King, Mike Perkins, Laura       Martin",
                                    "1": "The Stand: Captain Trips"
                                },
                                {
                                    "0": "Jeff Smith, Steve Hamaker",
                                    "1": "Out from Boneville (Bone, #1)"
                                },
                                {
                                    "0": "Kami Garcia, Margaret Stohl, Paz Pruneda",
                                    "1": "Beautiful Chaos (Caster Chronicles, #3)"
                                },
                                {
                                    "0": "Karl Marx, Friedrich Engels, Gareth Stedman Jones",
                                    "1": "The Communist Manifesto"
                                },
                                {
                                    "0": "Julia Child, Alex Prud'Homme",
                                    "1": "My Life in France"
                                },
                                {
                                    "0": "Travis Bradberry, Jean Greaves, Patrick Lencioni",
                                    "1": "Emotional Intelligence 2.0"
                                },
                                {
                                    "0": "Douglas Preston, Lincoln Child",
                                    "1": "Relic (Pendergast, #1)"
                                },
                                {
                                    "0": "Nicola Yoon, David Yoon",
                                    "1": "Everything, Everything"
                                },
                                {
                                    "0": "Marjane Satrapi, Mattias Ripa, Blake Ferris, Anjali Singh",
                                    "1": "The Complete Persepolis"
                                },
                                {
                                    "0": "Irving Stone, שמואל שניצר",
                                    "1": "The Agony and the Ecstasy"
                                },
                                {
                                    "0": "Carlos Ruiz Zafón, Lucia Graves",
                                    "1": "The Angel's Game (The Cemetery of Forgotten Books, #2)"
                                },
                                {
                                    "0": "Peggy Parish, Fritz Siebel",
                                    "1": "Amelia Bedelia  (Amelia Bedelia #1)"
                                },
                                {
                                    "0": "أحلام مستغانمي, Ahlam Mosteghanemi",
                                    "1": "الأسود يليق بك"
                                },
                                {
                                    "0": "Lemony Snicket, Brett Helquist",
                                    "1": "The Slippery Slope (A Series of Unfortunate Events, #10)"
                                },
                                {
                                    "0": "Charles Dickens, Nicola Bradbury, Hablot Knight Browne",
                                    "1": "Bleak House"
                                },
                                {
                                    "0": "Lewis Carroll, John Tenniel, Peter Glassman",
                                    "1": "Through the Looking-Glass, and What Alice Found There"
                                },
                                {
                                    "0": "Laura Ingalls Wilder, Garth Williams",
                                    "1": "On the Banks of Plum Creek  (Little House, #4)"
                                },
                                {
                                    "0": "Guillermo del Toro, Chuck Hogan",
                                    "1": "The Strain (The Strain Trilogy, #1)"
                                },
                                {
                                    "0": "Emily Dickinson, Thomas H. Johnson",
                                    "1": "The Complete Poems of Emily Dickinson"
                                },
                                {
                                    "0": "Mary Norton, Beth Krush, Joe Krush",
                                    "1": "The Borrowers (The Borrowers, #1)"
                                },
                                {
                                    "0": "Haruki Murakami, Alfred Birnbaum",
                                    "1": "A Wild Sheep Chase (The Rat, #3)"
                                },
                                {
                                    "0": "Paulo Coelho, Margaret Jull Costa",
                                    "1": "The Zahir"
                                },
                                {
                                    "0": "Edith Wharton, Nina Bawden",
                                    "1": "The House of Mirth"
                                },
                                {
                                    "0": "Hiro Mashima, William Flanagan",
                                    "1": "Fairy Tail, Vol. 1 (Fairy Tail, #1)"
                                },
                                {
                                    "0": "Patrick Rothfuss, Nate  Taylor",
                                    "1": "The Slow Regard of Silent Things (The Kingkiller Chronicle #2.5)"
                                },
                                {
                                    "0": "Aleksandr Solzhenitsyn, H.T. Willetts",
                                    "1": "One Day in the Life of Ivan Denisovich"
                                },
                                {
                                    "0": "Sophocles, J.E. Thomas",
                                    "1": "Antigone (The Theban Plays, #3)"
                                },
                                {
                                    "0": "A.A. Milne, Ernest H. Shepard",
                                    "1": "The House at Pooh Corner (Winnie-the-Pooh, #2)"
                                },
                                {
                                    "0": "Lemony Snicket, Brett Helquist",
                                    "1": "The Carnivorous Carnival (A Series of Unfortunate Events, #9)"
                                },
                                {
                                    "0": "Boris Pasternak, Max Hayward, Manya Harari, John Bayley",
                                    "1": "Doctor Zhivago"
                                },
                                {
                                    "0": "Jane Hamilton, Frank  Muller, C.J. Critt",
                                    "1": "A Map of the World"
                                },
                                {
                                    "0": "O. Henry, Lisbeth Zwerger",
                                    "1": "The Gift of the Magi"
                                },
                                {
                                    "0": "William S. Burroughs, James Grauerholz, Barry  Miles",
                                    "1": "Naked Lunch"
                                },
                                {
                                    "0": "Neil Gaiman, Kelley Jones, Charles Vess, Colleen Doran, Malcolm Jones III, Steve Erickson",
                                    "1": "Dream Country (The Sandman #3)"
                                },
                                {
                                    "0": "Ursula K. Le Guin, Lech Jęczmyk",
                                    "1": "The Left Hand of Darkness"
                                },
                                {
                                    "0": "John Green, Maureen Johnson, Lauren Myracle",
                                    "1": "Let It Snow: Three Holiday Romances"
                                },
                                {
                                    "0": "Henrik Ibsen, Michael   Meyer",
                                    "1": "A Doll's House"
                                },
                                {
                                    "0": "Rachel Cohn, David Levithan",
                                    "1": "Nick & Norah's Infinite Playlist"
                                },
                                {
                                    "0": "Tom Stoppard, Henry Popkin",
                                    "1": "Rosencrantz and Guildenstern Are Dead"
                                },
                                {
                                    "0": "Beth Hoffman, Jenna Lamia",
                                    "1": "Saving CeeCee Honeycutt"
                                },
                                {
                                    "0": "Munro Leaf, Robert Lawson",
                                    "1": "The Story of Ferdinand"
                                },
                                {
                                    "0": "Nora Roberts, MacLeod Andrews",
                                    "1": "The Next Always (Inn BoonsBoro, #1)"
                                },
                                {
                                    "0": "Haruki Murakami, Philip Gabriel",
                                    "1": "What I Talk About When I Talk About Running"
                                },
                                {
                                    "0": "Andre Agassi, J.R. Moehringer",
                                    "1": "Open"
                                },
                                {
                                    "0": "Lee Child, Dick Hill",
                                    "1": "Without Fail (Jack Reacher, #6)"
                                },
                                {
                                    "0": "Francine Rivers, Richard Ferrone",
                                    "1": "A Voice in the Wind (Mark of the Lion, #1)"
                                },
                                {
                                    "0": "Jeph Loeb, Tim Sale, Gregory Wright, Richard Starkings",
                                    "1": "Batman: The Long Halloween"
                                },
                                {
                                    "0": "Jean-Paul Sartre, Lloyd Alexander, Hayden Carruth",
                                    "1": "Nausea"
                                },
                                {
                                    "0": "Arthur Conan Doyle, Peter Ackroyd, Ed Glinert",
                                    "1": "The Sign of Four"
                                },
                                {
                                    "0": "Doreen Cronin, Betsy Lewin",
                                    "1": "Click, Clack, Moo: Cows That Type"
                                },
                                {
                                    "0": "Terry Goodkind, Dick Hill",
                                    "1": "Temple of the Winds (Sword of Truth, #4)"
                                },
                                {
                                    "0": "Janette Sebring Lowrey, Gustaf Tenggren",
                                    "1": "The Poky Little Puppy (A Little Golden Book)"
                                },
                                {
                                    "0": "Patrick deWitt, Marcelo Barbão",
                                    "1": "The Sisters Brothers"
                                },
                                {
                                    "0": "Roald Dahl, Quentin Blake",
                                    "1": "Fantastic Mr. Fox"
                                },
                                {
                                    "0": "Paulo Coelho, Montserrat Mira",
                                    "1": "Brida"
                                },
                                {
                                    "0": "William Shakespeare, Katherine Duncan-Jones",
                                    "1": "Shakespeare's Sonnets"
                                },
                                {
                                    "0": "Ron Hall, Denver Moore, Lynn Vincent",
                                    "1": "Same Kind of Different as Me"
                                },
                                {
                                    "0": "D.H. Lawrence, Doris Lessing, Chester Brown",
                                    "1": "Lady Chatterley's Lover"
                                },
                                {
                                    "0": "David Eddings, Leigh Eddings",
                                    "1": "Belgarath the Sorcerer"
                                },
                                {
                                    "0": "Elizabeth Strout, Goran Skrobonja",
                                    "1": "My Name Is Lucy Barton"
                                },
                                {
                                    "0": "Greg Behrendt, Liz Tuccillo",
                                    "1": "He's Just Not That Into You: The No-Excuses Truth to Understanding Guys"
                                },
                                {
                                    "0": "Rudyard Kipling, Alev Lytle Croutier",
                                    "1": "The Jungle Books"
                                },
                                {
                                    "0": "John Eldredge, Stasi Eldredge",
                                    "1": "Captivating: Unveiling the Mystery of a Woman's Soul"
                                },
                                {
                                    "0": "Peter David, Robin Furth, Jae Lee, Richard Isanove, Stephen King",
                                    "1": "The Dark Tower: The Gunslinger Born"
                                },
                                {
                                    "0": "Jay Crownover, Charlotte Connan de vries",
                                    "1": "Rule (Marked Men, #1)"
                                },
                                {
                                    "0": "Haruki Murakami, Philip Gabriel",
                                    "1": "South of the Border, West of the Sun"
                                },
                                {
                                    "0": "Edgar Allan Poe, Stephen Marlowe",
                                    "1": "The Fall of the House of Usher and Other Tales "
                                },
                                {
                                    "0": "Edgar Allan Poe, Benjamin F. Fisher",
                                    "1": "Essential Tales and Poems"
                                },
                                {
                                    "0": "Lewis Carroll, John Tenniel",
                                    "1": "Alice's Adventures in Wonderland"
                                },
                                {
                                    "0": "Jo Nesbø, Don Bartlett",
                                    "1": "The Redbreast (Harry Hole, #3)"
                                },
                                {
                                    "0": "Stephen Kendrick, Alex Kendrick",
                                    "1": "The Love Dare"
                                },
                                {
                                    "0": "M.C. Escher, Bruce Brooks Pfeiffer",
                                    "1": "M.C. Escher: The Graphic Work"
                                },
                                {
                                    "0": "James Patterson, Maxine Paetro",
                                    "1": "4th of July (Women's Murder Club, #4)"
                                },
                                {
                                    "0": "Anne Brontë, Stevie Davies",
                                    "1": "The Tenant of Wildfell Hall"
                                },
                                {
                                    "0": "Walter Farley, Keith Ward",
                                    "1": "The Black Stallion (The Black Stallion, #1)"
                                },
                                {
                                    "0": "Lemony Snicket, Brett Helquist",
                                    "1": "The Grim Grotto (A Series of Unfortunate Events, #11)"
                                },
                                {
                                    "0": "David Bayles, Ted Orland",
                                    "1": "Art and Fear: Observations on the Perils (and Rewards) of Artmaking"
                                },
                                {
                                    "0": "Henry James, Patricia Crick",
                                    "1": "The Portrait of a Lady"
                                },
                                {
                                    "0": "Edgar Allan Poe, Gustave Doré",
                                    "1": "The Raven"
                                },
                                {
                                    "0": "Richard Bachman, Stephen King",
                                    "1": "The Running Man"
                                },
                                {
                                    "0": "Philip K. Dick, David Alabort, Manuel Espín",
                                    "1": "Ubik"
                                },
                                {
                                    "0": "Miep Gies, Alison Leslie Gold",
                                    "1": "Anne Frank Remembered: The Story of the Woman Who Helped to Hide the Frank Family"
                                },
                                {
                                    "0": "Michael Bond, Peggy Fortnum",
                                    "1": "A Bear Called Paddington (Paddington, #1)"
                                },
                                {
                                    "0": "Lemony Snicket, Brett Helquist",
                                    "1": "The Hostile Hospital (A Series of Unfortunate Events, #8)"
                                },
                                {
                                    "0": "Paulo Coelho, Amanda Hopkinson, Nick Caistor",
                                    "1": "The Devil and Miss Prym (On the Seventh Day, #3)"
                                },
                                {
                                    "0": "Audrey Penn, Ruth E. Harper, Nancy M. Leak",
                                    "1": "The Kissing Hand"
                                },
                                {
                                    "0": "James Patterson, Gabrielle Charbonnet",
                                    "1": "Sundays at Tiffany's"
                                },
                                {
                                    "0": "Anthony Kiedis, Larry Sloman",
                                    "1": "Scar Tissue"
                                },
                                {
                                    "0": "Margaret Atwood, Brigitte Walitzek",
                                    "1": "Alias Grace"
                                },
                                {
                                    "0": "Gabriel García Márquez, Edith Grossman",
                                    "1": "Memories of My Melancholy Whores"
                                },
                                {
                                    "0": "James Patterson, Andrew Gross",
                                    "1": "3rd Degree (Women's Murder Club, #3)"
                                },
                                {
                                    "0": "Kerstin Gier, Anthea Bell",
                                    "1": "Ruby Red (Precious Stone Trilogy, #1)"
                                },
                                {
                                    "0": "Oliver Pötzsch, Lee Chadeayne",
                                    "1": "The Hangman's Daughter (The Hangman's Daughter, #1)"
                                },
                                {
                                    "0": "Patricia C. Wrede, Peter de Sève",
                                    "1": "Dealing with Dragons (Enchanted Forest Chronicles, #1)"
                                },
                                {
                                    "0": "William Strunk Jr., E.B. White",
                                    "1": "The Elements of Style"
                                },
                                {
                                    "0": "Larry Niven, Jerry Pournelle",
                                    "1": "The Mote in God's Eye"
                                },
                                {
                                    "0": "Jo Nesbø, Don Bartlett",
                                    "1": "The Snowman (Harry Hole, #7)"
                                },
                                {
                                    "0": "John  Williams, John McGahern",
                                    "1": "Stoner"
                                },
                                {
                                    "0": "David Cote, Stephen Schwartz, Joan Marcus, Winnie Holzman",
                                    "1": "Wicked: The Grimmerie"
                                },
                                {
                                    "0": "Garth Ennis, Steve Dillon, Joe R. Lansdale",
                                    "1": "Preacher, Volume 1: Gone to Texas"
                                },
                                {
                                    "0": "Edmond Rostand, Eteel Lawson, Lowell Bair",
                                    "1": "Cyrano de Bergerac"
                                },
                                {
                                    "0": "Neil Gaiman, Steve Parkhouse, Chris Bachalo, Michael Zulli, Mike Dringenberg, Malcolm Jones III, Todd Klein, Clive Barker",
                                    "1": "The Doll's House (The Sandman #2)"
                                },
                                {
                                    "0": "Neil Gaiman, J.H. Williams III, Dave Stewart, Todd Klein",
                                    "1": "The Sandman: Overture"
                                },
                                {
                                    "0": "Anonymous, Richard Francis Burton, A.S. Byatt",
                                    "1": "The Arabian Nights"
                                },
                                {
                                    "0": "Beverly Cleary, Louis Darling, Tracy Dockray",
                                    "1": "The Mouse and the Motorcycle (Ralph S. Mouse, #1)"
                                },
                                {
                                    "0": "Rachel Cohn, David Levithan",
                                    "1": "Dash & Lily's Book of Dares (Dash & Lily, #1)"
                                },
                                {
                                    "0": "Laura Joffe Numeroff, Felicia Bond",
                                    "1": "If You Give a Moose a Muffin"
                                },
                                {
                                    "0": "Chip Heath, Dan Heath",
                                    "1": "Made to Stick: Why Some Ideas Survive and Others Die"
                                },
                                {
                                    "0": "Roald Dahl, Quentin Blake",
                                    "1": "Charlie and the Great Glass Elevator (Charlie Bucket, #2)"
                                },
                                {
                                    "0": "Laura Joffe Numeroff, Felicia Bond",
                                    "1": "If You Give a Pig a Pancake "
                                },
                                {
                                    "0": "Mike Mignola, John Byrne",
                                    "1": "Hellboy, Vol. 1: Seed of Destruction (Hellboy, #1)"
                                },
                                {
                                    "0": "Alexandre Dumas, Francine du Plessix Gray, Joachim Neugroschel",
                                    "1": "The Man in the Iron Mask (The D'Artagnan Romances, #3.3)"
                                },
                                {
                                    "0": "Shirley Jackson, Laura   Miller",
                                    "1": "The Haunting of Hill House"
                                },
                                {
                                    "0": "Laura Ingalls Wilder, Garth Williams",
                                    "1": "Little Town on the Prairie  (Little House, #7)"
                                },
                                {
                                    "0": "P.C. Cast, Kristin Cast",
                                    "1": "Destined (House of Night, #9)"
                                },
                                {
                                    "0": "Marcus Aurelius, Martin Hammond, Diskin Clay",
                                    "1": "Meditations"
                                },
                                {
                                    "0": "Dave Barry, Ridley Pearson, Greg Call",
                                    "1": "Peter and the Starcatchers (Peter and the Starcatchers, #1)"
                                },
                                {
                                    "0": "Lemony Snicket, Brett Helquist",
                                    "1": "The Penultimate Peril (A Series of Unfortunate Events, #12)"
                                },
                                {
                                    "0": "Lemony Snicket, Brett Helquist",
                                    "1": "The End (A Series of Unfortunate Events, #13)"
                                },
                                {
                                    "0": "Margaret Wise Brown, Clement Hurd",
                                    "1": "The Runaway Bunny"
                                },
                                {
                                    "0": "Stephen Hawking, Leonard Mlodinow",
                                    "1": "The Grand Design"
                                },
                                {
                                    "0": "Richard Bachman, Stephen King",
                                    "1": "The Bachman Books"
                                },
                                {
                                    "0": "Jan-Philipp Sendker, Kevin Wiliarty",
                                    "1": "The Art of Hearing Heartbeats"
                                },
                                {
                                    "0": "Carlo Collodi, John Boyne, Monteiro Lobato, Unknown",
                                    "1": "Pinocchio"
                                },
                                {
                                    "0": "Leo Tolstoy, Aylmer Maude",
                                    "1": "The Death of Ivan Ilych"
                                },
                                {
                                    "0": "Albert Camus, Justin O'Brien",
                                    "1": "The Fall"
                                },
                                {
                                    "0": "Wilkie Collins, Carolyn G. Heilbrun",
                                    "1": "The Moonstone"
                                },
                                {
                                    "0": "Italo Calvino, William Weaver",
                                    "1": "If on a Winter's Night a Traveler"
                                },
                                {
                                    "0": "Gregory Maguire, Douglas Smith",
                                    "1": "Son of a Witch (The Wicked Years, #2)"
                                },
                                {
                                    "0": "David Sedaris, Ian Falconer",
                                    "1": "Squirrel Seeks Chipmunk: A Modest Bestiary"
                                },
                                {
                                    "0": "Sophocles, Dudley Fitts, Elena Bono, Robert Fitzgerald",
                                    "1": "The Oedipus Cycle: Oedipus Rex/Oedipus at Colonus/Antigone (The Theban Plays, #1–3)"
                                },
                                {
                                    "0": "Fredrik Backman, Henning Koch",
                                    "1": "My Grandmother Asked Me to Tell You She's Sorry"
                                },
                                {
                                    "0": "Kate DiCamillo, Bagram Ibatoulline",
                                    "1": "The Miraculous Journey of Edward Tulane"
                                },
                                {
                                    "0": "Anonymous, N.K. Sandars",
                                    "1": "The Epic of Gilgamesh"
                                },
                                {
                                    "0": "Roberto Aguirre-Sacasa, Mike Perkins, Laura       Martin, Stephen King",
                                    "1": "The Stand: Soul Survivors"
                                },
                                {
                                    "0": "Janet Evanovich, Lorelei King",
                                    "1": "Smokin' Seventeen (Stephanie Plum, #17)"
                                },
                                {
                                    "0": "Bill Martin Jr., Eric Carle",
                                    "1": "Polar Bear, Polar Bear, What Do You Hear?"
                                },
                                {
                                    "0": "Yoshiki Nakamura, Tomo Kimura",
                                    "1": "Skip Beat!, Vol. 01"
                                },
                                {
                                    "0": "J.K. Rowling, Mary GrandPré",
                                    "1": "The Harry Potter Collection 1-4 (Harry Potter, #1-4)"
                                },
                                {
                                    "0": "Oscar Wilde, Richard Allen Cave",
                                    "1": "The Importance of Being Earnest and Other Plays"
                                },
                                {
                                    "0": "Irène Némirovsky, Sandra Smith",
                                    "1": "Suite Française"
                                },
                                {
                                    "0": "Vincent van Gogh, Ronald de Leeuw, Mark Roskill, Arnold J. Pomerans",
                                    "1": "The Letters of Vincent van Gogh"
                                },
                                {
                                    "0": "Grant Morrison, Dave McKean",
                                    "1": "Batman: Arkham Asylum - A Serious House on Serious Earth"
                                },
                                {
                                    "0": "V.E. Schwab, Victoria Schwab",
                                    "1": "A Darker Shade of Magic (Shades of Magic, #1)"
                                },
                                {
                                    "0": "Roald Dahl, Quentin Blake",
                                    "1": "George's Marvellous Medicine"
                                },
                                {
                                    "0": "Ivan Turgenev, George Reavy, Jane Costlow",
                                    "1": "Fathers and Sons"
                                },
                                {
                                    "0": "Eliyahu M. Goldratt, Jeff Cox",
                                    "1": "The Goal: A Process of Ongoing Improvement"
                                },
                                {
                                    "0": "Homer, Robert Fagles, Bernard Knox",
                                    "1": "The Iliad/The Odyssey"
                                },
                                {
                                    "0": "Mark Waid, Alex Ross, Elliot S. Maggin",
                                    "1": "Kingdom Come"
                                },
                                {
                                    "0": "Chris Colfer, Brandon Dorman",
                                    "1": "The Wishing Spell (The Land of Stories, #1)"
                                },
                                {
                                    "0": "Brian K. Vaughan, Fiona Staples",
                                    "1": "Saga #1"
                                },
                                {
                                    "0": "Charlotte Perkins Gilman, Elaine Hedges",
                                    "1": "The Yellow Wall-Paper"
                                },
                                {
                                    "0": "H.G. Wells, Alfred MacAdam",
                                    "1": "The Time Machine/The Invisible Man"
                                },
                                {
                                    "0": "Heidi Murkoff, Arlene Eisenberg, Sandee Hathaway",
                                    "1": "What to Expect When You're Expecting"
                                },
                                {
                                    "0": "Peter Thiel, Blake  Masters",
                                    "1": "Zero to One: Notes on Startups, or How to Build the Future"
                                },
                                {
                                    "0": "Charles Dickens, Katharine Kroeber Wiley",
                                    "1": "A Christmas Carol, The Chimes and The Cricket on the Hearth"
                                },
                                {
                                    "0": "Dr. Seuss, Various",
                                    "1": "The Cat in the Hat and Other Dr. Seuss Favorites"
                                },
                                {
                                    "0": "Nikolai Gogol, Robert A. Maguire",
                                    "1": "Dead Souls"
                                },
                                {
                                    "0": "Arlene Mosel, Blair Lent",
                                    "1": "Tikki Tikki Tembo"
                                },
                                {
                                    "0": "Yevgeny Zamyatin, Clarence Brown",
                                    "1": "We"
                                },
                                {
                                    "0": "Brian Froud, Alan Lee",
                                    "1": "Faeries"
                                },
                                {
                                    "0": "Chelsea Handler, Johnny Kansas, Stephanie Stehling, Heather McDonald, Roy Handler, Brad Wollack, Amber Mazzola, Josh Wolf, Shoshanna Handler, Eva Magdalenski, Amy Meyer, Glen Handler, Dave Mallow, Sarah Colonna",
                                    "1": "Lies That Chelsea Handler Told Me"
                                },
                                {
                                    "0": "Henning Mankell, Steven T. Murray",
                                    "1": "Faceless Killers (Kurt Wallander, #1)"
                                },
                                {
                                    "0": "James Patterson, Keith David, Anthony Heald",
                                    "1": "Cat and Mouse (Alex Cross, #4)"
                                },
                                {
                                    "0": "James C. Collins, Jerry I. Porras",
                                    "1": "Built to Last: Successful Habits of Visionary Companies"
                                },
                                {
                                    "0": "Carl Sagan, Ann Druyan",
                                    "1": "The Demon-Haunted World: Science as a Candle in the Dark"
                                },
                                {
                                    "0": "Margaret Weis, Tracy Hickman",
                                    "1": "Dragons of Spring Dawning (Dragonlance: Chronicles, #3)"
                                },
                                {
                                    "0": "Brian K. Vaughan, Fiona Staples",
                                    "1": "Saga, Vol. 2 (Saga, #2)"
                                },
                                {
                                    "0": "Jean-Dominique Bauby, Jeremy Leggatt",
                                    "1": "The Diving Bell and the Butterfly"
                                },
                                {
                                    "0": "Bill O'Reilly, Martin Dugard",
                                    "1": "Killing Kennedy: The End of Camelot"
                                },
                                {
                                    "0": "Umberto Eco, William Weaver",
                                    "1": "Foucault's Pendulum"
                                },
                                {
                                    "0": "James Patterson, Maxine Paetro",
                                    "1": "The 5th Horseman (Women's Murder Club, #5)"
                                },
                                {
                                    "0": "Stieg Larsson, Reg Keeland",
                                    "1": "The Millennium Trilogy (Millennium Trilogy, #1-3)"
                                },
                                {
                                    "0": "Johann Wolfgang von Goethe, Burton Pike",
                                    "1": "The Sorrows of Young Werther"
                                },
                                {
                                    "0": "Angie Sage, Mark Zug",
                                    "1": "Flyte (Septimus Heap, #2)"
                                },
                                {
                                    "0": "سعود السنعوسي, Saud Alsanousi",
                                    "1": "ساق البامبو"
                                },
                                {
                                    "0": "Dava Sobel, Neil Armstrong",
                                    "1": "Longitude: The True Story of a Lone Genius Who Solved the Greatest Scientific Problem of His Time"
                                },
                                {
                                    "0": "Johann Wolfgang von Goethe, Peter Salm",
                                    "1": "Faust: First Part"
                                },
                                {
                                    "0": "Joe Hill, Gabriel Rodríguez",
                                    "1": "Locke & Key, Vol. 1: Welcome to Lovecraft"
                                },
                                {
                                    "0": "J.R.R. Tolkien, Christopher Tolkien, Alan Lee",
                                    "1": "The Children of Húrin"
                                },
                                {
                                    "0": "Richard Atwater, Florence Atwater, Robert Lawson",
                                    "1": "Mr. Popper's Penguins"
                                },
                                {
                                    "0": "E.B. White, Fred Marcellino",
                                    "1": "The Trumpet of the Swan"
                                },
                                {
                                    "0": "Thomas J. Stanley, William D. Danko",
                                    "1": "The Millionaire Next Door: The Surprising Secrets of Americas Wealthy"
                                },
                                {
                                    "0": "Laura Ingalls Wilder, Garth Williams",
                                    "1": "By the Shores of Silver Lake  (Little House, #5)"
                                },
                                {
                                    "0": "George Selden, Garth Williams",
                                    "1": "The Cricket in Times Square"
                                },
                                {
                                    "0": "William S. Burroughs, Oliver  Harris, Allen Ginsberg",
                                    "1": "Junky"
                                },
                                {
                                    "0": "Roger Fisher, William Ury, Bruce Patton",
                                    "1": "Getting to Yes: Negotiating an Agreement Without Giving In"
                                },
                                {
                                    "0": "Krishna-Dwaipayana Vyasa, Simon Brodbeck, Juan Mascaró",
                                    "1": "The Bhagavad Gita"
                                },
                                {
                                    "0": "Paul Auster, Art Spiegelman",
                                    "1": "The New York Trilogy"
                                },
                                {
                                    "0": "Friedrich Nietzsche, R.J. Hollingdale, Michael Tanner",
                                    "1": "Beyond Good and Evil"
                                },
                                {
                                    "0": "Mark Owen, Kevin Maurer",
                                    "1": "No Easy Day: The Firsthand Account of the Mission That Killed Osama Bin Laden"
                                },
                                {
                                    "0": "Richard Bachman, Stephen King",
                                    "1": "The Regulators"
                                },
                                {
                                    "0": "Neil Gaiman, Matt Wagner, George Pratt, Dick Giordano, Kelley Jones, P. Craig Russell, Mike Dringenberg, Malcolm Jones III, Todd Klein, Harlan Ellison",
                                    "1": "Season of Mists (The Sandman #4)"
                                },
                                {
                                    "0": "James Patterson, Andrew Gross",
                                    "1": "Judge & Jury"
                                },
                                {
                                    "0": "Kami Garcia, Margaret Stohl",
                                    "1": "Beautiful Redemption (Caster Chronicles, #4)"
                                },
                                {
                                    "0": "Ovid, David Raeburn, Denis Feeney",
                                    "1": "Metamorphoses"
                                },
                                {
                                    "0": "Bo Hampton, Tracey Hampton, Washington Irving",
                                    "1": "The Legend of Sleepy Hollow (Graphic Novel)"
                                },
                                {
                                    "0": "Colleen Hoover, Tarryn Fisher",
                                    "1": "Never Never (Never Never, #1)"
                                },
                                {
                                    "0": "Richard Lancelyn Green, Ronald Knox, Julian Symons, Various",
                                    "1": "The Further Adventures of Sherlock Holmes: After Sir Arthur Conan Doyle (Classic Crime)"
                                },
                                {
                                    "0": "E.M. Forster, Oliver Stallybrass, Pankaj Mishra",
                                    "1": "A Passage to India"
                                },
                                {
                                    "0": "Stephen King, Jae Lee",
                                    "1": "The Wind Through the Keyhole (The Dark Tower, #4.5)"
                                },
                                {
                                    "0": "James Howe, Deborah Howe, Alan Daniel",
                                    "1": "Bunnicula (Bunnicula, #1)"
                                },
                                {
                                    "0": "Jussi Adler-Olsen, Lisa Hartford",
                                    "1": "The Keeper of Lost Causes (Department Q, #1)"
                                },
                                {
                                    "0": "Frank Miller, Lynn Varley",
                                    "1": "300"
                                },
                                {
                                    "0": "Jo Nesbø, Don Bartlett",
                                    "1": "Flaggermusmannen (Harry Hole, #1)"
                                },
                                {
                                    "0": "Nobuhiro Watsuki, Kenichiro Yagi",
                                    "1": "Rurouni Kenshin, Vol. 1: Meiji Swordsman Romantic Story (Rurouni Kenshin, #1)"
                                },
                                {
                                    "0": "Jack Welch, Suzy Welch",
                                    "1": "Winning"
                                },
                                {
                                    "0": "Jean de Brunhoff, Merle S. Haas",
                                    "1": "The Story of Babar"
                                },
                                {
                                    "0": "Marjane Satrapi, Anjali Singh",
                                    "1": "Persepolis 2: The Story of a Return (Persepolis, #2)"
                                },
                                {
                                    "0": "Julia Child, Simone Beck, Louisette Bertholle",
                                    "1": "Mastering the Art of French Cooking"
                                },
                                {
                                    "0": "Kazue Kato, John Werry",
                                    "1": "Blue Exorcist, Vol. 1  (Blue Exorcist, #1)"
                                },
                                {
                                    "0": "Else Holmelund Minarik, Maurice Sendak",
                                    "1": "Little Bear"
                                },
                                {
                                    "0": "Holly Black, Tony DiTerlizzi",
                                    "1": "The Field Guide (The Spiderwick Chronicles, #1)"
                                },
                                {
                                    "0": "Robert Greene, Joost Elffers",
                                    "1": "The 48 Laws of Power"
                                },
                                {
                                    "0": "Susanna Kearsley, Rosalyn Landor",
                                    "1": "The Winter Sea (Slains, #1)"
                                },
                                {
                                    "0": "Hubert Selby Jr., Darren Aronofsky, Richard Price",
                                    "1": "Requiem for a Dream"
                                },
                                {
                                    "0": "Władysław Szpilman, Anthea Bell",
                                    "1": "The Pianist: The Extraordinary Story of One Man's Survival in Warsaw, 1939–45"
                                },
                                {
                                    "0": "Ian Edginton, Oscar Wilde, I.N.J. Culbard",
                                    "1": "The Picture of Dorian Gray: A Graphic Novel"
                                },
                                {
                                    "0": "Geoffrey Crayon, Washington Irving, William L. Hedges",
                                    "1": "The Legend of Sleepy Hollow and Other Stories"
                                },
                                {
                                    "0": "David Wilkerson, John Sherrill, Elizabeth Sherrill",
                                    "1": "The Cross and the Switchblade"
                                },
                                {
                                    "0": "Charlotte Brontë, A.S. Byatt, Μαρία Λαϊνά, Ignes Sodre",
                                    "1": "Villette"
                                },
                                {
                                    "0": "Stephen King, Peter Straub",
                                    "1": "Black House (The Talisman, #2)"
                                },
                                {
                                    "0": "Neil Gaiman, Andy Kubert, Richard Isanove, Peter Sanderson",
                                    "1": "Marvel 1602"
                                },
                                {
                                    "0": "Haruki Murakami, 村上 春樹",
                                    "1": "1Q84 BOOK 1 (1Q84, #1)"
                                },
                                {
                                    "0": "Paulo Coelho, Alan R. Clarke",
                                    "1": "The Pilgrimage"
                                },
                                {
                                    "0": "Lee Child, Dick Hill",
                                    "1": "A Wanted Man (Jack Reacher, #17)"
                                },
                                {
                                    "0": "Grant Morrison, Frank Quitely",
                                    "1": "All-Star Superman, Vol. 1"
                                },
                                {
                                    "0": "Elena Ferrante, Ann Goldstein",
                                    "1": "The Story of a New Name (The Neapolitan Novels #2)"
                                },
                                {
                                    "0": "Eugene Bradley Coco, Ron Dias, Walt Disney Company",
                                    "1": "Peter Pan (A Little Golden Book)"
                                },
                                {
                                    "0": "Anthony Robbins, Tony Robbins, Frederick L. Covan",
                                    "1": "Awaken the Giant Within: How to Take Immediate Control of Your Mental, Emotional, Physical and Financial Destiny!"
                                },
                                {
                                    "0": "Laura Ingalls Wilder, Garth Williams",
                                    "1": "The Long Winter (Little House, #6)"
                                },
                                {
                                    "0": "Henry Cloud, John Townsend",
                                    "1": "Boundaries: When to Say Yes, How to Say No to Take Control of Your Life"
                                },
                                {
                                    "0": "Philip Roth, Luca Marinelli",
                                    "1": "Portnoy's Complaint"
                                },
                                {
                                    "0": "John C. Maxwell, Zig Ziglar",
                                    "1": "The 21 Irrefutable Laws of Leadership: Follow Them and People Will Follow You"
                                },
                                {
                                    "0": "James Patterson, Maxine Paetro",
                                    "1": "The 6th Target (Women's Murder Club, #6)"
                                },
                                {
                                    "0": "Edgar Rice Burroughs, John Seelye",
                                    "1": "A Princess of Mars (Barsoom, #1)"
                                },
                                {
                                    "0": "Laura Ingalls Wilder, Garth Williams",
                                    "1": "These Happy Golden Years (Little House, #8)"
                                },
                                {
                                    "0": "Gene Zion, Margaret Bloy Graham",
                                    "1": "Harry the Dirty Dog"
                                },
                                {
                                    "0": "Louis Sachar, Joel Schick",
                                    "1": "Wayside School Is Falling Down (Wayside School #2)"
                                },
                                {
                                    "0": "Julie Orringer, Arthur Morey",
                                    "1": "The Invisible Bridge"
                                },
                                {
                                    "0": "Thomas Hardy, Keith Wilson",
                                    "1": "The Mayor of Casterbridge"
                                },
                                {
                                    "0": "Anne Rice, Tim Curry",
                                    "1": "Taltos (Lives of the Mayfair Witches, #3)"
                                },
                                {
                                    "0": "Angie Sage, Mark Zug",
                                    "1": "Physik (Septimus Heap, #3)"
                                },
                                {
                                    "0": "Roald Dahl, Quentin Blake",
                                    "1": "Boy: Tales of Childhood"
                                },
                                {
                                    "0": "Nicholas D. Kristof, Sheryl WuDunn",
                                    "1": "Half the Sky: Turning Oppression into Opportunity for Women Worldwide"
                                },
                                {
                                    "0": "Daniel Handler, Maira Kalman",
                                    "1": "Why We Broke Up"
                                },
                                {
                                    "0": "Shirley Jackson, Jonathan Lethem",
                                    "1": "We Have Always Lived in the Castle"
                                },
                                {
                                    "0": "Richard Wright, Jerry W. Ward Jr.",
                                    "1": "Black Boy"
                                },
                                {
                                    "0": "James D. Bradley, Ron Powers",
                                    "1": "Flags of Our Fathers"
                                },
                                {
                                    "0": "A.A. Milne, Ernest H. Shepard",
                                    "1": "The World of Winnie-the-Pooh (Winnie-the-Pooh, #1-2)"
                                },
                                {
                                    "0": "Lance Armstrong, Sally Jenkins",
                                    "1": "It's Not About the Bike: My Journey Back to Life"
                                },
                                {
                                    "0": "Christopher Yost, Orson Scott Card, Pasqual Ferry, Frank D'Armata",
                                    "1": "Ender's Game, Volume 1: Battle School (Ender's Saga)"
                                },
                                {
                                    "0": "Karuho Shiina, Tomo Kimura",
                                    "1": "Kimi ni Todoke: From Me to You, Vol. 1"
                                },
                                {
                                    "0": "Nina George, Simon Pare",
                                    "1": "The Little Paris Bookshop"
                                },
                                {
                                    "0": "Alistair MacLean, Clint Willis",
                                    "1": "Where Eagles Dare "
                                },
                                {
                                    "0": "Liu Cixin, Ken Liu",
                                    "1": "The Three-Body Problem (Remembrance of Earth’s Past, #1)"
                                },
                                {
                                    "0": "Mark Millar, Kilian Plunkett, Andrew Robinson, Walden Wong, Dave Johnson",
                                    "1": "Superman: Red Son"
                                },
                                {
                                    "0": "Benjamin Franklin, Lewis Leary",
                                    "1": "The Autobiography of Benjamin Franklin"
                                },
                                {
                                    "0": "W. Chan Kim, Renée Mauborgne",
                                    "1": "Blue Ocean Strategy: How To Create Uncontested Market Space And Make The Competition Irrelevant"
                                },
                                {
                                    "0": "Audrey Wood, Don    Wood",
                                    "1": "The Napping House"
                                },
                                {
                                    "0": "Italo Calvino, William Weaver",
                                    "1": "Invisible Cities"
                                },
                                {
                                    "0": "A.N. Roquelaure, Anne Rice",
                                    "1": "The Claiming of Sleeping Beauty (Sleeping Beauty, #1)"
                                },
                                {
                                    "0": "Stendhal, Roger Gard",
                                    "1": "The Red and the Black"
                                },
                                {
                                    "0": "Alvin Schwartz, Stephen Gammell",
                                    "1": "Scary Stories to Tell in the Dark (Scary Stories, #1)"
                                },
                                {
                                    "0": "Pablo Neruda, W.S. Merwin, Cristina García",
                                    "1": "Twenty Love Poems and a Song of Despair"
                                },
                                {
                                    "0": "Thomas More, Paul Turner",
                                    "1": "Utopia"
                                },
                                {
                                    "0": "Pseudonymous Bosch, Gilbert Ford",
                                    "1": "The Name of This Book Is Secret (Secret, #1)"
                                },
                                {
                                    "0": "Dai Sijie, Ina Rilke",
                                    "1": "Balzac and the Little Chinese Seamstress"
                                },
                                {
                                    "0": "Roald Dahl, Quentin Blake",
                                    "1": "Danny the Champion of the World"
                                },
                                {
                                    "0": "Betty MacDonald, Alexandra Boiger",
                                    "1": "Mrs. Piggle-Wiggle (Mrs. Piggle Wiggle, #1)"
                                },
                                {
                                    "0": "Ina Garten, Quentin Bacon",
                                    "1": "Barefoot Contessa at Home: Everyday Recipes You'll Make Over and Over Again"
                                },
                                {
                                    "0": "CLAMP, Anthony Gerard",
                                    "1": "Tsubasa: RESERVoir CHRoNiCLE, Vol. 01"
                                },
                                {
                                    "0": "Alan Moore, Kevin O'Neill",
                                    "1": "The League of Extraordinary Gentlemen, Vol. 1"
                                },
                                {
                                    "0": "Euripides, Rex Warner",
                                    "1": "Medea"
                                },
                                {
                                    "0": "Brian K. Vaughan, Fiona Staples",
                                    "1": "Saga, Vol. 3 (Saga, #3)"
                                },
                                {
                                    "0": "James Patterson, Maxine Paetro",
                                    "1": "7th Heaven (Women's Murder Club, #7)"
                                },
                                {
                                    "0": "Warren Ellis, Darick Robertston, Garth Ennis",
                                    "1": "Transmetropolitan, Vol. 1: Back on the Street (Transmetropolitan, #1)"
                                },
                                {
                                    "0": "James Patterson, Gabrielle Charbonnet",
                                    "1": "Witch & Wizard (Witch & Wizard, #1)"
                                },
                                {
                                    "0": "Jean Craighead George, John Schoenherr",
                                    "1": "Julie of the Wolves (Julie of the Wolves, #1)"
                                },
                                {
                                    "0": "Umberto Eco, Girolamo De Michele, Alastair McEwen",
                                    "1": "History of Beauty"
                                },
                                {
                                    "0": "Amanda Lindhout, Sara Corbett",
                                    "1": "A House in the Sky"
                                },
                                {
                                    "0": "Barbara W. Tuchman, Robert K. Massie",
                                    "1": "The Guns of August"
                                },
                                {
                                    "0": "Robert M. Edsel, Bret Witter",
                                    "1": "The Monuments Men: Allied Heroes, Nazi Thieves, and the Greatest Treasure Hunt in History"
                                },
                                {
                                    "0": "Mark Millar, John Romita Jr., Rob Liefeld",
                                    "1": "Kick-Ass (Kick-Ass, #1)"
                                },
                                {
                                    "0": "Immaculée Ilibagiza, Steve Erwin",
                                    "1": "Left to Tell: Discovering God Amidst the Rwandan Holocaust"
                                },
                                {
                                    "0": "CLAMP, Shirley Kubo",
                                    "1": "Chobits, Vol. 1"
                                },
                                {
                                    "0": "Koushun Takami, Yuji Oniki",
                                    "1": "Battle Royale"
                                },
                                {
                                    "0": "Terry Pratchett, Stephen Baxter",
                                    "1": "The Long Earth (The Long Earth, #1)"
                                },
                                {
                                    "0": "Steven Pressfield, Robert McKee",
                                    "1": "The War of Art: Break Through the Blocks & Win Your Inner Creative Battles"
                                },
                                {
                                    "0": "Larry Niven, Jerry Pournelle",
                                    "1": "Lucifer's Hammer"
                                },
                                {
                                    "0": "W. Somerset Maugham, Benjamin DeMott, Maeve Binchy",
                                    "1": "Of Human Bondage"
                                },
                                {
                                    "0": "A.A. Milne, Ernest H. Shepard",
                                    "1": "The Complete Tales and Poems of Winnie-the-Pooh (Winnie-the-Pooh, #1-4)"
                                },
                                {
                                    "0": "Vicki Myron, Bret Witter",
                                    "1": "Dewey: The Small-Town Library Cat Who Touched the World"
                                },
                                {
                                    "0": "Margret Rey, H.A. Rey",
                                    "1": "The Complete Adventures of Curious George"
                                },
                                {
                                    "0": "Steven D. Levitt, Stephen J. Dubner",
                                    "1": "Think Like a Freak"
                                },
                                {
                                    "0": "Raina Telgemeier, Gurihiru",
                                    "1": "Drama"
                                },
                                {
                                    "0": "Joseph Campbell, Bill Moyers",
                                    "1": "The Power of Myth"
                                },
                                {
                                    "0": "Cary Elwes, Joe Layden, Various, Rob Reiner",
                                    "1": "As You Wish: Inconceivable Tales from the Making of The Princess Bride"
                                },
                                {
                                    "0": "Frank W. Abagnale, Stan Redding",
                                    "1": "Catch Me If You Can: The True Story of a Real Fake"
                                },
                                {
                                    "0": "Scott Snyder, Greg Capullo, Jonathan Glapion",
                                    "1": "Batman, Volume 1: The Court of Owls"
                                },
                                {
                                    "0": "Milan Kundera, Aaron Asher",
                                    "1": "The Book of Laughter and Forgetting"
                                },
                                {
                                    "0": "Edwin A. Abbott, Banesh Hoffmann",
                                    "1": "Flatland: A Romance of Many Dimensions"
                                },
                                {
                                    "0": "Erich Fromm, Peter D. Kramer, Rainer Funk",
                                    "1": "The Art of Loving"
                                },
                                {
                                    "0": "Neil Gaiman, Shawn McManus, Colleen Doran, Bryan Talbot, George Pratt, Stan Woch, Dick Giordano, Todd Klein",
                                    "1": "A Game of You (The Sandman #5)"
                                },
                                {
                                    "0": "Margaret Weis, Tracy Hickman",
                                    "1": "Dragons of Winter Night (Dragonlance: Chronicles, #2)"
                                },
                                {
                                    "0": "Carl Bernstein, Bob Woodward",
                                    "1": "All the President's Men"
                                },
                                {
                                    "0": "George Eliot, A.S. Byatt",
                                    "1": "The Mill on the Floss"
                                },
                                {
                                    "0": "Michelle Rowen, Richelle Mead",
                                    "1": "Vampire Academy: The Ultimate Guide (Vampire Academy)"
                                },
                                {
                                    "0": "Robert Frost, Edward Connery Lathem",
                                    "1": "The Poetry of Robert Frost (Collected Poems, Complete & Unabridged)"
                                },
                                {
                                    "0": "Åsne Seierstad, Ingrid Christopherson",
                                    "1": "The Bookseller of Kabul"
                                },
                                {
                                    "0": "Harold Bloom, Terry Southern, David H. Goldsmith, James Lundquist, Lawrence R. Broer, Peter J. Reed, Loree Rackstraw, William S. Doxey, Jerome Klinkowitz, Richard Giannone, John L. Simons, Leonard Mustazza, Zoltan Ab di-Nagy, Peter Freese, Wendy B. Faris",
                                    "1": "Kurt Vonnegut's Cat's Cradle (Modern Critical Interpretations)"
                                },
                                {
                                    "0": "Beverly Cleary, Alan Tiegreen",
                                    "1": "Ramona the Brave (Ramona, #3)"
                                },
                                {
                                    "0": "Alexander Pushkin, James E. Falen",
                                    "1": "Eugene Onegin"
                                },
                                {
                                    "0": "Amie Kaufman, Meagan Spooner",
                                    "1": "These Broken Stars (Starbound, #1)"
                                },
                                {
                                    "0": "P.C. Cast, Kristin Cast",
                                    "1": "Hidden (House of Night, #10)"
                                },
                                {
                                    "0": "Carolyn Keene, Russell H. Tandy, Sara Paretsky",
                                    "1": "The Secret of the Old Clock (Nancy Drew, #1)"
                                },
                                {
                                    "0": "Hugh Lofting, Michael Hague",
                                    "1": "The Story of Doctor Dolittle (Doctor Dolittle, #1)"
                                },
                                {
                                    "0": "Isabel Allende, Nick Caistor, Amanda Hopkinson",
                                    "1": "The Japanese Lover"
                                },
                                {
                                    "0": "D.H. Lawrence, Geoff Dyer",
                                    "1": "Sons and Lovers"
                                },
                                {
                                    "0": "Robert T. Kiyosaki, Sharon L. Lechter",
                                    "1": "Rich Dad's Cashflow Quadrant: Rich Dad's Guide to Financial Freedom"
                                },
                                {
                                    "0": "Camilla Läckberg, Steven T. Murray",
                                    "1": "The Ice Princess (Patrik Hedström, #1)"
                                },
                                {
                                    "0": "Laura Joffe Numeroff, Felicia Bond",
                                    "1": "If You Take a Mouse to School"
                                },
                                {
                                    "0": "Franz Kafka, Jason Baker, Donna Freed",
                                    "1": "The Metamorphosis and Other Stories"
                                },
                                {
                                    "0": "Unknown, Burton Raffel, Neil D. Isaacs",
                                    "1": "Sir Gawain and the Green Knight "
                                },
                                {
                                    "0": "Edgar Allan Poe, Byron Glaser, Bill D. Fountain",
                                    "1": "The Tell-Tale Heart"
                                },
                                {
                                    "0": "Leonardo da Vinci, H. Anna Suh",
                                    "1": "Leonardo's Notebooks"
                                },
                                {
                                    "0": "Angie Sage, Mark Zug",
                                    "1": "Queste (Septimus Heap, #4)"
                                },
                                {
                                    "0": "Orhan Pamuk, Erdağ M. Göknar",
                                    "1": "My Name is Red"
                                },
                                {
                                    "0": "Neil Gaiman, Chris Bachalo, Mark Buckingham, Tori Amos",
                                    "1": "Death: The High Cost of Living Collected"
                                },
                                {
                                    "0": "Richard H. Thaler, Cass R. Sunstein",
                                    "1": "Nudge: Improving Decisions About Health, Wealth, and Happiness"
                                },
                                {
                                    "0": "Richard Paige, Dean Koontz",
                                    "1": "The Door to December"
                                },
                                {
                                    "0": "Young Kim, Stephenie Meyer",
                                    "1": "Twilight: The Graphic Novel, Vol. 1 (Twilight: The Graphic Novel, #1)"
                                },
                                {
                                    "0": "Samuel Taylor Coleridge, Gustave Doré",
                                    "1": "The Rime of the Ancient Mariner"
                                },
                                {
                                    "0": "Robert Munsch, Michael Martchenko",
                                    "1": "The Paper Bag Princess"
                                },
                                {
                                    "0": "Neil Gaiman, Jill Thompson, Vince Locke, Peter Straub",
                                    "1": "Brief Lives (The Sandman #7)"
                                },
                                {
                                    "0": "Hermann Hesse, Ursule Molinaro",
                                    "1": "Narcissus and Goldmund"
                                },
                                {
                                    "0": "Neil Gaiman, Bryan Talbot, Stan Woch, P. Craig Russell, Shawn McManus, John Watkiss, Jill Thompson, Duncan Eagleson, Kent Williams, Todd Klein",
                                    "1": "Fables and Reflections (The Sandman #6)"
                                },
                                {
                                    "0": "Charles Dickens, Helen Small, Stephen Wall",
                                    "1": "Little Dorrit"
                                },
                                {
                                    "0": "Radwa Ashour, رضوى عاشور",
                                    "1": "ثلاثية غرناطة"
                                },
                                {
                                    "0": "Michael Rosen, Helen Oxenbury",
                                    "1": "We're Going on a Bear Hunt"
                                },
                                {
                                    "0": "James Patterson, Howard Roughan",
                                    "1": "Honeymoon (Honeymoon, #1)"
                                },
                                {
                                    "0": "Edgar Allan Poe, Philip Pullman",
                                    "1": "The Raven and other poems"
                                },
                                {
                                    "0": "Graham Greene, Robert  Stone",
                                    "1": "The Quiet American"
                                },
                                {
                                    "0": "James Patterson, Maxine Paetro",
                                    "1": "Private (Private, #1)"
                                },
                                {
                                    "0": "Nicholas Sparks, Micah Sparks",
                                    "1": "Three Weeks With My Brother"
                                },
                                {
                                    "0": "Jorge Luis Borges, Anthony Kerrigan, Anthony Bonner",
                                    "1": "Ficciones"
                                },
                                {
                                    "0": "Chip Heath, Dan Heath",
                                    "1": "Switch: How to Change Things When Change Is Hard"
                                },
                                {
                                    "0": "Mikhail Lermontov, Paul Foote",
                                    "1": "A Hero of Our Time"
                                },
                                {
                                    "0": "Rory Freedman, Kim Barnouin",
                                    "1": "Skinny Bitch"
                                },
                                {
                                    "0": "Margret Rey, H.A. Rey",
                                    "1": "Curious George Goes to the Hospital"
                                },
                                {
                                    "0": "Orhan Pamuk, Maureen Freely",
                                    "1": "Snow"
                                },
                                {
                                    "0": "James Patterson, Michael Ledwidge",
                                    "1": "The Quickie"
                                },
                                {
                                    "0": "James Patterson, Michael Ledwidge",
                                    "1": "Step on a Crack (Michael Bennett, #1)"
                                },
                                {
                                    "0": "Nora Roberts, Angela Dawe",
                                    "1": "Savor the Moment (Bride Quartet, #3)"
                                },
                                {
                                    "0": "Jalaluddin Rumi, Coleman Barks",
                                    "1": "The Essential Rumi"
                                },
                                {
                                    "0": "Helen Gardner, Fred S. Kleiner, Christin J. Mamiya",
                                    "1": "Art Through the Ages "
                                },
                                {
                                    "0": "Brian K. Vaughan, Fiona Staples",
                                    "1": "Saga, Vol. 4 (Saga, #4)"
                                },
                                {
                                    "0": "Jack Canfield, Mark Victor Hansen",
                                    "1": "Chicken Soup for the Soul"
                                },
                                {
                                    "0": "Brian Froud, Terry Windling",
                                    "1": "Good Faeries/Bad Faeries"
                                },
                                {
                                    "0": "Stephen King, Bernie Wrightson",
                                    "1": "Cycle of the Werewolf"
                                },
                                {
                                    "0": "Anne Brontë, Angeline Goreau",
                                    "1": "Agnes Grey"
                                },
                                {
                                    "0": "A.P.J. Abdul Kalam, Arun Tiwari",
                                    "1": "Wings of Fire: An Autobiography"
                                },
                                {
                                    "0": "L.J. Smith, Kevin Williamson, Julie Plec",
                                    "1": "The Ripper (The Vampire Diaries: Stefan's Diaries, #4)"
                                },
                                {
                                    "0": "Marjorie Flack, Kurt Wiese",
                                    "1": "The Story About Ping"
                                },
                                {
                                    "0": "Laura Ingalls Wilder, Garth Williams",
                                    "1": "Farmer Boy (Little House, #3)"
                                },
                                {
                                    "0": "Alfred Bester, Neil Gaiman",
                                    "1": "The Stars My Destination"
                                },
                                {
                                    "0": "Augustine of Hippo, Henry Chadwick, Albert Cook Outler",
                                    "1": "Confessions"
                                },
                                {
                                    "0": "أحلام مستغانمي, Ahlam Mosteghanemi",
                                    "1": "com نسيان"
                                },
                                {
                                    "0": "J.K. Rowling, Mary GrandPré",
                                    "1": "Harry Potter Boxed Set, Books 1-5 (Harry Potter, #1-5)"
                                },
                                {
                                    "0": "Joanna Cole, Bruce Degen",
                                    "1": "Inside the Human Body (The Magic School Bus, #3)"
                                },
                                {
                                    "0": "Holly Black, Cassandra Clare",
                                    "1": "The Iron Trial (Magisterium, #1)"
                                },
                                {
                                    "0": "Daniel Abraham, George R.R. Martin, Tommy Patterson",
                                    "1": "A Game of Thrones: The Graphic Novel, Vol. 1"
                                },
                                {
                                    "0": "Tim LaHaye, Jerry B. Jenkins",
                                    "1": "Tribulation Force (Left Behind, #2)"
                                },
                                {
                                    "0": "Adrian Conan Doyle, John Dickson Carr",
                                    "1": "The Exploits of Sherlock Holmes"
                                },
                                {
                                    "0": "Elena Ferrante, Ann Goldstein",
                                    "1": "Those Who Leave and Those Who Stay (The Neapolitan Novels #3)"
                                },
                                {
                                    "0": "Hisaya Nakajo, David Ury",
                                    "1": "Hana-Kimi, Vol. 1 (Hana-Kimi, #1)"
                                },
                                {
                                    "0": "Atul Gawande, Susanne Kuhlmann-Krieg",
                                    "1": "Complications: A Surgeon's Notes on an Imperfect Science"
                                },
                                {
                                    "0": "Roland Barthes, Richard Howard",
                                    "1": "Camera Lucida: Reflections on Photography"
                                },
                                {
                                    "0": "Elizabeth  Smart, Chris Stewart",
                                    "1": "My Story"
                                },
                                {
                                    "0": "Michael Buckley, Peter Ferguson",
                                    "1": "The Fairy-Tale Detectives (The Sisters Grimm, #1)"
                                },
                                {
                                    "0": "Terry Pratchett, Stephen Briggs",
                                    "1": "Mort: The Play"
                                },
                                {
                                    "0": "Derek Landy, Tom Percival",
                                    "1": "Skulduggery Pleasant (Skulduggery Pleasant, #1)"
                                },
                                {
                                    "0": "Charles Dickens, Michael Slater",
                                    "1": "A Christmas Carol and Other Christmas Writings"
                                },
                                {
                                    "0": "Terry Pratchett, Stephen Briggs",
                                    "1": "Men at Arms: The Play"
                                },
                                {
                                    "0": "Albert Camus, Justin O'Brien",
                                    "1": "The Myth of Sisyphus and Other Essays"
                                },
                                {
                                    "0": "Elizabeth Gaskell, Pam Morris",
                                    "1": "Wives and Daughters"
                                },
                                {
                                    "0": "Primo Levi, Stuart J. Woolf, Philip Roth",
                                    "1": "Survival in Auschwitz"
                                },
                                {
                                    "0": "Jules Verne, Caleb Carr, Jordan Stump",
                                    "1": "The Mysterious Island (Extraordinary Voyages, #12)"
                                },
                                {
                                    "0": "Carolyn Jessop, Laura Palmer",
                                    "1": "Escape"
                                },
                                {
                                    "0": "Marcus Buckingham, Curt Coffman",
                                    "1": "First, Break All the Rules: What the World's Greatest Managers Do Differently"
                                },
                                {
                                    "0": "Thornton Wilder, Donald Margulies, Tappan Wilder",
                                    "1": "Our Town"
                                },
                                {
                                    "0": "Jane Yolen, John Schoenherr",
                                    "1": "Owl Moon"
                                },
                                {
                                    "0": "Fyodor Dostoyevsky, Constance Garnett, Gary Saul Morson",
                                    "1": "The Gambler"
                                },
                                {
                                    "0": "Jo Nesbø, Don Bartlett",
                                    "1": "Nemesis (Harry Hole, #4)"
                                },
                                {
                                    "0": "Sylvia Plath, Ted Hughes",
                                    "1": "The Collected Poems"
                                },
                                {
                                    "0": "John Steinbeck, Susan Shillinglaw",
                                    "1": "The Winter of Our Discontent"
                                },
                                {
                                    "0": "Zoe Sugg, Siobhan Curham",
                                    "1": "Girl Online (Girl Online, #1)"
                                },
                                {
                                    "0": "Neil Gaiman, Marc Hempel, Richard Case, D'Israeli, Teddy Kristiansen, Glyn Dillon, Charles Vess, Dean Ormston, Kevin Nowlan, Todd Klein, Frank McConnell",
                                    "1": "The Kindly Ones (The Sandman #9)"
                                },
                                {
                                    "0": "Neil Gaiman, Mike Allred, Gary Amaro, Mark Buckingham, David Giordano, Tony Harris, Steve Leialoha, Vince Locke, Shea Anton Pensa, Alec Stevens, Bryan Talbot, John Watkiss, Todd Klein, Michael Zulli, Stephen King",
                                    "1": "Worlds' End (The Sandman #8)"
                                },
                                {
                                    "0": "Hans Christian Andersen, Jerry Pinkney",
                                    "1": "The Ugly Duckling"
                                },
                                {
                                    "0": "Graham Greene, Monica Ali",
                                    "1": "The End of the Affair"
                                },
                                {
                                    "0": "Felix Salten, Barbara Cooney",
                                    "1": "Bambi"
                                },
                                {
                                    "0": "Herodotus, Aubrey de Sélincourt, John M. Marincola",
                                    "1": "The Histories"
                                },
                                {
                                    "0": "Stephen R. Covey, A. Roger Merrill, Rebecca R. Merrill",
                                    "1": "First Things First"
                                },
                                {
                                    "0": "Michael Chabon, Hans Hermann",
                                    "1": "Wonder Boys"
                                },
                                {
                                    "0": "Paolo Giordano, Shaun Whiteside",
                                    "1": "The Solitude of Prime Numbers"
                                },
                                {
                                    "0": "Neil Gaiman, Skottie Young",
                                    "1": "Fortunately, the Milk"
                                },
                                {
                                    "0": "G. Willow Wilson, Adrian Alphona",
                                    "1": "Ms. Marvel, Vol. 1: No Normal"
                                },
                                {
                                    "0": "Guillermo del Toro, Chuck Hogan",
                                    "1": "The Fall (The Strain Trilogy, #2)"
                                },
                                {
                                    "0": "Pamela Druckerman, Abby Craden",
                                    "1": "Bringing Up Bébé: One American Mother Discovers the Wisdom of French Parenting"
                                },
                                {
                                    "0": "Francis Chan, Danae Yankoski",
                                    "1": "Forgotten God: Reversing Our Tragic Neglect of the Holy Spirit"
                                },
                                {
                                    "0": "Rainer Maria Rilke, Reginald Snell, Franz Xaver Kappus",
                                    "1": "Letters to a Young Poet"
                                },
                                {
                                    "0": "Charles Baudelaire, Richard Howard",
                                    "1": "Les Fleurs du Mal"
                                },
                                {
                                    "0": "Janet Evanovich, Lee Goldberg",
                                    "1": "The Heist (Fox and O'Hare, #1)"
                                },
                                {
                                    "0": "Pierre-Ambroise Choderlos de Laclos, Douglas Parmée",
                                    "1": "Les Liaisons dangereuses"
                                },
                                {
                                    "0": "Han Kang, Deborah     Smith",
                                    "1": "The Vegetarian"
                                },
                                {
                                    "0": "Franz Kafka, Mark Harman, Regaip Minareci, Şerif Yeşilbucak",
                                    "1": "The Castle"
                                },
                                {
                                    "0": "Kimon Nicolaides, Mamie Harmon",
                                    "1": "The Natural Way to Draw"
                                },
                                {
                                    "0": "Kate DiCamillo, K.G. Campbell",
                                    "1": "Flora and Ulysses: The Illuminated Adventures"
                                },
                                {
                                    "0": "Marcel Proust, Simon Vance, Lydia Davis",
                                    "1": "Swann's Way (In Search of Lost Time, #1)"
                                },
                                {
                                    "0": "Don    Wood, Audrey Wood",
                                    "1": "The Little Mouse, the Red Ripe Strawberry, and the Big Hungry Bear"
                                },
                                {
                                    "0": "Isabel Allende, Margaret Sayers Peden",
                                    "1": "Eva Luna"
                                },
                                {
                                    "0": "James Patterson, Maxine Paetro",
                                    "1": "The 8th Confession (Women's Murder Club, #8)"
                                },
                                {
                                    "0": "Mike Carey, Glenn Fabry, Neil Gaiman",
                                    "1": "Neil Gaiman's Neverwhere"
                                },
                                {
                                    "0": "Naoki Higashida, K.A. Yoshida, David Mitchell",
                                    "1": "The Reason I Jump: The Inner Voice of a Thirteen-Year-Old Boy with Autism"
                                },
                                {
                                    "0": "W.B. Yeats, Richard J. Finneran",
                                    "1": "The Collected Poems of W.B. Yeats"
                                },
                                {
                                    "0": "Barbara Shook Hazen, Robert Lewis May, Richard Scarry",
                                    "1": "Rudolph the Red-Nosed Reindeer"
                                },
                                {
                                    "0": "Haruki Murakami, Jay Rubin, Alfred Birnbaum",
                                    "1": "The Elephant Vanishes"
                                },
                                {
                                    "0": "Kerry Patterson, Joseph Grenny, Ron McMillan, Al Switzler, Stephen R. Covey",
                                    "1": "Crucial Conversations: Tools for Talking When Stakes Are High"
                                },
                                {
                                    "0": "Robert Kirkman, Tony Moore, Charlie Adlard, Cliff Rathburn",
                                    "1": "The Walking Dead, Book One (The Walking Dead #1-12)"
                                },
                                {
                                    "0": "Thomas Hobbes, C.B. Macpherson",
                                    "1": "Leviathan"
                                },
                                {
                                    "0": "Rob Thomas, Jennifer Graham",
                                    "1": "The Thousand-Dollar Tan Line (Veronica Mars, #1)"
                                },
                                {
                                    "0": "Danny Sugerman, Jerry Hopkins",
                                    "1": "No One Here Gets Out Alive"
                                },
                                {
                                    "0": "Marguerite Henry, Wesley Dennis",
                                    "1": "Misty of Chincoteague (Misty, #1)"
                                },
                                {
                                    "0": "William Gibson, Bruce Sterling",
                                    "1": "Burning Chrome (Sprawl, #0)"
                                },
                                {
                                    "0": "A.L. Singer, Walt Disney Company",
                                    "1": "Sleeping Beauty (Disney Princess, 5)"
                                },
                                {
                                    "0": "Brennan Manning, Michael W. Smith, Rich Mullins",
                                    "1": "The Ragamuffin Gospel: Good News for the Bedraggled, Beat-Up, and Burnt Out"
                                },
                                {
                                    "0": "Jonas Jonasson, Rachel Willson-Broyles",
                                    "1": "The Girl Who Saved the King of Sweden"
                                },
                                {
                                    "0": "Shannon Hale, James Noel Smith",
                                    "1": "Book of a Thousand Days"
                                },
                                {
                                    "0": "Edith Hamilton, Steele Savage",
                                    "1": "Mythology: Timeless Tales of Gods and Heroes"
                                },
                                {
                                    "0": "Leah Remini, Rebecca Paley",
                                    "1": "Troublemaker: Surviving Hollywood and Scientology"
                                },
                                {
                                    "0": "Eric Shanower, Skottie Young, L. Frank Baum",
                                    "1": "Oz: The Wonderful Wizard of Oz"
                                },
                                {
                                    "0": "Edith Hahn Beer, Susan Dworkin, Susan Sarandon, Julia Ormond, Rory Kennedy",
                                    "1": "The Nazi Officer's Wife: How One Jewish Woman Survived the Holocaust"
                                },
                                {
                                    "0": "Tim LaHaye, Jerry B. Jenkins",
                                    "1": "Nicolae (Left Behind, #3)"
                                },
                                {
                                    "0": "James Patterson, Maxine Paetro",
                                    "1": "The 9th Judgment  (Women's Murder Club, #9)"
                                },
                                {
                                    "0": "James Patterson, Michael Ledwidge",
                                    "1": "Zoo"
                                },
                                {
                                    "0": "Rick Riordan, Gordon Korman, Peter Lerangis, Jude Watson",
                                    "1": "Vespers Rising (The 39 Clues, #11)"
                                },
                                {
                                    "0": "Dodie Smith, Michael Dooling",
                                    "1": "The 101 Dalmatians (The Hundred and One Dalmatians, #1)"
                                },
                                {
                                    "0": "Joseph Delaney, Patrick  Arrasmith",
                                    "1": "Revenge of the Witch (The Last Apprentice / Wardstone Chronicles, #1)"
                                },
                                {
                                    "0": "Teddy Slater, Ron Dias, Ric González",
                                    "1": "Beauty and the Beast (Disney)"
                                },
                                {
                                    "0": "Neil Gaiman, Michael Zulli, Jon J. Muth, Charles Vess, Mikal Gilmore",
                                    "1": "The Wake (The Sandman #10)"
                                },
                                {
                                    "0": "Teddy Slater, Bill Langley, Ron Dias, Walt Disney Company",
                                    "1": "Lady and the Tramp"
                                },
                                {
                                    "0": "Bill O'Reilly, Martin Dugard",
                                    "1": "Killing Jesus: A History"
                                },
                                {
                                    "0": "Brian K. Vaughan, Pia Guerra, José Marzán Jr.",
                                    "1": "Y: The Last Man, Vol. 2: Cycles (Y: The Last Man, #2)"
                                },
                                {
                                    "0": "Bill Dedman, Paul Clark Newell Jr.",
                                    "1": "Empty Mansions: The Mysterious Life of Huguette Clark and the Spending of a Great American Fortune"
                                },
                                {
                                    "0": "Douglas Preston, Lincoln Child",
                                    "1": "The Cabinet of Curiosities (Pendergast, #3)"
                                },
                                {
                                    "0": "Benjamin Graham, Jason Zweig, Warren Buffett",
                                    "1": "The Intelligent Investor (Collins Business Essentials)"
                                },
                                {
                                    "0": "William Shakespeare, John Jowett",
                                    "1": "Richard III"
                                },
                                {
                                    "0": "Cassandra Clare, Sarah Rees Brennan, Maureen Johnson, Cassandra Jean",
                                    "1": "The Bane Chronicles"
                                },
                                {
                                    "0": "Banana Yoshimoto, Megan Backus",
                                    "1": "Kitchen"
                                },
                                {
                                    "0": "James Patterson, Peter de Jonge",
                                    "1": "Beach Road"
                                },
                                {
                                    "0": "Charles Dickens, Mark Ford",
                                    "1": "Nicholas Nickleby"
                                },
                                {
                                    "0": "Dean Koontz, Kevin J. Anderson, Chuck Dixon, Brett Booth",
                                    "1": "Dean Koontz's Frankenstein, Volume 1: Prodigal Son"
                                },
                                {
                                    "0": "Jean-Jacques Rousseau, Maurice Cranston",
                                    "1": "The Social Contract"
                                },
                                {
                                    "0": "Alexander Hamilton, James Madison, John Jay, Philo-Publius, Clinton Rossiter, Charles R. Kessler",
                                    "1": "The Federalist Papers"
                                },
                                {
                                    "0": "Elena Ferrante, Ann Goldstein",
                                    "1": "The Story of the Lost Child (The Neapolitan Novels, #4)"
                                },
                                {
                                    "0": "Sarah Blake, Orlagh Cassidy",
                                    "1": "The Postmistress"
                                },
                                {
                                    "0": "Ed Catmull, Amy Wallace",
                                    "1": "Creativity, Inc.: Overcoming the Unseen Forces That Stand in the Way of True Inspiration"
                                },
                                {
                                    "0": "Frida Kahlo, Carlos Fuentes, Sarah M. Lowe",
                                    "1": "The Diary of Frida Kahlo: An Intimate Self-Portrait"
                                },
                                {
                                    "0": "Stephen King, Bernie Wrightson, Michele Wrightson",
                                    "1": "Creepshow"
                                },
                                {
                                    "0": "Bill Martin Jr., Eric Carle",
                                    "1": "Panda Bear, Panda Bear, What Do You See?"
                                },
                                {
                                    "0": "Douglas Preston, Lincoln Child",
                                    "1": "Reliquary (Pendergast, #2)"
                                },
                                {
                                    "0": "Lars Kepler, Ann Long",
                                    "1": "The Hypnotist (Joona Linna, #1)"
                                },
                                {
                                    "0": "Tommy Lee, Vince Neil, Nikki Sixx, Neil Strauss, Mick Mars, Tommy Lee",
                                    "1": "The Dirt: Confessions of the World's Most Notorious Rock Band"
                                },
                                {
                                    "0": "Theo LeSieg, Roy McKie",
                                    "1": "Ten Apples Up On Top!"
                                },
                                {
                                    "0": "Theodore Dreiser, Richard R. Lingeman",
                                    "1": "An American Tragedy"
                                },
                                {
                                    "0": "Brynne Stephens, Lela Dowling, Cynthia Martin, Anne McCaffrey",
                                    "1": "Anne McCaffrey's Dragonflight #1"
                                },
                                {
                                    "0": "Amie Kaufman, Jay Kristoff",
                                    "1": "Illuminae (The Illuminae Files, #1)"
                                },
                                {
                                    "0": "Susan Hill, John Lawrence",
                                    "1": "The Woman in Black"
                                },
                                {
                                    "0": "Colleen Hoover, Tarryn Fisher",
                                    "1": "Never Never: Part Two (Never Never, #2)"
                                },
                                {
                                    "0": "James Patterson, Maxine Paetro",
                                    "1": "10th Anniversary (Women's Murder Club, #10)"
                                },
                                {
                                    "0": "Ian Rankin, Mircea Pricăjan",
                                    "1": "Knots and Crosses (Inspector Rebus, #1)"
                                },
                                {
                                    "0": "Robert Kirkman, Charlie Adlard",
                                    "1": "The Walking Dead, Vol. 02: Miles Behind Us"
                                },
                                {
                                    "0": "Lewis Carroll, John Tenniel",
                                    "1": "Alice's Adventures in Wonderland & Other Stories"
                                },
                                {
                                    "0": "H.P. Lovecraft, August Derleth, Robert Bloch",
                                    "1": "The Best of H.P. Lovecraft: Bloodcurdling Tales of Horror and the Macabre"
                                },
                                {
                                    "0": "H.P. Lovecraft, S.T. Joshi",
                                    "1": "The Call of Cthulhu and Other Weird Stories"
                                },
                                {
                                    "0": "Felicia Day, Joss Whedon",
                                    "1": "You're Never Weird on the Internet (Almost)"
                                },
                                {
                                    "0": "James Patterson, Michael Ledwidge",
                                    "1": "Now You See Her"
                                },
                                {
                                    "0": "Matt Fraction, David Aja, Javier Pulido, Matt Hollingsworth, Chris Eliopoulos, Alan Davis",
                                    "1": "Hawkeye, Volume 1: My Life as a Weapon"
                                },
                                {
                                    "0": "Jeph Loeb, Jim Lee, Scott Williams, Alex Sinclair, Richard Starkings",
                                    "1": "Batman: Hush"
                                },
                                {
                                    "0": "Haruki Murakami, Jay Rubin",
                                    "1": "After the Quake"
                                },
                                {
                                    "0": "James Patterson, David Ellis",
                                    "1": "Guilty Wives"
                                },
                                {
                                    "0": "Jodi Picoult, Samantha van Leer",
                                    "1": "Between the Lines (Between the Lines, #1)"
                                },
                                {
                                    "0": "Henry David Thoreau, W.S. Merwin",
                                    "1": "Walden & Civil Disobedience"
                                },
                                {
                                    "0": "Kanoko Sakurakouji, JN Productions, Pancha Diaz",
                                    "1": "Black Bird, Vol. 01 (Black Bird, #1)"
                                },
                                {
                                    "0": "Erin Watt, Elle Kennedy, Jen Frederick",
                                    "1": "Paper Princess (The Royals, #1)"
                                },
                                {
                                    "0": "Patricia C. Wrede, Peter de Sève",
                                    "1": "Searching for Dragons (Enchanted Forest Chronicles, #2)"
                                },
                                {
                                    "0": "Rachel Caine, Cynthia Holloway",
                                    "1": "Kiss of Death (The Morganville Vampires, #8)"
                                },
                                {
                                    "0": "James Patterson, NaRae Lee",
                                    "1": "Maximum Ride, Vol. 1 (Maximum Ride: The Manga, #1)"
                                },
                                {
                                    "0": "Nora Roberts, MacLeod Andrews",
                                    "1": "The Last Boyfriend (Inn BoonsBoro, #2)"
                                },
                                {
                                    "0": "Lene Kaaberbøl, Agnete Friis",
                                    "1": "The Boy in the Suitcase (Nina Borg, #1)"
                                },
                                {
                                    "0": "Plato, Christopher Gill",
                                    "1": "The Symposium"
                                },
                                {
                                    "0": "Stella Gibbons, Lynne Truss, Roz Chast",
                                    "1": "Cold Comfort Farm"
                                },
                                {
                                    "0": "Rainer Metzger, Ingo F. Walther",
                                    "1": "Vincent Van Gogh: The Complete Paintings"
                                },
                                {
                                    "0": "Peter Høeg, Tiina Nunnally",
                                    "1": "Smilla's Sense of Snow"
                                },
                                {
                                    "0": "Jeph Loeb, Tim Sale",
                                    "1": "Batman: Dark Victory"
                                },
                                {
                                    "0": "Al Perkins, Eric Gurney",
                                    "1": "Hand, Hand, Fingers, Thumb"
                                },
                                {
                                    "0": "Juan Rulfo, Margaret Sayers Peden, Susan Sontag",
                                    "1": "Pedro Páramo"
                                },
                                {
                                    "0": "T.S. Eliot, Michael North",
                                    "1": "The Waste Land"
                                },
                                {
                                    "0": "Heather Cocks, Jessica  Morgan",
                                    "1": "The Royal We"
                                },
                                {
                                    "0": "Dave Barry, Ridley Pearson, Greg Call",
                                    "1": "Peter and the Shadow Thieves (Peter and the Starcatchers, #2)"
                                },
                                {
                                    "0": "Kohta Hirano, Duane Johnson",
                                    "1": "Hellsing, Vol. 01 (Hellsing, #1)"
                                },
                                {
                                    "0": "Tim LaHaye, Jerry B. Jenkins",
                                    "1": "Soul Harvest: The World Takes Sides (Left Behind, #4)"
                                },
                                {
                                    "0": "Dean Koontz, Kevin J. Anderson, Scott Brick",
                                    "1": "Prodigal Son (Dean Koontz's Frankenstein, #1)"
                                },
                                {
                                    "0": "Jane Yolen, Mark Teague",
                                    "1": "How Do Dinosaurs Say Good Night?"
                                },
                                {
                                    "0": "Miyamoto Musashi, Victor Harris",
                                    "1": "A Book of Five Rings: The Classic Guide to Strategy"
                                },
                                {
                                    "0": "Aristotle, J.A.K. Thomson, Jonathan Barnes, Hugh Tredennick",
                                    "1": "The Nicomachean Ethics"
                                },
                                {
                                    "0": "Stan Berenstain, Jan Berenstain",
                                    "1": "The Berenstain Bears and the Messy Room"
                                },
                                {
                                    "0": "Richard Bachman, Stephen King",
                                    "1": "Blaze"
                                },
                                {
                                    "0": "H.W. Janson, Anthony F. Janson",
                                    "1": "History of Art"
                                },
                                {
                                    "0": "Trenton Lee Stewart, Diana Sudyka",
                                    "1": "The Mysterious Benedict Society and the Perilous Journey (The Mysterious Benedict Society, #2)"
                                },
                                {
                                    "0": "William Shakespeare, Barbara A. Mowat, Paul Werstine",
                                    "1": "Henry V"
                                },
                                {
                                    "0": "Knut Hamsun, George Egerton",
                                    "1": "Hunger"
                                },
                                {
                                    "0": "Brian Azzarello, Lee Bermejo",
                                    "1": "The Joker"
                                },
                                {
                                    "0": "Sergei Lukyanenko, Andrew Bromfield",
                                    "1": "Night Watch (Watch #1)"
                                },
                                {
                                    "0": "Pierre Boulle, Xan Fielding",
                                    "1": "Planet of the Apes"
                                },
                                {
                                    "0": "Henry T. Blackaby, Claude V. King, Richard Blackaby",
                                    "1": "Experiencing God: Knowing and Doing the Will of God, Workbook"
                                },
                                {
                                    "0": "Katsura Hoshino, Mayumi Kobayashi",
                                    "1": "D.Gray-man, Volume 01"
                                },
                                {
                                    "0": "Ian Caldwell, Dustin Thomason",
                                    "1": "The Rule of Four"
                                },
                                {
                                    "0": "Gene Luen Yang, Bryan Konietzko, Michael Dante DiMartino, Dave Marshall, Gurihiru",
                                    "1": "Avatar: The Last Airbender (The Search, #1)"
                                },
                                {
                                    "0": "Legs McNeil, Gillian McCain",
                                    "1": "Please Kill Me: The Uncensored Oral History of Punk"
                                },
                                {
                                    "0": "George Orwell, Lionel Trilling",
                                    "1": "Homage to Catalonia"
                                },
                                {
                                    "0": "George R.R. Martin, Gary Gianni",
                                    "1": "A Knight of the Seven Kingdoms (The Tales of Dunk and Egg, #1-3)"
                                },
                                {
                                    "0": "Joss Whedon, Georges Jeanty",
                                    "1": "Buffy the Vampire Slayer: The Long Way Home (Season 8, #1)"
                                },
                                {
                                    "0": "Mikhail Bulgakov, Mirra Ginsburg, Mikhail Bulgakov",
                                    "1": "Heart of a Dog"
                                },
                                {
                                    "0": "Kurt Busiek, Alex Ross",
                                    "1": "Marvels"
                                },
                                {
                                    "0": "Jay Asher, Carolyn Mackler",
                                    "1": "The Future of Us"
                                },
                                {
                                    "0": "Christopher Moore, Oliver Wyman",
                                    "1": "Island of the Sequined Love Nun"
                                },
                                {
                                    "0": "Ina Garten, Melanie Acevedo",
                                    "1": "The Barefoot Contessa Cookbook"
                                },
                                {
                                    "0": "Kathy Reichs, Brendan Reichs",
                                    "1": "Virals (Virals, #1)"
                                },
                                {
                                    "0": "Laura Schroff, Alex Tresniowski, Valerie Salembier",
                                    "1": "An Invisible Thread: The True Story of an 11-Year-Old Panhandler, a Busy Sales Executive, and an Unlikely Meeting with Destiny"
                                },
                                {
                                    "0": "P.C. Cast, Kristin Cast",
                                    "1": "Marked / Betrayed / Chosen / Untamed (House of Night, #1-4)"
                                },
                                {
                                    "0": "Ruud van der Rol, Rian Verhoeven, Anna Quindlen, Anne Frank, Tony Langham, Plym Peters",
                                    "1": "Anne Frank: Beyond the Diary - A Photographic Remembrance"
                                },
                                {
                                    "0": "James Patterson, Maxine Paetro",
                                    "1": "11th Hour (Women's Murder Club, #11)"
                                },
                                {
                                    "0": "Orson Scott Card, Aaron Johnston",
                                    "1": "Earth Unaware (The First Formic War, #1)"
                                },
                                {
                                    "0": "Al Dempster, Milt Banta, Golden Books, Walt Disney Company",
                                    "1": "The Three Little Pigs (Disney Classic)"
                                },
                                {
                                    "0": "Bryan Lee O'Malley, Steve Buccellato",
                                    "1": "Scott Pilgrim, Volume 4: Scott Pilgrim Gets It Together"
                                },
                                {
                                    "0": "Alan Moore, Eddie Campbell, Pete Mullins",
                                    "1": "From Hell"
                                },
                                {
                                    "0": "Sigmund Freud, James Strachey, Peter Gay",
                                    "1": "Civilization and Its Discontents"
                                },
                                {
                                    "0": "Joss Whedon, John Cassaday",
                                    "1": "Astonishing X-Men, Volume 1: Gifted"
                                },
                                {
                                    "0": "Mariko Tamaki, Jillian Tamaki",
                                    "1": "This One Summer"
                                },
                                {
                                    "0": "Fyodor Dostoyevsky, Richard Pevear, Larissa Volokhonsky",
                                    "1": "Demons"
                                },
                                {
                                    "0": "Fyodor Dostoyevsky, Christian Redl, Philip Dossick, Emanuela Guercetti, Michelle-Irène Brudny, Richard Pevear, Norman Dietz, Donald Fanger, coderati, Boris de Schlœzer, Larissa Volokhonsky",
                                    "1": "Notes from Underground"
                                },
                                {
                                    "0": "Andrew Williamson, Andrew Williamson",
                                    "1": "Harry Potter: A Pop-Up Book: Based on the Film Phenomenon"
                                },
                                {
                                    "0": "Isabel Allende, Margaret Sayers Peden",
                                    "1": "Portrait in Sepia"
                                },
                                {
                                    "0": "Stephen Hawking, Leonard Mlodinow",
                                    "1": "A Briefer History of Time"
                                },
                                {
                                    "0": "Emily Bleeker, Dan John Miller",
                                    "1": "When I'm Gone"
                                },
                                {
                                    "0": "Aeschylus, Robert Fagles, William Bedell Stanford",
                                    "1": "The Oresteia  (Ορέστεια, #1-3)"
                                },
                                {
                                    "0": "Jon Stewart, Rory Albanese, Kevin Bleyer, Rich Bloomquist, Steve Bodow, Tim Carvell, Wyatt Cenac, Hallie Haglund, J.R. Havlan, David Javerbaum, Elliott Kalan, Josh Lieb, Sam Means, Jo Miller, John Oliver, Daniel Radosh, Jason Ross",
                                    "1": "Earth (The Book): A Visitor's Guide to the Human Race"
                                },
                                {
                                    "0": "Brother Andrew, Elizabeth Sherrill, John Sherrill",
                                    "1": "God's Smuggler"
                                },
                                {
                                    "0": "Dawn J. Ranck, Phyllis Pellman Good",
                                    "1": "Fix-It and Forget-It Cookbook: Feasting with Your Slow Cooker"
                                },
                                {
                                    "0": "Lili St. Crow, Lilith Saintcrow",
                                    "1": "Strange Angels (Strange Angels, #1)"
                                },
                                {
                                    "0": "Malika Oufkir, Michèle Fitoussi",
                                    "1": "Stolen Lives: Twenty Years in a Desert Jail"
                                },
                                {
                                    "0": "Mark Millar, Steve McNiven, Dexter Vines, Morry Hollowell",
                                    "1": "Civil War: A Marvel Comics Event"
                                },
                                {
                                    "0": "Kim Carpenter, John R. Perry, Krickitt Carpenter",
                                    "1": "The Vow: The Kim & Krickitt Carpenter Story"
                                },
                                {
                                    "0": "CLAMP, William Flanagan",
                                    "1": "xxxHolic, Vol. 1 (xxxHOLiC, #1)"
                                },
                                {
                                    "0": "Harry Allard, James  Marshall",
                                    "1": "Miss Nelson Is Back (Miss Nelson, #2)"
                                },
                                {
                                    "0": "Oscar Wilde, Inga Moore",
                                    "1": "The Canterville Ghost"
                                },
                                {
                                    "0": "Bryan Lee O'Malley, Nathan Fairbairn",
                                    "1": "Seconds"
                                },
                                {
                                    "0": "Joseph Murphy, Ian McMahan",
                                    "1": "The Power of Your Subconscious Mind"
                                },
                                {
                                    "0": "Esther Forbes, Lynd Ward",
                                    "1": "Johnny Tremain"
                                },
                                {
                                    "0": "Ernesto Che Guevara, Aleida Guevara March",
                                    "1": "The Motorcycle Diaries: Notes on a Latin American Journey"
                                },
                                {
                                    "0": "Roberto Bolaño, Natasha Wimmer",
                                    "1": "The Savage Detectives"
                                },
                                {
                                    "0": "Stefan Zweig, Joel Rotenberg, Hans Hausmann, Dirk Muller, Peter Gay, Willy Trenk-Trebitsch, Mario Adorf, Gert Westphal",
                                    "1": "Chess Story"
                                },
                                {
                                    "0": "Justine Korman Fontes, Don Williams, Walt Disney Company",
                                    "1": "The Lion King: A little Golden Book"
                                },
                                {
                                    "0": "Jo Nesbø, Charlotte Barslund",
                                    "1": "The Son"
                                },
                                {
                                    "0": "John Layman, Rob Guillory",
                                    "1": "Chew, Vol. 1: Taster's Choice"
                                },
                                {
                                    "0": "Margaret Weis, Tracy Hickman",
                                    "1": "Time of the Twins (Dragonlance: Legends, #1)"
                                },
                                {
                                    "0": "Arkady Strugatsky, Boris Strugatsky, Antonina W. Bouis, Antonina W. Bouis, Theodore Sturgeon",
                                    "1": "Roadside Picnic"
                                },
                                {
                                    "0": "Jack Kerouac, Aram Saroyan",
                                    "1": "Big Sur"
                                },
                                {
                                    "0": "Garth Ennis, Steve Dillon",
                                    "1": "Preacher, Volume 2: Until the End of the World"
                                },
                                {
                                    "0": "Chris   Smith, Christopher Lee, Richard Taylor",
                                    "1": "The Lord of the Rings: Weapons and Warfare"
                                },
                                {
                                    "0": "Arturo Pérez-Reverte, Sonia Soto",
                                    "1": "The Club Dumas"
                                },
                                {
                                    "0": "Beverly Cleary, Paul O. Zelinsky",
                                    "1": "Dear Mr. Henshaw (Leigh Botts, #1)"
                                },
                                {
                                    "0": "Mary O'Hara, Dave Blossom",
                                    "1": "My Friend Flicka (Flicka, #1)"
                                },
                                {
                                    "0": "Philippa Gregory, Mirjana Valent",
                                    "1": "The Kingmaker's Daughter (The Plantagenet and Tudor Novels, #4)"
                                },
                                {
                                    "0": "Henrik Ibsen, William Archer",
                                    "1": "Hedda Gabler"
                                },
                                {
                                    "0": "Jo Nesbø, Don Bartlett",
                                    "1": "Phantom (Harry Hole, #9)"
                                },
                                {
                                    "0": "P.C. Cast, Kristin Cast",
                                    "1": "Marked / Betrayed / Chosen / Untamed / Hunted (House of Night #1-5)"
                                },
                                {
                                    "0": "أحلام مستغانمي, Ahlam Mosteghanemi",
                                    "1": "ذاكرة الجسد"
                                },
                                {
                                    "0": "Thomas Malory, Keith Baines, Robert Graves",
                                    "1": "Le Morte d'Arthur: King Arthur and the Legends of the Round Table"
                                },
                                {
                                    "0": "Douglas Preston, Lincoln Child",
                                    "1": "Brimstone (Pendergast, #5; Diogenes, #1)"
                                },
                                {
                                    "0": "Anton Chekhov, Richard Pevear, Larissa Volokhonsky",
                                    "1": "Selected Stories"
                                },
                                {
                                    "0": "Karen Kingsbury, Gary Smalley",
                                    "1": "Redemption (Redemption, #1)"
                                },
                                {
                                    "0": "Tim LaHaye, Jerry B. Jenkins",
                                    "1": "Apollyon (Left Behind, #5)"
                                },
                                {
                                    "0": "Robert Sabuda, Lewis Carroll",
                                    "1": "Alice's Adventures in Wonderland: A Pop-Up Adaptation"
                                },
                                {
                                    "0": "Noel Streatfeild, Diane Goode",
                                    "1": "Ballet Shoes (Shoes, #1)"
                                },
                                {
                                    "0": "Ayn Rand, Leonard Peikoff",
                                    "1": "We the Living"
                                },
                                {
                                    "0": "Russell Hoban, Lillian Hoban",
                                    "1": "Bread and Jam for Frances"
                                },
                                {
                                    "0": "Candace Bushnell, Donna Murphy",
                                    "1": "One Fifth Avenue"
                                },
                                {
                                    "0": "Cece Bell, David Lasky",
                                    "1": "El Deafo"
                                },
                                {
                                    "0": "Robert Kirkman, Charlie Adlard",
                                    "1": "The Walking Dead, Vol. 03: Safety Behind Bars"
                                },
                                {
                                    "0": "Plato, G.M.A. Grube, John M. Cooper",
                                    "1": "The Trial and Death of Socrates"
                                },
                                {
                                    "0": "Thucydides, Rex Warner, Moses I. Finley",
                                    "1": "History of the Peloponnesian War"
                                },
                                {
                                    "0": "Stephen Crane, George Stade, Richard Fusco",
                                    "1": "The Red Badge of Courage and Selected Short Fiction  "
                                },
                                {
                                    "0": "Jorge Luis Borges, Donald A. Yates, James E. Irby, André Maurois",
                                    "1": "Labyrinths:  Selected Stories and Other Writings"
                                },
                                {
                                    "0": "Drew Daywalt, Oliver Jeffers",
                                    "1": "The Day the Crayons Quit"
                                },
                                {
                                    "0": "Katie J. Davis, Beth Clark",
                                    "1": "Kisses from Katie: A Story of Relentless Love and Redemption"
                                },
                                {
                                    "0": "Thomas Mann, John E. Woods",
                                    "1": "The Magic Mountain"
                                },
                                {
                                    "0": "Jack Canfield, Janet Switzer",
                                    "1": "The Success Principles: How to Get from Where You Are to Where You Want to Be"
                                },
                                {
                                    "0": "Alexander Osterwalder, Yves Pigneur",
                                    "1": "Business Model Generation"
                                },
                                {
                                    "0": "Ann McGovern, Winslow Pinney Pels, Winslow Pinn, Ey Pels",
                                    "1": "Stone Soup"
                                },
                                {
                                    "0": "Alaa Al Aswany, علاء الأسواني",
                                    "1": "شيكاجو"
                                },
                                {
                                    "0": "James Patterson, Maxine Paetro",
                                    "1": "12th of Never (Women's Murder Club, #12)"
                                },
                                {
                                    "0": "James Patterson, David Ellis",
                                    "1": "The Murder House"
                                },
                                {
                                    "0": "V.E. Schwab, Victoria Schwab",
                                    "1": "A Gathering of Shadows (Shades of Magic, #2)"
                                },
                                {
                                    "0": "Haruki Murakami, Philip Gabriel, Jay Rubin",
                                    "1": "Blind Willow, Sleeping Woman"
                                },
                                {
                                    "0": "Ina Garten, Quentin Bacon",
                                    "1": "Barefoot Contessa Back to Basics"
                                },
                                {
                                    "0": "Patricia C. Wrede, Peter de Sève",
                                    "1": "Calling on Dragons (Enchanted Forest Chronicles, #3)"
                                },
                                {
                                    "0": "Marcus Buckingham, Donald O. Clifton",
                                    "1": "Now, Discover Your Strengths"
                                },
                                {
                                    "0": "Wes  Moore, Tavis Smiley",
                                    "1": "The Other Wes Moore: One Name, Two Fates"
                                },
                                {
                                    "0": "Naoko Takeuchi, 武内 直子",
                                    "1": "美少女戦士セーラームーン新装版 1 [Bishōjo Senshi Sailor Moon Shinsōban 1]"
                                },
                                {
                                    "0": "Sarah Vowell, Katherine Streeter",
                                    "1": "The Partly Cloudy Patriot"
                                },
                                {
                                    "0": "Guillermo del Toro, Chuck Hogan",
                                    "1": "The Night Eternal (The Strain Trilogy, #3)"
                                },
                                {
                                    "0": "Giovanni Boccaccio, G.H. McWilliam",
                                    "1": "The Decameron"
                                },
                                {
                                    "0": "Jorge Luis Borges, Andrew Hurley",
                                    "1": "The Aleph and Other Stories "
                                },
                                {
                                    "0": "Rick Riordan, Haley Riordan",
                                    "1": "The Demigod Diaries"
                                },
                                {
                                    "0": "Neil Patrick Harris, David Javerbaum, Antony Hare",
                                    "1": "Neil Patrick Harris: Choose Your Own Autobiography"
                                },
                                {
                                    "0": "Salman Rushdie, Paul Birkbeck",
                                    "1": "Haroun and the Sea of Stories (Khalifa Brothers, #1)"
                                },
                                {
                                    "0": "Nikos Kazantzakis, Νίκος Καζαντζάκης",
                                    "1": "Zorba the Greek"
                                },
                                {
                                    "0": "William H. Armstrong, James Barkley",
                                    "1": "Sounder"
                                },
                                {
                                    "0": "Lawrence M. Krauss, Richard Dawkins",
                                    "1": "A Universe from Nothing: Why There Is Something Rather Than Nothing"
                                },
                                {
                                    "0": "Slash, Anthony Bozza",
                                    "1": "Slash"
                                },
                                {
                                    "0": "Gene Luen Yang, Bryan Konietzko, Michael Dante DiMartino, Gurihiru",
                                    "1": "Avatar: The Last Airbender (The Promise, #1)"
                                },
                                {
                                    "0": "Jean-Paul Sartre, Hazel E. Barnes, Mary Warnock, Richard Eyre",
                                    "1": "Being and Nothingness"
                                },
                                {
                                    "0": "Rachel Carson, Linda Lear, Edward O. Wilson",
                                    "1": "Silent Spring"
                                },
                                {
                                    "0": "Scott Westerfeld, Keith Thompson",
                                    "1": "Behemoth (Leviathan, #2)"
                                },
                                {
                                    "0": "Brian K. Vaughan, Pia Guerra, Goran Sudžuka, José Marzán Jr.",
                                    "1": "Y: The Last Man, Vol. 8: Kimono Dragons (Y: The Last Man, #8)"
                                },
                                {
                                    "0": "Morgan Rhodes, Michelle Rowen",
                                    "1": "Falling Kingdoms (Falling Kingdoms, #1)"
                                },
                                {
                                    "0": "Esther Hicks, Jerry Hicks, Wayne W. Dyer",
                                    "1": "Ask and It Is Given: Learning to Manifest Your Desires"
                                },
                                {
                                    "0": "Isabel Allende, Margaret Sayers Peden",
                                    "1": "Island Beneath the Sea"
                                },
                                {
                                    "0": "Henry Fielding, Thomas Keymer, Alice Wakely",
                                    "1": "The History of Tom Jones, a Foundling"
                                },
                                {
                                    "0": "Brian K. Vaughan, Pia Guerra, José Marzán Jr.",
                                    "1": "Y: The Last Man, Vol. 5: Ring of Truth (Y: The Last Man, #5)"
                                },
                                {
                                    "0": "Matthew Inman, The Oatmeal",
                                    "1": "How to Tell If Your Cat Is Plotting to Kill You"
                                },
                                {
                                    "0": "Haruki Murakami, Ted Goossen",
                                    "1": "The Strange Library"
                                },
                                {
                                    "0": "Diana L. Paxson, Marion Zimmer Bradley",
                                    "1": "Ancestors of Avalon (Avalon, #5)"
                                },
                                {
                                    "0": "Per Petterson, Anne Born",
                                    "1": "Out Stealing Horses"
                                },
                                {
                                    "0": "Doug Moench, Chuck Dixon, Jim Aparo, Norm Breyfogle, Graham Nolan, Jim Balent",
                                    "1": "Batman: Knightfall, Vol. 1: Broken Bat"
                                },
                                {
                                    "0": "Brian K. Vaughan, Fiona Staples",
                                    "1": "Saga, Vol. 5 (Saga, #5)"
                                },
                                {
                                    "0": "Stephen King, Willem Dafoe",
                                    "1": "One Past Midnight: The Langoliers"
                                },
                                {
                                    "0": "John Fante, Charles Bukowski",
                                    "1": "Ask the Dust (Arturo Bandini, #3)"
                                },
                                {
                                    "0": "Leigh Nichols, Dean Koontz",
                                    "1": "The Key to Midnight"
                                },
                                {
                                    "0": "Philip Pullman, Jacob Grimm, Wilhelm Grimm",
                                    "1": "Fairy Tales from the Brothers Grimm: A New English Version"
                                },
                                {
                                    "0": "Aristophanes, Sarah Ruden",
                                    "1": "Lysistrata"
                                },
                                {
                                    "0": "Tim LaHaye, Jerry B. Jenkins",
                                    "1": "Assassins (Left Behind, #6)"
                                },
                                {
                                    "0": "Scott Jurek, Steve Friedman",
                                    "1": "Eat and Run: My Unlikely Journey to Ultramarathon Greatness"
                                },
                                {
                                    "0": "Tim LaHaye, Jerry B. Jenkins",
                                    "1": "The Mark (Left Behind, #8)"
                                },
                                {
                                    "0": "Joss Whedon, Brett Matthews, Will Conrad",
                                    "1": "Those Left Behind (Serenity, #1)"
                                },
                                {
                                    "0": "Eugene B. Sledge, Paul Fussell",
                                    "1": "With the Old Breed: At Peleliu and Okinawa"
                                },
                                {
                                    "0": "Eleanor Estes, Louis Slobodkin",
                                    "1": "The Hundred Dresses"
                                },
                                {
                                    "0": "Brian K. Vaughan, Pia Guerra, José Marzán Jr., Paul Chadwick",
                                    "1": "Y: The Last Man, Vol. 3: One Small Step (Y: The Last Man, #3)"
                                },
                                {
                                    "0": "Karma Wilson, Jane Chapman",
                                    "1": "Bear Snores On"
                                },
                                {
                                    "0": "Brian Jacques, Gary Chalk",
                                    "1": "Salamandastron (Redwall, #5)"
                                },
                                {
                                    "0": "Thomas Hardy, Alexander Theroux",
                                    "1": "The Return of the Native  "
                                },
                                {
                                    "0": "Michael Crichton, Richard   Preston",
                                    "1": "Micro"
                                },
                                {
                                    "0": "Jean-Paul Sartre, Stuart Gilbert, Lionel Abel",
                                    "1": "No Exit and Three Other Plays"
                                },
                                {
                                    "0": "Nathaniel Hawthorne, Robert S. Levine",
                                    "1": "The House of the Seven Gables"
                                },
                                {
                                    "0": "W.E.B. Du Bois, Donald B. Gibson, Monica W. Elbert",
                                    "1": "The Souls of Black Folk"
                                },
                                {
                                    "0": "Hannah  Green, Joanne Greenberg",
                                    "1": "I Never Promised You a Rose Garden"
                                },
                                {
                                    "0": "Marguerite Duras, Barbara Bray, Maxine Hong Kingston",
                                    "1": "The Lover"
                                },
                                {
                                    "0": "Graham Greene, John Updike",
                                    "1": "The Power and the Glory"
                                },
                                {
                                    "0": "Edward Bloor, Danny De Vito",
                                    "1": "Tangerine"
                                },
                                {
                                    "0": "Bryan Burrough, John Helyar",
                                    "1": "Barbarians at the Gate: The Fall of RJR Nabisco"
                                },
                                {
                                    "0": "David Fishelson, Aaron Leichter, Max Brod, Franz Kafka",
                                    "1": "Franz Kafka's The Castle (Dramatization)"
                                },
                                {
                                    "0": "Catherynne M. Valente, Ana Juan",
                                    "1": "The Girl Who Circumnavigated Fairyland in a Ship of Her Own Making (Fairyland, #1)"
                                },
                                {
                                    "0": "James Patterson, Marshall Karp",
                                    "1": "NYPD Red (NYPD Red, #1)"
                                },
                                {
                                    "0": "Douglas Preston, Lincoln Child",
                                    "1": "The Book of the Dead (Pendergast, #7; Diogenes, #3)"
                                },
                                {
                                    "0": "Tim LaHaye, Jerry B. Jenkins",
                                    "1": "The Indwelling (Left Behind, #7)"
                                },
                                {
                                    "0": "Hermann Hesse, Richard Winston, Clara Winston, Theodore Ziolkowski",
                                    "1": "The Glass Bead Game"
                                },
                                {
                                    "0": "Gerald Durrell, Helma Lapiņa",
                                    "1": "My Family and Other Animals (Corfu Trilogy, #1)"
                                },
                                {
                                    "0": "Stephen King, Robin A.H. Waterfield",
                                    "1": "The Body"
                                },
                                {
                                    "0": "Doreen Cronin, Harry Bliss",
                                    "1": "Diary of a Worm"
                                },
                                {
                                    "0": "Carl Sagan, Ann Druyan",
                                    "1": "Pale Blue Dot: A Vision of the Human Future in Space"
                                },
                                {
                                    "0": "Louis-Ferdinand Céline, Ralph Manheim, William T. Vollmann",
                                    "1": "Journey to the End of the Night"
                                },
                                {
                                    "0": "Dean Koontz, Keith Szarabajka",
                                    "1": "Seize the Night (Moonlight Bay, #2)"
                                },
                                {
                                    "0": "Holly Black, Tony DiTerlizzi",
                                    "1": "The Seeing Stone (The Spiderwick Chronicles, #2)"
                                },
                                {
                                    "0": "Doreen Cronin, Betsy Lewin",
                                    "1": "Giggle, Giggle, Quack"
                                },
                                {
                                    "0": "René Descartes, Donald A. Cress",
                                    "1": "Discourse on Method and Meditations on First Philosophy"
                                },
                                {
                                    "0": "Douglas Preston, Lincoln Child",
                                    "1": "Still Life With Crows (Pendergast, #4)"
                                },
                                {
                                    "0": "Anthony Robbins, Kenneth H. Blanchard, Jason Winters",
                                    "1": "Unlimited Power : The New Science Of Personal Achievement"
                                },
                                {
                                    "0": "Douglas Preston, Lincoln Child",
                                    "1": "Fever Dream (Pendergast, #10)"
                                },
                                {
                                    "0": "Marilyn Manson, Neil Strauss",
                                    "1": "The Long Hard Road Out of Hell"
                                },
                                {
                                    "0": "José Saramago, Margaret Jull Costa",
                                    "1": "Death With Interruptions"
                                },
                                {
                                    "0": "Fredrik Backman, Henning Koch, سمانه پرهیزکاری",
                                    "1": "Britt-Marie Was Here"
                                },
                                {
                                    "0": "Rudyard Kipling, Edward Said",
                                    "1": "Kim"
                                },
                                {
                                    "0": "Immanuel Kant, Paul Guyer, Allen W. Wood",
                                    "1": "Critique of Pure Reason"
                                },
                                {
                                    "0": "Rien Poortvliet, Wil Huygen",
                                    "1": "Gnomes"
                                },
                                {
                                    "0": "Rebecca Housel, J. Jeremy Wisnewski, William Irwin",
                                    "1": "Twilight and Philosophy: Vampires, Vegetarians, and the Pursuit of Immortality"
                                },
                                {
                                    "0": "Alexandre Dumas fils, David Coward",
                                    "1": "La Dame aux Camélias"
                                },
                                {
                                    "0": "Stephen C. Lundin, Harry Paul, John Christensen, Kenneth H. Blanchard",
                                    "1": "Fish: A Proven Way to Boost Morale and Improve Results"
                                },
                                {
                                    "0": "Vi Keeland, Penelope Ward",
                                    "1": "Stuck-Up Suit"
                                },
                                {
                                    "0": "J.D. Robb, Susan Ericksen",
                                    "1": "Rapture in Death (In Death, #4)"
                                },
                                {
                                    "0": "Michel Houellebecq, Frank Wynne",
                                    "1": "The Elementary Particles"
                                },
                                {
                                    "0": "Roy Thomas, Dick Giordano, Mark D. Beazley, Bram Stoker",
                                    "1": "Dracula (Marvel Illustrated)"
                                },
                                {
                                    "0": "Giorgio Vasari, Julia Conway Bondanella, Peter Bondanella",
                                    "1": "The Lives of the Artists"
                                },
                                {
                                    "0": "Dmitry Glukhovsky, M. David Drevs",
                                    "1": "Metro 2033 (METRO, #1)"
                                },
                                {
                                    "0": "Robert Henri, Forbes Watson, Margery A. Ryerson",
                                    "1": "The Art Spirit: Notes, Articles, Fragments of Letters and Talks to Students, Bearing on the Concept and Technique of Picture Making, the Study of Art (Icon Editions)"
                                },
                                {
                                    "0": "Holly Black, Tony DiTerlizzi",
                                    "1": "The Wrath of Mulgarath (The Spiderwick Chronicles, #5)"
                                },
                                {
                                    "0": "Ram Dass, Richard Alpert",
                                    "1": "Be Here Now"
                                },
                                {
                                    "0": "Michael Teitelbaum, Sue DiCicco",
                                    "1": "The Little Mermaid"
                                },
                                {
                                    "0": "James Patterson, Andrew Gross",
                                    "1": "Lifeguard"
                                },
                                {
                                    "0": "A.N. Roquelaure, Anne Rice",
                                    "1": "Beauty's Release (Sleeping Beauty, #3)"
                                },
                                {
                                    "0": "Larry Bossidy, Ram Charan, Charles Burck",
                                    "1": "Execution: The Discipline of Getting Things Done"
                                },
                                {
                                    "0": "Joe Hill, Christopher Golden",
                                    "1": "20th Century Ghosts"
                                },
                                {
                                    "0": "Edward Eager, N.M. Bodecker",
                                    "1": "Half Magic (Tales of Magic, #1)"
                                },
                                {
                                    "0": "Steve Hockensmith, Jane Austen, Patrick Arrasmith",
                                    "1": "Dawn of the Dreadfuls (Pride and Prejudice and Zombies, #0.5)"
                                },
                                {
                                    "0": "Thich Nhat Hanh, Arnold Kotler, Dalai Lama XIV",
                                    "1": "Peace Is Every Step: The Path of Mindfulness in Everyday Life"
                                },
                                {
                                    "0": "Jim Starlin, Jim Aparo, Mike DeCarlo",
                                    "1": "Batman: A Death in the Family"
                                },
                                {
                                    "0": "Charlotte Brontë, Lucasta Miller, collaborative, Jessica Cox",
                                    "1": "Shirley"
                                },
                                {
                                    "0": "Bill Willingham, Mark Buckingham, Craig Hamilton, Steve Leialoha, P. Craig Russell",
                                    "1": "Fables, Vol. 4: March of the Wooden Soldiers"
                                },
                                {
                                    "0": "Lee Child, Dick Hill",
                                    "1": "Night School"
                                },
                                {
                                    "0": "Jenna Miscavige Hill, Lisa Pulitzer",
                                    "1": "Beyond Belief: My Secret Life Inside Scientology and My Harrowing Escape"
                                },
                                {
                                    "0": "Plato, James J. Helm",
                                    "1": "Apology"
                                },
                                {
                                    "0": "Garth Ennis, Steve Dillon, Penn Jillette",
                                    "1": "Preacher, Volume 3: Proud Americans"
                                },
                                {
                                    "0": "Diane Muldrow, J.P. Miller",
                                    "1": "The Little Red Hen (Little Golden Book)"
                                },
                                {
                                    "0": "John Heilemann, Mark Halperin",
                                    "1": "Game Change: Obama and the Clintons, McCain and Palin, and the Race of a Lifetime"
                                },
                                {
                                    "0": "Joni Eareckson Tada, Joe Musser",
                                    "1": "Joni: An Unforgettable Story"
                                },
                                {
                                    "0": "Margaret Weis, Tracy Hickman",
                                    "1": "War of the Twins (Dragonlance: Legends, #2)"
                                },
                                {
                                    "0": "Colleen Hoover, Tarryn Fisher",
                                    "1": "Never Never: Part Three (Never Never, #3)"
                                },
                                {
                                    "0": "Anya Seton, Philippa Gregory",
                                    "1": "Katherine"
                                },
                                {
                                    "0": "René Goscinny, Jean-Jacques Sempé",
                                    "1": "Le Petit Nicolas (Le petit Nicolas, #1)"
                                },
                                {
                                    "0": "Harold G. Moore, Joseph L. Galloway",
                                    "1": "We Were Soldiers Once... and Young: Ia Drang - The Battle that Changed the War in Vietnam"
                                },
                                {
                                    "0": "Rick Riordan, Tk",
                                    "1": "Percy Jackson and the Olympians Boxed Set (Percy Jackson and the Olympians, #1-5)"
                                },
                                {
                                    "0": "Eric Van Lustbader, Robert Ludlum",
                                    "1": "The Bourne Objective (Jason Bourne, #8)"
                                },
                                {
                                    "0": "James Patterson, Maxine Paetro",
                                    "1": "Unlucky 13 (Women’s Murder Club, #13)"
                                },
                                {
                                    "0": "Jun Mochizuki, 望月淳",
                                    "1": "Pandora Hearts 1巻"
                                },
                                {
                                    "0": "Franz Kafka, Nahum N. Glatzer, John Updike, Willa Muir, Edwin Muir, Tania Stern, James Stern, Ernst Kaiser, Eithne Wilkins",
                                    "1": "The Complete Stories"
                                },
                                {
                                    "0": "Isa Chandra Moskowitz, Terry Hope Romero",
                                    "1": "Veganomicon: The Ultimate Vegan Cookbook"
                                },
                                {
                                    "0": "Margaret Weis, Tracy Hickman",
                                    "1": "Test of the Twins (Dragonlance: Legends, #3)"
                                },
                                {
                                    "0": "Elissa Wall, Lisa Pulitzer",
                                    "1": "Stolen Innocence: My Story of Growing Up in a Polygamous Sect, Becoming a Teenage Bride, and Breaking Free of Warren Jeffs"
                                },
                                {
                                    "0": "Ed Brubaker, Doug Mahnke, Patrick Zircher, Aaron Sowd, Steve Bird",
                                    "1": "Batman: The Man Who Laughs"
                                },
                                {
                                    "0": "Trenton Lee Stewart, Del Roy",
                                    "1": "The Mysterious Benedict Society and the Prisoner's Dilemma (The Mysterious Benedict Society, #3)"
                                },
                                {
                                    "0": "Anton Chekhov, Tom    Murphy",
                                    "1": "The Cherry Orchard"
                                },
                                {
                                    "0": "J.R.R. Tolkien, Christopher Tolkien",
                                    "1": "Unfinished Tales of Númenor and Middle-Earth"
                                },
                                {
                                    "0": "أحلام مستغانمي, Ahlam Mosteghanemi",
                                    "1": "فوضى الحواس"
                                },
                                {
                                    "0": "Jane O'Connor, Robin Preiss Glasser",
                                    "1": "Fancy Nancy"
                                },
                                {
                                    "0": "Patricia C. Wrede, Peter de Sève",
                                    "1": "Talking to Dragons (Enchanted Forest Chronicles, #4)"
                                },
                                {
                                    "0": "James Patterson, Howard Roughan",
                                    "1": "Sail"
                                },
                                {
                                    "0": "Neil Gaiman, Chris Riddell",
                                    "1": "The Sleeper and the Spindle"
                                },
                                {
                                    "0": "A.N. Roquelaure, Anne Rice",
                                    "1": "Beauty's Punishment (Sleeping Beauty, #2)"
                                },
                                {
                                    "0": "Gregory Maguire, Douglas Smith",
                                    "1": "A Lion Among Men (The Wicked Years, #3)"
                                },
                                {
                                    "0": "Molière, Martin Sorrell",
                                    "1": "Tartuffe"
                                },
                                {
                                    "0": "Ivan Goncharov, Stephen Pearl, Galya Diment",
                                    "1": "Oblomov"
                                },
                                {
                                    "0": "Po Bronson, Ashley Merryman",
                                    "1": "NurtureShock: New Thinking About Children"
                                },
                                {
                                    "0": "Raymond E. Feist, Janny Wurts",
                                    "1": "Daughter of the Empire (The Empire Trilogy, #1)"
                                },
                                {
                                    "0": "John Grisham, Richard Thomas",
                                    "1": "Theodore Boone: Kid Lawyer (Theodore Boone, #1)"
                                },
                                {
                                    "0": "Tim LaHaye, Jerry B. Jenkins",
                                    "1": "Desecration (Left Behind, #9)"
                                },
                                {
                                    "0": "Jessica Anthony, Rodrigo Corral",
                                    "1": "Chopsticks"
                                },
                                {
                                    "0": "Jo Nesbø, Don Bartlett",
                                    "1": "Cockroaches (Harry Hole, #2)"
                                },
                                {
                                    "0": "Isabel Allende, Margaret Sayers Peden",
                                    "1": "City of the Beasts (Eagle and Jaguar, #1)"
                                },
                                {
                                    "0": "Naguib Mahfouz, نجيب محفوظ",
                                    "1": "أولاد حارتنا"
                                },
                                {
                                    "0": "Isaac Asimov, Robert Silverberg",
                                    "1": "Nightfall"
                                },
                                {
                                    "0": "Melinda Long, David Shannon",
                                    "1": "How I Became a Pirate"
                                },
                                {
                                    "0": "Eric Knight, Marguerite Kirmse",
                                    "1": "Lassie Come-Home"
                                },
                                {
                                    "0": "T. Colin Campbell, Thomas M. Campbell II",
                                    "1": "The China Study: The Most Comprehensive Study of Nutrition Ever Conducted And the Startling Implications for Diet, Weight Loss, And Long-term Health"
                                },
                                {
                                    "0": "Julia Donaldson, Axel Scheffler",
                                    "1": "The Gruffalo"
                                },
                                {
                                    "0": "Sui Ishida, 石田 スイ",
                                    "1": "Tokyo Ghoul, tome 1 (Tokyo Ghoul, #1)"
                                },
                                {
                                    "0": "Jo Nesbø, Don Bartlett",
                                    "1": "Headhunters"
                                },
                                {
                                    "0": "G.K. Chesterton, Jonathan Lethem",
                                    "1": "The Man Who Was Thursday: A Nightmare"
                                },
                                {
                                    "0": "Frank B. Gilbreth Jr., Ernestine Gilbreth Carey",
                                    "1": "Cheaper by the Dozen"
                                },
                                {
                                    "0": "Douglas Preston, Mario Spezi",
                                    "1": "The Monster of Florence"
                                },
                                {
                                    "0": "Terry Pratchett, Paul Kidby",
                                    "1": "The Last Hero (Discworld, #27; Rincewind #7)"
                                },
                                {
                                    "0": "Bryan J.L. Glass, Tim Seeley, Hugo Petrus, Raymond E. Feist",
                                    "1": "Raymond E. Feist's Magician Master"
                                },
                                {
                                    "0": "Joe Hill, Gabriel Rodríguez",
                                    "1": "Locke & Key, Vol. 2: Head Games"
                                },
                                {
                                    "0": "Beverly Cleary, Alan Tiegreen",
                                    "1": "Ramona and Her Father (Ramona, #4)"
                                },
                                {
                                    "0": "Julio Cortázar, Gregory Rabassa",
                                    "1": "Hopscotch"
                                },
                                {
                                    "0": "Paulo Coelho, Margaret Jull Costa",
                                    "1": "Manuscript Found in Accra"
                                },
                                {
                                    "0": "Holly Black, Tony DiTerlizzi",
                                    "1": "The Ironwood Tree (The Spiderwick Chronicles, #4)"
                                },
                                {
                                    "0": "Ozzy Osbourne, Chris Ayres",
                                    "1": "I Am Ozzy"
                                },
                                {
                                    "0": "James Patterson, Maxine Paetro",
                                    "1": "14th Deadly Sin (Women’s Murder Club, #14)"
                                },
                                {
                                    "0": "Brian K. Vaughan, Pia Guerra, Goran Parlov, José Marzán Jr.",
                                    "1": "Y: The Last Man, Vol. 4: Safeword (Y: The Last Man, #4)"
                                },
                                {
                                    "0": "Brian K. Vaughan, Pia Guerra, Goran Sudžuka, José Marzán Jr.",
                                    "1": "Y: The Last Man, Vol. 7: Paper Dolls (Y: The Last Man, #7)"
                                },
                                {
                                    "0": "Stephanie Perkins, Holly Black, Ally Carter, Matt de la Pena, Gayle Forman, Jenny Han, David Levithan, Kelly Link, Myra McEntire, Rainbow Rowell, Laini Taylor, Kiersten White",
                                    "1": "My True Love Gave to Me: Twelve Holiday Stories"
                                },
                                {
                                    "0": "Richard Bachman, Stephen King",
                                    "1": "Rage"
                                },
                                {
                                    "0": "Émile Zola, Roger Pearson",
                                    "1": "Germinal (Les Rougon-Macquart, #13)"
                                },
                                {
                                    "0": "J. Lynn, Jennifer L. Armentrout",
                                    "1": "Frigid (Frigid, #1)"
                                },
                                {
                                    "0": "Isabel Allende, Margaret Sayers Peden",
                                    "1": "Of Love and Shadows"
                                },
                                {
                                    "0": "Robert Kirkman, Charlie Adlard, Cliff Rathburn",
                                    "1": "The Walking Dead, Vol. 04: The Heart's Desire"
                                },
                                {
                                    "0": "Michel Foucault, Alan Sheridan, Thomas Mathiesen, Walter Seitter, Drago Braco Rotar",
                                    "1": "Discipline and Punish: The Birth of the Prison"
                                },
                                {
                                    "0": "Arina Tanemura, Tomo Kimura",
                                    "1": "Full Moon o Sagashite, Vol. 1"
                                },
                                {
                                    "0": "Raymond E. Feist, Michael Avon Oeming, Bryan J.L. Glass, Ryan Stegman",
                                    "1": "Magician: Apprentice  (Raymond E. Feist's Magician: Apprentice #1)"
                                },
                                {
                                    "0": "David Eddings, Leigh Eddings",
                                    "1": "Polgara the Sorceress (Malloreon)"
                                },
                                {
                                    "0": "Tim LaHaye, Jerry B. Jenkins",
                                    "1": "The Remnant (Left Behind, #10)"
                                },
                                {
                                    "0": "Italo Calvino, Archibald Colquhoun",
                                    "1": "The Baron in the Trees"
                                },
                                {
                                    "0": "Stephenie Meyer, Young Kim",
                                    "1": "Twilight: The Graphic Novel, Vol. 2  (Twilight: The Graphic Novel, #2)"
                                },
                                {
                                    "0": "Michelle Knight, Michelle Burford",
                                    "1": "Finding Me: A Decade of Darkness, a Life Reclaimed - A Memoir of the Cleveland Kidnappings"
                                },
                                {
                                    "0": "D.C. Talk, The Voice of the Martyrs",
                                    "1": "Jesus Freaks: Stories of Those Who Stood for Jesus, the Ultimate Jesus Freaks (Jesus Freaks, #1)"
                                },
                                {
                                    "0": "Jo Nesbø, Don Bartlett",
                                    "1": "Police (Harry Hole, #10)"
                                },
                                {
                                    "0": "Yuu Watase, Yuji Oniki",
                                    "1": "Fushigi Yûgi: The Mysterious Play, Vol. 1: Priestess"
                                },
                                {
                                    "0": "Faye Perozich, Travis Moore, Michael Halbleib, Daerick Gröss, Anne Rice",
                                    "1": "Anne Rice's The Tale of the Body Thief (A Graphic Novel)"
                                },
                                {
                                    "0": "George MacDonald, Arthur Hughes",
                                    "1": "The Princess and the Goblin  (Princess Irene and Curdie, #1)"
                                },
                                {
                                    "0": "Camilla Läckberg, Steven T. Murray",
                                    "1": "The Preacher (Patrik Hedström, #2)"
                                },
                                {
                                    "0": "Roger Zelazny, Sönmez Güven",
                                    "1": "Lord of Light"
                                },
                                {
                                    "0": "Roald Dahl, Quentin Blake",
                                    "1": "Esio Trot"
                                },
                                {
                                    "0": "James Patterson, Michael Ledwidge",
                                    "1": "Run for Your Life (Michael Bennett, #2)"
                                },
                                {
                                    "0": "Joan Didion, David Thomson",
                                    "1": "Play It as It Lays"
                                },
                                {
                                    "0": "Paulo Coelho, Alan R. Clarke",
                                    "1": "The Valkyries"
                                },
                                {
                                    "0": "Joseph Delaney, Patrick  Arrasmith",
                                    "1": "Curse of the Bane (The Last Apprentice / Wardstone Chronicles, #2)"
                                },
                                {
                                    "0": "Simone de Beauvoir, H.M. Parshley, Deirdre Bair",
                                    "1": "The Second Sex"
                                },
                                {
                                    "0": "Margaret Weis, Tracy Hickman",
                                    "1": "Dragon Wing (The Death Gate Cycle, #1)"
                                },
                                {
                                    "0": "Brian K. Vaughan, Pia Guerra, Goran Sudžuka, José Marzán Jr.",
                                    "1": "Y: The Last Man, Vol. 9: Motherland (Y: The Last Man, #9)"
                                },
                                {
                                    "0": "Noelle Stevenson, Grace Ellis, Shannon Waters, Shannon Watters, Brooke A. Allen, Faith Hicks, Kat Leyh, Brooke Allen, Carolyn Nowak, Various, Carey Pietsch",
                                    "1": "Lumberjanes, Vol. 1: Beware the Kitten Holy"
                                },
                                {
                                    "0": "Douglas Preston, Lincoln Child",
                                    "1": "Dance of Death (Pendergast, #6; Diogenes, #2)"
                                },
                                {
                                    "0": "Yoshihiro Togashi, 冨樫 義博",
                                    "1": "Hunter x Hunter, Vol. 01 (Hunter x Hunter, #1)"
                                },
                                {
                                    "0": "James Patterson, Ned Rust",
                                    "1": "The Gift (Witch & Wizard, #2)"
                                },
                                {
                                    "0": "Daniel Abraham, George R.R. Martin, Tommy Patterson",
                                    "1": "A Game of Thrones: Comic Book, Issue 1"
                                },
                                {
                                    "0": "Angie Sage, Mark Zug",
                                    "1": "Darke (Septimus Heap, #6)"
                                },
                                {
                                    "0": "Kingsley Amis, David Lodge",
                                    "1": "Lucky Jim"
                                },
                                {
                                    "0": "Brian K. Vaughan, Pia Guerra, José Marzán Jr.",
                                    "1": "Y: The Last Man, Vol. 10: Whys and Wherefores (Y: The Last Man, #10)"
                                },
                                {
                                    "0": "C.G. Jung, Aniela Jaffé, Richard Winston, Clara Winston",
                                    "1": "Memories, Dreams, Reflections"
                                },
                                {
                                    "0": "Milan Kundera, Suzanne Rappaport",
                                    "1": "Laughable Loves"
                                },
                                {
                                    "0": "Mary Pope Osborne, Salvatore Murdocca",
                                    "1": "Dinosaurs Before Dark (Magic Tree House, #1)"
                                },
                                {
                                    "0": "Thomas Mann, Michael Henry Heim, Michael Cunningham",
                                    "1": "Death in Venice"
                                },
                                {
                                    "0": "Sogyal Rinpoche, Andrew Harvey",
                                    "1": "The Tibetan Book of Living and Dying"
                                },
                                {
                                    "0": "John Joseph Adams, Robert J. Sawyer, Stephen King, Michael Moorcock, Sharyn McCrumb, Stephen Baxter, Anne Perry, Barbara Hambly, Tanith Lee, Neil Gaiman, Rob Rogers, Naomi Novik, Anthony Burgess, Dominic Green, Laurie R. King, Barbara Roden, Peter Tremayne, Tim Lebbon, Bradley H. Sinor, Edward D. Hoch, Vonda N. McIntyre, Darrell Schweitzer, Mary Robinette Kowal, H.Paul Jeffers, Geoffrey A. Landis, Amy Myers, Tony Pi, Chris Roberson, Mark Valentine",
                                    "1": "The Improbable Adventures of Sherlock Holmes"
                                },
                                {
                                    "0": "Bill Willingham, Mark Buckingham, Steve Leialoha, James Jean",
                                    "1": "Fables, Vol. 2: Animal Farm"
                                },
                                {
                                    "0": "James     Baldwin, Kıvanç Güney",
                                    "1": "The Fire Next Time"
                                },
                                {
                                    "0": "Grant Morrison, Frank Quitely",
                                    "1": "We3"
                                },
                                {
                                    "0": "Rick Riordan, John Rocco",
                                    "1": "Percy Jackson's Greek Gods (A Percy Jackson and the Olympians Guide)"
                                },
                                {
                                    "0": "Arthur Koestler, Daphne Hardy",
                                    "1": "Darkness at Noon"
                                },
                                {
                                    "0": "Diane Arbus, Stan Grossfeld, Doon Arbus, Marvin Israel",
                                    "1": "Diane Arbus: Monograph"
                                },
                                {
                                    "0": "Frank E. Peretti, Ted Dekker",
                                    "1": "House"
                                },
                                {
                                    "0": "V.E. Schwab, Victoria Schwab",
                                    "1": "Vicious (Villains, #1)"
                                },
                                {
                                    "0": "Penelope Douglas, Nelson Hobbs",
                                    "1": "Until You (Fall Away, #1.5)"
                                },
                                {
                                    "0": "Dallas Hartwig, Melissa Hartwig",
                                    "1": "It Starts with Food: Discover the Whole30 and Change Your Life in Unexpected Ways"
                                },
                                {
                                    "0": "J. Lynn, Jennifer L. Armentrout",
                                    "1": "Be with Me (Wait for You, #2)"
                                },
                                {
                                    "0": "Jussi Adler-Olsen, K.E. Semmel",
                                    "1": "The Absent One (Department Q, #2)"
                                },
                                {
                                    "0": "Robert Kirkman, Charlie Adlard, Cliff Rathburn",
                                    "1": "The Walking Dead, Vol. 05: The Best Defense"
                                },
                                {
                                    "0": "Marshall Goldsmith, Mark Reiter",
                                    "1": "What Got You Here Won't Get You There: How Successful People Become Even More Successful"
                                },
                                {
                                    "0": "Kieron Gillen, Jamie McKelvie, Matt Wilson, Clayton Cowles",
                                    "1": "The Wicked + The Divine, Vol. 1: The Faust Act"
                                },
                                {
                                    "0": "Esther Hicks, Jerry Hicks",
                                    "1": "The Law of Attraction: The Basics of the Teachings of Abraham"
                                },
                                {
                                    "0": "Holly Black, Tony DiTerlizzi",
                                    "1": "Lucinda's Secret (The Spiderwick Chronicles, #3)"
                                },
                                {
                                    "0": "Beverly Cleary, Tracy Dockray",
                                    "1": "Henry Huggins (Henry Huggins, #1)"
                                },
                                {
                                    "0": "Russell Hoban, Garth Williams",
                                    "1": "Bedtime for Frances"
                                },
                                {
                                    "0": "Tetsuko Kuroyanagi, Chihiro Iwasaki, Dorothy Britton",
                                    "1": "Totto-chan: The Little Girl at the Window"
                                },
                                {
                                    "0": "James Patterson, Liza Marklund",
                                    "1": "The Postcard Killers"
                                },
                                {
                                    "0": "Julietta Suzuki, Tomo Kimura",
                                    "1": "Kamisama Kiss, Vol. 1"
                                },
                                {
                                    "0": "Avery Monsen, Jory John",
                                    "1": "All My Friends Are Dead"
                                },
                                {
                                    "0": "Johnny Cash, Patrick   Carr",
                                    "1": "Cash"
                                },
                                {
                                    "0": "Isak Dinesen, Karen Blixen",
                                    "1": "Out of Africa"
                                },
                                {
                                    "0": "Brian Jacques, Gary Chalk",
                                    "1": "Mariel of Redwall (Redwall, #4)"
                                },
                                {
                                    "0": "William Shakespeare, Cynthia Marshall, Barbara A. Mowat, Paul Werstine",
                                    "1": "Antony and Cleopatra"
                                },
                                {
                                    "0": "Randy Shilts, William Greider",
                                    "1": "And the Band Played On: Politics, People, and the AIDS Epidemic"
                                },
                                {
                                    "0": "Miranda July, Brigitte Sire",
                                    "1": "It Chooses You"
                                },
                                {
                                    "0": "Hubert Selby Jr., Gilbert Sorrentino",
                                    "1": "Last Exit to Brooklyn"
                                },
                                {
                                    "0": "Mario Vargas Llosa, Edith Grossman",
                                    "1": "The Feast of the Goat"
                                },
                                {
                                    "0": "James Patterson, David Ellis",
                                    "1": "Invisible"
                                },
                                {
                                    "0": "Douglas Preston, Lincoln Child",
                                    "1": "Thunderhead"
                                },
                                {
                                    "0": "Diane Mowat, W.W. Jacobs",
                                    "1": "The Monkey's Paw (Oxford Bookworms)"
                                },
                                {
                                    "0": "Jerry Bridges, Foster W. Cline, Jim Fay",
                                    "1": "The Pursuit of Holiness"
                                },
                                {
                                    "0": "James Patterson, Maxine Paetro",
                                    "1": "Confessions of a Murder Suspect (Confessions, #1)"
                                },
                                {
                                    "0": "Brian K. Vaughan, Pia Guerra, Goran Sudžuka, José Marzán Jr.",
                                    "1": "Y: The Last Man, Vol. 6: Girl on Girl (Y: The Last Man, #6)"
                                },
                                {
                                    "0": "Laura Joffe Numeroff, Felicia Bond",
                                    "1": "If You Give a Pig a Party"
                                },
                                {
                                    "0": "Henryk Sienkiewicz, W.S. Kuniczak",
                                    "1": "Quo Vadis"
                                },
                                {
                                    "0": "Raymond E. Feist, Janny Wurts",
                                    "1": "Servant of the Empire (The Empire Trilogy, #2)"
                                },
                                {
                                    "0": "Deborah Guarino, Steven Kellogg",
                                    "1": "Is Your Mama a Llama?"
                                },
                                {
                                    "0": "Robert Descharnes, Gilles Néret",
                                    "1": "Dali: The Paintings"
                                },
                                {
                                    "0": "Dean Koontz, Leigh Nichols",
                                    "1": "Cold Fire / Hideaway / The Key to Midnight"
                                },
                                {
                                    "0": "Henning Mankell, Steven T. Murray",
                                    "1": "The Fifth Woman (Kurt Wallander, #6)"
                                },
                                {
                                    "0": "Guy de Maupassant, Douglas Parmée",
                                    "1": "Bel-Ami"
                                },
                                {
                                    "0": "María Dueñas, Daniel Hahn",
                                    "1": "The Time in Between"
                                },
                                {
                                    "0": "Anonymous, Ananda Maitreya, Thich Nhat Hanh, Balangoda Ananda Maitreya Maitreya",
                                    "1": "The Dhammapada"
                                },
                                {
                                    "0": "James Patterson, Maxine Paetro",
                                    "1": "Swimsuit"
                                },
                                {
                                    "0": "خالد الخميسي, Khaled Al Khamissi",
                                    "1": "تاكسي: حواديت المشاوير"
                                },
                                {
                                    "0": "Scott Westerfeld, Keith Thompson",
                                    "1": "Goliath (Leviathan, #3)"
                                },
                                {
                                    "0": "Akira Amano, JN Productions, Frances E. Wall",
                                    "1": "Reborn! Vol. 01: Reborn Arrives! (Reborn!, #1)"
                                },
                                {
                                    "0": "Joe Hill, Gabriel Rodríguez",
                                    "1": "Locke & Key, Vol. 3: Crown of Shadows"
                                },
                                {
                                    "0": "Arthur C. Clarke, Gentry Lee",
                                    "1": "The Garden of Rama (Rama, #3)"
                                },
                                {
                                    "0": "Scott Snyder, Jock, Francesco Francavilla, Jared K. Fletcher, Sal Cipriano, David   Baron",
                                    "1": "Batman: The Black Mirror"
                                },
                                {
                                    "0": "James Patterson, Marshall Karp",
                                    "1": "Kill Me If You Can"
                                },
                                {
                                    "0": "Laura Joffe Numeroff, Felicia Bond",
                                    "1": "If You Take a Mouse to the Movies"
                                },
                                {
                                    "0": "Laurell K. Hamilton, Laural Merlington",
                                    "1": "A Lick of Frost (Merry Gentry, #6)"
                                },
                                {
                                    "0": "Orson Scott Card, James Cameron",
                                    "1": "The Abyss"
                                },
                                {
                                    "0": "Katarina Bivald, Alice Menzies",
                                    "1": "The Readers of Broken Wheel Recommend"
                                },
                                {
                                    "0": "Richard Dawkins, Dave McKean",
                                    "1": "The Magic of Reality: How We Know What's Really True"
                                },
                                {
                                    "0": "Karen Kingsbury, Gary Smalley",
                                    "1": "Remember (Redemption, #2)"
                                },
                                {
                                    "0": "Walt Disney Company, Ellen Titlebaum",
                                    "1": "Beauty and the Beast"
                                },
                                {
                                    "0": "Joseph Delaney, Patrick  Arrasmith",
                                    "1": "Night of the Soul Stealer (The Last Apprentice / Wardstone Chronicles, #3)"
                                },
                                {
                                    "0": "Sadegh Hedayat, D.P. Costello",
                                    "1": "The Blind Owl"
                                },
                                {
                                    "0": "Eric Litwin, James Dean",
                                    "1": "Pete the Cat: I Love My White Shoes"
                                },
                                {
                                    "0": "Jonathan Stroud, Simon  Jones",
                                    "1": "The Ring of Solomon (Bartimaeus, #0.5)"
                                },
                                {
                                    "0": "Ina Garten, Maura McEvoy",
                                    "1": "Barefoot Contessa Family Style: Easy Ideas and Recipes That Make Everyone Feel Like Family"
                                },
                                {
                                    "0": "H.P. Lovecraft, China Miéville, S.T. Joshi",
                                    "1": "At the Mountains of Madness"
                                },
                                {
                                    "0": "Garth Ennis, Steve Dillon",
                                    "1": "Preacher, Volume 9: Alamo"
                                },
                                {
                                    "0": "Jorge Luis Borges, Andrew Hurley",
                                    "1": "Collected Fictions"
                                },
                                {
                                    "0": "Carol Tavris, Elliot Aronson",
                                    "1": "Mistakes Were Made (But Not by Me): Why We Justify Foolish Beliefs, Bad Decisions, and Hurtful Acts"
                                },
                                {
                                    "0": "Richard Bachman, Stephen King",
                                    "1": "Roadwork"
                                },
                                {
                                    "0": "Gina Mayer, Mercer Mayer",
                                    "1": "Just Me in the Tub (Mercer Mayer's Little Critter)"
                                },
                                {
                                    "0": "Robert Kirkman, Charlie Adlard, Cliff Rathburn",
                                    "1": "The Walking Dead, Vol. 06: This Sorrowful Life"
                                },
                                {
                                    "0": "Isabel Allende, Margaret Sayers Peden",
                                    "1": "Inés of My Soul"
                                },
                                {
                                    "0": "Geoffrey A. Moore, Regis McKenna",
                                    "1": "Crossing the Chasm: Marketing and Selling High-Tech Products to Mainstream Customers"
                                },
                                {
                                    "0": "Milan Kundera, Linda Asher",
                                    "1": "Identity"
                                },
                                {
                                    "0": "Owen  West, Dean Koontz",
                                    "1": "The Funhouse"
                                },
                                {
                                    "0": "Verna Aardema, Leo Dillon, Diane Dillon",
                                    "1": "Why Mosquitoes Buzz in People's Ears"
                                },
                                {
                                    "0": "Carlos Ruiz Zafón, Lucia Graves",
                                    "1": "The Prince of Mist (Niebla, #1)"
                                },
                                {
                                    "0": "Laura Ingalls Wilder, Garth Williams",
                                    "1": "The First Four Years  (Little House, #9)"
                                },
                                {
                                    "0": "Jacob Grimm, Wilhelm Grimm, منى الخميسي",
                                    "1": "Grimm's Fairy Tales"
                                },
                                {
                                    "0": "Allan Pease, Barbara Pease",
                                    "1": "The Definitive Book of Body Language"
                                },
                                {
                                    "0": "James Patterson, Michael Ledwidge",
                                    "1": "Tick Tock (Michael Bennett, #4)"
                                },
                                {
                                    "0": "Oscar Wilde, Merlin Holland",
                                    "1": "Complete Works of Oscar Wilde"
                                },
                                {
                                    "0": "Cook's Illustrated Magazine, John Burgoyne, Carl Tremblay",
                                    "1": "The New Best Recipe"
                                },
                                {
                                    "0": "Fábio Moon, Gabriel Bá, Craig Thompson, Dave Stewart, Sean Konot",
                                    "1": "Daytripper"
                                },
                                {
                                    "0": "Orhan Pamuk, Maureen Freely",
                                    "1": "The Museum of Innocence"
                                },
                                {
                                    "0": "Johann Wolfgang von Goethe, Walter Kaufmann",
                                    "1": "Faust"
                                },
                                {
                                    "0": "Masha, Marie Simchow Stern",
                                    "1": "Three Little Kittens"
                                },
                                {
                                    "0": "Arthur Conan Doyle, David Timson",
                                    "1": "The Valley of Fear"
                                },
                                {
                                    "0": "Garth Ennis, Steve Dillon, Peter Snejbjerg",
                                    "1": "Preacher, Volume 6: War in the Sun"
                                },
                                {
                                    "0": "Kresley Cole, Gena Showalter",
                                    "1": "Deep Kiss of Winter (Includes: Immortals After Dark, #8; Alien Huntress, #3.5)"
                                },
                                {
                                    "0": "Holly Black, Eliza Wheeler",
                                    "1": "Doll Bones"
                                },
                                {
                                    "0": "Joseph Fink, Jeffrey Cranor",
                                    "1": "Welcome to Night Vale"
                                },
                                {
                                    "0": "Michael Teitelbaum, Walt Disney Company",
                                    "1": "Sleeping Beauty: a Little Golden Book (Disney Princess)"
                                },
                                {
                                    "0": "Eve Ensler, Gloria Steinem",
                                    "1": "The Vagina Monologues"
                                },
                                {
                                    "0": "George Eliot, Edmund White",
                                    "1": "Daniel Deronda"
                                },
                                {
                                    "0": "Anonymous, Ronald A. Beers, Ronald A. Beers",
                                    "1": "Life Application Study Bible: NIV"
                                },
                                {
                                    "0": "Douglas Preston, Lincoln Child",
                                    "1": "The Wheel of Darkness (Pendergast, #8)"
                                },
                                {
                                    "0": "Neil Gaiman, Barron Storey, Bill Sienkiewicz, Glenn Fabry, Dave McKean, P. Craig Russell, Milo Manara, Miguelanxo Prado, Frank Quitely, Todd Klein",
                                    "1": "The Sandman: Endless Nights"
                                },
                                {
                                    "0": "George Eliot, Joanna Trollope, Hugh Osborne",
                                    "1": "Adam Bede"
                                },
                                {
                                    "0": "Yōko Ogawa, Stephen Snyder",
                                    "1": "The Housekeeper and the Professor"
                                },
                                {
                                    "0": "Dante Alighieri, Robert M. Durling",
                                    "1": "Purgatorio (The Divine Comedy, #2)"
                                },
                                {
                                    "0": "Julie Anne Peters, C.J. Bott",
                                    "1": "By the Time You Read This, I'll Be Dead"
                                },
                                {
                                    "0": "Dean Koontz, Ed Gorman, John Bedford Lloyd",
                                    "1": "City of Night (Dean Koontz's Frankenstein, #2)"
                                },
                                {
                                    "0": "Isabel Allende, Anne McLean",
                                    "1": "Maya's Notebook"
                                },
                                {
                                    "0": "Pseudonymous Bosch, Gilbert Ford",
                                    "1": "If You're Reading This, It's Too Late (Secret, #2)"
                                },
                                {
                                    "0": "Lili St. Crow, Lilith Saintcrow",
                                    "1": "Betrayals (Strange Angels, #2)"
                                },
                                {
                                    "0": "James Patterson, Howard Roughan",
                                    "1": "You've Been Warned"
                                },
                                {
                                    "0": "Blue Balliett, Brett Helquist",
                                    "1": "Chasing Vermeer (Chasing Vermeer, #1)"
                                },
                                {
                                    "0": "Dav Pilkey, George Beard, Harold Hutchins",
                                    "1": "The Adventures of Ook and Gluk, Kung-Fu Cavemen from the Future"
                                },
                                {
                                    "0": "Robert Louis Stevenson, Tasha Tudor",
                                    "1": "A Child's Garden of Verses"
                                },
                                {
                                    "0": "Robert Kirkman, Charlie Adlard",
                                    "1": "The Walking Dead, Vol. 12: Life Among Them"
                                },
                                {
                                    "0": "Paulo Freire, Myra Bergman Ramos, Donaldo Macedo, Richard Shaull",
                                    "1": "Pedagogy of the Oppressed"
                                },
                                {
                                    "0": "Brad Meltzer, Rags Morales, Michael Bair, Joss Whedon",
                                    "1": "Identity Crisis"
                                },
                                {
                                    "0": "Arthur C. Clarke, Gentry Lee",
                                    "1": "Rama II (Rama, #2)"
                                },
                                {
                                    "0": "Lemony Snicket, Seth",
                                    "1": "Who Could That Be at This Hour? (All the Wrong Questions, #1)"
                                },
                                {
                                    "0": "Bryan Konietzko, Michael Dante DiMartino, Aaron Ehasz, Alison Wilgus, Amy Kim Ganter, Brian Ralph, Corey Lewis, Dave Roman, Elsa Garagarza, Ethan Spaulding, Frank Pittarese, Gurihiru, J. Torres, Joaquim Dos Santos, Johane Matte, John O'Bryan, Joshua Hamilton, Justin Ridge, Kaite Mattila, May Chan, Rawles Marie Lumumba, Reagan Lodge, Tim Hedrick, Tom McWeeney",
                                    "1": "Avatar: The Last Airbender: The Lost Adventures"
                                },
                                {
                                    "0": "Radwa Ashour, رضوى عاشور",
                                    "1": "الطنطورية"
                                },
                                {
                                    "0": "Bill Willingham, Mark Buckingham, Steve Leialoha, James Jean",
                                    "1": "Fables, Vol. 3: Storybook Love"
                                },
                                {
                                    "0": "Claire Huchet Bishop, Kurt Wiese",
                                    "1": "The Five Chinese Brothers"
                                },
                                {
                                    "0": "Ridley Pearson, David Frankland",
                                    "1": "Disney after Dark (Kingdom Keepers, #1)"
                                },
                                {
                                    "0": "J. Lynn, Jennifer L. Armentrout",
                                    "1": "Trust in Me (Wait for You, #1.5)"
                                },
                                {
                                    "0": "Masashi Kishimoto, Frances Wall",
                                    "1": "Naruto, Vol. 11: Impassioned Efforts (Naruto, #11)"
                                },
                                {
                                    "0": "Thomas Piketty, Arthur Goldhammer",
                                    "1": "Capital in the Twenty-First Century"
                                },
                                {
                                    "0": "Kay Thompson, Hilary Knight",
                                    "1": "Eloise "
                                },
                                {
                                    "0": "Nathanael West, Alfred Kazin",
                                    "1": "The Day of the Locust"
                                },
                                {
                                    "0": "James Patterson, Richard DiLallo",
                                    "1": "Alex Cross's Trial (Alex Cross, #15)"
                                },
                                {
                                    "0": "Ori Brafman, Rom Brafman",
                                    "1": "Sway: The Irresistible Pull of Irrational Behavior"
                                },
                                {
                                    "0": "Marguerite Henry, Wesley Dennis",
                                    "1": "King of the Wind: The Story of the Godolphin Arabian"
                                },
                                {
                                    "0": "Jostein Gaarder, Sarah Jane Hails",
                                    "1": "The Solitaire Mystery: A Novel About Family and Destiny"
                                },
                                {
                                    "0": "Kurtis J. Wiebe, Roc Upchurch",
                                    "1": "Rat Queens, Vol. 1: Sass & Sorcery"
                                },
                                {
                                    "0": "Stephen Briggs, Terry Pratchett",
                                    "1": "Guards! Guards!: The Play"
                                },
                                {
                                    "0": "Trina Schart Hyman, Johann Grimm, Wilhelm Grimm",
                                    "1": "Little Red Riding Hood"
                                },
                                {
                                    "0": "Martin Pistorius, Megan Lloyd Davies",
                                    "1": "Ghost Boy"
                                },
                                {
                                    "0": "Roald Dahl, Quentin Blake",
                                    "1": "The Magic Finger (Young Puffin Developing Reader)"
                                },
                                {
                                    "0": "René Descartes, Donald A. Cress",
                                    "1": "Meditations on First Philosophy"
                                },
                                {
                                    "0": "CLAMP, Maria Simpson",
                                    "1": "Cardcaptor Sakura, Vol. 1 (Cardcaptor Sakura, #1)"
                                },
                                {
                                    "0": "Jeffery Hudson, Michael Crichton",
                                    "1": "A Case of Need"
                                },
                                {
                                    "0": "P.C. Cast, Kristin Cast",
                                    "1": "Revealed (House of Night, #11)"
                                },
                                {
                                    "0": "Anton Chekhov, Michael Frayn",
                                    "1": "The Seagull"
                                },
                                {
                                    "0": "Haruki Murakami, 村上 春樹",
                                    "1": "1Q84 BOOK 3 (1Q84, #3)"
                                },
                                {
                                    "0": "J.D. Robb, Susan Ericksen",
                                    "1": "New York to Dallas (In Death, #33)"
                                },
                                {
                                    "0": "Raymond E. Feist, Janny Wurts",
                                    "1": "Mistress of the Empire (The Empire Trilogy, #3)"
                                },
                                {
                                    "0": "Carolyn Keene, Mildred Benson",
                                    "1": "The Hidden Staircase (Nancy Drew #2)"
                                },
                                {
                                    "0": "Stephen Briggs, Terry Pratchett",
                                    "1": "Interesting Times: The Play"
                                },
                                {
                                    "0": "Joseph Conrad, A. Michael Matin",
                                    "1": "Heart of Darkness and Selected Short Fiction"
                                },
                                {
                                    "0": "Bertrand Russell, Paul  Edwards",
                                    "1": "Why I Am Not a Christian and Other Essays on Religion and Related Subjects"
                                },
                                {
                                    "0": "Heinrich Böll, محمد اسماعیل‌زاده",
                                    "1": "عقاید یک دلقک"
                                },
                                {
                                    "0": "Anonymous, Richard Wilhelm, Cary F. Baynes, C.G. Jung",
                                    "1": "The I Ching or Book of Changes"
                                },
                                {
                                    "0": "Scott Snyder, Stephen King, Rafael Albuquerque",
                                    "1": "American Vampire, Vol. 1"
                                },
                                {
                                    "0": "Alexis de Tocqueville, Isaac Kramnick, Gerald Bevan",
                                    "1": "Democracy in America "
                                },
                                {
                                    "0": "Chris Ryall, Gabriel Rodríguez, Clive Barker",
                                    "1": "The Complete Clive Barker's The Great And Secret Show"
                                },
                                {
                                    "0": "Brian Herbert, Kevin J. Anderson",
                                    "1": "House Atreides (Prelude to Dune #1)"
                                },
                                {
                                    "0": "Franz Kafka, بهرام مقدادی",
                                    "1": "Amerika"
                                },
                                {
                                    "0": "Steve Niles, Ben Templesmith",
                                    "1": "30 Days of Night, Vol. 1"
                                },
                                {
                                    "0": "يوسف زيدان, Youssef Ziedan",
                                    "1": "النبطي"
                                },
                                {
                                    "0": "Umberto Eco, Richard Dixon",
                                    "1": "The Prague Cemetery"
                                },
                                {
                                    "0": "Christopher Hitchens, Titus Lucretius Carus, Omar Khayyám, Thomas Hobbes, Baruch Spinoza, David Hume, James Boswell, Percy Bysshe Shelley, George Eliot, Charles Darwin, Leslie Stephen, Anatole France, Mark Twain, Joseph Conrad, Thomas Hardy, Emma Goldman, H.P. Lovecraft, Carl Van Doren, H.L. Mencken, Sigmund Freud, Albert Einstein, George Orwell, John Betjeman, Chapman Cohen, Bertrand Russell, Philip Larkin, Martin Gardner, Carl Sagan, John Updike, John Leslie Mackie, Michael Shermer, A.J. Ayer, Daniel C. Dennett, Charles Templeton, Richard Dawkins, Victor J. Stenger, Elizabeth S.  Anderson, Penn Jillette, Ian McEwan, Steven Weinberg, Salman Rushdie, Ibn Warraq, Sam Harris, A.C. Grayling, Ayaan Hirsi Ali, John Stuart Mill, Karl Marx",
                                    "1": "The Portable Atheist: Essential Readings for the Nonbeliever"
                                },
                                {
                                    "0": "John Stuart Mill, George Sher",
                                    "1": "Utilitarianism"
                                },
                                {
                                    "0": "Bill O'Reilly, Martin Dugard",
                                    "1": "Killing Patton: The Strange Death of World War II's Most Audacious General"
                                },
                                {
                                    "0": "Keigo Higashino, Alexander O. Smith",
                                    "1": "The Devotion of Suspect X"
                                },
                                {
                                    "0": "James Patterson, Michael Ledwidge",
                                    "1": "Worst Case (Michael Bennett, #3)"
                                },
                                {
                                    "0": "Brian K. Vaughan, Niko Henrichon",
                                    "1": "Pride of Baghdad"
                                },
                                {
                                    "0": "Jane Werner Watson, Corinne Malvern",
                                    "1": "Frosty the Snow Man"
                                },
                                {
                                    "0": "Colin Meloy, Carson Ellis",
                                    "1": "Wildwood (Wildwood Chronicles, #1)"
                                },
                                {
                                    "0": "Margaret Weis, Tracy Hickman",
                                    "1": "Serpent Mage (The Death Gate Cycle, #4)"
                                },
                                {
                                    "0": "Natsumi Ando, Miyuki Kobayashi",
                                    "1": "Kitchen Princess, Vol. 01 (Kitchen Princess, #1)"
                                },
                                {
                                    "0": "James Patterson, Mark T. Sullivan",
                                    "1": "Private Games (Private #3)"
                                },
                                {
                                    "0": "Victoria Kann, Elizabeth Kann",
                                    "1": "Pinkalicious"
                                },
                                {
                                    "0": "Pablo Neruda, Ilan Stavans",
                                    "1": "The Poetry of Pablo Neruda"
                                },
                                {
                                    "0": "Jane Austen, Robert William Chapman",
                                    "1": "Lady Susan"
                                },
                                {
                                    "0": "Julee Rosso, Sheila Lukins, Michael McLaughlin",
                                    "1": "The Silver Palate Cookbook"
                                },
                                {
                                    "0": "Michelle Paver, Geoff Taylor",
                                    "1": "Wolf Brother (Chronicles of Ancient Darkness, #1)"
                                },
                                {
                                    "0": "Tsugumi Ohba, Takeshi Obata, Diana Hammermeister",
                                    "1": "Bakuman, Band 1: Traum und Realität"
                                },
                                {
                                    "0": "Friedrich Nietzsche, H.L. Mencken",
                                    "1": "The Anti-Christ"
                                },
                                {
                                    "0": "K.R. Dwyer, Dean Koontz",
                                    "1": "Shattered"
                                },
                                {
                                    "0": "Kyung-Sook Shin, 신경숙, Chi-Young Kim",
                                    "1": "Please Look After Mom"
                                },
                                {
                                    "0": "Brian Michael Bendis, Olivier Coipel, Tim Townsend, Rick Magyar, John Dell, Scott Hanna, Frank D'Armata, Chris Eliopoulos, James Taveras, Omar Otieku, Tom Valente, Esad Ribic",
                                    "1": "House of M"
                                },
                                {
                                    "0": "Booker T. Washington, Ishmael Reed",
                                    "1": "Up from Slavery"
                                },
                                {
                                    "0": "René Goscinny, Albert Uderzo, Anthea Bell, Derek Hockridge",
                                    "1": "Asterix the Gaul (Asterix, #1)"
                                },
                                {
                                    "0": "Dave Barry, Ridley Pearson, Greg Call",
                                    "1": "Peter and the Secret of Rundoon (Peter and the Starcatchers, #3)"
                                },
                                {
                                    "0": "Yoko Kamio, 神尾葉子",
                                    "1": "Boys Over Flowers: Hana Yori Dango, Vol. 1 (Boys Over Flowers, #1)"
                                },
                                {
                                    "0": "Tomoko Hayakawa, David Ury",
                                    "1": "The Wallflower, Vol. 1 (The Wallflower, #1)"
                                },
                                {
                                    "0": "Robert Kirkman, Jay Bonansinga",
                                    "1": "Rise of the Governor (The Walking Dead #1)"
                                },
                                {
                                    "0": "Ilya Ilf, Eugene Petrov, Maurice Friedberg, John H.C. Richardson",
                                    "1": "The Twelve Chairs"
                                },
                                {
                                    "0": "Jack Canfield, Mark Victor Hansen, Kimberly Kirberger",
                                    "1": "Chicken Soup for the Teenage Soul: 101 Stories of Life, Love and Learning (Chicken Soup for the Soul)"
                                },
                                {
                                    "0": "The Beatles, Paul McCartney, Ringo Starr, John Lennon, George Harrison",
                                    "1": "The Beatles Anthology"
                                },
                                {
                                    "0": "Christopher  Ryan, Cacilda Jethá",
                                    "1": "Sex at Dawn: The Prehistoric Origins of Modern Sexuality"
                                },
                                {
                                    "0": "Annette Pollert, L.J. Smith",
                                    "1": "Night World: The Ultimate Fan Guide"
                                },
                                {
                                    "0": "Margaret Weis, Tracy Hickman",
                                    "1": "Dragonlance Chronicles (Dragonlance #1-3)"
                                },
                                {
                                    "0": "Bill Willingham, Mark Buckingham, David Hahn, Steve Leialoha",
                                    "1": "Fables, Vol. 6: Homelands"
                                },
                                {
                                    "0": "Matt Fraction, Chip Zdarsky",
                                    "1": "Sex Criminals, Vol. 1: One Weird Trick"
                                },
                                {
                                    "0": "Tim LaHaye, Jerry B. Jenkins",
                                    "1": "The Rising: Antichrist is Born  (Before They Were Left Behind, #1)"
                                },
                                {
                                    "0": "Byron Katie, Stephen Mitchell",
                                    "1": "Loving What Is: Four Questions That Can Change Your Life"
                                },
                                {
                                    "0": "Sid Fleischman, Peter Sís",
                                    "1": "The Whipping Boy"
                                },
                                {
                                    "0": "J.K. Rowling, MinaLima",
                                    "1": "Short Stories from Hogwarts of Heroism, Hardship and Dangerous Hobbies (Pottermore Presents, #1)"
                                },
                                {
                                    "0": "George Bernard Shaw, John A. Bertolini",
                                    "1": "Pygmalion and Three Other Plays"
                                },
                                {
                                    "0": "Brian Herbert, Kevin J. Anderson",
                                    "1": "The Butlerian Jihad (Legends of Dune, #1)"
                                },
                                {
                                    "0": "William Blake, David V. Erdman, Harold Bloom",
                                    "1": "The Complete Poetry and Prose"
                                },
                                {
                                    "0": "Tsugumi Ohba, Takeshi Obata",
                                    "1": "Death Note, Vol. 2: Confluence (Death Note, #2)"
                                },
                                {
                                    "0": "Katsuhiro Otomo, Yoko Umezawa, Linda M. York, Jo Duffy",
                                    "1": "Akira, Vol. 1"
                                },
                                {
                                    "0": "Tachibana Higuchi, 樋口 橘",
                                    "1": "Gakuen Alice, Vol. 01 (Gakuen Alice, #1)"
                                },
                                {
                                    "0": "Robert Louis Stevenson, Jenny Davidson",
                                    "1": "The Strange Case of Dr. Jekyll and Mr. Hyde and Other Stories "
                                },
                                {
                                    "0": "Gerard Way, Gabriel Bá, Dave Stewart, Nate Piekos, Tony Ong",
                                    "1": "The Umbrella Academy, Vol. 1: The Apocalypse Suite"
                                },
                                {
                                    "0": "G. Willow Wilson, Adrian Alphona, Jacob Wyatt",
                                    "1": "Ms. Marvel, Vol. 2: Generation Why"
                                },
                                {
                                    "0": "Jenny Han, Siobhan Vivian",
                                    "1": "Burn for Burn (Burn for Burn, #1)"
                                },
                                {
                                    "0": "Petra Durst-Benning, Samuel Willcocks",
                                    "1": "The Glassblower"
                                },
                                {
                                    "0": "Jim Kjelgaard, Carl Pfeuffer",
                                    "1": "Big Red (Big Red, #1)"
                                },
                                {
                                    "0": "Alan Moore, Stephen R. Bissette, John Totleben, Rick Veitch, Ramsey Campbell",
                                    "1": "Swamp Thing, Vol. 1: Saga of the Swamp Thing"
                                },
                                {
                                    "0": "Henning Mankell, Laurie Thompson",
                                    "1": "The Dogs of Riga (Kurt Wallander, #2)"
                                },
                                {
                                    "0": "Thomas à Kempis, William Benham",
                                    "1": "The Imitation of Christ"
                                },
                                {
                                    "0": "Brian K. Vaughan, Fiona Staples",
                                    "1": "Saga, Vol. 6 (Saga, #6)"
                                },
                                {
                                    "0": "Chris Colfer, Brandon Dorman",
                                    "1": "The Enchantress Returns (The Land of Stories, #2)"
                                },
                                {
                                    "0": "Joseph Delaney, Patrick  Arrasmith",
                                    "1": "Attack of the Fiend (The Last Apprentice / Wardstone Chronicles, #4)"
                                },
                                {
                                    "0": "Sam Smith, Doug Grud",
                                    "1": "The Jordan Rules"
                                },
                                {
                                    "0": "Roy F. Baumeister, John Tierney",
                                    "1": "Willpower: Rediscovering the Greatest Human Strength"
                                },
                                {
                                    "0": "Ford Madox Ford, Kenneth Womack, William Baker",
                                    "1": "The Good Soldier"
                                },
                                {
                                    "0": "Margaret Weis, Tracy Hickman",
                                    "1": "Into the Labyrinth (The Death Gate Cycle, #6)"
                                },
                                {
                                    "0": "Stan Berenstain, Jan Berenstain",
                                    "1": "The Berenstain Bears' Trouble at School"
                                },
                                {
                                    "0": "Robin Furth, Stephen King, Peter Straub, Tony Shasteen, Nei Ruffino",
                                    "1": "The Talisman (Volume 1): The Road of Trials"
                                },
                                {
                                    "0": "Alan Moore, Kevin O'Neill",
                                    "1": "The League of Extraordinary Gentlemen, Vol. 2"
                                },
                                {
                                    "0": "Natsuo Kirino, Stephen Snyder",
                                    "1": "Out"
                                },
                                {
                                    "0": "Philippa Pearce, Susan Einzig",
                                    "1": "Tom's Midnight Garden"
                                },
                                {
                                    "0": "Cassandra Clare, Sarah Rees Brennan",
                                    "1": "What Really Happened in Peru (The Bane Chronicles, #1)"
                                },
                                {
                                    "0": "David  Perlmutter, Kristin Loberg",
                                    "1": "Grain Brain: The Surprising Truth about Wheat, Carbs,  and Sugar--Your Brain's Silent Killers"
                                },
                                {
                                    "0": "Daron Acemoğlu, James A. Robinson",
                                    "1": "Why Nations Fail: The Origins of Power, Prosperity, and Poverty"
                                },
                                {
                                    "0": "Isabel Allende, Margaret Sayers Peden",
                                    "1": "Zorro"
                                },
                                {
                                    "0": "Garth Ennis, Steve Dillon",
                                    "1": "Preacher, Volume 5: Dixie Fried"
                                },
                                {
                                    "0": "D.H. Lawrence, Daphne Merkin",
                                    "1": "The Rainbow"
                                },
                                {
                                    "0": "Garth Ennis, Steve Dillon, Steve Pugh, Matt Hollingsworth, Carlos Ezquerra, Richard Case",
                                    "1": "Preacher, Volume 4: Ancient History"
                                },
                                {
                                    "0": "Paul Hattaway, Brother Yun",
                                    "1": "The Heavenly Man: The Remarkable True Story of Chinese Christian Brother Yun"
                                },
                                {
                                    "0": "Saul Bellow, Philip Roth",
                                    "1": "Herzog"
                                },
                                {
                                    "0": "Alaa Al Aswany, علاء الأسواني",
                                    "1": "The Yacoubian Building"
                                },
                                {
                                    "0": "Martha Stewart, Victor Schrager",
                                    "1": "Martha Stewart's Cookies: The Very Best Treats to Bake and to Share"
                                },
                                {
                                    "0": "Reginald Rose, David Mamet",
                                    "1": "Twelve Angry Men"
                                },
                                {
                                    "0": "Neil Gaiman, Andy Kubert, Matt Wagner, Simon Bisley, Bernie Mireault, Mark Buckingham",
                                    "1": "Batman: Whatever Happened to the Caped Crusader?"
                                },
                                {
                                    "0": "Joe Hill, Gabriel Rodríguez",
                                    "1": "Locke & Key, Vol. 5: Clockworks"
                                },
                                {
                                    "0": "QuinRose, Soumei Hoshino",
                                    "1": "Alice in the Country of Hearts, Vol. 01 (Alice in the Country of Hearts, #1)"
                                },
                                {
                                    "0": "Lin-Manuel Miranda, Jeremy McCarter",
                                    "1": "Hamilton: The Revolution"
                                },
                                {
                                    "0": "Gregory Maguire, Douglas Smith",
                                    "1": "Out of Oz (The Wicked Years, #4)"
                                },
                                {
                                    "0": "O. Henry, Victoria Blake",
                                    "1": "Selected Stories"
                                },
                                {
                                    "0": "Janet Briggs, Beth Wittlinger",
                                    "1": "The Taste of Home Cookbook"
                                },
                                {
                                    "0": "Truddi Chase, Robert A. Phillips Jr.",
                                    "1": "When Rabbit Howls"
                                },
                                {
                                    "0": "Kevin D. Mitnick, William L. Simon, Steve Wozniak",
                                    "1": "Ghost in the Wires: My Adventures as the World's Most Wanted Hacker"
                                },
                                {
                                    "0": "Douglas Preston, Lincoln Child",
                                    "1": "Cemetery Dance (Pendergast, #9)"
                                },
                                {
                                    "0": "Umberto Eco, William Weaver, R.C.S. Libri",
                                    "1": "Baudolino"
                                },
                                {
                                    "0": "James Patterson, Maxine Paetro",
                                    "1": "15th Affair (Women's Murder Club #15)"
                                },
                                {
                                    "0": "Helen Marion Palmer, P.D. Eastman",
                                    "1": "A Fish Out of Water"
                                },
                                {
                                    "0": "Joe Hill, Gabriel Rodríguez",
                                    "1": "Locke & Key, Vol. 4: Keys to the Kingdom"
                                },
                                {
                                    "0": "James Patterson, Andrew Gross",
                                    "1": "The Jester"
                                },
                                {
                                    "0": "Cory Doctorow, Jen Wang",
                                    "1": "In Real Life"
                                },
                                {
                                    "0": "Lili St. Crow, Lilith Saintcrow",
                                    "1": "Jealousy (Strange Angels, #3)"
                                },
                                {
                                    "0": "Ben Avery, Mike S. Miller, George R.R. Martin",
                                    "1": "The Hedge Knight (The Hedge Knight Graphic Novels, #1)"
                                },
                                {
                                    "0": "Jerome Lawrence, Robert E.  Lee",
                                    "1": "Inherit the Wind"
                                },
                                {
                                    "0": "Pseudonymous Bosch, Gilbert Ford",
                                    "1": "This Book Is Not Good for You (Secret, #3)"
                                },
                                {
                                    "0": "J.D. Robb, Nora Roberts",
                                    "1": "Judgment in Death (In Death, #11)"
                                },
                                {
                                    "0": "J.J. Abrams, Doug Dorst",
                                    "1": "S."
                                },
                                {
                                    "0": "Omar Khayyám, محمدعلی فروغی, قاسم غنی",
                                    "1": "رباعيات خيام"
                                },
                                {
                                    "0": "Brian K. Vaughan, Adrian Alphona",
                                    "1": "Runaways, Vol. 1: Pride and Joy (Runaways, #1)"
                                },
                                {
                                    "0": "Melissa Müller, Rita Kimber, Robert Kimber",
                                    "1": "Anne Frank : The Biography"
                                },
                                {
                                    "0": "Henning Mankell, Steven T. Murray",
                                    "1": "Sidetracked (Kurt Wallander, #5)"
                                },
                                {
                                    "0": "Stephanie Dray, Laura Kamoie",
                                    "1": "America's First Daughter"
                                },
                                {
                                    "0": "Mike Carey, Bill Willingham, Peter Gross",
                                    "1": "The Unwritten, Vol. 1: Tommy Taylor and the Bogus Identity"
                                },
                                {
                                    "0": "Michel Foucault, Robert Hurley",
                                    "1": "The History of Sexuality, Volume 1: An Introduction"
                                },
                                {
                                    "0": "Tim LaHaye, Jerry B. Jenkins",
                                    "1": "Armageddon: The Cosmic Battle of the Ages (Left Behind, #11)"
                                },
                                {
                                    "0": "Steven Naifeh, Gregory White Smith",
                                    "1": "Van Gogh: The Life"
                                },
                                {
                                    "0": "Elizabeth Ross, ROFry",
                                    "1": "The Three Little Pigs"
                                },
                                {
                                    "0": "Alexandre Dumas, David Coward, Auguste Maquet",
                                    "1": "Twenty Years After (The D'Artagnan Romances, #2)"
                                },
                                {
                                    "0": "Margaret Weis, Tracy Hickman",
                                    "1": "The Seventh Gate (The Death Gate Cycle, #7)"
                                },
                                {
                                    "0": "Trinka Hakes Noble, Steven Kellogg",
                                    "1": "The Day Jimmy's Boa Ate the Wash"
                                },
                                {
                                    "0": "Douglas Preston, Lincoln Child",
                                    "1": "White Fire (Pendergast, #13)"
                                },
                                {
                                    "0": "Christiane F., Kai Hermann, Horst Rieck",
                                    "1": "Wir Kinder vom Bahnhof Zoo"
                                },
                                {
                                    "0": "John             Lewis, Andrew Aydin, Nate Powell",
                                    "1": "March: Book One (March, #1)"
                                },
                                {
                                    "0": "Flannery O'Connor, Robert Fitzgerald",
                                    "1": "Everything That Rises Must Converge: Stories"
                                },
                                {
                                    "0": "R.K. Narayan, Jhumpa Lahiri",
                                    "1": "Malgudi Days"
                                },
                                {
                                    "0": "Oliver Pötzsch, Lee Chadeayne",
                                    "1": "The Dark Monk (The Hangman's Daughter, #2)"
                                },
                                {
                                    "0": "Jeff Hertzberg, Zoë François, Mark Luinenburg",
                                    "1": "Artisan Bread in Five Minutes a Day: The Discovery That Revolutionizes Home Baking"
                                },
                                {
                                    "0": "John Locke, C.B. Macpherson",
                                    "1": "Second Treatise of Government"
                                },
                                {
                                    "0": "Martin Luther King Jr., Clayborne Carson",
                                    "1": "The Autobiography of Martin Luther King, Jr."
                                },
                                {
                                    "0": "Mineko Iwasaki, Rande Brown",
                                    "1": "Geisha, a Life"
                                },
                                {
                                    "0": "Sergei Lukyanenko, Andrew Bromfield",
                                    "1": "Day Watch (Watch #2)"
                                },
                                {
                                    "0": "Scott Snyder, Greg Capullo, Jonathan Glapion, James Tynion IV, Rafael Albuquerque, Jason Fabok, Becky Cloonan, Andy Clarke, Sandu Florea",
                                    "1": "Batman, Volume 2: The City of Owls"
                                },
                                {
                                    "0": "Howard E. Wasdin, Stephen Templin",
                                    "1": "SEAL Team Six: Memoirs of an Elite Navy SEAL Sniper"
                                },
                                {
                                    "0": "Plato, G.M.A. Grube, John M. Cooper",
                                    "1": "Five Dialogues: Euthyphro, Apology, Crito, Meno, Phaedo"
                                },
                                {
                                    "0": "Irin Carmon, Shana Knizhnik",
                                    "1": "Notorious RBG: The Life and Times of Ruth Bader Ginsburg"
                                },
                                {
                                    "0": "Janet Evanovich, Lee Goldberg",
                                    "1": "The Chase (Fox and O'Hare, #2)"
                                },
                                {
                                    "0": "Jostein Gaarder, James Anderson",
                                    "1": "The Orange Girl"
                                },
                                {
                                    "0": "Leigh Nichols, Dean Koontz",
                                    "1": "The House of Thunder"
                                },
                                {
                                    "0": "J.D. Robb, Susan Ericksen",
                                    "1": "Witness in Death (In Death, #10)"
                                },
                                {
                                    "0": "Gene Luen Yang, Michael Dante DiMartino, Bryan Konietzko, Gurihiru",
                                    "1": "Avatar: The Last Airbender (The Rift, #1)"
                                },
                                {
                                    "0": "J. Michael Straczynski, Shane Davis, Sandra Hope, Barbara Ciardo, Rob Leigh",
                                    "1": "Superman: Earth One, Volume 1"
                                },
                                {
                                    "0": "John Foxe, W. Grinton Berry",
                                    "1": "Foxe's Book of Martyrs"
                                },
                                {
                                    "0": "Simon Kuper, Stefan Szymanski",
                                    "1": "Soccernomics: Why England Loses, Why Germany and Brazil Win, and Why the U.S., Japan, Australia, Turkey--and Even Iraq--Are Destined to Become the Kings of the World's Most Popular Sport"
                                },
                                {
                                    "0": "Betty Friedan, Anna Quindlen",
                                    "1": "The Feminine Mystique"
                                },
                                {
                                    "0": "Graham Greene, J.M. Coetzee",
                                    "1": "Brighton Rock"
                                },
                                {
                                    "0": "Greg Mortenson, Khaled Hosseini",
                                    "1": "Stones Into Schools: Promoting Peace With Books, Not Bombs, in Afghanistan and Pakistan"
                                },
                                {
                                    "0": "James Patterson, Maxine Paetro",
                                    "1": "Private #1 Suspect (Private, #2)"
                                },
                                {
                                    "0": "Robert Kirkman, Charlie Adlard, Cliff Rathburn",
                                    "1": "The Walking Dead, Vol. 07: The Calm Before"
                                },
                                {
                                    "0": "Garth Ennis, Steve Dillon, John McCrea",
                                    "1": "Preacher, Volume 8: All Hell's a-Coming"
                                },
                                {
                                    "0": "Stephen King, Michael Whelan",
                                    "1": "The Little Sisters of Eluria (The Dark Tower, #0.5)"
                                },
                                {
                                    "0": "Stan Berenstain, Jan Berenstain",
                                    "1": "Inside, Outside, Upside Down (Berenstain Bears Bright and Early Board Book)"
                                },
                                {
                                    "0": "Milan Kundera, Linda Asher",
                                    "1": "Ignorance"
                                },
                                {
                                    "0": "William Gibson, Bruce Sterling",
                                    "1": "The Difference Engine "
                                },
                                {
                                    "0": "Garth Ennis, Steve Dillon",
                                    "1": "Preacher, Volume 7: Salvation"
                                },
                                {
                                    "0": "Clayton M. Christensen, James Allworth, Karen Dillon",
                                    "1": "How Will You Measure Your Life?"
                                },
                                {
                                    "0": "Astrid Lindgren, Ilon Wikland, Jill M. Morgan",
                                    "1": "The Brothers Lionheart"
                                },
                                {
                                    "0": "J.D. Robb, Susan Ericksen",
                                    "1": "Loyalty in Death (In Death, #9)"
                                },
                                {
                                    "0": "Alaa Al Aswany, علاء الأسواني",
                                    "1": "نادي السيارات"
                                },
                                {
                                    "0": "Jacqueline Wilson, Nick Sharratt",
                                    "1": "The Story of Tracy Beaker"
                                },
                                {
                                    "0": "Leigh Nichols, Dean Koontz",
                                    "1": "The Servants of Twilight"
                                },
                                {
                                    "0": "Jack London, Andrew Sinclair",
                                    "1": "Martin Eden"
                                },
                                {
                                    "0": "Brian Azzarello, Cliff Chiang, Tony Akins, Dan Green, Matthew Wilson, Jared K. Fletcher",
                                    "1": "Wonder Woman, Volume 1: Blood"
                                },
                                {
                                    "0": "William Shakespeare, David Scott Kastan",
                                    "1": "King Henry IV, Part 1 (Wars of the Roses, #2)"
                                },
                                {
                                    "0": "Jinsei Kataoka, Kazuma Kondou",
                                    "1": "Deadman Wonderland, Volume 1 (Deadman Wonderland, #1)"
                                },
                                {
                                    "0": "David Axton, Dean Koontz",
                                    "1": "Icebound"
                                },
                                {
                                    "0": "Caralyn Buehner, Mark Buehner",
                                    "1": "Snowmen at Night"
                                },
                                {
                                    "0": "Thomas Paine, Sidney Hook, Jack Fruchtman Jr.",
                                    "1": "Common Sense, The Rights of Man and Other Essential Writings"
                                },
                                {
                                    "0": "Cassandra Clare, Sarah Rees Brennan",
                                    "1": "Welcome to Shadowhunter Academy (Tales from the Shadowhunter Academy, #1)"
                                },
                                {
                                    "0": "Roald Dahl, Quentin Blake",
                                    "1": "Going Solo"
                                },
                                {
                                    "0": "Sara Pennypacker, Marla Frazee",
                                    "1": "Clementine (Clementine, #1)"
                                },
                                {
                                    "0": "T.S. Eliot, Edward Gorey",
                                    "1": "Old Possum's Book of Practical Cats"
                                },
                                {
                                    "0": "Henning Mankell, Laurie Thompson",
                                    "1": "The Man Who Smiled (Kurt Wallander, #4)"
                                },
                                {
                                    "0": "أحلام مستغانمي, Ahlam Mosteghanemi",
                                    "1": "عابر سرير"
                                },
                                {
                                    "0": "George C. Perry, Clive Barda, Jane Rice, Andrew Lloyd Webber",
                                    "1": "The Complete Phantom of the Opera"
                                },
                                {
                                    "0": "Michael Buckley, Peter Ferguson",
                                    "1": "The Unusual Suspects (The Sisters Grimm, #2)"
                                },
                                {
                                    "0": "Liu Cixin, Joel Martinsen",
                                    "1": "The Dark Forest (Remembrance of Earth’s Past, #2)"
                                },
                                {
                                    "0": "Douglas Preston, Lincoln Child",
                                    "1": "Cold Vengeance (Pendergast, #11)"
                                },
                                {
                                    "0": "Leigh Nichols, Dean Koontz",
                                    "1": "The Eyes of Darkness"
                                },
                                {
                                    "0": "J.D. Robb, Nora Roberts",
                                    "1": "Treachery in Death (In Death, #32)"
                                },
                                {
                                    "0": "Saul Bellow, Christopher Hitchens",
                                    "1": "The Adventures of Augie March"
                                },
                                {
                                    "0": "James Patterson, Chris Tebbetts, Laura Park",
                                    "1": "Middle School: The Worst Years of My Life (Midde School, #1)"
                                },
                                {
                                    "0": "Hans Fallada, Michael Hofmann, Geoff Wilkes",
                                    "1": "Every Man Dies Alone"
                                },
                                {
                                    "0": "J.D. Robb, Nora Roberts",
                                    "1": "Betrayal in Death (In Death, #12)"
                                },
                                {
                                    "0": "C.G. Jung, Joseph L. Henderson, Aniela Jaffé, Jolande Jacobi, John Freeman, Marie-Louise von Franz",
                                    "1": "Man and His Symbols"
                                },
                                {
                                    "0": "Lisa Kleypas, Rosalyn Landor",
                                    "1": "Tempt Me at Twilight (The Hathaways, #3)"
                                },
                                {
                                    "0": "Douglas Preston, Lincoln Child",
                                    "1": "The Ice Limit (Ice Limit #1)"
                                },
                                {
                                    "0": "Vladimir Nabokov, David Lodge",
                                    "1": "Pnin"
                                },
                                {
                                    "0": "Eiji Yoshikawa, Charles Terry, Edwin O. Reischauer",
                                    "1": "Musashi"
                                },
                                {
                                    "0": "Arnaldur Indriðason, Bernard Scudder",
                                    "1": "Jar City (Inspector Erlendur, #3)"
                                },
                                {
                                    "0": "Jim Cymbala, Dean Merrill",
                                    "1": "Fresh Wind, Fresh Fire: What Happens When God's Spirit Invades the Heart of His People"
                                },
                                {
                                    "0": "James Patterson, Howard Roughan",
                                    "1": "Second Honeymoon (Honeymoon, #2)"
                                },
                                {
                                    "0": "Douglas Adams, Mark Carwardine",
                                    "1": "Last Chance to See"
                                },
                                {
                                    "0": "Jean-Paul Sartre, Arlette Elkaïm-Sartre, Annie Cohen-Solal, Carol Macomber",
                                    "1": "Existentialism Is a Humanism"
                                },
                                {
                                    "0": "Hans Christian Andersen, Rachel Isadora",
                                    "1": "The Little Match Girl"
                                },
                                {
                                    "0": "Tsugumi Ohba, Takeshi Obata",
                                    "1": "Death Note, Vol. 3: Hard Run (Death Note, #3)"
                                },
                                {
                                    "0": "Adele Faber, Elaine Mazlish, Kimberly Ann Coe",
                                    "1": "How to Talk So Kids Will Listen & Listen So Kids Will Talk"
                                },
                                {
                                    "0": "Joseph Stein, Jerry Bock, Sheldon Harnick",
                                    "1": "Fiddler on the Roof"
                                },
                                {
                                    "0": "Janet Evanovich, Charlotte Hughes",
                                    "1": "Full House (Full #1)"
                                },
                                {
                                    "0": "Kahlil Gibran, Anthony R. Ferris",
                                    "1": "The Broken Wings"
                                },
                                {
                                    "0": "Douglas Preston, Lincoln Child",
                                    "1": "Two Graves (Pendergast, #12)"
                                },
                                {
                                    "0": "Nujood Ali, Delphine Minoui, Linda Coverdale",
                                    "1": "I Am Nujood, Age 10 and Divorced"
                                },
                                {
                                    "0": "Robert A. Heinlein, Damon Knight",
                                    "1": "The Past Through Tomorrow (Future History, #1-21)"
                                },
                                {
                                    "0": "Dan Jurgens, Jerry Ordway, Louise Simonson, Roger Stern, Jon Bogdanove, Tom Grummett, Jackson Butch Guice, Brett Breeding, Rick Burchett, Doug Hazlewood, Dennis Janke, Denis Rodier",
                                    "1": "The Death of Superman"
                                },
                                {
                                    "0": "Margaret Weis, Tracy Hickman",
                                    "1": "Fire Sea (The Death Gate Cycle, #3)"
                                },
                                {
                                    "0": "Barbara Park, Denise Brunkus",
                                    "1": "Junie B. Jones and the  Stupid Smelly Bus (Junie B. Jones, #1)"
                                },
                                {
                                    "0": "Gabriel García Márquez, Gregory Rabassa",
                                    "1": "The Autumn of the Patriarch"
                                },
                                {
                                    "0": "Maud Hart Lovelace, Lois Lenski",
                                    "1": "Betsy-Tacy (Betsy-Tacy, #1)"
                                },
                                {
                                    "0": "يوسف زيدان, Youssef Ziedan",
                                    "1": "محال"
                                },
                                {
                                    "0": "Rudyard Kipling, Jerry Pinkney",
                                    "1": "Rikki-Tikki-Tavi"
                                },
                                {
                                    "0": "Grant Morrison, Frank Quitely",
                                    "1": "All-Star Superman, Vol. 2"
                                },
                                {
                                    "0": "George R.R. Martin, Elio M. García Jr., Linda Antonsson",
                                    "1": "The World of Ice & Fire: The Untold History of Westeros and the Game of Thrones"
                                },
                                {
                                    "0": "Nando Parrado, Vince Rause",
                                    "1": "Miracle in the Andes"
                                },
                                {
                                    "0": "Kimberly Brubaker Bradley, مرضیه ورشوساز",
                                    "1": "The War that Saved My Life (The War That Saved My Life #1)"
                                },
                                {
                                    "0": "Thomas Mann, Joachim Neugroschel",
                                    "1": "Death in Venice and Other Tales"
                                },
                                {
                                    "0": "CLAMP, Anita Sengupta",
                                    "1": "Cardcaptor Sakura: Master of the Clow, Vol. 1 (Cardcaptor Sakura, #7)"
                                },
                                {
                                    "0": "Amin Maalouf, Russell Harris",
                                    "1": "Samarkand"
                                },
                                {
                                    "0": "Arthur Miller, Christopher Bigsby",
                                    "1": "All My Sons"
                                },
                                {
                                    "0": "John Lawrence Peterson, Roberta Carter Clark",
                                    "1": "The Littles"
                                },
                                {
                                    "0": "Peggy Parish, Barbara Siebel Thomas",
                                    "1": "Amelia Bedelia and the Surprise Shower"
                                },
                                {
                                    "0": "Margaret Weis, Tracy Hickman",
                                    "1": "The Hand of Chaos (The Death Gate Cycle, #5)"
                                },
                                {
                                    "0": "William Shakespeare, Barbara A. Mowat, Paul Werstine",
                                    "1": "Measure for Measure"
                                },
                                {
                                    "0": "Owen  West, Dean Koontz",
                                    "1": "The Mask"
                                },
                                {
                                    "0": "J. Lynn, Jennifer L. Armentrout",
                                    "1": "Tempting the Best Man (Gamble Brothers, #1)"
                                },
                                {
                                    "0": "Warren Ellis, Darick Robertson",
                                    "1": "Transmetropolitan, Vol. 2: Lust for Life (Transmetropolitan, #2)"
                                },
                                {
                                    "0": "Giada De Laurentiis, Victoria Pearson",
                                    "1": "Giada's Family Dinners"
                                },
                                {
                                    "0": "Søren Kierkegaard, Alastair Hannay",
                                    "1": "Fear and Trembling"
                                },
                                {
                                    "0": "Peggy Parish, Wallace Tripp",
                                    "1": "Come Back, Amelia Bedelia"
                                },
                                {
                                    "0": "Albert Einstein, Nigel Calder, Robert W. Lawson",
                                    "1": "Relativity: The Special and the General Theory"
                                },
                                {
                                    "0": "Timothy J. Keller, Kathy  Keller",
                                    "1": "The Meaning of Marriage: Facing the Complexities of Commitment with the Wisdom of God"
                                },
                                {
                                    "0": "Grant Morrison, Frank Quitely, Philip Tan, Jonathan Glapion, Alex Sinclair",
                                    "1": "Batman & Robin: Batman Reborn"
                                },
                                {
                                    "0": "Arturo Pérez-Reverte, Margaret Jull Costa",
                                    "1": "The Flanders Panel"
                                },
                                {
                                    "0": "Janet Stevens, Hans Christian Andersen",
                                    "1": "The Princess and the Pea"
                                },
                                {
                                    "0": "F. Scott Fitzgerald, Matthew J. Bruccoli",
                                    "1": "The Short Stories"
                                },
                                {
                                    "0": "Jay Crownover, Charlotte Connan de vries",
                                    "1": "Rome (Marked Men, #3)"
                                },
                                {
                                    "0": "Laurence Sterne, Melvyn New",
                                    "1": "The Life and Opinions of Tristram Shandy, Gentleman"
                                },
                                {
                                    "0": "Giles Andreae, Guy Parker-Rees",
                                    "1": "Giraffes Can't Dance"
                                },
                                {
                                    "0": "Mia Ikumi, Reiko Yoshida",
                                    "1": "Tokyo Mew Mew, Vol. 1 (Tokyo Mew Mew, #1)"
                                },
                                {
                                    "0": "Neil Gaiman, P. Craig Russell",
                                    "1": "Coraline (Illustrated/Graphic Novel Edition)"
                                },
                                {
                                    "0": "John Locke, Peter Laslett, Raymond Geuss",
                                    "1": "Two Treatises of Government"
                                },
                                {
                                    "0": "Pablo Neruda, Stephen Tapscott",
                                    "1": "100 Love Sonnets"
                                },
                                {
                                    "0": "J.K. Rowling, MinaLima",
                                    "1": "Short Stories from Hogwarts of Power, Politics and Pesky Poltergeists (Pottermore Presents, #2)"
                                },
                                {
                                    "0": "Georg Wilhelm Friedrich Hegel, A.V. Miller, John Niemeyer Findlay",
                                    "1": "Phenomenology of Spirit"
                                },
                                {
                                    "0": "Jim Butcher, Mark Powers, Ardian Syaf",
                                    "1": "The Dresden Files:  Storm Front, Volume 1-  The Gathering Storm"
                                },
                                {
                                    "0": "Brian Jacques, Allan Curless",
                                    "1": "The Long Patrol (Redwall, #10)"
                                },
                                {
                                    "0": "A.A. Milne, Ernest H. Shepard",
                                    "1": "When We Were Very Young (Winnie-the-Pooh, #3)"
                                },
                                {
                                    "0": "Mika Waltari, ذبیح‌الله منصوری",
                                    "1": "سینوهه"
                                },
                                {
                                    "0": "Neil Gaiman, Mark Buckingham",
                                    "1": "Odd and the Frost Giants"
                                },
                                {
                                    "0": "Tayeb Salih, Denys Johnson-Davies",
                                    "1": "Season of Migration to the North"
                                },
                                {
                                    "0": "Clive Cussler, Michael Pritchard",
                                    "1": "Pacific Vortex! (Dirk Pitt, #1)"
                                },
                                {
                                    "0": "Rusty Young, Thomas McFadden",
                                    "1": "Marching Powder: A True Story of Friendship, Cocaine, and South America's Strangest Jail"
                                },
                                {
                                    "0": "Marv Wolfman, George Pérez",
                                    "1": "Crisis on Infinite Earths"
                                },
                                {
                                    "0": "Astrid Lindgren, Patricia Crampton, Trina Schart Hyman",
                                    "1": "Ronia, the Robber's Daughter"
                                },
                                {
                                    "0": "Jo Nesbø, Neil Smith",
                                    "1": "Blood on Snow (Blood on Snow, #1)"
                                },
                                {
                                    "0": "Sarah Prineas, Antonio Javier Caparo",
                                    "1": "The Magic Thief (Magic Thief, #1)"
                                },
                                {
                                    "0": "Tom Sniegoski, Jeff Smith, Thomas E. Sniegoski, Steve Hamaker",
                                    "1": "Bone: Quest for the Spark, Vol. 1"
                                },
                                {
                                    "0": "Mary Beth Chapman, Steven Curtis Chapman",
                                    "1": "Choosing to SEE"
                                },
                                {
                                    "0": "Sylvia Plath, Karen V. Kukil",
                                    "1": "The Unabridged Journals of Sylvia Plath"
                                },
                                {
                                    "0": "Lili St. Crow, Lilith Saintcrow",
                                    "1": "Defiance (Strange Angels, #4)"
                                },
                                {
                                    "0": "Jeph Loeb, Jim Lee, Scott Williams",
                                    "1": "Batman: Hush, Vol. 2"
                                },
                                {
                                    "0": "P.C. Cast, Kristin Cast",
                                    "1": "Dragon's Oath (House of Night Novellas, #1)"
                                },
                                {
                                    "0": "Edith Wharton, Mary Gordon",
                                    "1": "Ethan Frome and Other Short Fiction"
                                },
                                {
                                    "0": "Friedrich Nietzsche, Walter Kaufmann, R.J. Hollingdale",
                                    "1": "On the Genealogy of Morals/Ecce Homo"
                                },
                                {
                                    "0": "Howard Schultz, Joanne Gordon",
                                    "1": "Onward: How Starbucks Fought for Its Life without Losing Its Soul"
                                },
                                {
                                    "0": "J.D. Robb, Susan Ericksen",
                                    "1": "Born in Death (In Death, #23)"
                                },
                                {
                                    "0": "Durjoy Datta, Maanvi Ahuja",
                                    "1": "Of Course I Love You...! Till I Find Someone Better..."
                                },
                                {
                                    "0": "José Mauro de Vasconcelos, قاسم صنعوی",
                                    "1": "درخت زیبای من"
                                },
                                {
                                    "0": "Morgan Rhodes, Michelle Rowen",
                                    "1": "Rebel Spring (Falling Kingdoms, #2)"
                                },
                                {
                                    "0": "James Patterson, Marshall Karp",
                                    "1": "NYPD Red 2 (NYPD Red, #2)"
                                },
                                {
                                    "0": "Michael Rosen, Jane Ray",
                                    "1": "Shakespeare's Romeo and Juliet"
                                },
                                {
                                    "0": "José Saramago, Margaret Jull Costa",
                                    "1": "All the Names"
                                },
                                {
                                    "0": "Karen Kingsbury, Gary Smalley",
                                    "1": "Return (Redemption, #3)"
                                },
                                {
                                    "0": "Bill Willingham, Mark Buckingham, Steve Leialoha, Tony Akins, Jimmy Palmiotti",
                                    "1": "Fables, Vol. 5: The Mean Seasons"
                                },
                                {
                                    "0": "Robert Shea, Robert Anton Wilson",
                                    "1": "The Illuminatus! Trilogy"
                                },
                                {
                                    "0": "Michael Chabon, Jay Ryan",
                                    "1": "The Final Solution"
                                },
                                {
                                    "0": "John Layman, Rob Guillory",
                                    "1": "Chew, Vol. 2: International Flavor"
                                },
                                {
                                    "0": "Dorie Greenspan, Alan    Richardson",
                                    "1": "Baking: From My Home to Yours"
                                },
                                {
                                    "0": "Aya Nakahara, Pookie Rolf",
                                    "1": "Love★Com, Vol. 1"
                                },
                                {
                                    "0": "Heidi Murkoff, Sharon Mazel, Heidi Murkoff, Arlene Eisenberg, Sandee Hathaway, Mark D. Widome",
                                    "1": "What to Expect the First Year (What to Expect)"
                                },
                                {
                                    "0": "Andrew Stanton, Walt Disney Company",
                                    "1": "Finding Nemo"
                                },
                                {
                                    "0": "Herman Parish, Lynn Sweat",
                                    "1": "Calling Doctor Amelia Bedelia"
                                },
                                {
                                    "0": "Eric Schmidt, Jonathan Rosenberg",
                                    "1": "How Google Works"
                                },
                                {
                                    "0": "A.A. Milne, Ernest H. Shepard",
                                    "1": "Now We Are Six (Winnie-the-Pooh, #4)"
                                },
                                {
                                    "0": "José Maria de Eça de Queirós, Ester de Lemos",
                                    "1": "Os Maias"
                                },
                                {
                                    "0": "Tim Hamilton, Ray Bradbury",
                                    "1": "Fahrenheit 451: The Authorized Adaptation"
                                },
                                {
                                    "0": "Hiroshi Sakurazaka, 桜坂洋, Alexander O. Smith, Joseph Reeder",
                                    "1": "All You Need Is Kill"
                                },
                                {
                                    "0": "James Patterson, David Ellis",
                                    "1": "Mistress"
                                },
                                {
                                    "0": "René Descartes, Donald A. Cress",
                                    "1": "Discourse on Method"
                                },
                                {
                                    "0": "Philip C. Stead, Erin E. Stead",
                                    "1": "A Sick Day for Amos McGee"
                                },
                                {
                                    "0": "Erskine Caldwell, Lewis Nordan",
                                    "1": "Tobacco Road (Brown Thrasher Books)"
                                },
                                {
                                    "0": "J. Lynn, Jennifer L. Armentrout",
                                    "1": "Stay with Me (Wait for You, #3)"
                                },
                                {
                                    "0": "Larry Bird, Earvin Johnson, Jackie MacMullan",
                                    "1": "When the Game Was Ours"
                                },
                                {
                                    "0": "Gabriel García Márquez, Edith Grossman",
                                    "1": "The General in His Labyrinth"
                                },
                                {
                                    "0": "David Foster Wallace, Michael Pietsch",
                                    "1": "The Pale King"
                                },
                                {
                                    "0": "Confucius, D.C. Lau",
                                    "1": "The Analects"
                                },
                                {
                                    "0": "Pamela Des Barres, Dave Navarro",
                                    "1": "I'm with the Band: Confessions of a Groupie"
                                },
                                {
                                    "0": "Robert Kirkman, Charlie Adlard, Cliff Rathburn",
                                    "1": "The Walking Dead, Vol. 09: Here We Remain"
                                },
                                {
                                    "0": "Giuseppe Tomasi di Lampedusa, Archibald Colquhoun",
                                    "1": "The Leopard"
                                },
                                {
                                    "0": "Paul Jenkins, Andy Kubert, Richard Isanove, Joe Quesada, Bill Jemas",
                                    "1": "Wolverine: Origin"
                                },
                                {
                                    "0": "Patricia Briggs, Eileen Wilks, Karen Chance, Sunny",
                                    "1": "On the Prowl (Alpha & Omega, #0.5)"
                                },
                                {
                                    "0": "Alisa Valdes, Alisa Valdes-Rodriguez",
                                    "1": "The Dirty Girls Social Club (Dirty Girls, #1)"
                                },
                                {
                                    "0": "Yana Toboso, Tomo Kimura",
                                    "1": "Black Butler, Vol. 2 (Black Butler, #2)"
                                },
                                {
                                    "0": "Krista Ritchie, Becca Ritchie",
                                    "1": "Addicted to You (Addicted, #1)"
                                },
                                {
                                    "0": "James Patterson, Jill Dembowski, Elijah Wood, Spencer Locke",
                                    "1": "The Fire (Witch & Wizard, #3)"
                                },
                                {
                                    "0": "Eleanor Coerr, Ronald Himler",
                                    "1": "Sadako and the Thousand Paper Cranes"
                                },
                                {
                                    "0": "Tsugumi Ohba, Takeshi Obata",
                                    "1": "Death Note, Vol. 4: Love (Death Note, #4)"
                                },
                                {
                                    "0": "Milan Kundera, Linda Asher",
                                    "1": "Slowness"
                                },
                                {
                                    "0": "Robert Kirkman, Charlie Adlard, Cliff Rathburn",
                                    "1": "The Walking Dead, Vol. 11: Fear the Hunters"
                                },
                                {
                                    "0": "Sergei Lukyanenko, Andrew Bromfield",
                                    "1": "Twilight Watch (Watch #3)"
                                },
                                {
                                    "0": "Sandra Brown, Stephen Lang",
                                    "1": "Low Pressure"
                                },
                                {
                                    "0": "Douglas Preston, Lincoln Child",
                                    "1": "Riptide"
                                },
                                {
                                    "0": "Thomas Malory, Eugène Vinaver",
                                    "1": "King Arthur and His Knights: Selected Tales"
                                },
                                {
                                    "0": "صلاح جاهين, يحيى حقي",
                                    "1": "رباعيات صلاح جاهين"
                                },
                                {
                                    "0": "Henry James, Amy Bloom, Pierre A. Walker",
                                    "1": "The Wings of the Dove"
                                },
                                {
                                    "0": "Masaru Emoto, David A. Thayne",
                                    "1": "The Hidden Messages in Water"
                                },
                                {
                                    "0": "José Saramago, Margaret Jull Costa",
                                    "1": "Seeing"
                                },
                                {
                                    "0": "Ben Carson, Cecil Murphey",
                                    "1": "Gifted Hands: The Ben Carson Story"
                                },
                                {
                                    "0": "Linda Williams, Megan Lloyd",
                                    "1": "The Little Old Lady Who Was Not Afraid of Anything"
                                },
                                {
                                    "0": "Nancy E. Shaw, Margot Apple",
                                    "1": "Sheep in a Jeep"
                                },
                                {
                                    "0": "Leo Tolstoy, Isai Kamen, Doris Lessing",
                                    "1": "The Kreutzer Sonata"
                                },
                                {
                                    "0": "Bruno Ernst, M.C. Escher, John E. Brigham",
                                    "1": "The Magic Mirror of M.C. Escher"
                                },
                                {
                                    "0": "Matsuri Hino, Tomo Kimura",
                                    "1": "Vampire Knight, Vol. 9"
                                },
                                {
                                    "0": "Robert Kirkman, Charlie Adlard",
                                    "1": "The Walking Dead, Compendium 2"
                                },
                                {
                                    "0": "Al Ries, Jack Trout",
                                    "1": "The 22 Immutable Laws of Marketing: Violate Them at Your Own Risk"
                                },
                                {
                                    "0": "Gary Keller, Jay Papasan",
                                    "1": "The One Thing: The Surprisingly Simple Truth Behind Extraordinary Results"
                                },
                                {
                                    "0": "Jacqueline Wilson, Nick Sharratt, Sue Heap",
                                    "1": "Double Act"
                                },
                                {
                                    "0": "Alisa Kwitney, Neil Gaiman",
                                    "1": "The Sandman: King of Dreams"
                                },
                                {
                                    "0": "Marc Guggenheim, Alex Maleev, Stephen King",
                                    "1": "Stephen King's N."
                                },
                                {
                                    "0": "Paul Pen, Simon Bruni",
                                    "1": "The Light of the Fireflies"
                                },
                                {
                                    "0": "Terry Pratchett, Stephen Baxter",
                                    "1": "The Long War (The Long Earth, #2)"
                                },
                                {
                                    "0": "America's Test Kitchen, Carl Tremblay, Daniel J. Van Ackere",
                                    "1": "The America's Test Kitchen Family Cookbook"
                                },
                                {
                                    "0": "William Kamkwamba, Bryan Mealer",
                                    "1": "The Boy Who Harnessed the Wind: Creating Currents of Electricity and Hope"
                                },
                                {
                                    "0": "Rob Thomas, Jennifer Graham",
                                    "1": "Mr. Kiss and Tell (Veronica Mars, #2)"
                                },
                                {
                                    "0": "Adam Makos, Larry Alexander",
                                    "1": "A Higher Call: An Incredible True Story of Combat and Chivalry in the War-Torn Skies of World War II"
                                },
                                {
                                    "0": "Neil Gaiman, Yoshitaka Amano",
                                    "1": "The Sandman: The Dream Hunters"
                                },
                                {
                                    "0": "V.S. Ramachandran, Sandra Blakeslee, Oliver Sacks",
                                    "1": "Phantoms in the Brain: Probing the Mysteries of the Human Mind"
                                },
                                {
                                    "0": "James Andrew Miller, Tom Shales",
                                    "1": "Live from New York: An Uncensored History of Saturday Night Live"
                                },
                                {
                                    "0": "James C. Collins, Morten T. Hansen",
                                    "1": "Great by Choice: Uncertainty, Chaos, and Luck--Why Some Thrive Despite Them All"
                                },
                                {
                                    "0": "Richelle Mead, Emma Vieceli, Leigh Dragoon",
                                    "1": "Vampire Academy: The Graphic Novel (Vampire Academy: The Graphic Novel, #1)"
                                },
                                {
                                    "0": "Mem Fox, Jane Dyer",
                                    "1": "Time for Bed"
                                },
                                {
                                    "0": "J.K. Rowling, Joel Holland",
                                    "1": "Very Good Lives: The Fringe Benefits of Failure and the Importance of Imagination"
                                },
                                {
                                    "0": "James Patterson, Michael Ledwidge",
                                    "1": "I, Michael Bennett (Michael Bennett, #5)"
                                },
                                {
                                    "0": "Isa Chandra Moskowitz, Terry Hope Romero, Sara Quin",
                                    "1": "Vegan Cupcakes Take Over the World: 75 Dairy-Free Recipes for Cupcakes that Rule"
                                },
                                {
                                    "0": "Christopher Yost, Pasqual Ferry, Orson Scott Card",
                                    "1": "Ender's Game, Volume 2: Command School"
                                },
                                {
                                    "0": "Anonymous, Lane T. Dennis, Wayne A. Grudem",
                                    "1": "ESV Study Bible"
                                },
                                {
                                    "0": "Miklós Nyiszli, Tibère Kremer, Bruno Bettelheim, Richard Seaver",
                                    "1": "Auschwitz: A Doctor's Eyewitness Account"
                                },
                                {
                                    "0": "Kathryn Jackson, Byron Jackson, Gustav Tenggren",
                                    "1": "The Saggy Baggy Elephant (A Little Golden Book)"
                                },
                                {
                                    "0": "Gustave Flaubert, Robert Baldick, Geoffrey Wall",
                                    "1": "Sentimental Education"
                                },
                                {
                                    "0": "Phil Robertson, Mark Schlabach",
                                    "1": "Happy, Happy, Happy"
                                },
                                {
                                    "0": "Marion Zimmer Bradley, Diana L. Paxson",
                                    "1": "Priestess of Avalon (Avalon, #4)"
                                },
                                {
                                    "0": "Natsuki Takaya, Alethea Nibley, Athena Nibley",
                                    "1": "Fruits Basket, Vol. 7"
                                },
                                {
                                    "0": "Joe Navarro, Marvin Karlins",
                                    "1": "What Every Body is Saying: An Ex-FBI Agent's Guide to Speed-Reading People"
                                },
                                {
                                    "0": "Stephen Sondheim, Hugh Wheeler, Christopher Godfrey Bond",
                                    "1": "Sweeney Todd: The Demon Barber of Fleet Street"
                                },
                                {
                                    "0": "Shūsaku Endō, William Johnston",
                                    "1": "Silence"
                                },
                                {
                                    "0": "Gary Chapman, D. Ross Campbell",
                                    "1": "The Five Love Languages of Children"
                                },
                                {
                                    "0": "Henry James, Michael Cunningham",
                                    "1": "Washington Square"
                                },
                                {
                                    "0": "Carl R. Rogers, Peter D. Kramer",
                                    "1": "On Becoming a Person: A Therapist's View of Psychotherapy"
                                },
                                {
                                    "0": "Masami Tsuda, Darcy Lockman, Jack Niida",
                                    "1": "Kare Kano: His and Her Circumstances, Vol. 1"
                                },
                                {
                                    "0": "James Patterson, Marshall Karp",
                                    "1": "NYPD Red 3 (NYPD Red, #3)"
                                },
                                {
                                    "0": "Brian K. Vaughan, Cliff Chiang, Matthew Wilson",
                                    "1": "Paper Girls, Vol. 1 (Paper Girls, #1)"
                                },
                                {
                                    "0": "Frantz Fanon, Jean-Paul Sartre, Richard Philcox, Homi K. Bhabha",
                                    "1": "The Wretched of the Earth"
                                },
                                {
                                    "0": "Bruce H. Wilkinson, David Kopp",
                                    "1": "Secrets of the Vine: Breaking Through to Abundance"
                                },
                                {
                                    "0": "Anne Frank, Susan Massotty",
                                    "1": "Anne Frank's Tales from the Secret Annex"
                                },
                                {
                                    "0": "Lauren Henderson, Chris Manby, Sarah Mlynowski, Jill A. Davis, Stella Duffy, Lisa Jewell, Marian Keyes, Sophie Kinsella, Adèle Lang, Carole Matthews, Anna Maxted, Megan McCafferty, Alisa Valdes, Isabel Wolff, Meg Cabot, Jessica Adams, Louise Bagshawe, Emily Barr, Jenny Colgan, Lynda Curnyn, Jennifer Weiner",
                                    "1": "Girls' Night In"
                                },
                                {
                                    "0": "Irvin D. Yalom, Nicola Ferguson",
                                    "1": "The Gift of Therapy: An Open Letter to a New Generation of Therapists and Their Patients"
                                },
                                {
                                    "0": "Brian Herbert, Kevin J. Anderson",
                                    "1": "House Harkonnen (Prelude to Dune #2)"
                                },
                                {
                                    "0": "Shoichi Aoki, Mark Sanders, Shoich Aoki",
                                    "1": "FRUiTS"
                                },
                                {
                                    "0": "Haruki Murakami, Jay Rubin",
                                    "1": "1Q84 #1-2 (1Q84, #1-2)"
                                },
                                {
                                    "0": "Mary Westmacott, Agatha Christie",
                                    "1": "Absent In The Spring"
                                },
                                {
                                    "0": "Bethany McLean, Peter Elkind",
                                    "1": "The Smartest Guys in the Room: The Amazing Rise and Scandalous Fall of Enron"
                                },
                                {
                                    "0": "Douglas Preston, Lincoln Child",
                                    "1": "Mount Dragon"
                                },
                                {
                                    "0": "Brian Coffey, Dean Koontz",
                                    "1": "The Face of Fear"
                                },
                                {
                                    "0": "James Patterson, Michael Ledwidge",
                                    "1": "Gone (Michael Bennett, #6)"
                                },
                                {
                                    "0": "Bill Willingham, Mark Buckingham, Steve Leialoha, Shawn McManus, Andrew Pepoy",
                                    "1": "Fables, Vol. 8: Wolves"
                                },
                                {
                                    "0": "Robert Kirkman, Charlie Adlard, Cliff Rathburn",
                                    "1": "The Walking Dead, Vol. 14: No Way Out"
                                },
                                {
                                    "0": "Robert Kirkman, Charlie Adlard",
                                    "1": "The Walking Dead, Book Two (The Walking Dead #13-24)"
                                },
                                {
                                    "0": "Italo Calvino, William Weaver, Ανταίος Χρυσοστομίδης, Ελευθερία Κοψιδά",
                                    "1": "Cosmicomics"
                                },
                                {
                                    "0": "Janne Teller, Martin Aitken",
                                    "1": "Nothing"
                                },
                                {
                                    "0": "A.N. Roquelaure, Anne Rice",
                                    "1": "Sleeping Beauty Box Set"
                                },
                                {
                                    "0": "Brian Azzarello, Eduardo Risso",
                                    "1": "100 Bullets, Vol. 1: First Shot, Last Call"
                                },
                                {
                                    "0": "Liz Kessler, Sarah Gibb",
                                    "1": "The Tail of Emily Windsnap (Emily Windsnap, #1)"
                                },
                                {
                                    "0": "Neil Gaiman, Mike Dringenberg, Chris Bachalo, Michael Zulli, Kelly Jones, Charles Vess, Colleen Doran, Malcolm Jones III, Steve Parkhouse, Daniel Vozzo, Lee Loughridge, Steve Oliff, Todd Klein, Dave McKean, Sam Kieth",
                                    "1": "The Absolute Sandman, Volume One"
                                },
                                {
                                    "0": "Robert Kirkman, Charlie Adlard, Cliff Rathburn, Rus Wooton",
                                    "1": "The Walking Dead, Book Three (The Walking Dead #25-36)"
                                },
                                {
                                    "0": "Kōbō Abe, E. Dale Saunders",
                                    "1": "The Woman in the Dunes"
                                },
                                {
                                    "0": "Mario Vargas Llosa, Helen R. Lane",
                                    "1": "Aunt Julia and the Scriptwriter"
                                },
                                {
                                    "0": "Warren Ellis, Darick Robertson, Rodney Ramos",
                                    "1": "Transmetropolitan, Vol. 3: Year of the Bastard (Transmetropolitan, #3)"
                                },
                                {
                                    "0": "Sheldon Vanauken, C.S. Lewis",
                                    "1": "A Severe Mercy: A Story of Faith, Tragedy and Triumph"
                                },
                                {
                                    "0": "Marion Zimmer Bradley, Diana L. Paxson",
                                    "1": "The Forest House (Avalon, #2)"
                                },
                                {
                                    "0": "Esther Earl, Lori Earl, Wayne Earl, John Green",
                                    "1": "This Star Won't Go Out: The Life and Words of Esther Grace Earl"
                                },
                                {
                                    "0": "Pauline Réage, Sabine d'Estree",
                                    "1": "Story of O (Story of O #1)"
                                },
                                {
                                    "0": "George Bernard Shaw, Alan Jay Lerner",
                                    "1": "Pygmalion & My Fair Lady"
                                },
                                {
                                    "0": "Mark Millar, J.G. Jones, Brian K. Vaughan",
                                    "1": "Wanted"
                                },
                                {
                                    "0": "Tsugumi Ohba, Takeshi Obata",
                                    "1": "Death Note, Vol. 8: Target (Death Note, #8)"
                                },
                                {
                                    "0": "Chris Claremont, John Byrne",
                                    "1": "X-Men: The Dark Phoenix Saga"
                                },
                                {
                                    "0": "Noam Chomsky, Edward S. Herman",
                                    "1": "Manufacturing Consent: The Political Economy of the Mass Media"
                                },
                                {
                                    "0": "Astrid Lindgren, Gerry Bothmer",
                                    "1": "Pippi in the South Seas"
                                },
                                {
                                    "0": "Anne Sexton, Maxine Kumin",
                                    "1": "The Complete Poems"
                                },
                                {
                                    "0": "Michael Buckley, Peter Ferguson",
                                    "1": "The Problem Child (The Sisters Grimm, #3)"
                                },
                                {
                                    "0": "Waris Dirie, Cathleen Miller",
                                    "1": "Desert Flower"
                                },
                                {
                                    "0": "Tom Peters, Robert H. Waterman Jr.",
                                    "1": "In Search of Excellence: Lessons from America's Best-Run Companies"
                                },
                                {
                                    "0": "James Patterson, Emily Raymond",
                                    "1": "First Love"
                                },
                                {
                                    "0": "Bill Finger, Gardner F. Fox, Bob Kane, Jerry Robinson, Sheldon Moldoff",
                                    "1": "The Batman Chronicles, Vol. 1"
                                },
                                {
                                    "0": "Isaac Asimov, Bob E. Flick, Jim Gallant",
                                    "1": "The Last Question"
                                },
                                {
                                    "0": "Saul Bellow, Luciano Bianciardi",
                                    "1": "Henderson the Rain King"
                                },
                                {
                                    "0": "Sarah Blakley-Cartwright, David Leslie Johnson, Catherine Hardwicke",
                                    "1": "Red Riding Hood"
                                },
                                {
                                    "0": "Roald Dahl, Quentin Blake",
                                    "1": "The Giraffe and the Pelly and Me"
                                },
                                {
                                    "0": "pleasefindthis, Iain S. Thomas, Jon Ellis",
                                    "1": "I Wrote This For You"
                                },
                                {
                                    "0": "Ina Garten, Quentin Bacon",
                                    "1": "Barefoot in Paris"
                                },
                                {
                                    "0": "Hans Christian Andersen, Lisbeth Zwerger, Anthea Bell",
                                    "1": "The Little Mermaid"
                                },
                                {
                                    "0": "Angela Elwell Hunt, Tim Jonke",
                                    "1": "The Tale of Three Trees"
                                },
                                {
                                    "0": "John Eldredge, Brent Curtis",
                                    "1": "The Sacred Romance Drawing Closer To The Heart Of God"
                                },
                                {
                                    "0": "William Carlos Williams, Charles Tomlinson",
                                    "1": "Selected Poems"
                                },
                                {
                                    "0": "Thomas Hardy, Patricia Ingham",
                                    "1": "The Woodlanders"
                                },
                                {
                                    "0": "Fernando Pessoa, Richard Zenith",
                                    "1": "The Book of Disquiet"
                                },
                                {
                                    "0": "Geoff Johns, Gary Frank, Jon Sibal, Brad Anderson, Rob Leigh",
                                    "1": "Batman: Earth One, Volume 1"
                                },
                                {
                                    "0": "Anne Lamott, Sam Lamott",
                                    "1": "Some Assembly Required: A Journal of My Son's First Son"
                                },
                                {
                                    "0": "Douglas Preston, Lincoln Child",
                                    "1": "Blue Labyrinth (Pendergast, #14)"
                                },
                                {
                                    "0": "Michael Buckley, Peter Ferguson",
                                    "1": "Once Upon a Crime (The Sisters Grimm, #4)"
                                },
                                {
                                    "0": "Bill Willingham, Mark Buckingham, Steve Leialoha, Andrew Pepoy, Gene Ha, Joshua Middleton, Iñaki Miranda, Mike Allred",
                                    "1": "Fables, Vol. 9: Sons of Empire"
                                },
                                {
                                    "0": "Marion Cunningham, Fannie Merritt Farmer, Archibald Candy Corporation",
                                    "1": "The Fannie Farmer Cookbook: Anniversary"
                                },
                                {
                                    "0": "Hergé, Leslie Lonsdale-Cooper, Michael Turner",
                                    "1": "Tintin in the Land of the Soviets (Tintin #1)"
                                },
                                {
                                    "0": "Nicholas Ganz, Tristan Manco",
                                    "1": "Graffiti World: Street Art from Five Continents"
                                },
                                {
                                    "0": "L.J. Smith, Kevin Williamson, Julie Plec",
                                    "1": "Bloodlust (The Vampire Diaries: Stefan's Diaries, #2)"
                                },
                                {
                                    "0": "Anne Rampling, Anne Rice",
                                    "1": "Exit to Eden"
                                },
                                {
                                    "0": "Mary-Jane Knight, Rick Riordan",
                                    "1": "Percy Jackson & the Olympians:  The Ultimate Guide"
                                },
                                {
                                    "0": "Robert Foster, J.R.R. Tolkien",
                                    "1": "The Complete Guide to Middle-Earth"
                                },
                                {
                                    "0": "Kate Chopin, Cynthia Brantley Johnson, Alyssa  Harad",
                                    "1": "The Awakening and Selected Stories"
                                },
                                {
                                    "0": "Henning Mankell, Ebba Segerberg",
                                    "1": "One Step Behind  (Kurt Wallander, #7)"
                                },
                                {
                                    "0": "Grant Morrison, Andy Kubert, John Van Fleet, Jesse Delperdang",
                                    "1": "Batman and Son"
                                },
                                {
                                    "0": "Michael Buckley, Peter Ferguson",
                                    "1": "Magic and Other Misdemeanors (The Sisters Grimm, #5)"
                                },
                                {
                                    "0": "Nicky Cruz, Jamie Buckingham",
                                    "1": "Run Baby Run"
                                },
                                {
                                    "0": "Daniel Coyle, John Farrell",
                                    "1": "The Talent Code: Unlocking the Secret of Skill in Sports, Art, Music, Math, and Just About Everything Else"
                                },
                                {
                                    "0": "Margaret Weis, Tracy Hickman",
                                    "1": "Dragons of Summer Flame (Dragonlance: The Second Generation, #2)"
                                },
                                {
                                    "0": "Tsugumi Ohba, Takeshi Obata",
                                    "1": "Death Note, Vol. 5: Whiteout (Death Note, #5)"
                                },
                                {
                                    "0": "Benedict Freedman, Nancy Freedman",
                                    "1": "Mrs. Mike (Mrs. Mike, #1)"
                                },
                                {
                                    "0": "Tyler Hamilton, Daniel Coyle",
                                    "1": "The Secret Race: Inside the Hidden World of the Tour de France: Doping, Cover-ups, and Winning at All Costs"
                                },
                                {
                                    "0": "Isabel Allende, Oliver Brock, Frank Wynne",
                                    "1": "Ripper"
                                },
                                {
                                    "0": "Alan    Richardson, Karen Tack",
                                    "1": "Hello, Cupcake"
                                },
                                {
                                    "0": "Dick Riley, Pam McAllister, Bruce Cassiday",
                                    "1": "The New Bedside, Bathtub and Armchair Companion to Agatha Christie"
                                },
                                {
                                    "0": "Walter Lord, Nathaniel Philbrick",
                                    "1": "A Night to Remember"
                                },
                                {
                                    "0": "Richard Russo, Arthur Morey",
                                    "1": "That Old Cape Magic"
                                },
                                {
                                    "0": "Clare Naylor, Mimi Hare",
                                    "1": "The Second Assistant: A Tale from the Bottom of the Hollywood Ladder"
                                },
                                {
                                    "0": "Charles Dickens, Patricia Ingham, Hablot Knight Browne",
                                    "1": "Martin Chuzzlewit"
                                },
                                {
                                    "0": "Marjane Satrapi, Anjali Singh",
                                    "1": "Embroideries"
                                },
                                {
                                    "0": "Melissa Anelli, J.K. Rowling",
                                    "1": "Harry, a History: The True Story of a Boy Wizard, His Fans, and Life Inside the Harry Potter Phenomenon"
                                },
                                {
                                    "0": "Hope Larson, Madeleine L'Engle",
                                    "1": "A Wrinkle in Time: The Graphic Novel"
                                },
                                {
                                    "0": "Henning Mankell, Laurie Thompson",
                                    "1": "The White Lioness (Kurt Wallander, #3)"
                                },
                                {
                                    "0": "Margaret Weis, Tracy Hickman",
                                    "1": "Elven Star (The Death Gate Cycle, #2)"
                                },
                                {
                                    "0": "Ludwig Wittgenstein, G.E.M. Anscombe",
                                    "1": "Philosophical Investigations"
                                },
                                {
                                    "0": "Scott Dikkers, Maria Schneider, John Krewson, Robert Siegel, David Javerbaum, Todd Hanson, Carol Kolb, Mike Loew, Tim Harrod",
                                    "1": "Our Dumb Century: The Onion Presents 100 Years of Headlines from America's Finest News Source"
                                },
                                {
                                    "0": "Vince Flynn, Kyle Mills, Armand Schultz",
                                    "1": "The Survivor (Mitch Rapp, #14)"
                                },
                                {
                                    "0": "Kiyohiko Azuma, あずま きよひこ",
                                    "1": "Yotsuba&!, Vol. 01 (Yotsuba&! #1)"
                                },
                                {
                                    "0": "Black Elk, John G. Neihardt",
                                    "1": "Black Elk Speaks: Being the Life Story of a Holy Man of the Oglala Sioux"
                                },
                                {
                                    "0": "Jeph Loeb, Jim Lee, Scott Williams",
                                    "1": "Batman: Hush, Vol. 1"
                                },
                                {
                                    "0": "Randy Alcorn, Alex Kendrick, Stephen Kendrick",
                                    "1": "Courageous"
                                },
                                {
                                    "0": "Kate DiCamillo, Yoko Tanaka",
                                    "1": "The Magician's Elephant"
                                },
                                {
                                    "0": "محمد المنسي قنديل, Mohamed Mansi Qandil",
                                    "1": "قمر على سمرقند"
                                },
                                {
                                    "0": "Jack Welch, John A. Byrne, Mike Barnicle",
                                    "1": "Jack: Straight from the Gut"
                                },
                                {
                                    "0": "Milan Kundera, Aaron Asher",
                                    "1": "Life is Elsewhere"
                                },
                                {
                                    "0": "Tim LaHaye, Jerry B. Jenkins",
                                    "1": "Glorious Appearing: The End of Days (Left Behind, #12)"
                                },
                                {
                                    "0": "Aristotle, Joe Sachs",
                                    "1": "Metaphysics"
                                },
                                {
                                    "0": "Cynthia Rylant, Stephen Gammell",
                                    "1": "The Relatives Came"
                                },
                                {
                                    "0": "Ken Robinson, Lou Aronica",
                                    "1": "The Element: How Finding Your Passion Changes Everything"
                                },
                                {
                                    "0": "Jennifer Crusie, Bob Mayer",
                                    "1": "Agnes and the Hitman"
                                },
                                {
                                    "0": "Apostolos Doxiadis, Christos H. Papadimitriou, Alecos Papadatos, Annie Di Donna",
                                    "1": "Logicomix: An epic search for truth"
                                },
                                {
                                    "0": "Thomas Mann, John E. Woods, T.J. Reed",
                                    "1": "Buddenbrooks: The Decline of a Family"
                                },
                                {
                                    "0": "James Patterson, Richard DiLallo",
                                    "1": "The Christmas Wedding"
                                },
                                {
                                    "0": "Iris Murdoch, Mary Kinzie",
                                    "1": "The Sea, the Sea"
                                },
                                {
                                    "0": "Samuel Shem, John Updike",
                                    "1": "The House of God"
                                },
                                {
                                    "0": "Ayşe Kulin, John W. Baker",
                                    "1": "Last Train to Istanbul"
                                },
                                {
                                    "0": "Aleksandr Solzhenitsyn, Edward E. Ericson Jr.",
                                    "1": "The Gulag Archipelago 1918-1956"
                                },
                                {
                                    "0": "José Saramago, Giovanni Pontiero",
                                    "1": "Baltasar and Blimunda"
                                },
                                {
                                    "0": "Rose Levy Beranbaum, Maria Guarnaschelli, Vincent Lee, Manuela Paul, Dean G. Bornstein",
                                    "1": "The Cake Bible"
                                },
                                {
                                    "0": "Alan Dean Foster, George Lucas",
                                    "1": "A New Hope  (Star Wars: Novelizations #4)"
                                },
                                {
                                    "0": "Christopher Chabris, Daniel Simons",
                                    "1": "The Invisible Gorilla: And Other Ways Our Intuitions Deceive Us"
                                },
                                {
                                    "0": "Karen Kingsbury, Gary Smalley",
                                    "1": "Rejoice (Redemption, #4)"
                                },
                                {
                                    "0": "Hergé, Leslie Lonsdale-Cooper, Michael Turner",
                                    "1": "Tintin in Tibet (Tintin, #20)"
                                },
                                {
                                    "0": "Henning Mankell, Ebba Segerberg",
                                    "1": "Firewall (Wallander, #8)"
                                },
                                {
                                    "0": "Michael Buckley, Peter Ferguson",
                                    "1": "Tales From the Hood (The Sisters Grimm, #6)"
                                },
                                {
                                    "0": "Charles Bernard Nordhoff, James Norman Hall",
                                    "1": "Mutiny on the Bounty (The Bounty Trilogy, #1)"
                                },
                                {
                                    "0": "William Arntz, Betsy Chasse, Mark Vicente",
                                    "1": "What the Bleep Do We Know!?: Discovering the Endless Possibilities for Altering Your Everyday Reality"
                                },
                                {
                                    "0": "Elizabeth Gaskell, Shirley Foster",
                                    "1": "Mary Barton"
                                },
                                {
                                    "0": "Tsugumi Ohba, Takeshi Obata",
                                    "1": "Death Note, Vol. 7: Zero (Death Note, #7)"
                                },
                                {
                                    "0": "Honoré de Balzac, Sylvia Raphael, Christopher Prendergast",
                                    "1": "Eugénie Grandet"
                                },
                                {
                                    "0": "Marcella Hazan, Karin Kretschmann",
                                    "1": "Essentials of Classic Italian Cooking"
                                },
                                {
                                    "0": "Arnaldur Indriðason, Bernard Scudder",
                                    "1": "Silence of the Grave (Inspector Erlendur #4)"
                                },
                                {
                                    "0": "Bill O'Reilly, Martin Dugard",
                                    "1": "Killing Reagan: The Violent Assault That Changed a Presidency"
                                },
                                {
                                    "0": "Leah Wilson, Jennifer Lynn Barnes, Mary Borsellino, Sarah Rees Brennan, Terri  Clark, Bree Despain, Adrienne Kress, Sarah Darer Littman, Cara Lockwood, Elizabeth M. Rees, Carrie Ryan, Ned Vizzini, Lili Wilkinson, Blythe Woolston",
                                    "1": "The Girl Who Was on Fire: Your Favorite Authors on Suzanne Collins' Hunger Games Trilogy"
                                },
                                {
                                    "0": "Russell Hoban, Lillian Hoban",
                                    "1": "A Bargain for Frances"
                                },
                                {
                                    "0": "Jann S. Wenner, Corey Seymour",
                                    "1": "Gonzo: The Life of Hunter S. Thompson"
                                },
                                {
                                    "0": "Matsuri Hino, Tomo Kimura",
                                    "1": "Vampire Knight, Vol. 4 (Vampire Knight, #4)"
                                },
                                {
                                    "0": "Denis Johnson, Bettina Abarbanell",
                                    "1": "Train Dreams"
                                },
                                {
                                    "0": "Charles Harrison, Paul Wood",
                                    "1": "Art in Theory 1900 - 2000: An Anthology of Changing Ideas"
                                },
                                {
                                    "0": "Hervé Tullet, Christopher Franceschelli",
                                    "1": "Press Here"
                                },
                                {
                                    "0": "Alfred Tennyson, Charles Keeping",
                                    "1": "The Lady of Shalott"
                                },
                                {
                                    "0": "Friedrich Nietzsche, Douglas Smith",
                                    "1": "On the Genealogy of Morals"
                                },
                                {
                                    "0": "Jamie Delano, John Ridgway, Alfredo Alcalá",
                                    "1": "Hellblazer: Original Sins"
                                },
                                {
                                    "0": "Jane Lynch, Lisa Dickey",
                                    "1": "Happy Accidents: A Memoir"
                                },
                                {
                                    "0": "Walter Moers, John Brownjohn",
                                    "1": "The 13½ Lives of Captain Bluebear (Zamonia, #1)"
                                },
                                {
                                    "0": "Carl Sagan, Ann Druyan",
                                    "1": "Billions & Billions: Thoughts on Life and Death at the Brink of the Millennium"
                                },
                                {
                                    "0": "Suetonius, Michael Grant, Robert Graves",
                                    "1": "The Twelve Caesars"
                                },
                                {
                                    "0": "Ibraheem Abbas, إبراهيم عباس, Yasser Bahjatt",
                                    "1": "حوجن [Ḥawjan]"
                                },
                                {
                                    "0": "Penelope Douglas, Abby Craden, Nelson Hobbs",
                                    "1": "Rival (Fall Away, #2)"
                                },
                                {
                                    "0": "James Patterson, Mark Pearson",
                                    "1": "Private London (Private #4)"
                                },
                                {
                                    "0": "Bernadette Rossetti-Shustak, Caroline Jayne Church",
                                    "1": "I Love You Through and Through"
                                },
                                {
                                    "0": "Jim Krueger, Alex Ross, Doug Braithwaite",
                                    "1": "Justice, Volume 1"
                                },
                                {
                                    "0": "William Nicholson, Peter Sís",
                                    "1": "The Wind Singer (Wind on Fire, #1)"
                                },
                                {
                                    "0": "Michael Chabon, Gary Gianni",
                                    "1": "Gentlemen of the Road"
                                },
                                {
                                    "0": "James Andrew Miller, Tom Shales",
                                    "1": "Those Guys Have All the Fun: Inside the World of ESPN"
                                },
                                {
                                    "0": "Tim Tebow, Nathan Whitaker",
                                    "1": "Through My Eyes"
                                },
                                {
                                    "0": "Joe Hill, Gabriel Rodríguez",
                                    "1": "Locke & Key, Vol. 6: Alpha & Omega"
                                },
                                {
                                    "0": "Patricia M. Scarry, Richard Scarry",
                                    "1": "The Country Mouse and the City Mouse; The Fox and the Crow; The Dog and His Bone"
                                },
                                {
                                    "0": "Laura Joffe Numeroff, Felicia Bond",
                                    "1": "If You Give a Cat a Cupcake"
                                },
                                {
                                    "0": "Anderson Cooper, Gloria Vanderbilt",
                                    "1": "The Rainbow Comes and Goes: A Mother and Son On Life, Love, and Loss"
                                },
                                {
                                    "0": "Sarah L. Delany, A. Elizabeth Delany, Amy Hill Hearth",
                                    "1": "Having Our Say: The Delany Sisters' First 100 Years"
                                },
                                {
                                    "0": "Karen Kingsbury, Gary Smalley",
                                    "1": "Reunion (Redemption, #5)"
                                },
                                {
                                    "0": "Émile Zola, Robin Buss",
                                    "1": "Thérèse Raquin"
                                },
                                {
                                    "0": "Robert W. Chambers, E.F. Bleiler",
                                    "1": "The King in Yellow and Other Horror Stories"
                                },
                                {
                                    "0": "Ayn Rand, Nathaniel Branden",
                                    "1": "The Virtue of Selfishness: A New Concept of Egoism"
                                },
                                {
                                    "0": "Leo Tolstoy, Louise Maude, Aylmer Maude",
                                    "1": "Resurrection"
                                },
                                {
                                    "0": "Janet Evanovich, Lee Goldberg",
                                    "1": "The Job (Fox and O'Hare, #3)"
                                },
                                {
                                    "0": "Pascal Mercier, Barbara Harshav",
                                    "1": "Night Train to Lisbon"
                                },
                                {
                                    "0": "The Waiter, Steve Dublanica",
                                    "1": "Waiter Rant: Thanks for the Tip-Confessions of a Cynical Waiter"
                                },
                                {
                                    "0": "Tom Clancy, Grant Blackwood",
                                    "1": "Dead or Alive (Jack Ryan Universe, #13)"
                                },
                                {
                                    "0": "Nancy Leigh DeMoss, Elisabeth Elliot",
                                    "1": "Lies Women Believe: And the Truth that Sets Them Free"
                                },
                                {
                                    "0": "Joe Sacco, Edward Said",
                                    "1": "Palestine"
                                },
                                {
                                    "0": "Vincent van Gogh, Irving Stone, Jean   Stone",
                                    "1": "Dear Theo"
                                },
                                {
                                    "0": "Terry Brooks, George Lucas",
                                    "1": "Star Wars - Episode I: The Phantom Menace"
                                },
                                {
                                    "0": "Gene Luen Yang, Michael Dante DiMartino, Gurihiru, Bryan Konietzko",
                                    "1": "Avatar: The Last Airbender (The Promise, #2)"
                                },
                                {
                                    "0": "Else Holmelund Minarik, Maurice Sendak",
                                    "1": "Little Bear's Friend"
                                },
                                {
                                    "0": "Mourid Barghouti, مريد البرغوثي",
                                    "1": "رأيت رام الله"
                                },
                                {
                                    "0": "Marion Zimmer Bradley, Diana L. Paxson",
                                    "1": "Lady of Avalon (Avalon, #3)"
                                },
                                {
                                    "0": "Tom Clancy, Mark Greaney",
                                    "1": "Threat Vector (Jack Ryan Universe, #15)"
                                },
                                {
                                    "0": "Miles Davis, Quincy Troupe",
                                    "1": "Miles: The Autobiography"
                                },
                                {
                                    "0": "Janet Evanovich, Charlotte Hughes",
                                    "1": "Full Tilt (Full #2)"
                                },
                                {
                                    "0": "Brian Herbert, Kevin J. Anderson",
                                    "1": "The Machine Crusade (Legends of Dune, #2)"
                                },
                                {
                                    "0": "Arthur Conan Doyle, William S. Baring-Gould",
                                    "1": "The Annotated Sherlock Holmes: The Four Novels and the Fifty-Six Short Stories Complete (2 Volume Set)"
                                },
                                {
                                    "0": "Penelope Ward, Vi Keeland",
                                    "1": "Cocky Bastard"
                                },
                                {
                                    "0": "James Patterson, Michael Ledwidge",
                                    "1": "The Dangerous Days of Daniel X (Daniel X, #1)"
                                },
                                {
                                    "0": "Camilla Läckberg, Tiina Nunnally",
                                    "1": "The Hidden Child (Patrik Hedström, #5)"
                                },
                                {
                                    "0": "Yasunari Kawabata, Edward G. Seidensticker",
                                    "1": "Snow Country"
                                },
                                {
                                    "0": "Fyodor Dostoyevsky, Ergin Altay",
                                    "1": "The House of the Dead"
                                },
                                {
                                    "0": "Georges Bataille, Joachim Neugroschel, Dovid Bergelson",
                                    "1": "Story of the Eye"
                                },
                                {
                                    "0": "Rainer Maria Rilke, Stephen Mitchell, Robert Hass",
                                    "1": "The Selected Poetry of Rainer Maria Rilke"
                                },
                                {
                                    "0": "Gabriel García Márquez, Randolph Hogan",
                                    "1": "The Story of a Shipwrecked Sailor"
                                },
                                {
                                    "0": "Warren Ellis, John Cassaday",
                                    "1": "Planetary, Volume 1: All Over the World and Other Stories"
                                },
                                {
                                    "0": "Assata Shakur, Angela Y. Davis, Lennox S. Hinds",
                                    "1": "Assata: An Autobiography"
                                },
                                {
                                    "0": "Paul Galdone, Peter Christen Asbjørnsen",
                                    "1": "The Three Billy Goats Gruff"
                                },
                                {
                                    "0": "Corina Bomann, Alison Layland",
                                    "1": "The Moonlit Garden"
                                },
                                {
                                    "0": "Nella Larsen, Ntozake Shange, Thadious M. Davis",
                                    "1": "Passing"
                                },
                                {
                                    "0": "Neil Gaiman, Michael Reaves",
                                    "1": "InterWorld (InterWorld, #1)"
                                },
                                {
                                    "0": "George Carlin, Tony Hendra",
                                    "1": "Last Words"
                                },
                                {
                                    "0": "Betty MacDonald, Alexandra Boiger",
                                    "1": "Mrs. Piggle-Wiggle's Magic (Mrs. Piggle Wiggle, #2)"
                                },
                                {
                                    "0": "Roald Dahl, Quentin Blake",
                                    "1": "Revolting Rhymes"
                                },
                                {
                                    "0": "John D. Fitzgerald, Mercer Mayer",
                                    "1": "The Great Brain (Great Brain #1)"
                                },
                                {
                                    "0": "Paula H. Deen, John Berendt",
                                    "1": "The Lady & Sons Savannah Country Cookbook"
                                },
                                {
                                    "0": "Gabriel García Márquez, J.S. Bernstein",
                                    "1": "No One Writes to the Colonel and Other Stories"
                                },
                                {
                                    "0": "Warren Ellis, Darick Robertson, Rodney Ramos, Patrick Stewart",
                                    "1": "Transmetropolitan, Vol. 5: Lonely City (Transmetropolitan, #5)"
                                },
                                {
                                    "0": "Anatoli Boukreev, G. Weston DeWalt",
                                    "1": "The Climb: Tragic Ambitions on Everest"
                                },
                                {
                                    "0": "Natsuki Takaya, Alethea Nibley, Athena Nibley",
                                    "1": "Fruits Basket, Vol. 2"
                                },
                                {
                                    "0": "Steve Berry, Scott Brick",
                                    "1": "The Paris Vendetta (Cotton Malone, #5)"
                                },
                                {
                                    "0": "William Shakespeare, Roma Gill, Robert          Jackson",
                                    "1": "Richard II"
                                },
                                {
                                    "0": "George Gordon Byron, Peter J. Manning, Susan J. Wolfson",
                                    "1": "Selected Poems"
                                },
                                {
                                    "0": "Anna Gavalda, Alison Anderson",
                                    "1": "Hunting and Gathering"
                                },
                                {
                                    "0": "Peter Lynch, John Rothchild",
                                    "1": "One Up On Wall Street: How To Use What You Already Know To Make Money In The Market"
                                },
                                {
                                    "0": "Bertolt Brecht, David Hare",
                                    "1": "Mother Courage and Her Children"
                                },
                                {
                                    "0": "Mac Barnett, Jon Klassen",
                                    "1": "Extra Yarn (E. B. White Read-Aloud Award. Picture Books)"
                                },
                                {
                                    "0": "Edmund Spenser, Thomas P. Roche, C. Patrick O'Donnell",
                                    "1": "The Faerie Queene "
                                },
                                {
                                    "0": "Janet Ahlberg, Allan Ahlberg",
                                    "1": "Each Peach Pear Plum"
                                },
                                {
                                    "0": "Gene Kim, Kevin Behr, George Spafford",
                                    "1": "The Phoenix Project: A Novel About IT, DevOps, and Helping Your Business Win"
                                },
                                {
                                    "0": "Chris Van Allsburg, Lois Lowry, Kate DiCamillo, M.T. Anderson, Louis Sachar, Stephen King, Tabitha King, Jon Scieszka, Sherman Alexie, Gregory Maguire, Cory Doctorow, Jules Feiffer, Linda Sue Park, Walter Dean Myers, Lemony Snicket",
                                    "1": "The Chronicles of Harris Burdick: 14 Amazing Authors Tell the Tales"
                                },
                                {
                                    "0": "Erin Gruwell, Zlata Filipović, The Freedom Writers",
                                    "1": "The Freedom Writers Diary"
                                },
                                {
                                    "0": "Susanna Clarke, Charles Vess",
                                    "1": "The Ladies of Grace Adieu and Other Stories"
                                },
                                {
                                    "0": "Terry Jones, Brian Froud",
                                    "1": "Lady Cottington's Pressed Fairy Book"
                                },
                                {
                                    "0": "Dante Alighieri, Dorothy L. Sayers, Barbara Reynolds",
                                    "1": "Paradiso (The Divine Comedy, #3)"
                                },
                                {
                                    "0": "Amy Lichtenhan, A.L. Jackson",
                                    "1": "Take This Regret (Take This Regret, #1)"
                                },
                                {
                                    "0": "Larry Niven, Jerry Pournelle",
                                    "1": "Footfall"
                                },
                                {
                                    "0": "William Shakespeare, Sylvan Barnet, Alvin Kernan, Russell Fraser",
                                    "1": "Four Great Tragedies: Hamlet / Othello / King Lear / Macbeth"
                                },
                                {
                                    "0": "Mary Higgins Clark, Alafair Burke",
                                    "1": "I've Got You Under My Skin (Under Suspicion, #1)"
                                },
                                {
                                    "0": "Bill Willingham, Mark Buckingham, Steve Leialoha, Aaron Alexovich, Andrew Pepoy",
                                    "1": "Fables, Vol. 10: The Good Prince"
                                },
                                {
                                    "0": "Larry Bond, Patrick Larkin",
                                    "1": "Red Phoenix (Red Phoenix #1)"
                                },
                                {
                                    "0": "Leigh Nichols, Dean Koontz",
                                    "1": "Shadow Fires"
                                },
                                {
                                    "0": "James Rollins, Rebecca Cantrell",
                                    "1": "The Blood Gospel (The Order of the Sanguines, #1)"
                                },
                                {
                                    "0": "Henning Mankell, Laurie Thompson",
                                    "1": "The Troubled Man (Kurt Wallander, #10)"
                                },
                                {
                                    "0": "Walter Benjamin, Michael W. Jennings, Brigid Doherty, Edmund F.N. Jephcott, Rodney Livingstone, Howard Eiland, Thomas Y. Levin",
                                    "1": "The Work of Art in the Age of Its Technological Reproducibility, and Other Writings on Media"
                                },
                                {
                                    "0": "Sarah Palin, Lynn Vincent, Dewey Whetsell",
                                    "1": "Going Rogue: An American Life"
                                },
                                {
                                    "0": "Anne Byrn, Anthony Loew",
                                    "1": "The Cake Mix Doctor"
                                },
                                {
                                    "0": "Ali Novak, Fallzswimmer",
                                    "1": "My Life with the Walter Boys (My Life with the Walter Boys #1)"
                                },
                                {
                                    "0": "Al Ries, Jack Trout",
                                    "1": "Positioning: The Battle for Your Mind: How to Be Seen and Heard in the Overcrowded Marketplace"
                                },
                                {
                                    "0": "Gregory Maguire, Douglas Smith",
                                    "1": "Lost"
                                },
                                {
                                    "0": "Chris Colfer, Brandon Dorman",
                                    "1": "A Grimm Warning (The Land of Stories, #3)"
                                },
                                {
                                    "0": "Andrew Hunt, Dave Thomas",
                                    "1": "The Pragmatic Programmer: From Journeyman to Master"
                                },
                                {
                                    "0": "T.C. Boyle, Richard Poe",
                                    "1": "Drop City"
                                },
                                {
                                    "0": "Brian K. Vaughan, Pia Guerra, José Marzán Jr., Pamela Rambo, Clem Robins, J.G. Jones",
                                    "1": "Y: The Last Man - The Deluxe Edition Book One"
                                },
                                {
                                    "0": "James Patterson, Michael Ledwidge",
                                    "1": "Alert (Michael Bennett, #8)"
                                },
                                {
                                    "0": "Anne Rice, Robert O'Keefe, F. Murray Abraham, Michael York, Kate Nelligan, David Purdham",
                                    "1": "Vampire Chronicles: Interview with the Vampire, The Vampire Lestat, The Queen of the Damned (Anne Rice)"
                                },
                                {
                                    "0": "Stan Berenstain, Jan Berenstain",
                                    "1": "The Berenstain Bears Forget Their Manners"
                                },
                                {
                                    "0": "Cassandra Clare, Hye-Kyung Baek",
                                    "1": "The Infernal Devices: Clockwork Angel (The Infernal Devices: Manga, #1)"
                                },
                                {
                                    "0": "Alan Lee, Ian McKellen",
                                    "1": "The Lord of the Rings Sketchbook"
                                },
                                {
                                    "0": "James Patterson, Howard Roughan",
                                    "1": "Don't Blink"
                                },
                                {
                                    "0": "Stephen Jones, H.P. Lovecraft, Kim Newman, Brian Mooney, Nicholas Royle, David Langford, Michael Marshall Smith, Brian Lumley, Neil Gaiman, Basil Copper, Jack Yeovil, Guy N. Smith, Adrian Cole, D.F. Lewis, Ramsey Campbell, David Sutton, Peter Tremayne",
                                    "1": "Shadows over Innsmouth"
                                },
                                {
                                    "0": "Jeff Brown, Scott Nash, Macky Pamintuan",
                                    "1": "Flat Stanley (Flat Stanley, #1)"
                                },
                                {
                                    "0": "Mary Pope Osborne, Salvatore Murdocca",
                                    "1": "The Knight at Dawn (Magic Tree House, #2)"
                                },
                                {
                                    "0": "Tsugumi Ohba, Takeshi Obata",
                                    "1": "Death Note, Vol. 6: Give-and-Take (Death Note, #6)"
                                },
                                {
                                    "0": "Rick Riordan, Robert Venditti, José Villarrubia, Attila Futaki",
                                    "1": "The Lightning Thief: The Graphic Novel (Percy Jackson and the Olympians, #1)"
                                },
                                {
                                    "0": "Clint Hill, Lisa McCubbin",
                                    "1": "Mrs. Kennedy and Me: An Intimate Memoir"
                                },
                                {
                                    "0": "William March, Elaine Showalter",
                                    "1": "The Bad Seed"
                                },
                                {
                                    "0": "Douglas Preston, Lincoln Child",
                                    "1": "Gideon's Sword (Gideon Crew, #1)"
                                },
                                {
                                    "0": "Brian Kilmeade, Don Yaeger",
                                    "1": "George Washington's Secret Six: The Spy Ring That Saved the American Revolution"
                                },
                                {
                                    "0": "Eugene Bradley Coco, Ron Dias",
                                    "1": "Pinocchio"
                                },
                                {
                                    "0": "Anton Chekhov, Richard Pevear, Larissa Volokhonsky",
                                    "1": "The Complete Short Novels"
                                },
                                {
                                    "0": "Stan Berenstain, Jan Berenstain",
                                    "1": "The Berenstain Bears Go to School"
                                },
                                {
                                    "0": "Jeph Loeb, Tim Sale, Bjarne Hansen",
                                    "1": "Superman for All Seasons"
                                },
                                {
                                    "0": "Federico García Lorca, Antonio Sobejano-Moran, Paola Bianco",
                                    "1": "La casa de Bernarda Alba"
                                },
                                {
                                    "0": "Lettie B. Cowman, James Reimann",
                                    "1": "Streams in the Desert"
                                },
                                {
                                    "0": "Cassandra Clare, Joshua Lewis",
                                    "1": "The Shadowhunter's Codex"
                                },
                                {
                                    "0": "Jenna Jameson, Neil Strauss",
                                    "1": "How to Make Love Like a Porn Star: A Cautionary Tale"
                                },
                                {
                                    "0": "Philip Pullman, John Lawrence",
                                    "1": "Lyra's Oxford (His Dark Materials, #3.5)"
                                },
                                {
                                    "0": "James Patterson, Mark T. Sullivan",
                                    "1": "Private Berlin (Private #5)"
                                },
                                {
                                    "0": "Mary Hoffman, Caroline Binch",
                                    "1": "Amazing Grace"
                                },
                                {
                                    "0": "David Eddings, Leigh Eddings",
                                    "1": "The Redemption of Althalus"
                                },
                                {
                                    "0": "Brandon Sanderson, Jon Foster",
                                    "1": "Skin Deep (Legion, #2)"
                                },
                                {
                                    "0": "François Lelord, Lorenza García",
                                    "1": "Hector and the Search for Happiness"
                                },
                                {
                                    "0": "Haruki Murakami, Alfred Birnbaum, Philip Gabriel",
                                    "1": "Underground: The Tokyo Gas Attack and the Japanese Psyche"
                                },
                                {
                                    "0": "Brian Coffey, Dean Koontz",
                                    "1": "The Voice of the Night"
                                },
                                {
                                    "0": "José Saramago, Margaret Jull Costa",
                                    "1": "The Double"
                                },
                                {
                                    "0": "Bob Gale, Devin Grayson, Alex Maleev, Dale Eaglesham",
                                    "1": "Batman: No Man's Land, Vol. 1"
                                },
                                {
                                    "0": "Jeffrey D. Sachs, Bono",
                                    "1": "The End of Poverty"
                                },
                                {
                                    "0": "Bill Willingham, Mark Buckingham, Steve Leialoha, Jim Fern, Jimmy Palmiotti, Andrew Pepoy",
                                    "1": "Fables, Vol. 7: Arabian Nights [and Days] (Fables, #7)"
                                },
                                {
                                    "0": "Jeff Smith, Thomas E. Sniegoski, Steve Hamaker",
                                    "1": "Bone: Tall Tales"
                                },
                                {
                                    "0": "Jennifer L. Holm, Tad Carpenter",
                                    "1": "The Fourteenth Goldfish"
                                },
                                {
                                    "0": "Kathryn Jackson, Gustav Tenggren",
                                    "1": "Tawny Scrawny Lion"
                                },
                                {
                                    "0": "Mark Waid, Alfred Gough, Miles Millar, Dave McCaig, Gerry Alanguilan, Leinil Francis Yu",
                                    "1": "Superman: Birthright"
                                },
                                {
                                    "0": "Margret Rey, H.A. Rey, Martha Weston",
                                    "1": "Curious George Visits the Library"
                                },
                                {
                                    "0": "E.H. Gombrich, Caroline Mustill, Clifford Harper",
                                    "1": "A Little History of the World"
                                },
                                {
                                    "0": "Natsuki Takaya, Alethea Nibley, Athena Nibley",
                                    "1": "Fruits Basket, Vol. 4"
                                },
                                {
                                    "0": "Naguib Mahfouz, William M. Hutchins, Olive E. Kenny",
                                    "1": "Palace Walk (The Cairo Trilogy #1)"
                                },
                                {
                                    "0": "Stephen Schwartz, Gregory Maguire",
                                    "1": "Wicked - Piano/Vocal Arrangement"
                                },
                                {
                                    "0": "Bill Hybels, Lavonne Neff",
                                    "1": "Too Busy Not to Pray: Slowing Down to Be With God"
                                },
                                {
                                    "0": "Zig Ziglar, Al Mayton",
                                    "1": "See You at the Top"
                                },
                                {
                                    "0": "Aeschylus, Judith Affleck, Philip de May, Patricia E. Easterling, John     Harrison",
                                    "1": "Agamemnon (Oresteia, #1)"
                                },
                                {
                                    "0": "David Baggett, Shawn E. Klein",
                                    "1": "Harry Potter and Philosophy: If Aristotle Ran Hogwarts"
                                },
                                {
                                    "0": "P.C. Cast, Kristin Cast",
                                    "1": "Redeemed (House of Night, #12)"
                                },
                                {
                                    "0": "Frank Miller, Lynn Varley",
                                    "1": "Batman: The Dark Knight Strikes Again (The Dark Knight Saga, #2)"
                                },
                                {
                                    "0": "Alice  Miller, Ruth Ward",
                                    "1": "The Drama of the Gifted Child: The Search for the True Self"
                                },
                                {
                                    "0": "Roland Barthes, Annette Lavers",
                                    "1": "Mythologies"
                                },
                                {
                                    "0": "Aristotle, Malcolm Heath",
                                    "1": "Poetics"
                                },
                                {
                                    "0": "Immanuel Kant, Mary J. Gregor, Christine M. Korsgaard",
                                    "1": "Groundwork of the Metaphysics of Morals"
                                },
                                {
                                    "0": "Douglas Preston, Lincoln Child",
                                    "1": "Crimson Shore (Pendergast, #15)"
                                },
                                {
                                    "0": "James Patterson, Michael Ledwidge",
                                    "1": "Burn (Michael Bennett, #7)"
                                },
                                {
                                    "0": "Erlend Loe, Tor Ketil Solberg",
                                    "1": "Naïve. Super"
                                },
                                {
                                    "0": "Meca Tanaka, 田中メカ",
                                    "1": "キスよりも早く1 [Kisu Yorimo Hayaku 1] (Faster than a Kiss #1)"
                                },
                                {
                                    "0": "P.C. Cast, Kristin Cast",
                                    "1": "Lenobia's Vow (House of Night Novellas, #2)"
                                },
                                {
                                    "0": "HaveYouSeenThisGirL, Jan Irene Villar",
                                    "1": "Diary ng Panget"
                                },
                                {
                                    "0": "Si Robertson, Mark Schlabach",
                                    "1": "Si-cology 1: Tales and Wisdom from Duck Dynasty’s Favorite Uncle"
                                },
                                {
                                    "0": "James Lincoln Collier, Christopher Collier",
                                    "1": "My Brother Sam Is Dead"
                                },
                                {
                                    "0": "Anne Rice, Anne Rampling",
                                    "1": "Belinda"
                                },
                                {
                                    "0": "Dick King-Smith, Maggie Kneen",
                                    "1": "Babe: The Gallant Pig"
                                },
                                {
                                    "0": "Kerry Patterson, Joseph Grenny, David Maxfield, Ron McMillan, Al Switzler",
                                    "1": "Influencer: The Power to Change Anything"
                                },
                                {
                                    "0": "Jeff Smith, Steve Hamaker",
                                    "1": "The Dragonslayer (Bone, #4)"
                                },
                                {
                                    "0": "Susan S. Adler, Renée Graef, Nancy Niles",
                                    "1": "Meet Samantha: An American Girl (American Girls: Samantha, #1)"
                                },
                                {
                                    "0": "Greg Rucka, J.H. Williams III, Rachel Maddow",
                                    "1": "Batwoman: Elegy"
                                },
                                {
                                    "0": "Michael Dante DiMartino, Bryan Konietzko",
                                    "1": "Avatar Volume 1: The Last Airbender (Avatar #1)"
                                },
                                {
                                    "0": "George R.R. Martin, Gardner R. Dozois, Joe Abercrombie, Gillian Flynn, Matthew Hughes, Joe R. Lansdale, Michael Swanwick, David  Ball, Carrie Vaughn, Scott Lynch, Bradley Denton, Cherie Priest, Daniel Abraham, Paul Cornell, Steven Saylor, Garth Nix, Walter Jon Williams, Phyllis Eisenstein, Lisa Tuttle, Neil Gaiman, Connie Willis, Patrick Rothfuss",
                                    "1": "Rogues"
                                },
                                {
                                    "0": "Kevin Malarkey, Alex Malarkey",
                                    "1": "The Boy Who Came Back from Heaven: A Remarkable Account of Miracles, Angels, and Life beyond This World"
                                },
                                {
                                    "0": "Juan Gabriel Vásquez, Anne McLean",
                                    "1": "The Sound of Things Falling"
                                },
                                {
                                    "0": "William Gibson, Terry Bisson",
                                    "1": "Johnny Mnemonic"
                                },
                                {
                                    "0": "Neil Postman, Andrew Postman",
                                    "1": "Amusing Ourselves to Death: Public Discourse in the Age of Show Business"
                                },
                                {
                                    "0": "Pattie Boyd, Penny Junor",
                                    "1": "Wonderful Tonight"
                                },
                                {
                                    "0": "Roderick Gordon, Brian  Williams",
                                    "1": "Tunnels (Tunnels, #1)"
                                },
                                {
                                    "0": "Greg Pak, Aaron Lopresti, Carlo Pagulayan, Juan Santacruz, Gary Frank, Takeshi Miyazawa",
                                    "1": "The Incredible Hulk: Planet Hulk"
                                },
                                {
                                    "0": "Arthur C. Clarke, Gentry Lee",
                                    "1": "Rama Revealed (Rama, #4)"
                                },
                                {
                                    "0": "Charles Dickens, Norman Page",
                                    "1": "The Old Curiosity Shop"
                                },
                                {
                                    "0": "Natsuki Takaya, Alethea Nibley, Athena Nibley",
                                    "1": "Fruits Basket, Vol. 14"
                                },
                                {
                                    "0": "Matt Fraction, David Aja, Francesco Francavilla, Steve Lieber, Jesse Hamm, Annie Wu, Matt Hollingsworth, Chris Eliopoulos",
                                    "1": "Hawkeye, Volume 2: Little Hits"
                                },
                                {
                                    "0": "Barbara Ann Brennan, Jos. A. Smith",
                                    "1": "Hands Of Light"
                                },
                                {
                                    "0": "Lemony Snicket, Brett Helquist",
                                    "1": "A Series of Unfortunate Events Box: The Complete Wreck (Books 1-13)"
                                },
                                {
                                    "0": "Brian Michael Bendis, Mark Bagley",
                                    "1": "Ultimate Spider-Man, Volume 1: Power and Responsibility"
                                },
                                {
                                    "0": "Agatha Christie, Hugh Fraser",
                                    "1": "One, Two, Buckle My Shoe (Hercule Poirot, #22)"
                                },
                                {
                                    "0": "Amie Kaufman, Jay Kristoff, Marie Lu",
                                    "1": "Gemina (The Illuminae Files, #2)"
                                },
                                {
                                    "0": "R.D. Blackmore, Michelle Allen",
                                    "1": "Lorna Doone"
                                },
                                {
                                    "0": "Agatha Christie, Robin Bailey",
                                    "1": "The Clocks (Hercule Poirot, #34)"
                                },
                                {
                                    "0": "Stacy King, SunNeko Lee, Crystal S. Chan, Victor Hugo",
                                    "1": "Manga Classics: Les Misérables"
                                },
                                {
                                    "0": "Oliver Pötzsch, Lee Chadeayne",
                                    "1": "The Beggar King (The Hangman's Daughter, #3)"
                                },
                                {
                                    "0": "Lars Kepler, Laura A. Wideburg",
                                    "1": "The Nightmare (Joona Linna, #2)"
                                },
                                {
                                    "0": "Dr. Seuss, Maurice Sendak, Audrey Geisel",
                                    "1": "The Secret Art of Dr. Seuss"
                                },
                                {
                                    "0": "Jacqueline Winspear, Orlagh Cassidy",
                                    "1": "Among the Mad (Maisie Dobbs, #6)"
                                },
                                {
                                    "0": "Ryū Murakami, Ralph McCarthy",
                                    "1": "In the Miso Soup"
                                },
                                {
                                    "0": "Dick Winters, Cole C. Kingseed",
                                    "1": "Beyond Band of Brothers: The War Memoirs of Major Dick Winters"
                                },
                                {
                                    "0": "L. Frank Baum, David McKee",
                                    "1": "The Marvelous Land of Oz (Oz, #2)"
                                },
                                {
                                    "0": "Natsuki Takaya, Alethea Nibley, Athena Nibley",
                                    "1": "Fruits Basket, Vol. 15"
                                },
                                {
                                    "0": "Morton Rhue, Todd Strasser",
                                    "1": "The Wave"
                                },
                                {
                                    "0": "Mary Higgins Clark, Alafair Burke",
                                    "1": "The Cinderella Murder (Under Suspicion, #2)"
                                },
                                {
                                    "0": "François Rabelais, M.A. Screech",
                                    "1": "Gargantua and Pantagruel"
                                },
                                {
                                    "0": "Hajime Isayama, Hikaru Suruga, Gan Sunaaku",
                                    "1": "Attack on Titan: No Regrets, Volume 01"
                                },
                                {
                                    "0": "Ruth Krauss, Crockett Johnson",
                                    "1": "The Carrot Seed"
                                },
                                {
                                    "0": "Stephen King, Josh Hamilton",
                                    "1": "Riding the Bullet"
                                },
                                {
                                    "0": "Nikolai Gogol, Kevin Hawkes",
                                    "1": "The Nose"
                                },
                                {
                                    "0": "Guy Debord, Donald Nicholson-Smith",
                                    "1": "The Society of the Spectacle"
                                },
                                {
                                    "0": "Marshall McLuhan, Quentin Fiore, Jerome Agel",
                                    "1": "The Medium is the Massage"
                                },
                                {
                                    "0": "Kentaro Miura, Jason DeAngelis",
                                    "1": "Berserk, Vol. 1 (Berserk, #1)"
                                },
                                {
                                    "0": "Thomas Merton, Robert Giroux, William H. Shannon",
                                    "1": "The Seven Storey Mountain"
                                },
                                {
                                    "0": "Morgan Rhodes, Michelle Rowen",
                                    "1": "Gathering Darkness (Falling Kingdoms, #3)"
                                },
                                {
                                    "0": "Alan Dean Foster, Lawrence Kasdan, J.J. Abrams, Michael Arndt",
                                    "1": "The Force Awakens (Star Wars)"
                                },
                                {
                                    "0": "Alan Moore, Curt Swan, George Pérez, Kurt Schaffenberger",
                                    "1": "Superman: Whatever Happened to the Man of Tomorrow?"
                                },
                                {
                                    "0": "Ralph Waldo Emerson, Peter Norberg",
                                    "1": "Essays and Poems"
                                },
                                {
                                    "0": "Gabriel García Márquez, Gregory Rabassa",
                                    "1": "Innocent Erendira and Other Stories"
                                },
                                {
                                    "0": "Stendhal, Richard Howard, Robert Andrew Parker",
                                    "1": "The Charterhouse of Parma"
                                },
                                {
                                    "0": "Jacqueline Briggs Martin, Mary Azarian",
                                    "1": "Snowflake Bentley"
                                },
                                {
                                    "0": "William McDonough, Michael Braungart",
                                    "1": "Cradle to Cradle: Remaking the Way We Make Things"
                                },
                                {
                                    "0": "Warren Ellis, Darick Robertson, Rodney Ramos, Keith Akin",
                                    "1": "Transmetropolitan, Vol. 4: The New Scum (Transmetropolitan, #4)"
                                },
                                {
                                    "0": "Monty Roberts, Lucy Grealy, Lawrence Scanlan",
                                    "1": "The Man Who Listens to Horses"
                                },
                                {
                                    "0": "Michael Baigent, Richard Leigh, Henry Lincoln",
                                    "1": "Holy Blood, Holy Grail"
                                },
                                {
                                    "0": "Don DeLillo, محمدصادق رئیسی",
                                    "1": "Falling Man"
                                },
                                {
                                    "0": "James Frey, Nils Johnson-Shelton",
                                    "1": "The Calling (Endgame, #1)"
                                },
                                {
                                    "0": "Henning Mankell, Laurie Thompson",
                                    "1": "The Man from Beijing"
                                },
                                {
                                    "0": "Tom Clancy, Peter Telep",
                                    "1": "Against All Enemies (Max Moore, #1)"
                                },
                                {
                                    "0": "Cynthia Hand, Brodi Ashton, Jodi Meadows",
                                    "1": "My Lady Jane (The Lady Janies, #1)"
                                },
                                {
                                    "0": "Baruch Spinoza, Edwin M. Curley, Stuart Hampshire, Edwin Curley",
                                    "1": "Ethics"
                                },
                                {
                                    "0": "Andre Norton, Mercedes Lackey",
                                    "1": "The Elvenbane (Halfblood Chronicles, #1)"
                                },
                                {
                                    "0": "Carlos Ruiz Zafón, Lucia Graves",
                                    "1": "The Midnight Palace (Niebla, #2)"
                                },
                                {
                                    "0": "Darwyn Cooke, Dave Stewart, Jared K. Fletcher",
                                    "1": "DC: The New Frontier, Volume 1"
                                },
                                {
                                    "0": "Betty MacDonald, Alexandra Boiger",
                                    "1": "Hello, Mrs. Piggle-Wiggle (Mrs. Piggle Wiggle, #4)"
                                },
                                {
                                    "0": "Megan McDonald, Peter H. Reynolds",
                                    "1": "Judy Moody (Judy Moody, # 1)"
                                },
                                {
                                    "0": "Friedrich Nietzsche, Walter Kaufmann",
                                    "1": "The Gay Science"
                                },
                                {
                                    "0": "Donald J. Trump, Tony Schwartz",
                                    "1": "Trump: The Art of the Deal"
                                },
                                {
                                    "0": "Natsuki Takaya, Alethea Nibley, Athena Nibley",
                                    "1": "Fruits Basket, Vol. 3"
                                },
                                {
                                    "0": "Brian Herbert, Kevin J. Anderson",
                                    "1": "House Corrino (Prelude to Dune #3)"
                                },
                                {
                                    "0": "J. Lynn, Jennifer L. Armentrout",
                                    "1": "Tempting the Player (Gamble Brothers, #2)"
                                },
                                {
                                    "0": "Anonymous, Juan Mascaró",
                                    "1": "The Upanishads: Translations from the Sanskrit"
                                },
                                {
                                    "0": "Gretchen Rubin, Käthe Mazur",
                                    "1": "Happier at Home: Kiss More, Jump More, Abandon a Project, Read Samuel Johnson, and My Other Experiments in the Practice of Everyday Life"
                                },
                                {
                                    "0": "Adolfo Bioy Casares, Suzanne Jill Levine, Jorge Luis Borges, Ruth L.C. Simms, Norah Borges de Torre",
                                    "1": "The Invention of Morel"
                                },
                                {
                                    "0": "Robert Kirkman, Charlie Adlard, Cliff Rathburn",
                                    "1": "The Walking Dead, Vol. 13: Too Far Gone"
                                },
                                {
                                    "0": "Roger Lea MacBride, David Gilleece",
                                    "1": "Little House on Rocky Ridge (Little House: The Rocky Ridge Years, #1)"
                                },
                                {
                                    "0": "Dr. Seuss, Theo LeSieg, Roy McKie",
                                    "1": "In a People House"
                                },
                                {
                                    "0": "Brian Herbert, Kevin J. Anderson",
                                    "1": "Hunters of Dune (Dune Chronicles #7)"
                                },
                                {
                                    "0": "Robert Coles, George Ford",
                                    "1": "The Story of Ruby Bridges"
                                },
                                {
                                    "0": "Patty Lovell, David Catrow",
                                    "1": "Stand Tall, Molly Lou Melon"
                                },
                                {
                                    "0": "Robert T. Kiyosaki, Sharon L. Lechter",
                                    "1": "Rich Dad's Guide to Investing: What the Rich Invest in That the Poor and Middle Class Do Not!"
                                },
                                {
                                    "0": "Jim Loehr, Tony Schwartz",
                                    "1": "The Power of Full Engagement: Managing Energy, Not Time, Is the Key to High Performance and Personal Renewal"
                                },
                                {
                                    "0": "Edward Gibbon, Daniel J. Boorstin, Gian Battista Piranesi, Hans-Friedrich Mueller",
                                    "1": "The Decline and Fall of the Roman Empire"
                                },
                                {
                                    "0": "Donald Hall, Barbara Cooney",
                                    "1": "Ox-Cart Man (Picture Puffin)"
                                },
                                {
                                    "0": "Hugh Lofting, Michael Hague",
                                    "1": "The Voyages of Doctor Dolittle (Doctor Dolittle, #2)"
                                },
                                {
                                    "0": "Jeff Lemire, José Villarrubia, Carlos M. Mangual",
                                    "1": "Sweet Tooth, Volume 1: Out of the Deep Woods"
                                },
                                {
                                    "0": "Warren Ellis, Adi Granov",
                                    "1": "Iron Man: Extremis"
                                },
                                {
                                    "0": "H.P. Lovecraft, Les Edwards, Stephen Jones",
                                    "1": "Necronomicon: The Best Weird Tales"
                                },
                                {
                                    "0": "Scott Snyder, Greg Capullo, Jonathan Glapion",
                                    "1": "Batman, Volume 3: Death of the Family"
                                },
                                {
                                    "0": "E.E. Cummings, Richard S. Kennedy",
                                    "1": "Selected Poems"
                                },
                                {
                                    "0": "Amanda Berry, Gina DeJesus, Mary Jordan, Kevin Sullivan",
                                    "1": "Hope: A Memoir of Survival in Cleveland"
                                },
                                {
                                    "0": "Lucy Sykes, Jo Piazza",
                                    "1": "The Knockoff"
                                },
                                {
                                    "0": "Else Holmelund Minarik, Maurice Sendak",
                                    "1": "A Kiss for Little Bear (An I Can Read Book) by Minarik, Else Holmelund [1984]"
                                },
                                {
                                    "0": "Tom Clancy, Mark Greaney",
                                    "1": "Command Authority (Jack Ryan Universe, #16)"
                                },
                                {
                                    "0": "Loek Koopmans, Charles Perrault, Anthea Bell",
                                    "1": "Cinderella"
                                },
                                {
                                    "0": "Stan Berenstain, Jan Berenstain",
                                    "1": "The Berenstain Bears and Too Much TV"
                                },
                                {
                                    "0": "Penelope Douglas, Jeremy York, Tatiana Sokolov",
                                    "1": "Corrupt (Devil's Night, #1)"
                                },
                                {
                                    "0": "Lynsay Sands, Jeaniene Frost",
                                    "1": "The Bite Before Christmas (Argeneau, #15.5; Night Huntress, #6.5)"
                                },
                                {
                                    "0": "Amy Brown, Charles  de Lint",
                                    "1": "The Art of Amy Brown"
                                },
                                {
                                    "0": "Martin Waddell, Patrick Benson",
                                    "1": "Owl Babies"
                                },
                                {
                                    "0": "Ted Andrews, Winston Allen, Margaret K. Andrews",
                                    "1": "Animal-Speak: The Spiritual & Magical Powers of Creatures Great & Small"
                                },
                                {
                                    "0": "Perry Moore, Andrew Adamson, C.S. Lewis",
                                    "1": "The Chronicles of Narnia - The Lion, the Witch, and the Wardrobe Official Illustrated Movie Companion"
                                },
                                {
                                    "0": "Joan Aiken, Pat Marriott",
                                    "1": "The Wolves of Willoughby Chase (The Wolves Chronicles, #1)"
                                },
                                {
                                    "0": "Matsuri Hino, Tomo Kimura",
                                    "1": "Vampire Knight, Vol. 3 (Vampire Knight, #3)"
                                },
                                {
                                    "0": "Mary Pope Osborne, Salvatore Murdocca",
                                    "1": "Mummies in the Morning (Magic Tree House, #3)"
                                },
                                {
                                    "0": "Jack Kerouac, Joyce Johnson",
                                    "1": "Desolation Angels"
                                },
                                {
                                    "0": "W.G. Sebald, Anthea Bell",
                                    "1": "Austerlitz"
                                },
                                {
                                    "0": "Esther Hicks, Jerry Hicks",
                                    "1": "Money, and the Law of Attraction: Learning to Attract Wealth, Health, and Happiness"
                                },
                                {
                                    "0": "Tom Clancy, Mark Greaney",
                                    "1": "Locked On (Jack Ryan Universe, #14)"
                                },
                                {
                                    "0": "Jacqueline Wilson, Nick Sharratt",
                                    "1": "The Illustrated Mum"
                                },
                                {
                                    "0": "Aleksandr Griboyedov, Александр Сергеевич Грибоедов",
                                    "1": "Горе от ума"
                                },
                                {
                                    "0": "Howard Dully, Charles Fleming",
                                    "1": "My Lobotomy"
                                },
                                {
                                    "0": "Ellen Levine, Kadir Nelson",
                                    "1": "Henry's Freedom Box: A True Story from the Underground Railroad"
                                },
                                {
                                    "0": "Kami Garcia, Margaret Stohl",
                                    "1": "Dream Dark (Caster Chronicles, #2.5)"
                                },
                                {
                                    "0": "Abigail Haas, Abby McDonald",
                                    "1": "Dangerous Girls"
                                },
                                {
                                    "0": "Malvina G. Vogel, Arthur Conan Doyle",
                                    "1": "Sherlock Holmes and the Case of the Hound of the Baskervilles (Illustrated Classic Editions)"
                                },
                                {
                                    "0": "Matsuri Hino, Tomo Kimura",
                                    "1": "Vampire Knight, Vol. 2 (Vampire Knight, #2)"
                                },
                                {
                                    "0": "Grady Hendrix, Michael Rogalski",
                                    "1": "Horrorstör"
                                },
                                {
                                    "0": "Joss Whedon, John Cassaday",
                                    "1": "Astonishing X-Men, Volume 2: Dangerous"
                                },
                                {
                                    "0": "Inga Muscio, Betty Dodson",
                                    "1": "Cunt: A Declaration of Independence"
                                },
                                {
                                    "0": "Naguib Mahfouz, نجيب محفوظ",
                                    "1": "الحرافيش"
                                },
                                {
                                    "0": "Giulia Enders, Jill Enders",
                                    "1": "Gut: The Inside Story of Our Body’s Most Underrated Organ"
                                },
                                {
                                    "0": "John M. Gottman, Nan Silver",
                                    "1": "The Seven Principles for Making Marriage Work: A Practical Guide from the Country's Foremost Relationship Expert"
                                },
                                {
                                    "0": "Yukio Mishima, John Nathan",
                                    "1": "The Sailor Who Fell from Grace with the Sea"
                                },
                                {
                                    "0": "Steve Perry, Tom Clancy, Steve Pieczenik",
                                    "1": "Breaking Point (Tom Clancy's Net Force, #4)"
                                },
                                {
                                    "0": "Michael Buckley, Peter Ferguson",
                                    "1": "The Everafter War (The Sisters Grimm, #7)"
                                }
                            ]
                        },
                        "text/html": [
                            "<table>",
                            "<tr><th>authors</th><th>title</th></tr>",
                            "<tr><td>J.K. Rowling, Mary GrandPré</td><td>Harry Potter and the Sorcerer's Stone (Harry Potter, #1)</td></tr>",
                            "<tr><td>George Orwell, Erich Fromm, Celâl Üster</td><td>1984</td></tr>",
                            "<tr><td>Anne Frank, Eleanor Roosevelt, B.M. Mooyaart-Doubleday</td><td>The Diary of a Young Girl</td></tr>",
                            "<tr><td>Stieg Larsson, Reg Keeland</td><td>The Girl with the Dragon Tattoo (Millennium, #1)</td></tr>",
                            "<tr><td>J.K. Rowling, Mary GrandPré, Rufus Beck</td><td>Harry Potter and the Prisoner of Azkaban (Harry Potter, #3)</td></tr>",
                            "<tr><td>J.K. Rowling, Mary GrandPré</td><td>Harry Potter and the Order of the Phoenix (Harry Potter, #5)</td></tr>",
                            "<tr><td>J.K. Rowling, Mary GrandPré</td><td>Harry Potter and the Chamber of Secrets (Harry Potter, #2)</td></tr>",
                            "<tr><td>J.K. Rowling, Mary GrandPré</td><td>Harry Potter and the Goblet of Fire (Harry Potter, #4)</td></tr>",
                            "<tr><td>J.K. Rowling, Mary GrandPré</td><td>Harry Potter and the Deathly Hallows (Harry Potter, #7)</td></tr>",
                            "<tr><td>J.K. Rowling, Mary GrandPré</td><td>Harry Potter and the Half-Blood Prince (Harry Potter, #6)</td></tr>",
                            "<tr><td>William Shakespeare, Robert           Jackson</td><td>Romeo and Juliet</td></tr>",
                            "<tr><td>Paulo Coelho, Alan R. Clarke</td><td>The Alchemist</td></tr>",
                            "<tr><td>Charlotte Brontë, Michael Mason</td><td>Jane Eyre</td></tr>",
                            "<tr><td>Mark Twain, John Seelye, Guy Cardwell</td><td>The Adventures of Huckleberry Finn</td></tr>",
                            "<tr><td>E.B. White, Garth Williams, Rosemary Wells</td><td>Charlotte's Web</td></tr>",
                            "<tr><td>Emily Brontë, Richard J. Dunn</td><td>Wuthering Heights</td></tr>",
                            "<tr><td>Mary Wollstonecraft Shelley, Percy Bysshe Shelley, Maurice Hindle</td><td>Frankenstein</td></tr>",
                            "<tr><td>Jane Austen, Tony Tanner, Ros Ballaster</td><td>Sense and Sensibility</td></tr>",
                            "<tr><td>Louis Sachar, Louis Sachar</td><td>Holes (Holes, #1)</td></tr>",
                            "<tr><td>Homer, Robert Fagles, E.V. Rieu, Frédéric Mugler, Bernard Knox</td><td>The Odyssey</td></tr>",
                            "<tr><td>Antoine de Saint-Exupéry, Richard Howard, Dom Marcos Barbosa, Melina Karakosta</td><td>The Little Prince</td></tr>",
                            "<tr><td>Charles Dickens, Richard Maxwell, Hablot Knight Browne</td><td>A Tale of Two Cities</td></tr>",
                            "<tr><td>Elie Wiesel, Marion Wiesel</td><td>Night (The Night Trilogy #1)</td></tr>",
                            "<tr><td>Steven D. Levitt, Stephen J. Dubner</td><td>Freakonomics: A Rogue Economist Explores the Hidden Side of Everything (Freakonomics, #1)</td></tr>",
                            "<tr><td>Gabriel García Márquez, Gregory Rabassa</td><td>One Hundred Years of Solitude</td></tr>",
                            "<tr><td>Oscar Wilde, Jeffrey Eugenides</td><td>The Picture of Dorian Gray</td></tr>",
                            "<tr><td>Bram Stoker, Nina Auerbach, David J. Skal</td><td>Dracula</td></tr>",
                            "<tr><td>Stieg Larsson, Reg Keeland</td><td>The Girl Who Played with Fire (Millennium, #2)</td></tr>",
                            "<tr><td>Alexandre Dumas, Robin Buss</td><td>The Count of Monte Cristo</td></tr>",
                            "<tr><td>Victor Hugo, Lee Fahnestock, Norman MacAfee</td><td>Les Misérables</td></tr>",
                            "<tr><td>Mitch Albom, Saulius Dagys</td><td>Tuesdays with Morrie</td></tr>",
                            "<tr><td>Mark Twain, Guy Cardwell, John Seelye</td><td>The Adventures of Tom Sawyer</td></tr>",
                            "<tr><td>Vladimir Nabokov, Craig Raine</td><td>Lolita</td></tr>",
                            "<tr><td>Gregory Maguire, Douglas Smith</td><td>Wicked: The Life and Times of the Wicked Witch of the West (The Wicked Years, #1)</td></tr>",
                            "<tr><td>William Shakespeare, Richard Andrews, Rex Gibson</td><td>Hamlet</td></tr>",
                            "<tr><td>Nathaniel Hawthorne, Thomas E. Connolly, Nina Baym</td><td>The Scarlet Letter</td></tr>",
                            "<tr><td>Stieg Larsson, Reg Keeland</td><td>The Girl Who Kicked the Hornet's Nest (Millennium, #3)</td></tr>",
                            "<tr><td>Dr. Seuss, לאה נאור</td><td>Green Eggs and Ham</td></tr>",
                            "<tr><td>Roald Dahl, Quentin Blake</td><td>Charlie and the Chocolate Factory (Charlie Bucket, #1)</td></tr>",
                            "<tr><td>Albert Camus, Matthew    Ward</td><td>The Stranger</td></tr>",
                            "<tr><td>Stephen King, Bernie Wrightson</td><td>The Stand</td></tr>",
                            "<tr><td>Jane Austen, Fiona Stafford</td><td>Emma</td></tr>",
                            "<tr><td>Leo Tolstoy, Louise Maude, Leo Tolstoj, Aylmer Maude</td><td>Anna Karenina</td></tr>",
                            "<tr><td>Fyodor Dostoyevsky, David McDuff</td><td>Crime and Punishment</td></tr>",
                            "<tr><td>Hermann Hesse, Hilda Rosner</td><td>Siddhartha</td></tr>",
                            "<tr><td>Kami Garcia, Margaret Stohl</td><td>Beautiful Creatures (Caster Chronicles, #1)</td></tr>",
                            "<tr><td>Roald Dahl, Quentin Blake</td><td>Matilda</td></tr>",
                            "<tr><td>Alan Moore, Dave Gibbons, John Higgins</td><td>Watchmen</td></tr>",
                            "<tr><td>Herman Melville, Andrew Delbanco, Tom Quirk</td><td>Moby-Dick or, The Whale</td></tr>",
                            "<tr><td>Mary Ann Shaffer, Annie Barrows</td><td>The Guernsey Literary and Potato Peel Pie Society</td></tr>",
                            "<tr><td>Franz Kafka, Stanley Corngold</td><td>The Metamorphosis</td></tr>",
                            "<tr><td>Erik Larson, Tony Goldwyn</td><td>The Devil in the White City: Murder, Magic, and Madness at the Fair That Changed America</td></tr>",
                            "<tr><td>C.S. Lewis, Pauline Baynes</td><td>The Chronicles of Narnia (Chronicles of Narnia, #1-7)</td></tr>",
                            "<tr><td>Emma McLaughlin, Nicola Kraus</td><td>The Nanny Diaries (Nanny, #1)</td></tr>",
                            "<tr><td>Lewis Carroll, John Tenniel, Martin Gardner</td><td>Alice's Adventures in Wonderland &amp; Through the Looking-Glass</td></tr>",
                            "<tr><td>Jane Austen, James Kinsley, Deidre Shauna Lynch</td><td>Persuasion</td></tr>",
                            "<tr><td>Gabriel García Márquez, Edith Grossman</td><td>Love in the Time of Cholera</td></tr>",
                            "<tr><td>P.C. Cast, Kristin Cast</td><td>Marked (House of Night, #1)</td></tr>",
                            "<tr><td>William Shakespeare, Barbara A. Mowat, Paul Werstine, Catherine Belsey</td><td>A Midsummer Night's Dream</td></tr>",
                            "<tr><td>Robert Galbraith, J.K. Rowling</td><td>The Cuckoo's Calling (Cormoran Strike, #1)</td></tr>",
                            "<tr><td>Ayn Rand, Leonard Peikoff</td><td>Atlas Shrugged</td></tr>",
                            "<tr><td>Greg Mortenson, David Oliver Relin</td><td>Three Cups of Tea: One Man's Mission to Promote Peace ... One School at a Time</td></tr>",
                            "<tr><td>Jane Carruth, Lewis Carroll, Rene Cloke</td><td>Alice in Wonderland</td></tr>",
                            "<tr><td>Carlos Ruiz Zafón, Lucia Graves</td><td>The Shadow of the Wind (The Cemetery of Forgotten Books,  #1)</td></tr>",
                            "<tr><td>Daphne du Maurier, Sally Beauman</td><td>Rebecca</td></tr>",
                            "<tr><td>Laura Esquivel, Thomas  Christensen, Carol Christensen</td><td>Like Water for Chocolate</td></tr>",
                            "<tr><td>Mario Puzo, Robert Thompson, Peter Bart</td><td>The Godfather</td></tr>",
                            "<tr><td>John Tiffany, Jack Thorne, J.K. Rowling</td><td>Harry Potter and the Cursed Child - Parts One and Two (Harry Potter, #8)</td></tr>",
                            "<tr><td>Terry Pratchett, Neil Gaiman</td><td>Good Omens: The Nice and Accurate Prophecies of Agnes Nutter, Witch</td></tr>",
                            "<tr><td>Ayn Rand, Leonard Peikoff</td><td>The Fountainhead</td></tr>",
                            "<tr><td>C.S. Lewis, Pauline Baynes</td><td>The Voyage of the Dawn Treader (Chronicles of Narnia, #3)</td></tr>",
                            "<tr><td>H.G. Wells, Greg Bear, Carlo Pagetti</td><td>The Time Machine</td></tr>",
                            "<tr><td>Todd Burpo, Lynn Vincent</td><td>Heaven is for Real: A Little Boy's Astounding Story of His Trip to Heaven and Back</td></tr>",
                            "<tr><td>Neil Gaiman, Dave McKean</td><td>The Graveyard Book</td></tr>",
                            "<tr><td>Cornelia Funke, Anthea Bell</td><td>Inkheart (Inkworld, #1)</td></tr>",
                            "<tr><td>Spencer Johnson, Kenneth H. Blanchard</td><td>Who Moved My Cheese?</td></tr>",
                            "<tr><td>Milan Kundera, Michael Henry Heim</td><td>The Unbearable Lightness of Being</td></tr>",
                            "<tr><td>Randy Pausch, Jeffrey Zaslow</td><td>The Last Lecture</td></tr>",
                            "<tr><td>Roald Dahl, Quentin Blake</td><td>James and the Giant Peach</td></tr>",
                            "<tr><td>Margaret Wise Brown, Clement Hurd</td><td>Goodnight Moon</td></tr>",
                            "<tr><td>Homer, Robert Fagles, Frédéric Mugler, Bernard Knox</td><td>The Iliad</td></tr>",
                            "<tr><td>L. Frank Baum, W.W. Denslow</td><td>The Wonderful Wizard of Oz (Oz, #1)</td></tr>",
                            "<tr><td>Hunter S. Thompson, Ralph Steadman</td><td>Fear and Loathing in Las Vegas</td></tr>",
                            "<tr><td>Lemony Snicket, Brett Helquist</td><td>The Bad Beginning (A Series of Unfortunate Events, #1)</td></tr>",
                            "<tr><td>Erich Maria Remarque, A.W. Wheen</td><td>All Quiet on the Western Front</td></tr>",
                            "<tr><td>Philip K. Dick, Roger Zelazny</td><td>Do Androids Dream of Electric Sheep?</td></tr>",
                            "<tr><td>Charles Dickens, George Cruikshank, Philip Horne</td><td>Oliver Twist</td></tr>",
                            "<tr><td>Alan Moore, David   Lloyd</td><td>V for Vendetta</td></tr>",
                            "<tr><td>Roald Dahl, Quentin Blake</td><td>The BFG</td></tr>",
                            "<tr><td>Haruki Murakami, Jay Rubin</td><td>Norwegian Wood</td></tr>",
                            "<tr><td>John Green, David Levithan</td><td>Will Grayson, Will Grayson</td></tr>",
                            "<tr><td>Arthur Miller, Christopher Bigsby</td><td>The Crucible</td></tr>",
                            "<tr><td>Robert Louis Stevenson, Vladimir Nabokov, Mervyn Peake, Dan Chaon</td><td>The Strange Case of Dr. Jekyll and Mr. Hyde</td></tr>",
                            "<tr><td>Patrick Süskind, John E. Woods</td><td>Perfume: The Story of a Murderer</td></tr>",
                            "<tr><td>Sun Tzu, Thomas Cleary</td><td>The Art of War</td></tr>",
                            "<tr><td>Roald Dahl, Quentin Blake</td><td>The Witches</td></tr>",
                            "<tr><td>Umberto Eco, William Weaver, Seán Barrett</td><td>The Name of the Rose</td></tr>",
                            "<tr><td>Beatrice Sparks, Anonymous</td><td>Go Ask Alice</td></tr>",
                            "<tr><td>John Kennedy Toole, Walker Percy</td><td>A Confederacy of Dunces</td></tr>",
                            "<tr><td>Haruki Murakami, Philip Gabriel</td><td>Kafka on the Shore</td></tr>",
                            "<tr><td>Stephen Hawking, Cao Chi, Phạm Văn Thiều</td><td>A Brief History of Time</td></tr>",
                            "<tr><td>A.A. Milne, Ernest H. Shepard</td><td>Winnie-the-Pooh (Winnie-the-Pooh, #1)</td></tr>",
                            "<tr><td>P.C. Cast, Kristin Cast</td><td>Betrayed (House of Night, #2)</td></tr>",
                            "<tr><td>Jane Austen, Alfred MacAdam</td><td>Northanger Abbey</td></tr>",
                            "<tr><td>Laura Joffe Numeroff, Felicia Bond</td><td>If You Give a Mouse a Cookie</td></tr>",
                            "<tr><td>Fredrik Backman, Henning Koch</td><td>A Man Called Ove</td></tr>",
                            "<tr><td>Chuck Dixon, J.R.R. Tolkien, David Wenzel, Sean Deming</td><td>The Hobbit: Graphic Novel</td></tr>",
                            "<tr><td>Newt Scamander, J.K. Rowling, Albus Dumbledore</td><td>Fantastic Beasts and Where to Find Them</td></tr>",
                            "<tr><td>Malala Yousafzai, Christina Lamb</td><td>I Am Malala: The Story of the Girl Who Stood Up for Education and Was Shot by the Taliban</td></tr>",
                            "<tr><td>Jane Austen, Kathryn Sutherland, Tony Tanner, Claire Lamont</td><td>Mansfield Park</td></tr>",
                            "<tr><td>Daniel Defoe, Gerald McCann, Virginia Woolf</td><td>Robinson Crusoe</td></tr>",
                            "<tr><td>Niccolò Machiavelli, Adolph Caso, Rufus Goodwin, Benjamin Martinez</td><td>The Prince</td></tr>",
                            "<tr><td>Fyodor Dostoyevsky, Richard Pevear, Larissa Volokhonsky</td><td>The Brothers Karamazov</td></tr>",
                            "<tr><td>P.C. Cast, Kristin Cast</td><td>Untamed (House of Night, #4)</td></tr>",
                            "<tr><td>Leo Tolstoy, Henry Gifford, Aylmer Maude, Louise Maude</td><td>War and Peace</td></tr>",
                            "<tr><td>Robert Kirkman, Tony Moore</td><td>The Walking Dead, Vol. 01: Days Gone Bye</td></tr>",
                            "<tr><td>Tim LaHaye, Jerry B. Jenkins</td><td>Left Behind (Left Behind, #1)</td></tr>",
                            "<tr><td>Corrie ten Boom, John Sherrill, Elizabeth Sherrill</td><td>The Hiding Place: The Triumphant True Story of Corrie Ten Boom</td></tr>",
                            "<tr><td>J.M. Barrie, Michael Hague</td><td>Peter Pan</td></tr>",
                            "<tr><td>Haruki Murakami, Jay Rubin</td><td>The Wind-Up Bird Chronicle</td></tr>",
                            "<tr><td>Jonathan Swift, Robert DeMaria Jr.</td><td>Gulliver's Travels</td></tr>",
                            "<tr><td>William Shakespeare, Barbara A. Mowat, Paul Werstine, Gail Kern Paster, Robert          Jackson</td><td>Much Ado About Nothing</td></tr>",
                            "<tr><td>Unknown, Seamus Heaney</td><td>Beowulf</td></tr>",
                            "<tr><td>Frank Miller, David Mazzucchelli, Richmond Lewis, Dennis O'Neil</td><td>Batman: Year One</td></tr>",
                            "<tr><td>Frances Hodgson Burnett, Nancy Bond</td><td>A Little Princess</td></tr>",
                            "<tr><td>Laura Ingalls Wilder, Garth Williams</td><td>Little House on the Prairie (Little House, #2)</td></tr>",
                            "<tr><td>Margery Williams Bianco, William   Nicholson</td><td>The Velveteen Rabbit</td></tr>",
                            "<tr><td>H.G. Wells, Arthur C. Clarke</td><td>The War of the Worlds</td></tr>",
                            "<tr><td>Kenneth Branagh, William Shakespeare</td><td>Hamlet: Screenplay, Introduction And Film Diary</td></tr>",
                            "<tr><td>Thomas Hardy, Tim Dolin, Margaret R. Higonnet</td><td>Tess of the D'Urbervilles</td></tr>",
                            "<tr><td>Gustave Flaubert, Margaret Mauldon, Malcolm Bowie, Mark Overstall</td><td>Madame Bovary</td></tr>",
                            "<tr><td>Norton Juster, Jules Feiffer</td><td>The Phantom Tollbooth</td></tr>",
                            "<tr><td>Frank Miller, Klaus Janson, Lynn Varley</td><td>Batman: The Dark Knight Returns (The Dark Knight Saga, #1)</td></tr>",
                            "<tr><td>Stephen King, Marie Milpois</td><td>Christine</td></tr>",
                            "<tr><td>Tsugumi Ohba, Takeshi Obata</td><td>Death Note, Vol. 1: Boredom (Death Note, #1)</td></tr>",
                            "<tr><td>Charles Dickens, Jeremy Tambling</td><td>David Copperfield</td></tr>",
                            "<tr><td>Sherman Alexie, Ellen Forney</td><td>The Absolutely True Diary of a Part-Time Indian</td></tr>",
                            "<tr><td>Mikhail Bulgakov, Katherine Tiernan O'Connor, Diana Burgin, Ellendea Proffer</td><td>The Master and Margarita</td></tr>",
                            "<tr><td>Kate DiCamillo, Chris Sheban</td><td>Because of Winn-Dixie</td></tr>",
                            "<tr><td>Miguel de Cervantes Saavedra, Roberto González Echevarría, John Rutherford</td><td>Don Quixote</td></tr>",
                            "<tr><td>C.S. Lewis, Pauline Baynes</td><td>The Silver Chair (Chronicles of Narnia, #4)</td></tr>",
                            "<tr><td>Richard Bach, Russell Munson</td><td>Jonathan Livingston Seagull</td></tr>",
                            "<tr><td>Robert Munsch, Sheila McGraw</td><td>Love You Forever</td></tr>",
                            "<tr><td>J.R.R. Tolkien, Christopher Tolkien, Ted Nasmith</td><td>The Silmarillion (Middle-Earth Universe)</td></tr>",
                            "<tr><td>Franz Kafka, Edwin Muir, Willa Muir, Max Brod</td><td>The Trial</td></tr>",
                            "<tr><td>Arthur Conan Doyle, Anne Perry</td><td>The Hound of the Baskervilles</td></tr>",
                            "<tr><td>Jon Scieszka, Lane Smith</td><td>The True Story of the 3 Little Pigs</td></tr>",
                            "<tr><td>Paulo Coelho, Margaret Jull Costa</td><td>Veronika Decides to Die</td></tr>",
                            "<tr><td>Sheryl Sandberg, Nell Scovell</td><td>Lean In: Women, Work, and the Will to Lead</td></tr>",
                            "<tr><td>Jostein Gaarder, Paulette Møller</td><td>Sophie's World</td></tr>",
                            "<tr><td>Johanna Spyri, Angelo  Rinaldi, Beverly Cleary</td><td>Heidi</td></tr>",
                            "<tr><td>P.C. Cast, Kristin Cast</td><td>Chosen (House of Night, #3)</td></tr>",
                            "<tr><td>Geoffrey Chaucer, Nevill Coghill</td><td>The Canterbury Tales</td></tr>",
                            "<tr><td>Haruki Murakami, Jay Rubin, Philip Gabriel</td><td>1Q84</td></tr>",
                            "<tr><td>Gaston Leroux, Alexander Teixeira de Mattos</td><td>The Phantom of the Opera</td></tr>",
                            "<tr><td>José Saramago, Giovanni Pontiero</td><td>Blindness</td></tr>",
                            "<tr><td>Judith Viorst, Ray Cruz</td><td>Alexander and the Terrible, Horrible, No Good, Very Bad Day</td></tr>",
                            "<tr><td>Isabel Allende, Magda Bogin</td><td>The House of the Spirits</td></tr>",
                            "<tr><td>Agatha Christie, Ροζίτα Σώκου</td><td>The Mysterious Affair at Styles (Hercule Poirot, #1)</td></tr>",
                            "<tr><td>Laura Ingalls Wilder, Garth Williams</td><td>Little House in the Big Woods (Little House, #1)</td></tr>",
                            "<tr><td>Robert Galbraith, J.K. Rowling</td><td>The Silkworm (Cormoran Strike, #2)</td></tr>",
                            "<tr><td>Jules Verne, Anthony Bonner</td><td>Twenty Thousand Leagues Under the Sea</td></tr>",
                            "<tr><td>Virginia Woolf, Maureen Howard</td><td>Mrs. Dalloway</td></tr>",
                            "<tr><td>Jonas Jonasson, Rod Bradbury</td><td>The Hundred-Year-Old Man Who Climbed Out of the Window and Disappeared</td></tr>",
                            "<tr><td>Richard Bachman, Stephen King</td><td>Thinner</td></tr>",
                            "<tr><td>Jules Verne, Michael Glencross, Brian W. Aldiss</td><td>Around the World in Eighty Days</td></tr>",
                            "<tr><td>Paulo Coelho, Margaret Jull Costa</td><td>Eleven Minutes</td></tr>",
                            "<tr><td>Stephen King, Ned Dameron</td><td>The Waste Lands (The Dark Tower, #3)</td></tr>",
                            "<tr><td>Bernhard Schlink, Carol Brown Janeway</td><td>The Reader</td></tr>",
                            "<tr><td>Bill Martin Jr., Eric Carle</td><td>Brown Bear, Brown Bear, What Do You See?</td></tr>",
                            "<tr><td>Alan Moore, Brian Bolland, Tim Sale</td><td>Batman: The Killing Joke</td></tr>",
                            "<tr><td>Laura Ingalls Wilder, Garth Williams</td><td>The Little House Collection (Little House, #1-9)</td></tr>",
                            "<tr><td>Malcolm X, Alex Haley</td><td>The Autobiography of Malcolm X</td></tr>",
                            "<tr><td>Neil Gaiman, Sam Kieth, Mike Dringenberg, Malcolm Jones III, Todd Klein, Karen  Berger</td><td>Preludes &amp; Nocturnes (The Sandman #1)</td></tr>",
                            "<tr><td>William Shakespeare, Roma Gill</td><td>Julius Caesar</td></tr>",
                            "<tr><td>Plato, Desmond Lee</td><td>The Republic</td></tr>",
                            "<tr><td>Victor Hugo, Walter J. Cobb</td><td>The Hunchback of Notre-Dame</td></tr>",
                            "<tr><td>Bill Watterson, G.B. Trudeau</td><td>Calvin and Hobbes</td></tr>",
                            "<tr><td>P.C. Cast, Kristin Cast</td><td>Hunted (House of Night, #5)</td></tr>",
                            "<tr><td>Irvine Welsh, Eric Lindor Fall</td><td>Trainspotting</td></tr>",
                            "<tr><td>Jacob Grimm, Wilhelm Grimm, Josef Scharl, Padraic Colum, Joseph Campbell, Margaret Raine Hunt, James Stern</td><td>The Complete Grimm's Fairy Tales</td></tr>",
                            "<tr><td>Francis Chan, Danae Yankoski, Chris Tomlin</td><td>Crazy Love: Overwhelmed by a Relentless God</td></tr>",
                            "<tr><td>Natsuki Takaya, Alethea Nibley, Athena Nibley</td><td>Fruits Basket, Vol. 1</td></tr>",
                            "<tr><td>P.C. Cast, Kristin Cast</td><td>Burned (House of Night, #7)</td></tr>",
                            "<tr><td>Stephen King, Dave McKean</td><td>Wizard and Glass (The Dark Tower, #4)</td></tr>",
                            "<tr><td>Aldous Huxley, Christopher Hitchens</td><td>Brave New World / Brave New World Revisited</td></tr>",
                            "<tr><td>P.C. Cast, Kristin Cast</td><td>Tempted (House of Night, #6)</td></tr>",
                            "<tr><td>Stephen King, William Olivier Desmond</td><td>Dreamcatcher</td></tr>",
                            "<tr><td>Sophocles, J.E. Thomas</td><td>Oedipus Rex  (The Theban Plays, #1)</td></tr>",
                            "<tr><td>Kenneth Grahame, Gillian Avery</td><td>The Wind in the Willows</td></tr>",
                            "<tr><td>Marjane Satrapi, Mattias Ripa</td><td>Persepolis: The Story of a Childhood (Persepolis, #1)</td></tr>",
                            "<tr><td>Masashi Kishimoto, Katy Bridges</td><td>Naruto, Vol. 01: The Tests of the Ninja (Naruto, #1)</td></tr>",
                            "<tr><td>William Shakespeare, Robert          Jackson, Barbara A. Mowat, Paul Werstine</td><td>The Merchant of Venice</td></tr>",
                            "<tr><td>Bill Martin Jr., John Archambault, Lois Ehlert</td><td>Chicka Chicka Boom Boom</td></tr>",
                            "<tr><td>George Orwell, Christopher Hitchens</td><td>Animal Farm / 1984</td></tr>",
                            "<tr><td>Paul Kalanithi, Abraham Verghese</td><td>When Breath Becomes Air</td></tr>",
                            "<tr><td>Sam McBratney, Anita Jeram</td><td>Guess How Much I Love You</td></tr>",
                            "<tr><td>Stephen King, John D. MacDonald</td><td>Night Shift</td></tr>",
                            "<tr><td>Astrid Lindgren, Lauren Child, Florence Lamborn, Nancy Seligsohn</td><td>Pippi Longstocking</td></tr>",
                            "<tr><td>Muriel Barbery, Alison Anderson</td><td>The Elegance of the Hedgehog</td></tr>",
                            "<tr><td>Doris Kearns Goodwin, Suzanne Toren</td><td>Team of Rivals: The Political Genius of Abraham Lincoln</td></tr>",
                            "<tr><td>Albert Camus, Stuart Gilbert</td><td>The Plague</td></tr>",
                            "<tr><td>Lemony Snicket, Brett Helquist</td><td>The Reptile Room (A Series of Unfortunate Events, #2)</td></tr>",
                            "<tr><td>Michael Ende, Ralph Manheim, Roswitha Quadflieg</td><td>The Neverending Story</td></tr>",
                            "<tr><td>Upton Sinclair, Earl Lee, Kathleen DeGrave</td><td>The Jungle</td></tr>",
                            "<tr><td>Hiromu Arakawa, Akira Watanabe</td><td>Fullmetal Alchemist, Vol. 1 (Fullmetal Alchemist, #1)</td></tr>",
                            "<tr><td>Edith Wharton, Maureen Howard</td><td>The Age of Innocence</td></tr>",
                            "<tr><td>Judi Barrett, Ron Barrett</td><td>Cloudy With a Chance of Meatballs</td></tr>",
                            "<tr><td>Irma S. Rombauer, Marion Rombauer Becker, Ethan Becker</td><td>The Joy of Cooking</td></tr>",
                            "<tr><td>Stephen King, Bettina Blanch Tyroller</td><td>Insomnia</td></tr>",
                            "<tr><td>Marie Kondō, Cathy Hirano</td><td>The Life-Changing Magic of Tidying Up: The Japanese Art of Decluttering and Organizing</td></tr>",
                            "<tr><td>Jennifer Niven, فرانک معنوی</td><td>All the Bright Places</td></tr>",
                            "<tr><td>Isabel Allende, Margaret Sayers Peden</td><td>Daughter of Fortune</td></tr>",
                            "<tr><td>Lena Dunham, Joana Avillez</td><td>Not That Kind of Girl: A Young Woman Tells You What She's &quot;Learned&quot;</td></tr>",
                            "<tr><td>Stephen King, Bernie Wrightson</td><td>Wolves of the Calla (The Dark Tower, #5)</td></tr>",
                            "<tr><td>James Joyce, Seamus Deane</td><td>A Portrait of the Artist as a Young Man</td></tr>",
                            "<tr><td>Robert Jordan, Brandon Sanderson</td><td>The Gathering Storm (Wheel of Time, #12)</td></tr>",
                            "<tr><td>George Eliot, Michel Faber</td><td>Middlemarch</td></tr>",
                            "<tr><td>Marcus Pfister, J. Alison James</td><td>The Rainbow Fish</td></tr>",
                            "<tr><td>Vincent Bugliosi, Curt Gentry</td><td>Helter Skelter: The True Story of the Manson Murders</td></tr>",
                            "<tr><td>Robert Kapilow, Dr. Seuss</td><td>Dr. Seuss's Green Eggs and Ham: For Soprano, Boy Soprano, and Orchestra</td></tr>",
                            "<tr><td>Dante Alighieri, Anthony M. Esolen</td><td>Inferno (The Divine Comedy #1)</td></tr>",
                            "<tr><td>John Milton, John      Leonard</td><td>Paradise Lost</td></tr>",
                            "<tr><td>Patrick Ness, Jim Kay, Siobhan Dowd</td><td>A Monster Calls</td></tr>",
                            "<tr><td>Robert Jordan, Brandon Sanderson</td><td>Towers of Midnight (Wheel of Time, #13)</td></tr>",
                            "<tr><td>Jason Fried, David Heinemeier Hansson</td><td>Rework</td></tr>",
                            "<tr><td>Stephenie Meyer, Ilyana Kadushin, Matt Walters</td><td>The Twilight Saga (Twilight, #1-4)</td></tr>",
                            "<tr><td>Jon Stone, Michael J. Smollin</td><td>The Monster at the End of this Book</td></tr>",
                            "<tr><td>Herman Koch, Sam Garrett</td><td>The Dinner</td></tr>",
                            "<tr><td>Chris Kyle, Scott McEwen, Jim DeFelice</td><td>American Sniper: The Autobiography of the Most Lethal Sniper in U.S. Military History</td></tr>",
                            "<tr><td>Hermann Hesse, Basil Creighton</td><td>Steppenwolf</td></tr>",
                            "<tr><td>Kate DiCamillo, Timothy Basil Ering</td><td>The Tale of Despereaux</td></tr>",
                            "<tr><td>Barbara Kingsolver, Steven L. Hopp, Camille Kingsolver, Richard A. Houser</td><td>Animal, Vegetable, Miracle: A Year of Food Life</td></tr>",
                            "<tr><td>Brian K. Vaughan, Fiona Staples</td><td>Saga, Vol. 1 (Saga, #1)</td></tr>",
                            "<tr><td>Lemony Snicket, Brett Helquist</td><td>The Wide Window (A Series of Unfortunate Events, #3)</td></tr>",
                            "<tr><td>Seth Grahame-Smith, Jane Austen</td><td>Pride and Prejudice and Zombies (Pride and Prejudice and Zombies, #1)</td></tr>",
                            "<tr><td>Fyodor Dostoyevsky, Constance Garnett, Alan Myers, Joseph Frank, Anna Brailovsky</td><td>The Idiot</td></tr>",
                            "<tr><td>Aziz Ansari, Eric Klinenberg</td><td>Modern Romance</td></tr>",
                            "<tr><td>Katherine Applegate, Patricia Castelao</td><td>The One and Only Ivan</td></tr>",
                            "<tr><td>Stephen King, Darrel Anderson</td><td>Song of Susannah (The Dark Tower, #6)</td></tr>",
                            "<tr><td>Wilkie Collins, Matthew Sweet</td><td>The Woman in White</td></tr>",
                            "<tr><td>Robert Galbraith, J.K. Rowling</td><td>Career of Evil (Cormoran Strike, #3)</td></tr>",
                            "<tr><td>Steven D. Levitt, Stephen J. Dubner</td><td>SuperFreakonomics: Global Cooling, Patriotic Prostitutes And Why Suicide Bombers Should Buy Life Insurance</td></tr>",
                            "<tr><td>William Makepeace Thackeray, John Carey</td><td>Vanity Fair</td></tr>",
                            "<tr><td>Stephen King, Dominique Dill</td><td>Dolores Claiborne</td></tr>",
                            "<tr><td>Bill Willingham, Lan Medina, Steve Leialoha, Craig Hamilton, James Jean</td><td>Fables, Vol. 1: Legends in Exile</td></tr>",
                            "<tr><td>Haruki Murakami, Philip Gabriel</td><td>Colorless Tsukuru Tazaki and His Years of Pilgrimage</td></tr>",
                            "<tr><td>Thomas Hardy, Rosemarie Morgan, Shannon Russell</td><td>Far from the Madding Crowd</td></tr>",
                            "<tr><td>P.C. Cast, Kristin Cast</td><td>Awakened (House of Night, #8)</td></tr>",
                            "<tr><td>Jon Stewart, Ben Karlin, David Javerbaum, Rich Bloomquist, Steve Bodow, Tim Carvell, Eric Drysdale, J.R. Havlan, Scott Jacobson, Tom Johnson, Rob Kutner, Chris Regan, Jason Reich, Jason Ross, Stephen Colbert, Samantha Bee, Rob Corddry, Brendan Hay, Ed Helms</td><td>America (The Book): A Citizen's Guide to Democracy Inaction</td></tr>",
                            "<tr><td>Don Piper, Cecil Murphey</td><td>90 Minutes in Heaven: A True Story of Death and Life</td></tr>",
                            "<tr><td>Lao Tzu, Gia-Fu Feng, Jane English, Chungliang Al Huang, Rowena Pattee Kryder, Toinette Lippe</td><td>Tao Te Ching</td></tr>",
                            "<tr><td>Hans Christian Andersen, Lily Owens, Arthur Rackham, Hans Richter</td><td>The Complete Fairy Tales</td></tr>",
                            "<tr><td>Friedrich Nietzsche, Walter Kaufmann</td><td>Thus Spoke Zarathustra</td></tr>",
                            "<tr><td>Elizabeth Gaskell, Alan Shelston</td><td>North and South</td></tr>",
                            "<tr><td>Aesop, Laura Harris, Laura Gibbs</td><td>Aesop's Fables</td></tr>",
                            "<tr><td>Matsuri Hino, Tomo Kimura</td><td>Vampire Knight, Vol. 1 (Vampire Knight, #1)</td></tr>",
                            "<tr><td>Anne McCaffrey, Teodor Panasiński</td><td>Dragonflight (Dragonriders of Pern, #1)</td></tr>",
                            "<tr><td>John D. Rateliff, J.R.R. Tolkien</td><td>The History of the Hobbit, Part One: Mr. Baggins</td></tr>",
                            "<tr><td>James Joyce, Jeri Johnson</td><td>Dubliners</td></tr>",
                            "<tr><td>Kami Garcia, Margaret Stohl</td><td>Beautiful Darkness (Caster Chronicles, #2)</td></tr>",
                            "<tr><td>Stephen Colbert, Richard Dahm, Paul Dinello, Allison Silverman, Michael Brumm, Eric Drydale, Rob Dubbin, Glenn Eichler, Peter Grosz, Peter Gwinn, Jay Katsir, Laura Krafft, Frank Lesser, Tom Purcell</td><td>I Am America (And So Can You!)</td></tr>",
                            "<tr><td>Kenneth H. Blanchard, Spencer Johnson</td><td>The One Minute Manager</td></tr>",
                            "<tr><td>Lemony Snicket, Brett Helquist</td><td>The Miserable Mill (A Series of Unfortunate Events, #4)</td></tr>",
                            "<tr><td>J. Lynn, Jennifer L. Armentrout</td><td>Wait for You (Wait for You, #1)</td></tr>",
                            "<tr><td>Dante Alighieri, Allen Mandelbaum, Eugenio Montale</td><td>The Divine Comedy</td></tr>",
                            "<tr><td>Benjamin Hoff, Ernest H. Shepard</td><td>The Tao of Pooh</td></tr>",
                            "<tr><td>David Lagercrantz, Stieg Larsson, George Goulding</td><td>The Girl in the Spider's Web (Millennium, #4)</td></tr>",
                            "<tr><td>Mark Twain, Everett H. Emerson</td><td>The Prince and the Pauper</td></tr>",
                            "<tr><td>Elif Shafak, إليف شافاق, ارسلان فصیحی, محمد درويش</td><td>The Forty Rules of Love</td></tr>",
                            "<tr><td>Hajime Isayama, Sheldon Drzka</td><td>Attack on Titan, Vol. 1 (Attack on Titan, #1)</td></tr>",
                            "<tr><td>Elena Ferrante, Ann Goldstein</td><td>My Brilliant Friend (The Neapolitan Novels #1)</td></tr>",
                            "<tr><td>Andrew Clements, Brian Selznick</td><td>Frindle</td></tr>",
                            "<tr><td>Brian K. Vaughan, Pia Guerra, José Marzán Jr.</td><td>Y: The Last Man, Vol. 1: Unmanned</td></tr>",
                            "<tr><td>Anne Tyler, Jennifer Bassett</td><td>The Accidental Tourist</td></tr>",
                            "<tr><td>Haruki Murakami, Alfred Birnbaum</td><td>Hard-Boiled Wonderland and the End of the World</td></tr>",
                            "<tr><td>Paulo Coelho, Alan R. Clarke</td><td>By the River Piedra I Sat Down and Wept</td></tr>",
                            "<tr><td>Johann David Wyss, Scott McKowen, Arthur Pober</td><td>The Swiss Family Robinson  </td></tr>",
                            "<tr><td>Watty Piper, Doris Hauman, George Hauman</td><td>The Little Engine That Could</td></tr>",
                            "<tr><td>E.B. White, Garth Williams</td><td>Stuart Little</td></tr>",
                            "<tr><td>Lemony Snicket, Brett Helquist</td><td>The Austere Academy (A Series of Unfortunate Events, #5)</td></tr>",
                            "<tr><td>Janet Evanovich, Lorelei King</td><td>Hard Eight (Stephanie Plum, #8)</td></tr>",
                            "<tr><td>Lemony Snicket, Brett Helquist</td><td>The Vile Village (A Series of Unfortunate Events, #7)</td></tr>",
                            "<tr><td>Gabriel García Márquez, Gregory Rabassa</td><td>Chronicle of a Death Foretold</td></tr>",
                            "<tr><td>Ronald Holt, Arthur Conan Doyle</td><td>A Scandal in Bohemia (The Adventures of Sherlock Holmes, #1)</td></tr>",
                            "<tr><td>Bill O'Reilly, Martin Dugard</td><td>Killing Lincoln: The Shocking Assassination that Changed America Forever</td></tr>",
                            "<tr><td>Stephen King, Peter Straub</td><td>The Talisman (The Talisman, #1)</td></tr>",
                            "<tr><td>P.L. Travers, Mary Shepard</td><td>Mary Poppins (Mary Poppins, #1)</td></tr>",
                            "<tr><td>Roald Dahl, Quentin Blake</td><td>The Twits</td></tr>",
                            "<tr><td>James Patterson, Peter de Jonge</td><td>The Beach House</td></tr>",
                            "<tr><td>Haruki Murakami, Philip Gabriel</td><td>Sputnik Sweetheart</td></tr>",
                            "<tr><td>Clement C. Moore, Jan Brett</td><td>The Night Before Christmas</td></tr>",
                            "<tr><td>Virgil, Robert Fitzgerald</td><td>The Aeneid</td></tr>",
                            "<tr><td>Haruki Murakami, Jay Rubin</td><td>After Dark</td></tr>",
                            "<tr><td>Kennilworthy Whisp, J.K. Rowling</td><td>Quidditch Through the Ages</td></tr>",
                            "<tr><td>Harry Allard, James  Marshall</td><td>Miss Nelson Is Missing! (Miss Nelson, #1)</td></tr>",
                            "<tr><td>Richard Bachman, Stephen King</td><td>The Long Walk</td></tr>",
                            "<tr><td>Lemony Snicket, Brett Helquist</td><td>The Ersatz Elevator (A Series of Unfortunate Events, #6)</td></tr>",
                            "<tr><td>Stephen King, Jerry N. Uelsmann</td><td>'Salem's Lot</td></tr>",
                            "<tr><td>Trenton Lee Stewart, Carson Ellis</td><td>The Mysterious Benedict Society (The Mysterious Benedict Society, #1)</td></tr>",
                            "<tr><td>Gertrude Chandler Warner, L. Kate Deal</td><td>The Boxcar Children (The Boxcar Children, #1)</td></tr>",
                            "<tr><td>Arthur Conan Doyle, Kyle Freeman</td><td>The Complete Sherlock Holmes, Vol 2</td></tr>",
                            "<tr><td>Eiichirō Oda, Andy Nakatani</td><td>One Piece, Volume 01: Romance Dawn (One Piece, #1)</td></tr>",
                            "<tr><td>Allen Ginsberg, William Carlos Williams</td><td>Howl and Other Poems</td></tr>",
                            "<tr><td>Adam Mansbach, Ricardo Cortés</td><td>Go the Fuck to Sleep</td></tr>",
                            "<tr><td>Anonymous, Joseph Smith Jr.</td><td>The Book of Mormon: Another Testament of Jesus Christ</td></tr>",
                            "<tr><td>Yana Toboso, Tomo Kimura</td><td>Black Butler, Vol. 1 (Black Butler, #1)</td></tr>",
                            "<tr><td>Robert Louis Stevenson, Robert Mighall</td><td>The Strange Case of Dr. Jekyll and Mr. Hyde and Other Tales of Terror</td></tr>",
                            "<tr><td>Fyodor Dostoyevsky, Andrew R. MacAndrew, Ben Marcus</td><td>Notes from Underground, White Nights, The Dream of a Ridiculous Man, and Selections from The House of the Dead</td></tr>",
                            "<tr><td>Robert Jordan, Brandon Sanderson</td><td>A Memory of Light (Wheel of Time, #14)</td></tr>",
                            "<tr><td>James Patterson, Andrew Gross</td><td>2nd Chance (Women's Murder Club, #2)</td></tr>",
                            "<tr><td>Faye Perozich, Anne Rice, John Bolton, Daerick Gröss</td><td>Anne Rice's The Vampire Lestat: A Graphic Novel</td></tr>",
                            "<tr><td>Louis Sachar, Adam McCauley</td><td>Sideways Stories from Wayside School (Wayside School #1)</td></tr>",
                            "<tr><td>Dalai Lama XIV, Howard C. Cutler</td><td>The Art of Happiness</td></tr>",
                            "<tr><td>L.J. Smith, Kevin Williamson, Julie Plec</td><td>Origins (The Vampire Diaries: Stefan's Diaries, #1)</td></tr>",
                            "<tr><td>Cornelia Funke, Anthea Bell</td><td>Inkspell (Inkworld, #2)</td></tr>",
                            "<tr><td>Margaret Weis, Tracy Hickman</td><td>Dragons of Autumn Twilight  (Dragonlance: Chronicles, #1)</td></tr>",
                            "<tr><td>Jon Scieszka, Lane Smith</td><td>The Stinky Cheese Man and Other Fairly Stupid Tales</td></tr>",
                            "<tr><td>Marcus Luttrell, Patrick Robinson</td><td>Lone Survivor: The Eyewitness Account of Operation Redwing and the Lost Heroes of SEAL Team 10</td></tr>",
                            "<tr><td>Roberto Aguirre-Sacasa, Stephen King, Mike Perkins, Laura       Martin</td><td>The Stand: Captain Trips</td></tr>",
                            "<tr><td>Jeff Smith, Steve Hamaker</td><td>Out from Boneville (Bone, #1)</td></tr>",
                            "<tr><td>Kami Garcia, Margaret Stohl, Paz Pruneda</td><td>Beautiful Chaos (Caster Chronicles, #3)</td></tr>",
                            "<tr><td>Karl Marx, Friedrich Engels, Gareth Stedman Jones</td><td>The Communist Manifesto</td></tr>",
                            "<tr><td>Julia Child, Alex Prud'Homme</td><td>My Life in France</td></tr>",
                            "<tr><td>Travis Bradberry, Jean Greaves, Patrick Lencioni</td><td>Emotional Intelligence 2.0</td></tr>",
                            "<tr><td>Douglas Preston, Lincoln Child</td><td>Relic (Pendergast, #1)</td></tr>",
                            "<tr><td>Nicola Yoon, David Yoon</td><td>Everything, Everything</td></tr>",
                            "<tr><td>Marjane Satrapi, Mattias Ripa, Blake Ferris, Anjali Singh</td><td>The Complete Persepolis</td></tr>",
                            "<tr><td>Irving Stone, שמואל שניצר</td><td>The Agony and the Ecstasy</td></tr>",
                            "<tr><td>Carlos Ruiz Zafón, Lucia Graves</td><td>The Angel's Game (The Cemetery of Forgotten Books, #2)</td></tr>",
                            "<tr><td>Peggy Parish, Fritz Siebel</td><td>Amelia Bedelia  (Amelia Bedelia #1)</td></tr>",
                            "<tr><td>أحلام مستغانمي, Ahlam Mosteghanemi</td><td>الأسود يليق بك</td></tr>",
                            "<tr><td>Lemony Snicket, Brett Helquist</td><td>The Slippery Slope (A Series of Unfortunate Events, #10)</td></tr>",
                            "<tr><td>Charles Dickens, Nicola Bradbury, Hablot Knight Browne</td><td>Bleak House</td></tr>",
                            "<tr><td>Lewis Carroll, John Tenniel, Peter Glassman</td><td>Through the Looking-Glass, and What Alice Found There</td></tr>",
                            "<tr><td>Laura Ingalls Wilder, Garth Williams</td><td>On the Banks of Plum Creek  (Little House, #4)</td></tr>",
                            "<tr><td>Guillermo del Toro, Chuck Hogan</td><td>The Strain (The Strain Trilogy, #1)</td></tr>",
                            "<tr><td>Emily Dickinson, Thomas H. Johnson</td><td>The Complete Poems of Emily Dickinson</td></tr>",
                            "<tr><td>Mary Norton, Beth Krush, Joe Krush</td><td>The Borrowers (The Borrowers, #1)</td></tr>",
                            "<tr><td>Haruki Murakami, Alfred Birnbaum</td><td>A Wild Sheep Chase (The Rat, #3)</td></tr>",
                            "<tr><td>Paulo Coelho, Margaret Jull Costa</td><td>The Zahir</td></tr>",
                            "<tr><td>Edith Wharton, Nina Bawden</td><td>The House of Mirth</td></tr>",
                            "<tr><td>Hiro Mashima, William Flanagan</td><td>Fairy Tail, Vol. 1 (Fairy Tail, #1)</td></tr>",
                            "<tr><td>Patrick Rothfuss, Nate  Taylor</td><td>The Slow Regard of Silent Things (The Kingkiller Chronicle #2.5)</td></tr>",
                            "<tr><td>Aleksandr Solzhenitsyn, H.T. Willetts</td><td>One Day in the Life of Ivan Denisovich</td></tr>",
                            "<tr><td>Sophocles, J.E. Thomas</td><td>Antigone (The Theban Plays, #3)</td></tr>",
                            "<tr><td>A.A. Milne, Ernest H. Shepard</td><td>The House at Pooh Corner (Winnie-the-Pooh, #2)</td></tr>",
                            "<tr><td>Lemony Snicket, Brett Helquist</td><td>The Carnivorous Carnival (A Series of Unfortunate Events, #9)</td></tr>",
                            "<tr><td>Boris Pasternak, Max Hayward, Manya Harari, John Bayley</td><td>Doctor Zhivago</td></tr>",
                            "<tr><td>Jane Hamilton, Frank  Muller, C.J. Critt</td><td>A Map of the World</td></tr>",
                            "<tr><td>O. Henry, Lisbeth Zwerger</td><td>The Gift of the Magi</td></tr>",
                            "<tr><td>William S. Burroughs, James Grauerholz, Barry  Miles</td><td>Naked Lunch</td></tr>",
                            "<tr><td>Neil Gaiman, Kelley Jones, Charles Vess, Colleen Doran, Malcolm Jones III, Steve Erickson</td><td>Dream Country (The Sandman #3)</td></tr>",
                            "<tr><td>Ursula K. Le Guin, Lech Jęczmyk</td><td>The Left Hand of Darkness</td></tr>",
                            "<tr><td>John Green, Maureen Johnson, Lauren Myracle</td><td>Let It Snow: Three Holiday Romances</td></tr>",
                            "<tr><td>Henrik Ibsen, Michael   Meyer</td><td>A Doll's House</td></tr>",
                            "<tr><td>Rachel Cohn, David Levithan</td><td>Nick &amp; Norah's Infinite Playlist</td></tr>",
                            "<tr><td>Tom Stoppard, Henry Popkin</td><td>Rosencrantz and Guildenstern Are Dead</td></tr>",
                            "<tr><td>Beth Hoffman, Jenna Lamia</td><td>Saving CeeCee Honeycutt</td></tr>",
                            "<tr><td>Munro Leaf, Robert Lawson</td><td>The Story of Ferdinand</td></tr>",
                            "<tr><td>Nora Roberts, MacLeod Andrews</td><td>The Next Always (Inn BoonsBoro, #1)</td></tr>",
                            "<tr><td>Haruki Murakami, Philip Gabriel</td><td>What I Talk About When I Talk About Running</td></tr>",
                            "<tr><td>Andre Agassi, J.R. Moehringer</td><td>Open</td></tr>",
                            "<tr><td>Lee Child, Dick Hill</td><td>Without Fail (Jack Reacher, #6)</td></tr>",
                            "<tr><td>Francine Rivers, Richard Ferrone</td><td>A Voice in the Wind (Mark of the Lion, #1)</td></tr>",
                            "<tr><td>Jeph Loeb, Tim Sale, Gregory Wright, Richard Starkings</td><td>Batman: The Long Halloween</td></tr>",
                            "<tr><td>Jean-Paul Sartre, Lloyd Alexander, Hayden Carruth</td><td>Nausea</td></tr>",
                            "<tr><td>Arthur Conan Doyle, Peter Ackroyd, Ed Glinert</td><td>The Sign of Four</td></tr>",
                            "<tr><td>Doreen Cronin, Betsy Lewin</td><td>Click, Clack, Moo: Cows That Type</td></tr>",
                            "<tr><td>Terry Goodkind, Dick Hill</td><td>Temple of the Winds (Sword of Truth, #4)</td></tr>",
                            "<tr><td>Janette Sebring Lowrey, Gustaf Tenggren</td><td>The Poky Little Puppy (A Little Golden Book)</td></tr>",
                            "<tr><td>Patrick deWitt, Marcelo Barbão</td><td>The Sisters Brothers</td></tr>",
                            "<tr><td>Roald Dahl, Quentin Blake</td><td>Fantastic Mr. Fox</td></tr>",
                            "<tr><td>Paulo Coelho, Montserrat Mira</td><td>Brida</td></tr>",
                            "<tr><td>William Shakespeare, Katherine Duncan-Jones</td><td>Shakespeare's Sonnets</td></tr>",
                            "<tr><td>Ron Hall, Denver Moore, Lynn Vincent</td><td>Same Kind of Different as Me</td></tr>",
                            "<tr><td>D.H. Lawrence, Doris Lessing, Chester Brown</td><td>Lady Chatterley's Lover</td></tr>",
                            "<tr><td>David Eddings, Leigh Eddings</td><td>Belgarath the Sorcerer</td></tr>",
                            "<tr><td>Elizabeth Strout, Goran Skrobonja</td><td>My Name Is Lucy Barton</td></tr>",
                            "<tr><td>Greg Behrendt, Liz Tuccillo</td><td>He's Just Not That Into You: The No-Excuses Truth to Understanding Guys</td></tr>",
                            "<tr><td>Rudyard Kipling, Alev Lytle Croutier</td><td>The Jungle Books</td></tr>",
                            "<tr><td>John Eldredge, Stasi Eldredge</td><td>Captivating: Unveiling the Mystery of a Woman's Soul</td></tr>",
                            "<tr><td>Peter David, Robin Furth, Jae Lee, Richard Isanove, Stephen King</td><td>The Dark Tower: The Gunslinger Born</td></tr>",
                            "<tr><td>Jay Crownover, Charlotte Connan de vries</td><td>Rule (Marked Men, #1)</td></tr>",
                            "<tr><td>Haruki Murakami, Philip Gabriel</td><td>South of the Border, West of the Sun</td></tr>",
                            "<tr><td>Edgar Allan Poe, Stephen Marlowe</td><td>The Fall of the House of Usher and Other Tales </td></tr>",
                            "<tr><td>Edgar Allan Poe, Benjamin F. Fisher</td><td>Essential Tales and Poems</td></tr>",
                            "<tr><td>Lewis Carroll, John Tenniel</td><td>Alice's Adventures in Wonderland</td></tr>",
                            "<tr><td>Jo Nesbø, Don Bartlett</td><td>The Redbreast (Harry Hole, #3)</td></tr>",
                            "<tr><td>Stephen Kendrick, Alex Kendrick</td><td>The Love Dare</td></tr>",
                            "<tr><td>M.C. Escher, Bruce Brooks Pfeiffer</td><td>M.C. Escher: The Graphic Work</td></tr>",
                            "<tr><td>James Patterson, Maxine Paetro</td><td>4th of July (Women's Murder Club, #4)</td></tr>",
                            "<tr><td>Anne Brontë, Stevie Davies</td><td>The Tenant of Wildfell Hall</td></tr>",
                            "<tr><td>Walter Farley, Keith Ward</td><td>The Black Stallion (The Black Stallion, #1)</td></tr>",
                            "<tr><td>Lemony Snicket, Brett Helquist</td><td>The Grim Grotto (A Series of Unfortunate Events, #11)</td></tr>",
                            "<tr><td>David Bayles, Ted Orland</td><td>Art and Fear: Observations on the Perils (and Rewards) of Artmaking</td></tr>",
                            "<tr><td>Henry James, Patricia Crick</td><td>The Portrait of a Lady</td></tr>",
                            "<tr><td>Edgar Allan Poe, Gustave Doré</td><td>The Raven</td></tr>",
                            "<tr><td>Richard Bachman, Stephen King</td><td>The Running Man</td></tr>",
                            "<tr><td>Philip K. Dick, David Alabort, Manuel Espín</td><td>Ubik</td></tr>",
                            "<tr><td>Miep Gies, Alison Leslie Gold</td><td>Anne Frank Remembered: The Story of the Woman Who Helped to Hide the Frank Family</td></tr>",
                            "<tr><td>Michael Bond, Peggy Fortnum</td><td>A Bear Called Paddington (Paddington, #1)</td></tr>",
                            "<tr><td>Lemony Snicket, Brett Helquist</td><td>The Hostile Hospital (A Series of Unfortunate Events, #8)</td></tr>",
                            "<tr><td>Paulo Coelho, Amanda Hopkinson, Nick Caistor</td><td>The Devil and Miss Prym (On the Seventh Day, #3)</td></tr>",
                            "<tr><td>Audrey Penn, Ruth E. Harper, Nancy M. Leak</td><td>The Kissing Hand</td></tr>",
                            "<tr><td>James Patterson, Gabrielle Charbonnet</td><td>Sundays at Tiffany's</td></tr>",
                            "<tr><td>Anthony Kiedis, Larry Sloman</td><td>Scar Tissue</td></tr>",
                            "<tr><td>Margaret Atwood, Brigitte Walitzek</td><td>Alias Grace</td></tr>",
                            "<tr><td>Gabriel García Márquez, Edith Grossman</td><td>Memories of My Melancholy Whores</td></tr>",
                            "<tr><td>James Patterson, Andrew Gross</td><td>3rd Degree (Women's Murder Club, #3)</td></tr>",
                            "<tr><td>Kerstin Gier, Anthea Bell</td><td>Ruby Red (Precious Stone Trilogy, #1)</td></tr>",
                            "<tr><td>Oliver Pötzsch, Lee Chadeayne</td><td>The Hangman's Daughter (The Hangman's Daughter, #1)</td></tr>",
                            "<tr><td>Patricia C. Wrede, Peter de Sève</td><td>Dealing with Dragons (Enchanted Forest Chronicles, #1)</td></tr>",
                            "<tr><td>William Strunk Jr., E.B. White</td><td>The Elements of Style</td></tr>",
                            "<tr><td>Larry Niven, Jerry Pournelle</td><td>The Mote in God's Eye</td></tr>",
                            "<tr><td>Jo Nesbø, Don Bartlett</td><td>The Snowman (Harry Hole, #7)</td></tr>",
                            "<tr><td>John  Williams, John McGahern</td><td>Stoner</td></tr>",
                            "<tr><td>David Cote, Stephen Schwartz, Joan Marcus, Winnie Holzman</td><td>Wicked: The Grimmerie</td></tr>",
                            "<tr><td>Garth Ennis, Steve Dillon, Joe R. Lansdale</td><td>Preacher, Volume 1: Gone to Texas</td></tr>",
                            "<tr><td>Edmond Rostand, Eteel Lawson, Lowell Bair</td><td>Cyrano de Bergerac</td></tr>",
                            "<tr><td>Neil Gaiman, Steve Parkhouse, Chris Bachalo, Michael Zulli, Mike Dringenberg, Malcolm Jones III, Todd Klein, Clive Barker</td><td>The Doll's House (The Sandman #2)</td></tr>",
                            "<tr><td>Neil Gaiman, J.H. Williams III, Dave Stewart, Todd Klein</td><td>The Sandman: Overture</td></tr>",
                            "<tr><td>Anonymous, Richard Francis Burton, A.S. Byatt</td><td>The Arabian Nights</td></tr>",
                            "<tr><td>Beverly Cleary, Louis Darling, Tracy Dockray</td><td>The Mouse and the Motorcycle (Ralph S. Mouse, #1)</td></tr>",
                            "<tr><td>Rachel Cohn, David Levithan</td><td>Dash &amp; Lily's Book of Dares (Dash &amp; Lily, #1)</td></tr>",
                            "<tr><td>Laura Joffe Numeroff, Felicia Bond</td><td>If You Give a Moose a Muffin</td></tr>",
                            "<tr><td>Chip Heath, Dan Heath</td><td>Made to Stick: Why Some Ideas Survive and Others Die</td></tr>",
                            "<tr><td>Roald Dahl, Quentin Blake</td><td>Charlie and the Great Glass Elevator (Charlie Bucket, #2)</td></tr>",
                            "<tr><td>Laura Joffe Numeroff, Felicia Bond</td><td>If You Give a Pig a Pancake </td></tr>",
                            "<tr><td>Mike Mignola, John Byrne</td><td>Hellboy, Vol. 1: Seed of Destruction (Hellboy, #1)</td></tr>",
                            "<tr><td>Alexandre Dumas, Francine du Plessix Gray, Joachim Neugroschel</td><td>The Man in the Iron Mask (The D'Artagnan Romances, #3.3)</td></tr>",
                            "<tr><td>Shirley Jackson, Laura   Miller</td><td>The Haunting of Hill House</td></tr>",
                            "<tr><td>Laura Ingalls Wilder, Garth Williams</td><td>Little Town on the Prairie  (Little House, #7)</td></tr>",
                            "<tr><td>P.C. Cast, Kristin Cast</td><td>Destined (House of Night, #9)</td></tr>",
                            "<tr><td>Marcus Aurelius, Martin Hammond, Diskin Clay</td><td>Meditations</td></tr>",
                            "<tr><td>Dave Barry, Ridley Pearson, Greg Call</td><td>Peter and the Starcatchers (Peter and the Starcatchers, #1)</td></tr>",
                            "<tr><td>Lemony Snicket, Brett Helquist</td><td>The Penultimate Peril (A Series of Unfortunate Events, #12)</td></tr>",
                            "<tr><td>Lemony Snicket, Brett Helquist</td><td>The End (A Series of Unfortunate Events, #13)</td></tr>",
                            "<tr><td>Margaret Wise Brown, Clement Hurd</td><td>The Runaway Bunny</td></tr>",
                            "<tr><td>Stephen Hawking, Leonard Mlodinow</td><td>The Grand Design</td></tr>",
                            "<tr><td>Richard Bachman, Stephen King</td><td>The Bachman Books</td></tr>",
                            "<tr><td>Jan-Philipp Sendker, Kevin Wiliarty</td><td>The Art of Hearing Heartbeats</td></tr>",
                            "<tr><td>Carlo Collodi, John Boyne, Monteiro Lobato, Unknown</td><td>Pinocchio</td></tr>",
                            "<tr><td>Leo Tolstoy, Aylmer Maude</td><td>The Death of Ivan Ilych</td></tr>",
                            "<tr><td>Albert Camus, Justin O'Brien</td><td>The Fall</td></tr>",
                            "<tr><td>Wilkie Collins, Carolyn G. Heilbrun</td><td>The Moonstone</td></tr>",
                            "<tr><td>Italo Calvino, William Weaver</td><td>If on a Winter's Night a Traveler</td></tr>",
                            "<tr><td>Gregory Maguire, Douglas Smith</td><td>Son of a Witch (The Wicked Years, #2)</td></tr>",
                            "<tr><td>David Sedaris, Ian Falconer</td><td>Squirrel Seeks Chipmunk: A Modest Bestiary</td></tr>",
                            "<tr><td>Sophocles, Dudley Fitts, Elena Bono, Robert Fitzgerald</td><td>The Oedipus Cycle: Oedipus Rex/Oedipus at Colonus/Antigone (The Theban Plays, #1–3)</td></tr>",
                            "<tr><td>Fredrik Backman, Henning Koch</td><td>My Grandmother Asked Me to Tell You She's Sorry</td></tr>",
                            "<tr><td>Kate DiCamillo, Bagram Ibatoulline</td><td>The Miraculous Journey of Edward Tulane</td></tr>",
                            "<tr><td>Anonymous, N.K. Sandars</td><td>The Epic of Gilgamesh</td></tr>",
                            "<tr><td>Roberto Aguirre-Sacasa, Mike Perkins, Laura       Martin, Stephen King</td><td>The Stand: Soul Survivors</td></tr>",
                            "<tr><td>Janet Evanovich, Lorelei King</td><td>Smokin' Seventeen (Stephanie Plum, #17)</td></tr>",
                            "<tr><td>Bill Martin Jr., Eric Carle</td><td>Polar Bear, Polar Bear, What Do You Hear?</td></tr>",
                            "<tr><td>Yoshiki Nakamura, Tomo Kimura</td><td>Skip Beat!, Vol. 01</td></tr>",
                            "<tr><td>J.K. Rowling, Mary GrandPré</td><td>The Harry Potter Collection 1-4 (Harry Potter, #1-4)</td></tr>",
                            "<tr><td>Oscar Wilde, Richard Allen Cave</td><td>The Importance of Being Earnest and Other Plays</td></tr>",
                            "<tr><td>Irène Némirovsky, Sandra Smith</td><td>Suite Française</td></tr>",
                            "<tr><td>Vincent van Gogh, Ronald de Leeuw, Mark Roskill, Arnold J. Pomerans</td><td>The Letters of Vincent van Gogh</td></tr>",
                            "<tr><td>Grant Morrison, Dave McKean</td><td>Batman: Arkham Asylum - A Serious House on Serious Earth</td></tr>",
                            "<tr><td>V.E. Schwab, Victoria Schwab</td><td>A Darker Shade of Magic (Shades of Magic, #1)</td></tr>",
                            "<tr><td>Roald Dahl, Quentin Blake</td><td>George's Marvellous Medicine</td></tr>",
                            "<tr><td>Ivan Turgenev, George Reavy, Jane Costlow</td><td>Fathers and Sons</td></tr>",
                            "<tr><td>Eliyahu M. Goldratt, Jeff Cox</td><td>The Goal: A Process of Ongoing Improvement</td></tr>",
                            "<tr><td>Homer, Robert Fagles, Bernard Knox</td><td>The Iliad/The Odyssey</td></tr>",
                            "<tr><td>Mark Waid, Alex Ross, Elliot S. Maggin</td><td>Kingdom Come</td></tr>",
                            "<tr><td>Chris Colfer, Brandon Dorman</td><td>The Wishing Spell (The Land of Stories, #1)</td></tr>",
                            "<tr><td>Brian K. Vaughan, Fiona Staples</td><td>Saga #1</td></tr>",
                            "<tr><td>Charlotte Perkins Gilman, Elaine Hedges</td><td>The Yellow Wall-Paper</td></tr>",
                            "<tr><td>H.G. Wells, Alfred MacAdam</td><td>The Time Machine/The Invisible Man</td></tr>",
                            "<tr><td>Heidi Murkoff, Arlene Eisenberg, Sandee Hathaway</td><td>What to Expect When You're Expecting</td></tr>",
                            "<tr><td>Peter Thiel, Blake  Masters</td><td>Zero to One: Notes on Startups, or How to Build the Future</td></tr>",
                            "<tr><td>Charles Dickens, Katharine Kroeber Wiley</td><td>A Christmas Carol, The Chimes and The Cricket on the Hearth</td></tr>",
                            "<tr><td>Dr. Seuss, Various</td><td>The Cat in the Hat and Other Dr. Seuss Favorites</td></tr>",
                            "<tr><td>Nikolai Gogol, Robert A. Maguire</td><td>Dead Souls</td></tr>",
                            "<tr><td>Arlene Mosel, Blair Lent</td><td>Tikki Tikki Tembo</td></tr>",
                            "<tr><td>Yevgeny Zamyatin, Clarence Brown</td><td>We</td></tr>",
                            "<tr><td>Brian Froud, Alan Lee</td><td>Faeries</td></tr>",
                            "<tr><td>Chelsea Handler, Johnny Kansas, Stephanie Stehling, Heather McDonald, Roy Handler, Brad Wollack, Amber Mazzola, Josh Wolf, Shoshanna Handler, Eva Magdalenski, Amy Meyer, Glen Handler, Dave Mallow, Sarah Colonna</td><td>Lies That Chelsea Handler Told Me</td></tr>",
                            "<tr><td>Henning Mankell, Steven T. Murray</td><td>Faceless Killers (Kurt Wallander, #1)</td></tr>",
                            "<tr><td>James Patterson, Keith David, Anthony Heald</td><td>Cat and Mouse (Alex Cross, #4)</td></tr>",
                            "<tr><td>James C. Collins, Jerry I. Porras</td><td>Built to Last: Successful Habits of Visionary Companies</td></tr>",
                            "<tr><td>Carl Sagan, Ann Druyan</td><td>The Demon-Haunted World: Science as a Candle in the Dark</td></tr>",
                            "<tr><td>Margaret Weis, Tracy Hickman</td><td>Dragons of Spring Dawning (Dragonlance: Chronicles, #3)</td></tr>",
                            "<tr><td>Brian K. Vaughan, Fiona Staples</td><td>Saga, Vol. 2 (Saga, #2)</td></tr>",
                            "<tr><td>Jean-Dominique Bauby, Jeremy Leggatt</td><td>The Diving Bell and the Butterfly</td></tr>",
                            "<tr><td>Bill O'Reilly, Martin Dugard</td><td>Killing Kennedy: The End of Camelot</td></tr>",
                            "<tr><td>Umberto Eco, William Weaver</td><td>Foucault's Pendulum</td></tr>",
                            "<tr><td>James Patterson, Maxine Paetro</td><td>The 5th Horseman (Women's Murder Club, #5)</td></tr>",
                            "<tr><td>Stieg Larsson, Reg Keeland</td><td>The Millennium Trilogy (Millennium Trilogy, #1-3)</td></tr>",
                            "<tr><td>Johann Wolfgang von Goethe, Burton Pike</td><td>The Sorrows of Young Werther</td></tr>",
                            "<tr><td>Angie Sage, Mark Zug</td><td>Flyte (Septimus Heap, #2)</td></tr>",
                            "<tr><td>سعود السنعوسي, Saud Alsanousi</td><td>ساق البامبو</td></tr>",
                            "<tr><td>Dava Sobel, Neil Armstrong</td><td>Longitude: The True Story of a Lone Genius Who Solved the Greatest Scientific Problem of His Time</td></tr>",
                            "<tr><td>Johann Wolfgang von Goethe, Peter Salm</td><td>Faust: First Part</td></tr>",
                            "<tr><td>Joe Hill, Gabriel Rodríguez</td><td>Locke &amp; Key, Vol. 1: Welcome to Lovecraft</td></tr>",
                            "<tr><td>J.R.R. Tolkien, Christopher Tolkien, Alan Lee</td><td>The Children of Húrin</td></tr>",
                            "<tr><td>Richard Atwater, Florence Atwater, Robert Lawson</td><td>Mr. Popper's Penguins</td></tr>",
                            "<tr><td>E.B. White, Fred Marcellino</td><td>The Trumpet of the Swan</td></tr>",
                            "<tr><td>Thomas J. Stanley, William D. Danko</td><td>The Millionaire Next Door: The Surprising Secrets of Americas Wealthy</td></tr>",
                            "<tr><td>Laura Ingalls Wilder, Garth Williams</td><td>By the Shores of Silver Lake  (Little House, #5)</td></tr>",
                            "<tr><td>George Selden, Garth Williams</td><td>The Cricket in Times Square</td></tr>",
                            "<tr><td>William S. Burroughs, Oliver  Harris, Allen Ginsberg</td><td>Junky</td></tr>",
                            "<tr><td>Roger Fisher, William Ury, Bruce Patton</td><td>Getting to Yes: Negotiating an Agreement Without Giving In</td></tr>",
                            "<tr><td>Krishna-Dwaipayana Vyasa, Simon Brodbeck, Juan Mascaró</td><td>The Bhagavad Gita</td></tr>",
                            "<tr><td>Paul Auster, Art Spiegelman</td><td>The New York Trilogy</td></tr>",
                            "<tr><td>Friedrich Nietzsche, R.J. Hollingdale, Michael Tanner</td><td>Beyond Good and Evil</td></tr>",
                            "<tr><td>Mark Owen, Kevin Maurer</td><td>No Easy Day: The Firsthand Account of the Mission That Killed Osama Bin Laden</td></tr>",
                            "<tr><td>Richard Bachman, Stephen King</td><td>The Regulators</td></tr>",
                            "<tr><td>Neil Gaiman, Matt Wagner, George Pratt, Dick Giordano, Kelley Jones, P. Craig Russell, Mike Dringenberg, Malcolm Jones III, Todd Klein, Harlan Ellison</td><td>Season of Mists (The Sandman #4)</td></tr>",
                            "<tr><td>James Patterson, Andrew Gross</td><td>Judge &amp; Jury</td></tr>",
                            "<tr><td>Kami Garcia, Margaret Stohl</td><td>Beautiful Redemption (Caster Chronicles, #4)</td></tr>",
                            "<tr><td>Ovid, David Raeburn, Denis Feeney</td><td>Metamorphoses</td></tr>",
                            "<tr><td>Bo Hampton, Tracey Hampton, Washington Irving</td><td>The Legend of Sleepy Hollow (Graphic Novel)</td></tr>",
                            "<tr><td>Colleen Hoover, Tarryn Fisher</td><td>Never Never (Never Never, #1)</td></tr>",
                            "<tr><td>Richard Lancelyn Green, Ronald Knox, Julian Symons, Various</td><td>The Further Adventures of Sherlock Holmes: After Sir Arthur Conan Doyle (Classic Crime)</td></tr>",
                            "<tr><td>E.M. Forster, Oliver Stallybrass, Pankaj Mishra</td><td>A Passage to India</td></tr>",
                            "<tr><td>Stephen King, Jae Lee</td><td>The Wind Through the Keyhole (The Dark Tower, #4.5)</td></tr>",
                            "<tr><td>James Howe, Deborah Howe, Alan Daniel</td><td>Bunnicula (Bunnicula, #1)</td></tr>",
                            "<tr><td>Jussi Adler-Olsen, Lisa Hartford</td><td>The Keeper of Lost Causes (Department Q, #1)</td></tr>",
                            "<tr><td>Frank Miller, Lynn Varley</td><td>300</td></tr>",
                            "<tr><td>Jo Nesbø, Don Bartlett</td><td>Flaggermusmannen (Harry Hole, #1)</td></tr>",
                            "<tr><td>Nobuhiro Watsuki, Kenichiro Yagi</td><td>Rurouni Kenshin, Vol. 1: Meiji Swordsman Romantic Story (Rurouni Kenshin, #1)</td></tr>",
                            "<tr><td>Jack Welch, Suzy Welch</td><td>Winning</td></tr>",
                            "<tr><td>Jean de Brunhoff, Merle S. Haas</td><td>The Story of Babar</td></tr>",
                            "<tr><td>Marjane Satrapi, Anjali Singh</td><td>Persepolis 2: The Story of a Return (Persepolis, #2)</td></tr>",
                            "<tr><td>Julia Child, Simone Beck, Louisette Bertholle</td><td>Mastering the Art of French Cooking</td></tr>",
                            "<tr><td>Kazue Kato, John Werry</td><td>Blue Exorcist, Vol. 1  (Blue Exorcist, #1)</td></tr>",
                            "<tr><td>Else Holmelund Minarik, Maurice Sendak</td><td>Little Bear</td></tr>",
                            "<tr><td>Holly Black, Tony DiTerlizzi</td><td>The Field Guide (The Spiderwick Chronicles, #1)</td></tr>",
                            "<tr><td>Robert Greene, Joost Elffers</td><td>The 48 Laws of Power</td></tr>",
                            "<tr><td>Susanna Kearsley, Rosalyn Landor</td><td>The Winter Sea (Slains, #1)</td></tr>",
                            "<tr><td>Hubert Selby Jr., Darren Aronofsky, Richard Price</td><td>Requiem for a Dream</td></tr>",
                            "<tr><td>Władysław Szpilman, Anthea Bell</td><td>The Pianist: The Extraordinary Story of One Man's Survival in Warsaw, 1939–45</td></tr>",
                            "<tr><td>Ian Edginton, Oscar Wilde, I.N.J. Culbard</td><td>The Picture of Dorian Gray: A Graphic Novel</td></tr>",
                            "<tr><td>Geoffrey Crayon, Washington Irving, William L. Hedges</td><td>The Legend of Sleepy Hollow and Other Stories</td></tr>",
                            "<tr><td>David Wilkerson, John Sherrill, Elizabeth Sherrill</td><td>The Cross and the Switchblade</td></tr>",
                            "<tr><td>Charlotte Brontë, A.S. Byatt, Μαρία Λαϊνά, Ignes Sodre</td><td>Villette</td></tr>",
                            "<tr><td>Stephen King, Peter Straub</td><td>Black House (The Talisman, #2)</td></tr>",
                            "<tr><td>Neil Gaiman, Andy Kubert, Richard Isanove, Peter Sanderson</td><td>Marvel 1602</td></tr>",
                            "<tr><td>Haruki Murakami, 村上 春樹</td><td>1Q84 BOOK 1 (1Q84, #1)</td></tr>",
                            "<tr><td>Paulo Coelho, Alan R. Clarke</td><td>The Pilgrimage</td></tr>",
                            "<tr><td>Lee Child, Dick Hill</td><td>A Wanted Man (Jack Reacher, #17)</td></tr>",
                            "<tr><td>Grant Morrison, Frank Quitely</td><td>All-Star Superman, Vol. 1</td></tr>",
                            "<tr><td>Elena Ferrante, Ann Goldstein</td><td>The Story of a New Name (The Neapolitan Novels #2)</td></tr>",
                            "<tr><td>Eugene Bradley Coco, Ron Dias, Walt Disney Company</td><td>Peter Pan (A Little Golden Book)</td></tr>",
                            "<tr><td>Anthony Robbins, Tony Robbins, Frederick L. Covan</td><td>Awaken the Giant Within: How to Take Immediate Control of Your Mental, Emotional, Physical and Financial Destiny!</td></tr>",
                            "<tr><td>Laura Ingalls Wilder, Garth Williams</td><td>The Long Winter (Little House, #6)</td></tr>",
                            "<tr><td>Henry Cloud, John Townsend</td><td>Boundaries: When to Say Yes, How to Say No to Take Control of Your Life</td></tr>",
                            "<tr><td>Philip Roth, Luca Marinelli</td><td>Portnoy's Complaint</td></tr>",
                            "<tr><td>John C. Maxwell, Zig Ziglar</td><td>The 21 Irrefutable Laws of Leadership: Follow Them and People Will Follow You</td></tr>",
                            "<tr><td>James Patterson, Maxine Paetro</td><td>The 6th Target (Women's Murder Club, #6)</td></tr>",
                            "<tr><td>Edgar Rice Burroughs, John Seelye</td><td>A Princess of Mars (Barsoom, #1)</td></tr>",
                            "<tr><td>Laura Ingalls Wilder, Garth Williams</td><td>These Happy Golden Years (Little House, #8)</td></tr>",
                            "<tr><td>Gene Zion, Margaret Bloy Graham</td><td>Harry the Dirty Dog</td></tr>",
                            "<tr><td>Louis Sachar, Joel Schick</td><td>Wayside School Is Falling Down (Wayside School #2)</td></tr>",
                            "<tr><td>Julie Orringer, Arthur Morey</td><td>The Invisible Bridge</td></tr>",
                            "<tr><td>Thomas Hardy, Keith Wilson</td><td>The Mayor of Casterbridge</td></tr>",
                            "<tr><td>Anne Rice, Tim Curry</td><td>Taltos (Lives of the Mayfair Witches, #3)</td></tr>",
                            "<tr><td>Angie Sage, Mark Zug</td><td>Physik (Septimus Heap, #3)</td></tr>",
                            "<tr><td>Roald Dahl, Quentin Blake</td><td>Boy: Tales of Childhood</td></tr>",
                            "<tr><td>Nicholas D. Kristof, Sheryl WuDunn</td><td>Half the Sky: Turning Oppression into Opportunity for Women Worldwide</td></tr>",
                            "<tr><td>Daniel Handler, Maira Kalman</td><td>Why We Broke Up</td></tr>",
                            "<tr><td>Shirley Jackson, Jonathan Lethem</td><td>We Have Always Lived in the Castle</td></tr>",
                            "<tr><td>Richard Wright, Jerry W. Ward Jr.</td><td>Black Boy</td></tr>",
                            "<tr><td>James D. Bradley, Ron Powers</td><td>Flags of Our Fathers</td></tr>",
                            "<tr><td>A.A. Milne, Ernest H. Shepard</td><td>The World of Winnie-the-Pooh (Winnie-the-Pooh, #1-2)</td></tr>",
                            "<tr><td>Lance Armstrong, Sally Jenkins</td><td>It's Not About the Bike: My Journey Back to Life</td></tr>",
                            "<tr><td>Christopher Yost, Orson Scott Card, Pasqual Ferry, Frank D'Armata</td><td>Ender's Game, Volume 1: Battle School (Ender's Saga)</td></tr>",
                            "<tr><td>Karuho Shiina, Tomo Kimura</td><td>Kimi ni Todoke: From Me to You, Vol. 1</td></tr>",
                            "<tr><td>Nina George, Simon Pare</td><td>The Little Paris Bookshop</td></tr>",
                            "<tr><td>Alistair MacLean, Clint Willis</td><td>Where Eagles Dare </td></tr>",
                            "<tr><td>Liu Cixin, Ken Liu</td><td>The Three-Body Problem (Remembrance of Earth’s Past, #1)</td></tr>",
                            "<tr><td>Mark Millar, Kilian Plunkett, Andrew Robinson, Walden Wong, Dave Johnson</td><td>Superman: Red Son</td></tr>",
                            "<tr><td>Benjamin Franklin, Lewis Leary</td><td>The Autobiography of Benjamin Franklin</td></tr>",
                            "<tr><td>W. Chan Kim, Renée Mauborgne</td><td>Blue Ocean Strategy: How To Create Uncontested Market Space And Make The Competition Irrelevant</td></tr>",
                            "<tr><td>Audrey Wood, Don    Wood</td><td>The Napping House</td></tr>",
                            "<tr><td>Italo Calvino, William Weaver</td><td>Invisible Cities</td></tr>",
                            "<tr><td>A.N. Roquelaure, Anne Rice</td><td>The Claiming of Sleeping Beauty (Sleeping Beauty, #1)</td></tr>",
                            "<tr><td>Stendhal, Roger Gard</td><td>The Red and the Black</td></tr>",
                            "<tr><td>Alvin Schwartz, Stephen Gammell</td><td>Scary Stories to Tell in the Dark (Scary Stories, #1)</td></tr>",
                            "<tr><td>Pablo Neruda, W.S. Merwin, Cristina García</td><td>Twenty Love Poems and a Song of Despair</td></tr>",
                            "<tr><td>Thomas More, Paul Turner</td><td>Utopia</td></tr>",
                            "<tr><td>Pseudonymous Bosch, Gilbert Ford</td><td>The Name of This Book Is Secret (Secret, #1)</td></tr>",
                            "<tr><td>Dai Sijie, Ina Rilke</td><td>Balzac and the Little Chinese Seamstress</td></tr>",
                            "<tr><td>Roald Dahl, Quentin Blake</td><td>Danny the Champion of the World</td></tr>",
                            "<tr><td>Betty MacDonald, Alexandra Boiger</td><td>Mrs. Piggle-Wiggle (Mrs. Piggle Wiggle, #1)</td></tr>",
                            "<tr><td>Ina Garten, Quentin Bacon</td><td>Barefoot Contessa at Home: Everyday Recipes You'll Make Over and Over Again</td></tr>",
                            "<tr><td>CLAMP, Anthony Gerard</td><td>Tsubasa: RESERVoir CHRoNiCLE, Vol. 01</td></tr>",
                            "<tr><td>Alan Moore, Kevin O'Neill</td><td>The League of Extraordinary Gentlemen, Vol. 1</td></tr>",
                            "<tr><td>Euripides, Rex Warner</td><td>Medea</td></tr>",
                            "<tr><td>Brian K. Vaughan, Fiona Staples</td><td>Saga, Vol. 3 (Saga, #3)</td></tr>",
                            "<tr><td>James Patterson, Maxine Paetro</td><td>7th Heaven (Women's Murder Club, #7)</td></tr>",
                            "<tr><td>Warren Ellis, Darick Robertston, Garth Ennis</td><td>Transmetropolitan, Vol. 1: Back on the Street (Transmetropolitan, #1)</td></tr>",
                            "<tr><td>James Patterson, Gabrielle Charbonnet</td><td>Witch &amp; Wizard (Witch &amp; Wizard, #1)</td></tr>",
                            "<tr><td>Jean Craighead George, John Schoenherr</td><td>Julie of the Wolves (Julie of the Wolves, #1)</td></tr>",
                            "<tr><td>Umberto Eco, Girolamo De Michele, Alastair McEwen</td><td>History of Beauty</td></tr>",
                            "<tr><td>Amanda Lindhout, Sara Corbett</td><td>A House in the Sky</td></tr>",
                            "<tr><td>Barbara W. Tuchman, Robert K. Massie</td><td>The Guns of August</td></tr>",
                            "<tr><td>Robert M. Edsel, Bret Witter</td><td>The Monuments Men: Allied Heroes, Nazi Thieves, and the Greatest Treasure Hunt in History</td></tr>",
                            "<tr><td>Mark Millar, John Romita Jr., Rob Liefeld</td><td>Kick-Ass (Kick-Ass, #1)</td></tr>",
                            "<tr><td>Immaculée Ilibagiza, Steve Erwin</td><td>Left to Tell: Discovering God Amidst the Rwandan Holocaust</td></tr>",
                            "<tr><td>CLAMP, Shirley Kubo</td><td>Chobits, Vol. 1</td></tr>",
                            "<tr><td>Koushun Takami, Yuji Oniki</td><td>Battle Royale</td></tr>",
                            "<tr><td>Terry Pratchett, Stephen Baxter</td><td>The Long Earth (The Long Earth, #1)</td></tr>",
                            "<tr><td>Steven Pressfield, Robert McKee</td><td>The War of Art: Break Through the Blocks &amp; Win Your Inner Creative Battles</td></tr>",
                            "<tr><td>Larry Niven, Jerry Pournelle</td><td>Lucifer's Hammer</td></tr>",
                            "<tr><td>W. Somerset Maugham, Benjamin DeMott, Maeve Binchy</td><td>Of Human Bondage</td></tr>",
                            "<tr><td>A.A. Milne, Ernest H. Shepard</td><td>The Complete Tales and Poems of Winnie-the-Pooh (Winnie-the-Pooh, #1-4)</td></tr>",
                            "<tr><td>Vicki Myron, Bret Witter</td><td>Dewey: The Small-Town Library Cat Who Touched the World</td></tr>",
                            "<tr><td>Margret Rey, H.A. Rey</td><td>The Complete Adventures of Curious George</td></tr>",
                            "<tr><td>Steven D. Levitt, Stephen J. Dubner</td><td>Think Like a Freak</td></tr>",
                            "<tr><td>Raina Telgemeier, Gurihiru</td><td>Drama</td></tr>",
                            "<tr><td>Joseph Campbell, Bill Moyers</td><td>The Power of Myth</td></tr>",
                            "<tr><td>Cary Elwes, Joe Layden, Various, Rob Reiner</td><td>As You Wish: Inconceivable Tales from the Making of The Princess Bride</td></tr>",
                            "<tr><td>Frank W. Abagnale, Stan Redding</td><td>Catch Me If You Can: The True Story of a Real Fake</td></tr>",
                            "<tr><td>Scott Snyder, Greg Capullo, Jonathan Glapion</td><td>Batman, Volume 1: The Court of Owls</td></tr>",
                            "<tr><td>Milan Kundera, Aaron Asher</td><td>The Book of Laughter and Forgetting</td></tr>",
                            "<tr><td>Edwin A. Abbott, Banesh Hoffmann</td><td>Flatland: A Romance of Many Dimensions</td></tr>",
                            "<tr><td>Erich Fromm, Peter D. Kramer, Rainer Funk</td><td>The Art of Loving</td></tr>",
                            "<tr><td>Neil Gaiman, Shawn McManus, Colleen Doran, Bryan Talbot, George Pratt, Stan Woch, Dick Giordano, Todd Klein</td><td>A Game of You (The Sandman #5)</td></tr>",
                            "<tr><td>Margaret Weis, Tracy Hickman</td><td>Dragons of Winter Night (Dragonlance: Chronicles, #2)</td></tr>",
                            "<tr><td>Carl Bernstein, Bob Woodward</td><td>All the President's Men</td></tr>",
                            "<tr><td>George Eliot, A.S. Byatt</td><td>The Mill on the Floss</td></tr>",
                            "<tr><td>Michelle Rowen, Richelle Mead</td><td>Vampire Academy: The Ultimate Guide (Vampire Academy)</td></tr>",
                            "<tr><td>Robert Frost, Edward Connery Lathem</td><td>The Poetry of Robert Frost (Collected Poems, Complete &amp; Unabridged)</td></tr>",
                            "<tr><td>Åsne Seierstad, Ingrid Christopherson</td><td>The Bookseller of Kabul</td></tr>",
                            "<tr><td>Harold Bloom, Terry Southern, David H. Goldsmith, James Lundquist, Lawrence R. Broer, Peter J. Reed, Loree Rackstraw, William S. Doxey, Jerome Klinkowitz, Richard Giannone, John L. Simons, Leonard Mustazza, Zoltan Ab di-Nagy, Peter Freese, Wendy B. Faris</td><td>Kurt Vonnegut's Cat's Cradle (Modern Critical Interpretations)</td></tr>",
                            "<tr><td>Beverly Cleary, Alan Tiegreen</td><td>Ramona the Brave (Ramona, #3)</td></tr>",
                            "<tr><td>Alexander Pushkin, James E. Falen</td><td>Eugene Onegin</td></tr>",
                            "<tr><td>Amie Kaufman, Meagan Spooner</td><td>These Broken Stars (Starbound, #1)</td></tr>",
                            "<tr><td>P.C. Cast, Kristin Cast</td><td>Hidden (House of Night, #10)</td></tr>",
                            "<tr><td>Carolyn Keene, Russell H. Tandy, Sara Paretsky</td><td>The Secret of the Old Clock (Nancy Drew, #1)</td></tr>",
                            "<tr><td>Hugh Lofting, Michael Hague</td><td>The Story of Doctor Dolittle (Doctor Dolittle, #1)</td></tr>",
                            "<tr><td>Isabel Allende, Nick Caistor, Amanda Hopkinson</td><td>The Japanese Lover</td></tr>",
                            "<tr><td>D.H. Lawrence, Geoff Dyer</td><td>Sons and Lovers</td></tr>",
                            "<tr><td>Robert T. Kiyosaki, Sharon L. Lechter</td><td>Rich Dad's Cashflow Quadrant: Rich Dad's Guide to Financial Freedom</td></tr>",
                            "<tr><td>Camilla Läckberg, Steven T. Murray</td><td>The Ice Princess (Patrik Hedström, #1)</td></tr>",
                            "<tr><td>Laura Joffe Numeroff, Felicia Bond</td><td>If You Take a Mouse to School</td></tr>",
                            "<tr><td>Franz Kafka, Jason Baker, Donna Freed</td><td>The Metamorphosis and Other Stories</td></tr>",
                            "<tr><td>Unknown, Burton Raffel, Neil D. Isaacs</td><td>Sir Gawain and the Green Knight </td></tr>",
                            "<tr><td>Edgar Allan Poe, Byron Glaser, Bill D. Fountain</td><td>The Tell-Tale Heart</td></tr>",
                            "<tr><td>Leonardo da Vinci, H. Anna Suh</td><td>Leonardo's Notebooks</td></tr>",
                            "<tr><td>Angie Sage, Mark Zug</td><td>Queste (Septimus Heap, #4)</td></tr>",
                            "<tr><td>Orhan Pamuk, Erdağ M. Göknar</td><td>My Name is Red</td></tr>",
                            "<tr><td>Neil Gaiman, Chris Bachalo, Mark Buckingham, Tori Amos</td><td>Death: The High Cost of Living Collected</td></tr>",
                            "<tr><td>Richard H. Thaler, Cass R. Sunstein</td><td>Nudge: Improving Decisions About Health, Wealth, and Happiness</td></tr>",
                            "<tr><td>Richard Paige, Dean Koontz</td><td>The Door to December</td></tr>",
                            "<tr><td>Young Kim, Stephenie Meyer</td><td>Twilight: The Graphic Novel, Vol. 1 (Twilight: The Graphic Novel, #1)</td></tr>",
                            "<tr><td>Samuel Taylor Coleridge, Gustave Doré</td><td>The Rime of the Ancient Mariner</td></tr>",
                            "<tr><td>Robert Munsch, Michael Martchenko</td><td>The Paper Bag Princess</td></tr>",
                            "<tr><td>Neil Gaiman, Jill Thompson, Vince Locke, Peter Straub</td><td>Brief Lives (The Sandman #7)</td></tr>",
                            "<tr><td>Hermann Hesse, Ursule Molinaro</td><td>Narcissus and Goldmund</td></tr>",
                            "<tr><td>Neil Gaiman, Bryan Talbot, Stan Woch, P. Craig Russell, Shawn McManus, John Watkiss, Jill Thompson, Duncan Eagleson, Kent Williams, Todd Klein</td><td>Fables and Reflections (The Sandman #6)</td></tr>",
                            "<tr><td>Charles Dickens, Helen Small, Stephen Wall</td><td>Little Dorrit</td></tr>",
                            "<tr><td>Radwa Ashour, رضوى عاشور</td><td>ثلاثية غرناطة</td></tr>",
                            "<tr><td>Michael Rosen, Helen Oxenbury</td><td>We're Going on a Bear Hunt</td></tr>",
                            "<tr><td>James Patterson, Howard Roughan</td><td>Honeymoon (Honeymoon, #1)</td></tr>",
                            "<tr><td>Edgar Allan Poe, Philip Pullman</td><td>The Raven and other poems</td></tr>",
                            "<tr><td>Graham Greene, Robert  Stone</td><td>The Quiet American</td></tr>",
                            "<tr><td>James Patterson, Maxine Paetro</td><td>Private (Private, #1)</td></tr>",
                            "<tr><td>Nicholas Sparks, Micah Sparks</td><td>Three Weeks With My Brother</td></tr>",
                            "<tr><td>Jorge Luis Borges, Anthony Kerrigan, Anthony Bonner</td><td>Ficciones</td></tr>",
                            "<tr><td>Chip Heath, Dan Heath</td><td>Switch: How to Change Things When Change Is Hard</td></tr>",
                            "<tr><td>Mikhail Lermontov, Paul Foote</td><td>A Hero of Our Time</td></tr>",
                            "<tr><td>Rory Freedman, Kim Barnouin</td><td>Skinny Bitch</td></tr>",
                            "<tr><td>Margret Rey, H.A. Rey</td><td>Curious George Goes to the Hospital</td></tr>",
                            "<tr><td>Orhan Pamuk, Maureen Freely</td><td>Snow</td></tr>",
                            "<tr><td>James Patterson, Michael Ledwidge</td><td>The Quickie</td></tr>",
                            "<tr><td>James Patterson, Michael Ledwidge</td><td>Step on a Crack (Michael Bennett, #1)</td></tr>",
                            "<tr><td>Nora Roberts, Angela Dawe</td><td>Savor the Moment (Bride Quartet, #3)</td></tr>",
                            "<tr><td>Jalaluddin Rumi, Coleman Barks</td><td>The Essential Rumi</td></tr>",
                            "<tr><td>Helen Gardner, Fred S. Kleiner, Christin J. Mamiya</td><td>Art Through the Ages </td></tr>",
                            "<tr><td>Brian K. Vaughan, Fiona Staples</td><td>Saga, Vol. 4 (Saga, #4)</td></tr>",
                            "<tr><td>Jack Canfield, Mark Victor Hansen</td><td>Chicken Soup for the Soul</td></tr>",
                            "<tr><td>Brian Froud, Terry Windling</td><td>Good Faeries/Bad Faeries</td></tr>",
                            "<tr><td>Stephen King, Bernie Wrightson</td><td>Cycle of the Werewolf</td></tr>",
                            "<tr><td>Anne Brontë, Angeline Goreau</td><td>Agnes Grey</td></tr>",
                            "<tr><td>A.P.J. Abdul Kalam, Arun Tiwari</td><td>Wings of Fire: An Autobiography</td></tr>",
                            "<tr><td>L.J. Smith, Kevin Williamson, Julie Plec</td><td>The Ripper (The Vampire Diaries: Stefan's Diaries, #4)</td></tr>",
                            "<tr><td>Marjorie Flack, Kurt Wiese</td><td>The Story About Ping</td></tr>",
                            "<tr><td>Laura Ingalls Wilder, Garth Williams</td><td>Farmer Boy (Little House, #3)</td></tr>",
                            "<tr><td>Alfred Bester, Neil Gaiman</td><td>The Stars My Destination</td></tr>",
                            "<tr><td>Augustine of Hippo, Henry Chadwick, Albert Cook Outler</td><td>Confessions</td></tr>",
                            "<tr><td>أحلام مستغانمي, Ahlam Mosteghanemi</td><td>com نسيان</td></tr>",
                            "<tr><td>J.K. Rowling, Mary GrandPré</td><td>Harry Potter Boxed Set, Books 1-5 (Harry Potter, #1-5)</td></tr>",
                            "<tr><td>Joanna Cole, Bruce Degen</td><td>Inside the Human Body (The Magic School Bus, #3)</td></tr>",
                            "<tr><td>Holly Black, Cassandra Clare</td><td>The Iron Trial (Magisterium, #1)</td></tr>",
                            "<tr><td>Daniel Abraham, George R.R. Martin, Tommy Patterson</td><td>A Game of Thrones: The Graphic Novel, Vol. 1</td></tr>",
                            "<tr><td>Tim LaHaye, Jerry B. Jenkins</td><td>Tribulation Force (Left Behind, #2)</td></tr>",
                            "<tr><td>Adrian Conan Doyle, John Dickson Carr</td><td>The Exploits of Sherlock Holmes</td></tr>",
                            "<tr><td>Elena Ferrante, Ann Goldstein</td><td>Those Who Leave and Those Who Stay (The Neapolitan Novels #3)</td></tr>",
                            "<tr><td>Hisaya Nakajo, David Ury</td><td>Hana-Kimi, Vol. 1 (Hana-Kimi, #1)</td></tr>",
                            "<tr><td>Atul Gawande, Susanne Kuhlmann-Krieg</td><td>Complications: A Surgeon's Notes on an Imperfect Science</td></tr>",
                            "<tr><td>Roland Barthes, Richard Howard</td><td>Camera Lucida: Reflections on Photography</td></tr>",
                            "<tr><td>Elizabeth  Smart, Chris Stewart</td><td>My Story</td></tr>",
                            "<tr><td>Michael Buckley, Peter Ferguson</td><td>The Fairy-Tale Detectives (The Sisters Grimm, #1)</td></tr>",
                            "<tr><td>Terry Pratchett, Stephen Briggs</td><td>Mort: The Play</td></tr>",
                            "<tr><td>Derek Landy, Tom Percival</td><td>Skulduggery Pleasant (Skulduggery Pleasant, #1)</td></tr>",
                            "<tr><td>Charles Dickens, Michael Slater</td><td>A Christmas Carol and Other Christmas Writings</td></tr>",
                            "<tr><td>Terry Pratchett, Stephen Briggs</td><td>Men at Arms: The Play</td></tr>",
                            "<tr><td>Albert Camus, Justin O'Brien</td><td>The Myth of Sisyphus and Other Essays</td></tr>",
                            "<tr><td>Elizabeth Gaskell, Pam Morris</td><td>Wives and Daughters</td></tr>",
                            "<tr><td>Primo Levi, Stuart J. Woolf, Philip Roth</td><td>Survival in Auschwitz</td></tr>",
                            "<tr><td>Jules Verne, Caleb Carr, Jordan Stump</td><td>The Mysterious Island (Extraordinary Voyages, #12)</td></tr>",
                            "<tr><td>Carolyn Jessop, Laura Palmer</td><td>Escape</td></tr>",
                            "<tr><td>Marcus Buckingham, Curt Coffman</td><td>First, Break All the Rules: What the World's Greatest Managers Do Differently</td></tr>",
                            "<tr><td>Thornton Wilder, Donald Margulies, Tappan Wilder</td><td>Our Town</td></tr>",
                            "<tr><td>Jane Yolen, John Schoenherr</td><td>Owl Moon</td></tr>",
                            "<tr><td>Fyodor Dostoyevsky, Constance Garnett, Gary Saul Morson</td><td>The Gambler</td></tr>",
                            "<tr><td>Jo Nesbø, Don Bartlett</td><td>Nemesis (Harry Hole, #4)</td></tr>",
                            "<tr><td>Sylvia Plath, Ted Hughes</td><td>The Collected Poems</td></tr>",
                            "<tr><td>John Steinbeck, Susan Shillinglaw</td><td>The Winter of Our Discontent</td></tr>",
                            "<tr><td>Zoe Sugg, Siobhan Curham</td><td>Girl Online (Girl Online, #1)</td></tr>",
                            "<tr><td>Neil Gaiman, Marc Hempel, Richard Case, D'Israeli, Teddy Kristiansen, Glyn Dillon, Charles Vess, Dean Ormston, Kevin Nowlan, Todd Klein, Frank McConnell</td><td>The Kindly Ones (The Sandman #9)</td></tr>",
                            "<tr><td>Neil Gaiman, Mike Allred, Gary Amaro, Mark Buckingham, David Giordano, Tony Harris, Steve Leialoha, Vince Locke, Shea Anton Pensa, Alec Stevens, Bryan Talbot, John Watkiss, Todd Klein, Michael Zulli, Stephen King</td><td>Worlds' End (The Sandman #8)</td></tr>",
                            "<tr><td>Hans Christian Andersen, Jerry Pinkney</td><td>The Ugly Duckling</td></tr>",
                            "<tr><td>Graham Greene, Monica Ali</td><td>The End of the Affair</td></tr>",
                            "<tr><td>Felix Salten, Barbara Cooney</td><td>Bambi</td></tr>",
                            "<tr><td>Herodotus, Aubrey de Sélincourt, John M. Marincola</td><td>The Histories</td></tr>",
                            "<tr><td>Stephen R. Covey, A. Roger Merrill, Rebecca R. Merrill</td><td>First Things First</td></tr>",
                            "<tr><td>Michael Chabon, Hans Hermann</td><td>Wonder Boys</td></tr>",
                            "<tr><td>Paolo Giordano, Shaun Whiteside</td><td>The Solitude of Prime Numbers</td></tr>",
                            "<tr><td>Neil Gaiman, Skottie Young</td><td>Fortunately, the Milk</td></tr>",
                            "<tr><td>G. Willow Wilson, Adrian Alphona</td><td>Ms. Marvel, Vol. 1: No Normal</td></tr>",
                            "<tr><td>Guillermo del Toro, Chuck Hogan</td><td>The Fall (The Strain Trilogy, #2)</td></tr>",
                            "<tr><td>Pamela Druckerman, Abby Craden</td><td>Bringing Up Bébé: One American Mother Discovers the Wisdom of French Parenting</td></tr>",
                            "<tr><td>Francis Chan, Danae Yankoski</td><td>Forgotten God: Reversing Our Tragic Neglect of the Holy Spirit</td></tr>",
                            "<tr><td>Rainer Maria Rilke, Reginald Snell, Franz Xaver Kappus</td><td>Letters to a Young Poet</td></tr>",
                            "<tr><td>Charles Baudelaire, Richard Howard</td><td>Les Fleurs du Mal</td></tr>",
                            "<tr><td>Janet Evanovich, Lee Goldberg</td><td>The Heist (Fox and O'Hare, #1)</td></tr>",
                            "<tr><td>Pierre-Ambroise Choderlos de Laclos, Douglas Parmée</td><td>Les Liaisons dangereuses</td></tr>",
                            "<tr><td>Han Kang, Deborah     Smith</td><td>The Vegetarian</td></tr>",
                            "<tr><td>Franz Kafka, Mark Harman, Regaip Minareci, Şerif Yeşilbucak</td><td>The Castle</td></tr>",
                            "<tr><td>Kimon Nicolaides, Mamie Harmon</td><td>The Natural Way to Draw</td></tr>",
                            "<tr><td>Kate DiCamillo, K.G. Campbell</td><td>Flora and Ulysses: The Illuminated Adventures</td></tr>",
                            "<tr><td>Marcel Proust, Simon Vance, Lydia Davis</td><td>Swann's Way (In Search of Lost Time, #1)</td></tr>",
                            "<tr><td>Don    Wood, Audrey Wood</td><td>The Little Mouse, the Red Ripe Strawberry, and the Big Hungry Bear</td></tr>",
                            "<tr><td>Isabel Allende, Margaret Sayers Peden</td><td>Eva Luna</td></tr>",
                            "<tr><td>James Patterson, Maxine Paetro</td><td>The 8th Confession (Women's Murder Club, #8)</td></tr>",
                            "<tr><td>Mike Carey, Glenn Fabry, Neil Gaiman</td><td>Neil Gaiman's Neverwhere</td></tr>",
                            "<tr><td>Naoki Higashida, K.A. Yoshida, David Mitchell</td><td>The Reason I Jump: The Inner Voice of a Thirteen-Year-Old Boy with Autism</td></tr>",
                            "<tr><td>W.B. Yeats, Richard J. Finneran</td><td>The Collected Poems of W.B. Yeats</td></tr>",
                            "<tr><td>Barbara Shook Hazen, Robert Lewis May, Richard Scarry</td><td>Rudolph the Red-Nosed Reindeer</td></tr>",
                            "<tr><td>Haruki Murakami, Jay Rubin, Alfred Birnbaum</td><td>The Elephant Vanishes</td></tr>",
                            "<tr><td>Kerry Patterson, Joseph Grenny, Ron McMillan, Al Switzler, Stephen R. Covey</td><td>Crucial Conversations: Tools for Talking When Stakes Are High</td></tr>",
                            "<tr><td>Robert Kirkman, Tony Moore, Charlie Adlard, Cliff Rathburn</td><td>The Walking Dead, Book One (The Walking Dead #1-12)</td></tr>",
                            "<tr><td>Thomas Hobbes, C.B. Macpherson</td><td>Leviathan</td></tr>",
                            "<tr><td>Rob Thomas, Jennifer Graham</td><td>The Thousand-Dollar Tan Line (Veronica Mars, #1)</td></tr>",
                            "<tr><td>Danny Sugerman, Jerry Hopkins</td><td>No One Here Gets Out Alive</td></tr>",
                            "<tr><td>Marguerite Henry, Wesley Dennis</td><td>Misty of Chincoteague (Misty, #1)</td></tr>",
                            "<tr><td>William Gibson, Bruce Sterling</td><td>Burning Chrome (Sprawl, #0)</td></tr>",
                            "<tr><td>A.L. Singer, Walt Disney Company</td><td>Sleeping Beauty (Disney Princess, 5)</td></tr>",
                            "<tr><td>Brennan Manning, Michael W. Smith, Rich Mullins</td><td>The Ragamuffin Gospel: Good News for the Bedraggled, Beat-Up, and Burnt Out</td></tr>",
                            "<tr><td>Jonas Jonasson, Rachel Willson-Broyles</td><td>The Girl Who Saved the King of Sweden</td></tr>",
                            "<tr><td>Shannon Hale, James Noel Smith</td><td>Book of a Thousand Days</td></tr>",
                            "<tr><td>Edith Hamilton, Steele Savage</td><td>Mythology: Timeless Tales of Gods and Heroes</td></tr>",
                            "<tr><td>Leah Remini, Rebecca Paley</td><td>Troublemaker: Surviving Hollywood and Scientology</td></tr>",
                            "<tr><td>Eric Shanower, Skottie Young, L. Frank Baum</td><td>Oz: The Wonderful Wizard of Oz</td></tr>",
                            "<tr><td>Edith Hahn Beer, Susan Dworkin, Susan Sarandon, Julia Ormond, Rory Kennedy</td><td>The Nazi Officer's Wife: How One Jewish Woman Survived the Holocaust</td></tr>",
                            "<tr><td>Tim LaHaye, Jerry B. Jenkins</td><td>Nicolae (Left Behind, #3)</td></tr>",
                            "<tr><td>James Patterson, Maxine Paetro</td><td>The 9th Judgment  (Women's Murder Club, #9)</td></tr>",
                            "<tr><td>James Patterson, Michael Ledwidge</td><td>Zoo</td></tr>",
                            "<tr><td>Rick Riordan, Gordon Korman, Peter Lerangis, Jude Watson</td><td>Vespers Rising (The 39 Clues, #11)</td></tr>",
                            "<tr><td>Dodie Smith, Michael Dooling</td><td>The 101 Dalmatians (The Hundred and One Dalmatians, #1)</td></tr>",
                            "<tr><td>Joseph Delaney, Patrick  Arrasmith</td><td>Revenge of the Witch (The Last Apprentice / Wardstone Chronicles, #1)</td></tr>",
                            "<tr><td>Teddy Slater, Ron Dias, Ric González</td><td>Beauty and the Beast (Disney)</td></tr>",
                            "<tr><td>Neil Gaiman, Michael Zulli, Jon J. Muth, Charles Vess, Mikal Gilmore</td><td>The Wake (The Sandman #10)</td></tr>",
                            "<tr><td>Teddy Slater, Bill Langley, Ron Dias, Walt Disney Company</td><td>Lady and the Tramp</td></tr>",
                            "<tr><td>Bill O'Reilly, Martin Dugard</td><td>Killing Jesus: A History</td></tr>",
                            "<tr><td>Brian K. Vaughan, Pia Guerra, José Marzán Jr.</td><td>Y: The Last Man, Vol. 2: Cycles (Y: The Last Man, #2)</td></tr>",
                            "<tr><td>Bill Dedman, Paul Clark Newell Jr.</td><td>Empty Mansions: The Mysterious Life of Huguette Clark and the Spending of a Great American Fortune</td></tr>",
                            "<tr><td>Douglas Preston, Lincoln Child</td><td>The Cabinet of Curiosities (Pendergast, #3)</td></tr>",
                            "<tr><td>Benjamin Graham, Jason Zweig, Warren Buffett</td><td>The Intelligent Investor (Collins Business Essentials)</td></tr>",
                            "<tr><td>William Shakespeare, John Jowett</td><td>Richard III</td></tr>",
                            "<tr><td>Cassandra Clare, Sarah Rees Brennan, Maureen Johnson, Cassandra Jean</td><td>The Bane Chronicles</td></tr>",
                            "<tr><td>Banana Yoshimoto, Megan Backus</td><td>Kitchen</td></tr>",
                            "<tr><td>James Patterson, Peter de Jonge</td><td>Beach Road</td></tr>",
                            "<tr><td>Charles Dickens, Mark Ford</td><td>Nicholas Nickleby</td></tr>",
                            "<tr><td>Dean Koontz, Kevin J. Anderson, Chuck Dixon, Brett Booth</td><td>Dean Koontz's Frankenstein, Volume 1: Prodigal Son</td></tr>",
                            "<tr><td>Jean-Jacques Rousseau, Maurice Cranston</td><td>The Social Contract</td></tr>",
                            "<tr><td>Alexander Hamilton, James Madison, John Jay, Philo-Publius, Clinton Rossiter, Charles R. Kessler</td><td>The Federalist Papers</td></tr>",
                            "<tr><td>Elena Ferrante, Ann Goldstein</td><td>The Story of the Lost Child (The Neapolitan Novels, #4)</td></tr>",
                            "<tr><td>Sarah Blake, Orlagh Cassidy</td><td>The Postmistress</td></tr>",
                            "<tr><td>Ed Catmull, Amy Wallace</td><td>Creativity, Inc.: Overcoming the Unseen Forces That Stand in the Way of True Inspiration</td></tr>",
                            "<tr><td>Frida Kahlo, Carlos Fuentes, Sarah M. Lowe</td><td>The Diary of Frida Kahlo: An Intimate Self-Portrait</td></tr>",
                            "<tr><td>Stephen King, Bernie Wrightson, Michele Wrightson</td><td>Creepshow</td></tr>",
                            "<tr><td>Bill Martin Jr., Eric Carle</td><td>Panda Bear, Panda Bear, What Do You See?</td></tr>",
                            "<tr><td>Douglas Preston, Lincoln Child</td><td>Reliquary (Pendergast, #2)</td></tr>",
                            "<tr><td>Lars Kepler, Ann Long</td><td>The Hypnotist (Joona Linna, #1)</td></tr>",
                            "<tr><td>Tommy Lee, Vince Neil, Nikki Sixx, Neil Strauss, Mick Mars, Tommy Lee</td><td>The Dirt: Confessions of the World's Most Notorious Rock Band</td></tr>",
                            "<tr><td>Theo LeSieg, Roy McKie</td><td>Ten Apples Up On Top!</td></tr>",
                            "<tr><td>Theodore Dreiser, Richard R. Lingeman</td><td>An American Tragedy</td></tr>",
                            "<tr><td>Brynne Stephens, Lela Dowling, Cynthia Martin, Anne McCaffrey</td><td>Anne McCaffrey's Dragonflight #1</td></tr>",
                            "<tr><td>Amie Kaufman, Jay Kristoff</td><td>Illuminae (The Illuminae Files, #1)</td></tr>",
                            "<tr><td>Susan Hill, John Lawrence</td><td>The Woman in Black</td></tr>",
                            "<tr><td>Colleen Hoover, Tarryn Fisher</td><td>Never Never: Part Two (Never Never, #2)</td></tr>",
                            "<tr><td>James Patterson, Maxine Paetro</td><td>10th Anniversary (Women's Murder Club, #10)</td></tr>",
                            "<tr><td>Ian Rankin, Mircea Pricăjan</td><td>Knots and Crosses (Inspector Rebus, #1)</td></tr>",
                            "<tr><td>Robert Kirkman, Charlie Adlard</td><td>The Walking Dead, Vol. 02: Miles Behind Us</td></tr>",
                            "<tr><td>Lewis Carroll, John Tenniel</td><td>Alice's Adventures in Wonderland &amp; Other Stories</td></tr>",
                            "<tr><td>H.P. Lovecraft, August Derleth, Robert Bloch</td><td>The Best of H.P. Lovecraft: Bloodcurdling Tales of Horror and the Macabre</td></tr>",
                            "<tr><td>H.P. Lovecraft, S.T. Joshi</td><td>The Call of Cthulhu and Other Weird Stories</td></tr>",
                            "<tr><td>Felicia Day, Joss Whedon</td><td>You're Never Weird on the Internet (Almost)</td></tr>",
                            "<tr><td>James Patterson, Michael Ledwidge</td><td>Now You See Her</td></tr>",
                            "<tr><td>Matt Fraction, David Aja, Javier Pulido, Matt Hollingsworth, Chris Eliopoulos, Alan Davis</td><td>Hawkeye, Volume 1: My Life as a Weapon</td></tr>",
                            "<tr><td>Jeph Loeb, Jim Lee, Scott Williams, Alex Sinclair, Richard Starkings</td><td>Batman: Hush</td></tr>",
                            "<tr><td>Haruki Murakami, Jay Rubin</td><td>After the Quake</td></tr>",
                            "<tr><td>James Patterson, David Ellis</td><td>Guilty Wives</td></tr>",
                            "<tr><td>Jodi Picoult, Samantha van Leer</td><td>Between the Lines (Between the Lines, #1)</td></tr>",
                            "<tr><td>Henry David Thoreau, W.S. Merwin</td><td>Walden &amp; Civil Disobedience</td></tr>",
                            "<tr><td>Kanoko Sakurakouji, JN Productions, Pancha Diaz</td><td>Black Bird, Vol. 01 (Black Bird, #1)</td></tr>",
                            "<tr><td>Erin Watt, Elle Kennedy, Jen Frederick</td><td>Paper Princess (The Royals, #1)</td></tr>",
                            "<tr><td>Patricia C. Wrede, Peter de Sève</td><td>Searching for Dragons (Enchanted Forest Chronicles, #2)</td></tr>",
                            "<tr><td>Rachel Caine, Cynthia Holloway</td><td>Kiss of Death (The Morganville Vampires, #8)</td></tr>",
                            "<tr><td>James Patterson, NaRae Lee</td><td>Maximum Ride, Vol. 1 (Maximum Ride: The Manga, #1)</td></tr>",
                            "<tr><td>Nora Roberts, MacLeod Andrews</td><td>The Last Boyfriend (Inn BoonsBoro, #2)</td></tr>",
                            "<tr><td>Lene Kaaberbøl, Agnete Friis</td><td>The Boy in the Suitcase (Nina Borg, #1)</td></tr>",
                            "<tr><td>Plato, Christopher Gill</td><td>The Symposium</td></tr>",
                            "<tr><td>Stella Gibbons, Lynne Truss, Roz Chast</td><td>Cold Comfort Farm</td></tr>",
                            "<tr><td>Rainer Metzger, Ingo F. Walther</td><td>Vincent Van Gogh: The Complete Paintings</td></tr>",
                            "<tr><td>Peter Høeg, Tiina Nunnally</td><td>Smilla's Sense of Snow</td></tr>",
                            "<tr><td>Jeph Loeb, Tim Sale</td><td>Batman: Dark Victory</td></tr>",
                            "<tr><td>Al Perkins, Eric Gurney</td><td>Hand, Hand, Fingers, Thumb</td></tr>",
                            "<tr><td>Juan Rulfo, Margaret Sayers Peden, Susan Sontag</td><td>Pedro Páramo</td></tr>",
                            "<tr><td>T.S. Eliot, Michael North</td><td>The Waste Land</td></tr>",
                            "<tr><td>Heather Cocks, Jessica  Morgan</td><td>The Royal We</td></tr>",
                            "<tr><td>Dave Barry, Ridley Pearson, Greg Call</td><td>Peter and the Shadow Thieves (Peter and the Starcatchers, #2)</td></tr>",
                            "<tr><td>Kohta Hirano, Duane Johnson</td><td>Hellsing, Vol. 01 (Hellsing, #1)</td></tr>",
                            "<tr><td>Tim LaHaye, Jerry B. Jenkins</td><td>Soul Harvest: The World Takes Sides (Left Behind, #4)</td></tr>",
                            "<tr><td>Dean Koontz, Kevin J. Anderson, Scott Brick</td><td>Prodigal Son (Dean Koontz's Frankenstein, #1)</td></tr>",
                            "<tr><td>Jane Yolen, Mark Teague</td><td>How Do Dinosaurs Say Good Night?</td></tr>",
                            "<tr><td>Miyamoto Musashi, Victor Harris</td><td>A Book of Five Rings: The Classic Guide to Strategy</td></tr>",
                            "<tr><td>Aristotle, J.A.K. Thomson, Jonathan Barnes, Hugh Tredennick</td><td>The Nicomachean Ethics</td></tr>",
                            "<tr><td>Stan Berenstain, Jan Berenstain</td><td>The Berenstain Bears and the Messy Room</td></tr>",
                            "<tr><td>Richard Bachman, Stephen King</td><td>Blaze</td></tr>",
                            "<tr><td>H.W. Janson, Anthony F. Janson</td><td>History of Art</td></tr>",
                            "<tr><td>Trenton Lee Stewart, Diana Sudyka</td><td>The Mysterious Benedict Society and the Perilous Journey (The Mysterious Benedict Society, #2)</td></tr>",
                            "<tr><td>William Shakespeare, Barbara A. Mowat, Paul Werstine</td><td>Henry V</td></tr>",
                            "<tr><td>Knut Hamsun, George Egerton</td><td>Hunger</td></tr>",
                            "<tr><td>Brian Azzarello, Lee Bermejo</td><td>The Joker</td></tr>",
                            "<tr><td>Sergei Lukyanenko, Andrew Bromfield</td><td>Night Watch (Watch #1)</td></tr>",
                            "<tr><td>Pierre Boulle, Xan Fielding</td><td>Planet of the Apes</td></tr>",
                            "<tr><td>Henry T. Blackaby, Claude V. King, Richard Blackaby</td><td>Experiencing God: Knowing and Doing the Will of God, Workbook</td></tr>",
                            "<tr><td>Katsura Hoshino, Mayumi Kobayashi</td><td>D.Gray-man, Volume 01</td></tr>",
                            "<tr><td>Ian Caldwell, Dustin Thomason</td><td>The Rule of Four</td></tr>",
                            "<tr><td>Gene Luen Yang, Bryan Konietzko, Michael Dante DiMartino, Dave Marshall, Gurihiru</td><td>Avatar: The Last Airbender (The Search, #1)</td></tr>",
                            "<tr><td>Legs McNeil, Gillian McCain</td><td>Please Kill Me: The Uncensored Oral History of Punk</td></tr>",
                            "<tr><td>George Orwell, Lionel Trilling</td><td>Homage to Catalonia</td></tr>",
                            "<tr><td>George R.R. Martin, Gary Gianni</td><td>A Knight of the Seven Kingdoms (The Tales of Dunk and Egg, #1-3)</td></tr>",
                            "<tr><td>Joss Whedon, Georges Jeanty</td><td>Buffy the Vampire Slayer: The Long Way Home (Season 8, #1)</td></tr>",
                            "<tr><td>Mikhail Bulgakov, Mirra Ginsburg, Mikhail Bulgakov</td><td>Heart of a Dog</td></tr>",
                            "<tr><td>Kurt Busiek, Alex Ross</td><td>Marvels</td></tr>",
                            "<tr><td>Jay Asher, Carolyn Mackler</td><td>The Future of Us</td></tr>",
                            "<tr><td>Christopher Moore, Oliver Wyman</td><td>Island of the Sequined Love Nun</td></tr>",
                            "<tr><td>Ina Garten, Melanie Acevedo</td><td>The Barefoot Contessa Cookbook</td></tr>",
                            "<tr><td>Kathy Reichs, Brendan Reichs</td><td>Virals (Virals, #1)</td></tr>",
                            "<tr><td>Laura Schroff, Alex Tresniowski, Valerie Salembier</td><td>An Invisible Thread: The True Story of an 11-Year-Old Panhandler, a Busy Sales Executive, and an Unlikely Meeting with Destiny</td></tr>",
                            "<tr><td>P.C. Cast, Kristin Cast</td><td>Marked / Betrayed / Chosen / Untamed (House of Night, #1-4)</td></tr>",
                            "<tr><td>Ruud van der Rol, Rian Verhoeven, Anna Quindlen, Anne Frank, Tony Langham, Plym Peters</td><td>Anne Frank: Beyond the Diary - A Photographic Remembrance</td></tr>",
                            "<tr><td>James Patterson, Maxine Paetro</td><td>11th Hour (Women's Murder Club, #11)</td></tr>",
                            "<tr><td>Orson Scott Card, Aaron Johnston</td><td>Earth Unaware (The First Formic War, #1)</td></tr>",
                            "<tr><td>Al Dempster, Milt Banta, Golden Books, Walt Disney Company</td><td>The Three Little Pigs (Disney Classic)</td></tr>",
                            "<tr><td>Bryan Lee O'Malley, Steve Buccellato</td><td>Scott Pilgrim, Volume 4: Scott Pilgrim Gets It Together</td></tr>",
                            "<tr><td>Alan Moore, Eddie Campbell, Pete Mullins</td><td>From Hell</td></tr>",
                            "<tr><td>Sigmund Freud, James Strachey, Peter Gay</td><td>Civilization and Its Discontents</td></tr>",
                            "<tr><td>Joss Whedon, John Cassaday</td><td>Astonishing X-Men, Volume 1: Gifted</td></tr>",
                            "<tr><td>Mariko Tamaki, Jillian Tamaki</td><td>This One Summer</td></tr>",
                            "<tr><td>Fyodor Dostoyevsky, Richard Pevear, Larissa Volokhonsky</td><td>Demons</td></tr>",
                            "<tr><td>Fyodor Dostoyevsky, Christian Redl, Philip Dossick, Emanuela Guercetti, Michelle-Irène Brudny, Richard Pevear, Norman Dietz, Donald Fanger, coderati, Boris de Schlœzer, Larissa Volokhonsky</td><td>Notes from Underground</td></tr>",
                            "<tr><td>Andrew Williamson, Andrew Williamson</td><td>Harry Potter: A Pop-Up Book: Based on the Film Phenomenon</td></tr>",
                            "<tr><td>Isabel Allende, Margaret Sayers Peden</td><td>Portrait in Sepia</td></tr>",
                            "<tr><td>Stephen Hawking, Leonard Mlodinow</td><td>A Briefer History of Time</td></tr>",
                            "<tr><td>Emily Bleeker, Dan John Miller</td><td>When I'm Gone</td></tr>",
                            "<tr><td>Aeschylus, Robert Fagles, William Bedell Stanford</td><td>The Oresteia  (Ορέστεια, #1-3)</td></tr>",
                            "<tr><td>Jon Stewart, Rory Albanese, Kevin Bleyer, Rich Bloomquist, Steve Bodow, Tim Carvell, Wyatt Cenac, Hallie Haglund, J.R. Havlan, David Javerbaum, Elliott Kalan, Josh Lieb, Sam Means, Jo Miller, John Oliver, Daniel Radosh, Jason Ross</td><td>Earth (The Book): A Visitor's Guide to the Human Race</td></tr>",
                            "<tr><td>Brother Andrew, Elizabeth Sherrill, John Sherrill</td><td>God's Smuggler</td></tr>",
                            "<tr><td>Dawn J. Ranck, Phyllis Pellman Good</td><td>Fix-It and Forget-It Cookbook: Feasting with Your Slow Cooker</td></tr>",
                            "<tr><td>Lili St. Crow, Lilith Saintcrow</td><td>Strange Angels (Strange Angels, #1)</td></tr>",
                            "<tr><td>Malika Oufkir, Michèle Fitoussi</td><td>Stolen Lives: Twenty Years in a Desert Jail</td></tr>",
                            "<tr><td>Mark Millar, Steve McNiven, Dexter Vines, Morry Hollowell</td><td>Civil War: A Marvel Comics Event</td></tr>",
                            "<tr><td>Kim Carpenter, John R. Perry, Krickitt Carpenter</td><td>The Vow: The Kim &amp; Krickitt Carpenter Story</td></tr>",
                            "<tr><td>CLAMP, William Flanagan</td><td>xxxHolic, Vol. 1 (xxxHOLiC, #1)</td></tr>",
                            "<tr><td>Harry Allard, James  Marshall</td><td>Miss Nelson Is Back (Miss Nelson, #2)</td></tr>",
                            "<tr><td>Oscar Wilde, Inga Moore</td><td>The Canterville Ghost</td></tr>",
                            "<tr><td>Bryan Lee O'Malley, Nathan Fairbairn</td><td>Seconds</td></tr>",
                            "<tr><td>Joseph Murphy, Ian McMahan</td><td>The Power of Your Subconscious Mind</td></tr>",
                            "<tr><td>Esther Forbes, Lynd Ward</td><td>Johnny Tremain</td></tr>",
                            "<tr><td>Ernesto Che Guevara, Aleida Guevara March</td><td>The Motorcycle Diaries: Notes on a Latin American Journey</td></tr>",
                            "<tr><td>Roberto Bolaño, Natasha Wimmer</td><td>The Savage Detectives</td></tr>",
                            "<tr><td>Stefan Zweig, Joel Rotenberg, Hans Hausmann, Dirk Muller, Peter Gay, Willy Trenk-Trebitsch, Mario Adorf, Gert Westphal</td><td>Chess Story</td></tr>",
                            "<tr><td>Justine Korman Fontes, Don Williams, Walt Disney Company</td><td>The Lion King: A little Golden Book</td></tr>",
                            "<tr><td>Jo Nesbø, Charlotte Barslund</td><td>The Son</td></tr>",
                            "<tr><td>John Layman, Rob Guillory</td><td>Chew, Vol. 1: Taster's Choice</td></tr>",
                            "<tr><td>Margaret Weis, Tracy Hickman</td><td>Time of the Twins (Dragonlance: Legends, #1)</td></tr>",
                            "<tr><td>Arkady Strugatsky, Boris Strugatsky, Antonina W. Bouis, Antonina W. Bouis, Theodore Sturgeon</td><td>Roadside Picnic</td></tr>",
                            "<tr><td>Jack Kerouac, Aram Saroyan</td><td>Big Sur</td></tr>",
                            "<tr><td>Garth Ennis, Steve Dillon</td><td>Preacher, Volume 2: Until the End of the World</td></tr>",
                            "<tr><td>Chris   Smith, Christopher Lee, Richard Taylor</td><td>The Lord of the Rings: Weapons and Warfare</td></tr>",
                            "<tr><td>Arturo Pérez-Reverte, Sonia Soto</td><td>The Club Dumas</td></tr>",
                            "<tr><td>Beverly Cleary, Paul O. Zelinsky</td><td>Dear Mr. Henshaw (Leigh Botts, #1)</td></tr>",
                            "<tr><td>Mary O'Hara, Dave Blossom</td><td>My Friend Flicka (Flicka, #1)</td></tr>",
                            "<tr><td>Philippa Gregory, Mirjana Valent</td><td>The Kingmaker's Daughter (The Plantagenet and Tudor Novels, #4)</td></tr>",
                            "<tr><td>Henrik Ibsen, William Archer</td><td>Hedda Gabler</td></tr>",
                            "<tr><td>Jo Nesbø, Don Bartlett</td><td>Phantom (Harry Hole, #9)</td></tr>",
                            "<tr><td>P.C. Cast, Kristin Cast</td><td>Marked / Betrayed / Chosen / Untamed / Hunted (House of Night #1-5)</td></tr>",
                            "<tr><td>أحلام مستغانمي, Ahlam Mosteghanemi</td><td>ذاكرة الجسد</td></tr>",
                            "<tr><td>Thomas Malory, Keith Baines, Robert Graves</td><td>Le Morte d'Arthur: King Arthur and the Legends of the Round Table</td></tr>",
                            "<tr><td>Douglas Preston, Lincoln Child</td><td>Brimstone (Pendergast, #5; Diogenes, #1)</td></tr>",
                            "<tr><td>Anton Chekhov, Richard Pevear, Larissa Volokhonsky</td><td>Selected Stories</td></tr>",
                            "<tr><td>Karen Kingsbury, Gary Smalley</td><td>Redemption (Redemption, #1)</td></tr>",
                            "<tr><td>Tim LaHaye, Jerry B. Jenkins</td><td>Apollyon (Left Behind, #5)</td></tr>",
                            "<tr><td>Robert Sabuda, Lewis Carroll</td><td>Alice's Adventures in Wonderland: A Pop-Up Adaptation</td></tr>",
                            "<tr><td>Noel Streatfeild, Diane Goode</td><td>Ballet Shoes (Shoes, #1)</td></tr>",
                            "<tr><td>Ayn Rand, Leonard Peikoff</td><td>We the Living</td></tr>",
                            "<tr><td>Russell Hoban, Lillian Hoban</td><td>Bread and Jam for Frances</td></tr>",
                            "<tr><td>Candace Bushnell, Donna Murphy</td><td>One Fifth Avenue</td></tr>",
                            "<tr><td>Cece Bell, David Lasky</td><td>El Deafo</td></tr>",
                            "<tr><td>Robert Kirkman, Charlie Adlard</td><td>The Walking Dead, Vol. 03: Safety Behind Bars</td></tr>",
                            "<tr><td>Plato, G.M.A. Grube, John M. Cooper</td><td>The Trial and Death of Socrates</td></tr>",
                            "<tr><td>Thucydides, Rex Warner, Moses I. Finley</td><td>History of the Peloponnesian War</td></tr>",
                            "<tr><td>Stephen Crane, George Stade, Richard Fusco</td><td>The Red Badge of Courage and Selected Short Fiction  </td></tr>",
                            "<tr><td>Jorge Luis Borges, Donald A. Yates, James E. Irby, André Maurois</td><td>Labyrinths:  Selected Stories and Other Writings</td></tr>",
                            "<tr><td>Drew Daywalt, Oliver Jeffers</td><td>The Day the Crayons Quit</td></tr>",
                            "<tr><td>Katie J. Davis, Beth Clark</td><td>Kisses from Katie: A Story of Relentless Love and Redemption</td></tr>",
                            "<tr><td>Thomas Mann, John E. Woods</td><td>The Magic Mountain</td></tr>",
                            "<tr><td>Jack Canfield, Janet Switzer</td><td>The Success Principles: How to Get from Where You Are to Where You Want to Be</td></tr>",
                            "<tr><td>Alexander Osterwalder, Yves Pigneur</td><td>Business Model Generation</td></tr>",
                            "<tr><td>Ann McGovern, Winslow Pinney Pels, Winslow Pinn, Ey Pels</td><td>Stone Soup</td></tr>",
                            "<tr><td>Alaa Al Aswany, علاء الأسواني</td><td>شيكاجو</td></tr>",
                            "<tr><td>James Patterson, Maxine Paetro</td><td>12th of Never (Women's Murder Club, #12)</td></tr>",
                            "<tr><td>James Patterson, David Ellis</td><td>The Murder House</td></tr>",
                            "<tr><td>V.E. Schwab, Victoria Schwab</td><td>A Gathering of Shadows (Shades of Magic, #2)</td></tr>",
                            "<tr><td>Haruki Murakami, Philip Gabriel, Jay Rubin</td><td>Blind Willow, Sleeping Woman</td></tr>",
                            "<tr><td>Ina Garten, Quentin Bacon</td><td>Barefoot Contessa Back to Basics</td></tr>",
                            "<tr><td>Patricia C. Wrede, Peter de Sève</td><td>Calling on Dragons (Enchanted Forest Chronicles, #3)</td></tr>",
                            "<tr><td>Marcus Buckingham, Donald O. Clifton</td><td>Now, Discover Your Strengths</td></tr>",
                            "<tr><td>Wes  Moore, Tavis Smiley</td><td>The Other Wes Moore: One Name, Two Fates</td></tr>",
                            "<tr><td>Naoko Takeuchi, 武内 直子</td><td>美少女戦士セーラームーン新装版 1 [Bishōjo Senshi Sailor Moon Shinsōban 1]</td></tr>",
                            "<tr><td>Sarah Vowell, Katherine Streeter</td><td>The Partly Cloudy Patriot</td></tr>",
                            "<tr><td>Guillermo del Toro, Chuck Hogan</td><td>The Night Eternal (The Strain Trilogy, #3)</td></tr>",
                            "<tr><td>Giovanni Boccaccio, G.H. McWilliam</td><td>The Decameron</td></tr>",
                            "<tr><td>Jorge Luis Borges, Andrew Hurley</td><td>The Aleph and Other Stories </td></tr>",
                            "<tr><td>Rick Riordan, Haley Riordan</td><td>The Demigod Diaries</td></tr>",
                            "<tr><td>Neil Patrick Harris, David Javerbaum, Antony Hare</td><td>Neil Patrick Harris: Choose Your Own Autobiography</td></tr>",
                            "<tr><td>Salman Rushdie, Paul Birkbeck</td><td>Haroun and the Sea of Stories (Khalifa Brothers, #1)</td></tr>",
                            "<tr><td>Nikos Kazantzakis, Νίκος Καζαντζάκης</td><td>Zorba the Greek</td></tr>",
                            "<tr><td>William H. Armstrong, James Barkley</td><td>Sounder</td></tr>",
                            "<tr><td>Lawrence M. Krauss, Richard Dawkins</td><td>A Universe from Nothing: Why There Is Something Rather Than Nothing</td></tr>",
                            "<tr><td>Slash, Anthony Bozza</td><td>Slash</td></tr>",
                            "<tr><td>Gene Luen Yang, Bryan Konietzko, Michael Dante DiMartino, Gurihiru</td><td>Avatar: The Last Airbender (The Promise, #1)</td></tr>",
                            "<tr><td>Jean-Paul Sartre, Hazel E. Barnes, Mary Warnock, Richard Eyre</td><td>Being and Nothingness</td></tr>",
                            "<tr><td>Rachel Carson, Linda Lear, Edward O. Wilson</td><td>Silent Spring</td></tr>",
                            "<tr><td>Scott Westerfeld, Keith Thompson</td><td>Behemoth (Leviathan, #2)</td></tr>",
                            "<tr><td>Brian K. Vaughan, Pia Guerra, Goran Sudžuka, José Marzán Jr.</td><td>Y: The Last Man, Vol. 8: Kimono Dragons (Y: The Last Man, #8)</td></tr>",
                            "<tr><td>Morgan Rhodes, Michelle Rowen</td><td>Falling Kingdoms (Falling Kingdoms, #1)</td></tr>",
                            "<tr><td>Esther Hicks, Jerry Hicks, Wayne W. Dyer</td><td>Ask and It Is Given: Learning to Manifest Your Desires</td></tr>",
                            "<tr><td>Isabel Allende, Margaret Sayers Peden</td><td>Island Beneath the Sea</td></tr>",
                            "<tr><td>Henry Fielding, Thomas Keymer, Alice Wakely</td><td>The History of Tom Jones, a Foundling</td></tr>",
                            "<tr><td>Brian K. Vaughan, Pia Guerra, José Marzán Jr.</td><td>Y: The Last Man, Vol. 5: Ring of Truth (Y: The Last Man, #5)</td></tr>",
                            "<tr><td>Matthew Inman, The Oatmeal</td><td>How to Tell If Your Cat Is Plotting to Kill You</td></tr>",
                            "<tr><td>Haruki Murakami, Ted Goossen</td><td>The Strange Library</td></tr>",
                            "<tr><td>Diana L. Paxson, Marion Zimmer Bradley</td><td>Ancestors of Avalon (Avalon, #5)</td></tr>",
                            "<tr><td>Per Petterson, Anne Born</td><td>Out Stealing Horses</td></tr>",
                            "<tr><td>Doug Moench, Chuck Dixon, Jim Aparo, Norm Breyfogle, Graham Nolan, Jim Balent</td><td>Batman: Knightfall, Vol. 1: Broken Bat</td></tr>",
                            "<tr><td>Brian K. Vaughan, Fiona Staples</td><td>Saga, Vol. 5 (Saga, #5)</td></tr>",
                            "<tr><td>Stephen King, Willem Dafoe</td><td>One Past Midnight: The Langoliers</td></tr>",
                            "<tr><td>John Fante, Charles Bukowski</td><td>Ask the Dust (Arturo Bandini, #3)</td></tr>",
                            "<tr><td>Leigh Nichols, Dean Koontz</td><td>The Key to Midnight</td></tr>",
                            "<tr><td>Philip Pullman, Jacob Grimm, Wilhelm Grimm</td><td>Fairy Tales from the Brothers Grimm: A New English Version</td></tr>",
                            "<tr><td>Aristophanes, Sarah Ruden</td><td>Lysistrata</td></tr>",
                            "<tr><td>Tim LaHaye, Jerry B. Jenkins</td><td>Assassins (Left Behind, #6)</td></tr>",
                            "<tr><td>Scott Jurek, Steve Friedman</td><td>Eat and Run: My Unlikely Journey to Ultramarathon Greatness</td></tr>",
                            "<tr><td>Tim LaHaye, Jerry B. Jenkins</td><td>The Mark (Left Behind, #8)</td></tr>",
                            "<tr><td>Joss Whedon, Brett Matthews, Will Conrad</td><td>Those Left Behind (Serenity, #1)</td></tr>",
                            "<tr><td>Eugene B. Sledge, Paul Fussell</td><td>With the Old Breed: At Peleliu and Okinawa</td></tr>",
                            "<tr><td>Eleanor Estes, Louis Slobodkin</td><td>The Hundred Dresses</td></tr>",
                            "<tr><td>Brian K. Vaughan, Pia Guerra, José Marzán Jr., Paul Chadwick</td><td>Y: The Last Man, Vol. 3: One Small Step (Y: The Last Man, #3)</td></tr>",
                            "<tr><td>Karma Wilson, Jane Chapman</td><td>Bear Snores On</td></tr>",
                            "<tr><td>Brian Jacques, Gary Chalk</td><td>Salamandastron (Redwall, #5)</td></tr>",
                            "<tr><td>Thomas Hardy, Alexander Theroux</td><td>The Return of the Native  </td></tr>",
                            "<tr><td>Michael Crichton, Richard   Preston</td><td>Micro</td></tr>",
                            "<tr><td>Jean-Paul Sartre, Stuart Gilbert, Lionel Abel</td><td>No Exit and Three Other Plays</td></tr>",
                            "<tr><td>Nathaniel Hawthorne, Robert S. Levine</td><td>The House of the Seven Gables</td></tr>",
                            "<tr><td>W.E.B. Du Bois, Donald B. Gibson, Monica W. Elbert</td><td>The Souls of Black Folk</td></tr>",
                            "<tr><td>Hannah  Green, Joanne Greenberg</td><td>I Never Promised You a Rose Garden</td></tr>",
                            "<tr><td>Marguerite Duras, Barbara Bray, Maxine Hong Kingston</td><td>The Lover</td></tr>",
                            "<tr><td>Graham Greene, John Updike</td><td>The Power and the Glory</td></tr>",
                            "<tr><td>Edward Bloor, Danny De Vito</td><td>Tangerine</td></tr>",
                            "<tr><td>Bryan Burrough, John Helyar</td><td>Barbarians at the Gate: The Fall of RJR Nabisco</td></tr>",
                            "<tr><td>David Fishelson, Aaron Leichter, Max Brod, Franz Kafka</td><td>Franz Kafka's The Castle (Dramatization)</td></tr>",
                            "<tr><td>Catherynne M. Valente, Ana Juan</td><td>The Girl Who Circumnavigated Fairyland in a Ship of Her Own Making (Fairyland, #1)</td></tr>",
                            "<tr><td>James Patterson, Marshall Karp</td><td>NYPD Red (NYPD Red, #1)</td></tr>",
                            "<tr><td>Douglas Preston, Lincoln Child</td><td>The Book of the Dead (Pendergast, #7; Diogenes, #3)</td></tr>",
                            "<tr><td>Tim LaHaye, Jerry B. Jenkins</td><td>The Indwelling (Left Behind, #7)</td></tr>",
                            "<tr><td>Hermann Hesse, Richard Winston, Clara Winston, Theodore Ziolkowski</td><td>The Glass Bead Game</td></tr>",
                            "<tr><td>Gerald Durrell, Helma Lapiņa</td><td>My Family and Other Animals (Corfu Trilogy, #1)</td></tr>",
                            "<tr><td>Stephen King, Robin A.H. Waterfield</td><td>The Body</td></tr>",
                            "<tr><td>Doreen Cronin, Harry Bliss</td><td>Diary of a Worm</td></tr>",
                            "<tr><td>Carl Sagan, Ann Druyan</td><td>Pale Blue Dot: A Vision of the Human Future in Space</td></tr>",
                            "<tr><td>Louis-Ferdinand Céline, Ralph Manheim, William T. Vollmann</td><td>Journey to the End of the Night</td></tr>",
                            "<tr><td>Dean Koontz, Keith Szarabajka</td><td>Seize the Night (Moonlight Bay, #2)</td></tr>",
                            "<tr><td>Holly Black, Tony DiTerlizzi</td><td>The Seeing Stone (The Spiderwick Chronicles, #2)</td></tr>",
                            "<tr><td>Doreen Cronin, Betsy Lewin</td><td>Giggle, Giggle, Quack</td></tr>",
                            "<tr><td>René Descartes, Donald A. Cress</td><td>Discourse on Method and Meditations on First Philosophy</td></tr>",
                            "<tr><td>Douglas Preston, Lincoln Child</td><td>Still Life With Crows (Pendergast, #4)</td></tr>",
                            "<tr><td>Anthony Robbins, Kenneth H. Blanchard, Jason Winters</td><td>Unlimited Power : The New Science Of Personal Achievement</td></tr>",
                            "<tr><td>Douglas Preston, Lincoln Child</td><td>Fever Dream (Pendergast, #10)</td></tr>",
                            "<tr><td>Marilyn Manson, Neil Strauss</td><td>The Long Hard Road Out of Hell</td></tr>",
                            "<tr><td>José Saramago, Margaret Jull Costa</td><td>Death With Interruptions</td></tr>",
                            "<tr><td>Fredrik Backman, Henning Koch, سمانه پرهیزکاری</td><td>Britt-Marie Was Here</td></tr>",
                            "<tr><td>Rudyard Kipling, Edward Said</td><td>Kim</td></tr>",
                            "<tr><td>Immanuel Kant, Paul Guyer, Allen W. Wood</td><td>Critique of Pure Reason</td></tr>",
                            "<tr><td>Rien Poortvliet, Wil Huygen</td><td>Gnomes</td></tr>",
                            "<tr><td>Rebecca Housel, J. Jeremy Wisnewski, William Irwin</td><td>Twilight and Philosophy: Vampires, Vegetarians, and the Pursuit of Immortality</td></tr>",
                            "<tr><td>Alexandre Dumas fils, David Coward</td><td>La Dame aux Camélias</td></tr>",
                            "<tr><td>Stephen C. Lundin, Harry Paul, John Christensen, Kenneth H. Blanchard</td><td>Fish: A Proven Way to Boost Morale and Improve Results</td></tr>",
                            "<tr><td>Vi Keeland, Penelope Ward</td><td>Stuck-Up Suit</td></tr>",
                            "<tr><td>J.D. Robb, Susan Ericksen</td><td>Rapture in Death (In Death, #4)</td></tr>",
                            "<tr><td>Michel Houellebecq, Frank Wynne</td><td>The Elementary Particles</td></tr>",
                            "<tr><td>Roy Thomas, Dick Giordano, Mark D. Beazley, Bram Stoker</td><td>Dracula (Marvel Illustrated)</td></tr>",
                            "<tr><td>Giorgio Vasari, Julia Conway Bondanella, Peter Bondanella</td><td>The Lives of the Artists</td></tr>",
                            "<tr><td>Dmitry Glukhovsky, M. David Drevs</td><td>Metro 2033 (METRO, #1)</td></tr>",
                            "<tr><td>Robert Henri, Forbes Watson, Margery A. Ryerson</td><td>The Art Spirit: Notes, Articles, Fragments of Letters and Talks to Students, Bearing on the Concept and Technique of Picture Making, the Study of Art (Icon Editions)</td></tr>",
                            "<tr><td>Holly Black, Tony DiTerlizzi</td><td>The Wrath of Mulgarath (The Spiderwick Chronicles, #5)</td></tr>",
                            "<tr><td>Ram Dass, Richard Alpert</td><td>Be Here Now</td></tr>",
                            "<tr><td>Michael Teitelbaum, Sue DiCicco</td><td>The Little Mermaid</td></tr>",
                            "<tr><td>James Patterson, Andrew Gross</td><td>Lifeguard</td></tr>",
                            "<tr><td>A.N. Roquelaure, Anne Rice</td><td>Beauty's Release (Sleeping Beauty, #3)</td></tr>",
                            "<tr><td>Larry Bossidy, Ram Charan, Charles Burck</td><td>Execution: The Discipline of Getting Things Done</td></tr>",
                            "<tr><td>Joe Hill, Christopher Golden</td><td>20th Century Ghosts</td></tr>",
                            "<tr><td>Edward Eager, N.M. Bodecker</td><td>Half Magic (Tales of Magic, #1)</td></tr>",
                            "<tr><td>Steve Hockensmith, Jane Austen, Patrick Arrasmith</td><td>Dawn of the Dreadfuls (Pride and Prejudice and Zombies, #0.5)</td></tr>",
                            "<tr><td>Thich Nhat Hanh, Arnold Kotler, Dalai Lama XIV</td><td>Peace Is Every Step: The Path of Mindfulness in Everyday Life</td></tr>",
                            "<tr><td>Jim Starlin, Jim Aparo, Mike DeCarlo</td><td>Batman: A Death in the Family</td></tr>",
                            "<tr><td>Charlotte Brontë, Lucasta Miller, collaborative, Jessica Cox</td><td>Shirley</td></tr>",
                            "<tr><td>Bill Willingham, Mark Buckingham, Craig Hamilton, Steve Leialoha, P. Craig Russell</td><td>Fables, Vol. 4: March of the Wooden Soldiers</td></tr>",
                            "<tr><td>Lee Child, Dick Hill</td><td>Night School</td></tr>",
                            "<tr><td>Jenna Miscavige Hill, Lisa Pulitzer</td><td>Beyond Belief: My Secret Life Inside Scientology and My Harrowing Escape</td></tr>",
                            "<tr><td>Plato, James J. Helm</td><td>Apology</td></tr>",
                            "<tr><td>Garth Ennis, Steve Dillon, Penn Jillette</td><td>Preacher, Volume 3: Proud Americans</td></tr>",
                            "<tr><td>Diane Muldrow, J.P. Miller</td><td>The Little Red Hen (Little Golden Book)</td></tr>",
                            "<tr><td>John Heilemann, Mark Halperin</td><td>Game Change: Obama and the Clintons, McCain and Palin, and the Race of a Lifetime</td></tr>",
                            "<tr><td>Joni Eareckson Tada, Joe Musser</td><td>Joni: An Unforgettable Story</td></tr>",
                            "<tr><td>Margaret Weis, Tracy Hickman</td><td>War of the Twins (Dragonlance: Legends, #2)</td></tr>",
                            "<tr><td>Colleen Hoover, Tarryn Fisher</td><td>Never Never: Part Three (Never Never, #3)</td></tr>",
                            "<tr><td>Anya Seton, Philippa Gregory</td><td>Katherine</td></tr>",
                            "<tr><td>René Goscinny, Jean-Jacques Sempé</td><td>Le Petit Nicolas (Le petit Nicolas, #1)</td></tr>",
                            "<tr><td>Harold G. Moore, Joseph L. Galloway</td><td>We Were Soldiers Once... and Young: Ia Drang - The Battle that Changed the War in Vietnam</td></tr>",
                            "<tr><td>Rick Riordan, Tk</td><td>Percy Jackson and the Olympians Boxed Set (Percy Jackson and the Olympians, #1-5)</td></tr>",
                            "<tr><td>Eric Van Lustbader, Robert Ludlum</td><td>The Bourne Objective (Jason Bourne, #8)</td></tr>",
                            "<tr><td>James Patterson, Maxine Paetro</td><td>Unlucky 13 (Women’s Murder Club, #13)</td></tr>",
                            "<tr><td>Jun Mochizuki, 望月淳</td><td>Pandora Hearts 1巻</td></tr>",
                            "<tr><td>Franz Kafka, Nahum N. Glatzer, John Updike, Willa Muir, Edwin Muir, Tania Stern, James Stern, Ernst Kaiser, Eithne Wilkins</td><td>The Complete Stories</td></tr>",
                            "<tr><td>Isa Chandra Moskowitz, Terry Hope Romero</td><td>Veganomicon: The Ultimate Vegan Cookbook</td></tr>",
                            "<tr><td>Margaret Weis, Tracy Hickman</td><td>Test of the Twins (Dragonlance: Legends, #3)</td></tr>",
                            "<tr><td>Elissa Wall, Lisa Pulitzer</td><td>Stolen Innocence: My Story of Growing Up in a Polygamous Sect, Becoming a Teenage Bride, and Breaking Free of Warren Jeffs</td></tr>",
                            "<tr><td>Ed Brubaker, Doug Mahnke, Patrick Zircher, Aaron Sowd, Steve Bird</td><td>Batman: The Man Who Laughs</td></tr>",
                            "<tr><td>Trenton Lee Stewart, Del Roy</td><td>The Mysterious Benedict Society and the Prisoner's Dilemma (The Mysterious Benedict Society, #3)</td></tr>",
                            "<tr><td>Anton Chekhov, Tom    Murphy</td><td>The Cherry Orchard</td></tr>",
                            "<tr><td>J.R.R. Tolkien, Christopher Tolkien</td><td>Unfinished Tales of Númenor and Middle-Earth</td></tr>",
                            "<tr><td>أحلام مستغانمي, Ahlam Mosteghanemi</td><td>فوضى الحواس</td></tr>",
                            "<tr><td>Jane O'Connor, Robin Preiss Glasser</td><td>Fancy Nancy</td></tr>",
                            "<tr><td>Patricia C. Wrede, Peter de Sève</td><td>Talking to Dragons (Enchanted Forest Chronicles, #4)</td></tr>",
                            "<tr><td>James Patterson, Howard Roughan</td><td>Sail</td></tr>",
                            "<tr><td>Neil Gaiman, Chris Riddell</td><td>The Sleeper and the Spindle</td></tr>",
                            "<tr><td>A.N. Roquelaure, Anne Rice</td><td>Beauty's Punishment (Sleeping Beauty, #2)</td></tr>",
                            "<tr><td>Gregory Maguire, Douglas Smith</td><td>A Lion Among Men (The Wicked Years, #3)</td></tr>",
                            "<tr><td>Molière, Martin Sorrell</td><td>Tartuffe</td></tr>",
                            "<tr><td>Ivan Goncharov, Stephen Pearl, Galya Diment</td><td>Oblomov</td></tr>",
                            "<tr><td>Po Bronson, Ashley Merryman</td><td>NurtureShock: New Thinking About Children</td></tr>",
                            "<tr><td>Raymond E. Feist, Janny Wurts</td><td>Daughter of the Empire (The Empire Trilogy, #1)</td></tr>",
                            "<tr><td>John Grisham, Richard Thomas</td><td>Theodore Boone: Kid Lawyer (Theodore Boone, #1)</td></tr>",
                            "<tr><td>Tim LaHaye, Jerry B. Jenkins</td><td>Desecration (Left Behind, #9)</td></tr>",
                            "<tr><td>Jessica Anthony, Rodrigo Corral</td><td>Chopsticks</td></tr>",
                            "<tr><td>Jo Nesbø, Don Bartlett</td><td>Cockroaches (Harry Hole, #2)</td></tr>",
                            "<tr><td>Isabel Allende, Margaret Sayers Peden</td><td>City of the Beasts (Eagle and Jaguar, #1)</td></tr>",
                            "<tr><td>Naguib Mahfouz, نجيب محفوظ</td><td>أولاد حارتنا</td></tr>",
                            "<tr><td>Isaac Asimov, Robert Silverberg</td><td>Nightfall</td></tr>",
                            "<tr><td>Melinda Long, David Shannon</td><td>How I Became a Pirate</td></tr>",
                            "<tr><td>Eric Knight, Marguerite Kirmse</td><td>Lassie Come-Home</td></tr>",
                            "<tr><td>T. Colin Campbell, Thomas M. Campbell II</td><td>The China Study: The Most Comprehensive Study of Nutrition Ever Conducted And the Startling Implications for Diet, Weight Loss, And Long-term Health</td></tr>",
                            "<tr><td>Julia Donaldson, Axel Scheffler</td><td>The Gruffalo</td></tr>",
                            "<tr><td>Sui Ishida, 石田 スイ</td><td>Tokyo Ghoul, tome 1 (Tokyo Ghoul, #1)</td></tr>",
                            "<tr><td>Jo Nesbø, Don Bartlett</td><td>Headhunters</td></tr>",
                            "<tr><td>G.K. Chesterton, Jonathan Lethem</td><td>The Man Who Was Thursday: A Nightmare</td></tr>",
                            "<tr><td>Frank B. Gilbreth Jr., Ernestine Gilbreth Carey</td><td>Cheaper by the Dozen</td></tr>",
                            "<tr><td>Douglas Preston, Mario Spezi</td><td>The Monster of Florence</td></tr>",
                            "<tr><td>Terry Pratchett, Paul Kidby</td><td>The Last Hero (Discworld, #27; Rincewind #7)</td></tr>",
                            "<tr><td>Bryan J.L. Glass, Tim Seeley, Hugo Petrus, Raymond E. Feist</td><td>Raymond E. Feist's Magician Master</td></tr>",
                            "<tr><td>Joe Hill, Gabriel Rodríguez</td><td>Locke &amp; Key, Vol. 2: Head Games</td></tr>",
                            "<tr><td>Beverly Cleary, Alan Tiegreen</td><td>Ramona and Her Father (Ramona, #4)</td></tr>",
                            "<tr><td>Julio Cortázar, Gregory Rabassa</td><td>Hopscotch</td></tr>",
                            "<tr><td>Paulo Coelho, Margaret Jull Costa</td><td>Manuscript Found in Accra</td></tr>",
                            "<tr><td>Holly Black, Tony DiTerlizzi</td><td>The Ironwood Tree (The Spiderwick Chronicles, #4)</td></tr>",
                            "<tr><td>Ozzy Osbourne, Chris Ayres</td><td>I Am Ozzy</td></tr>",
                            "<tr><td>James Patterson, Maxine Paetro</td><td>14th Deadly Sin (Women’s Murder Club, #14)</td></tr>",
                            "<tr><td>Brian K. Vaughan, Pia Guerra, Goran Parlov, José Marzán Jr.</td><td>Y: The Last Man, Vol. 4: Safeword (Y: The Last Man, #4)</td></tr>",
                            "<tr><td>Brian K. Vaughan, Pia Guerra, Goran Sudžuka, José Marzán Jr.</td><td>Y: The Last Man, Vol. 7: Paper Dolls (Y: The Last Man, #7)</td></tr>",
                            "<tr><td>Stephanie Perkins, Holly Black, Ally Carter, Matt de la Pena, Gayle Forman, Jenny Han, David Levithan, Kelly Link, Myra McEntire, Rainbow Rowell, Laini Taylor, Kiersten White</td><td>My True Love Gave to Me: Twelve Holiday Stories</td></tr>",
                            "<tr><td>Richard Bachman, Stephen King</td><td>Rage</td></tr>",
                            "<tr><td>Émile Zola, Roger Pearson</td><td>Germinal (Les Rougon-Macquart, #13)</td></tr>",
                            "<tr><td>J. Lynn, Jennifer L. Armentrout</td><td>Frigid (Frigid, #1)</td></tr>",
                            "<tr><td>Isabel Allende, Margaret Sayers Peden</td><td>Of Love and Shadows</td></tr>",
                            "<tr><td>Robert Kirkman, Charlie Adlard, Cliff Rathburn</td><td>The Walking Dead, Vol. 04: The Heart's Desire</td></tr>",
                            "<tr><td>Michel Foucault, Alan Sheridan, Thomas Mathiesen, Walter Seitter, Drago Braco Rotar</td><td>Discipline and Punish: The Birth of the Prison</td></tr>",
                            "<tr><td>Arina Tanemura, Tomo Kimura</td><td>Full Moon o Sagashite, Vol. 1</td></tr>",
                            "<tr><td>Raymond E. Feist, Michael Avon Oeming, Bryan J.L. Glass, Ryan Stegman</td><td>Magician: Apprentice  (Raymond E. Feist's Magician: Apprentice #1)</td></tr>",
                            "<tr><td>David Eddings, Leigh Eddings</td><td>Polgara the Sorceress (Malloreon)</td></tr>",
                            "<tr><td>Tim LaHaye, Jerry B. Jenkins</td><td>The Remnant (Left Behind, #10)</td></tr>",
                            "<tr><td>Italo Calvino, Archibald Colquhoun</td><td>The Baron in the Trees</td></tr>",
                            "<tr><td>Stephenie Meyer, Young Kim</td><td>Twilight: The Graphic Novel, Vol. 2  (Twilight: The Graphic Novel, #2)</td></tr>",
                            "<tr><td>Michelle Knight, Michelle Burford</td><td>Finding Me: A Decade of Darkness, a Life Reclaimed - A Memoir of the Cleveland Kidnappings</td></tr>",
                            "<tr><td>D.C. Talk, The Voice of the Martyrs</td><td>Jesus Freaks: Stories of Those Who Stood for Jesus, the Ultimate Jesus Freaks (Jesus Freaks, #1)</td></tr>",
                            "<tr><td>Jo Nesbø, Don Bartlett</td><td>Police (Harry Hole, #10)</td></tr>",
                            "<tr><td>Yuu Watase, Yuji Oniki</td><td>Fushigi Yûgi: The Mysterious Play, Vol. 1: Priestess</td></tr>",
                            "<tr><td>Faye Perozich, Travis Moore, Michael Halbleib, Daerick Gröss, Anne Rice</td><td>Anne Rice's The Tale of the Body Thief (A Graphic Novel)</td></tr>",
                            "<tr><td>George MacDonald, Arthur Hughes</td><td>The Princess and the Goblin  (Princess Irene and Curdie, #1)</td></tr>",
                            "<tr><td>Camilla Läckberg, Steven T. Murray</td><td>The Preacher (Patrik Hedström, #2)</td></tr>",
                            "<tr><td>Roger Zelazny, Sönmez Güven</td><td>Lord of Light</td></tr>",
                            "<tr><td>Roald Dahl, Quentin Blake</td><td>Esio Trot</td></tr>",
                            "<tr><td>James Patterson, Michael Ledwidge</td><td>Run for Your Life (Michael Bennett, #2)</td></tr>",
                            "<tr><td>Joan Didion, David Thomson</td><td>Play It as It Lays</td></tr>",
                            "<tr><td>Paulo Coelho, Alan R. Clarke</td><td>The Valkyries</td></tr>",
                            "<tr><td>Joseph Delaney, Patrick  Arrasmith</td><td>Curse of the Bane (The Last Apprentice / Wardstone Chronicles, #2)</td></tr>",
                            "<tr><td>Simone de Beauvoir, H.M. Parshley, Deirdre Bair</td><td>The Second Sex</td></tr>",
                            "<tr><td>Margaret Weis, Tracy Hickman</td><td>Dragon Wing (The Death Gate Cycle, #1)</td></tr>",
                            "<tr><td>Brian K. Vaughan, Pia Guerra, Goran Sudžuka, José Marzán Jr.</td><td>Y: The Last Man, Vol. 9: Motherland (Y: The Last Man, #9)</td></tr>",
                            "<tr><td>Noelle Stevenson, Grace Ellis, Shannon Waters, Shannon Watters, Brooke A. Allen, Faith Hicks, Kat Leyh, Brooke Allen, Carolyn Nowak, Various, Carey Pietsch</td><td>Lumberjanes, Vol. 1: Beware the Kitten Holy</td></tr>",
                            "<tr><td>Douglas Preston, Lincoln Child</td><td>Dance of Death (Pendergast, #6; Diogenes, #2)</td></tr>",
                            "<tr><td>Yoshihiro Togashi, 冨樫 義博</td><td>Hunter x Hunter, Vol. 01 (Hunter x Hunter, #1)</td></tr>",
                            "<tr><td>James Patterson, Ned Rust</td><td>The Gift (Witch &amp; Wizard, #2)</td></tr>",
                            "<tr><td>Daniel Abraham, George R.R. Martin, Tommy Patterson</td><td>A Game of Thrones: Comic Book, Issue 1</td></tr>",
                            "<tr><td>Angie Sage, Mark Zug</td><td>Darke (Septimus Heap, #6)</td></tr>",
                            "<tr><td>Kingsley Amis, David Lodge</td><td>Lucky Jim</td></tr>",
                            "<tr><td>Brian K. Vaughan, Pia Guerra, José Marzán Jr.</td><td>Y: The Last Man, Vol. 10: Whys and Wherefores (Y: The Last Man, #10)</td></tr>",
                            "<tr><td>C.G. Jung, Aniela Jaffé, Richard Winston, Clara Winston</td><td>Memories, Dreams, Reflections</td></tr>",
                            "<tr><td>Milan Kundera, Suzanne Rappaport</td><td>Laughable Loves</td></tr>",
                            "<tr><td>Mary Pope Osborne, Salvatore Murdocca</td><td>Dinosaurs Before Dark (Magic Tree House, #1)</td></tr>",
                            "<tr><td>Thomas Mann, Michael Henry Heim, Michael Cunningham</td><td>Death in Venice</td></tr>",
                            "<tr><td>Sogyal Rinpoche, Andrew Harvey</td><td>The Tibetan Book of Living and Dying</td></tr>",
                            "<tr><td>John Joseph Adams, Robert J. Sawyer, Stephen King, Michael Moorcock, Sharyn McCrumb, Stephen Baxter, Anne Perry, Barbara Hambly, Tanith Lee, Neil Gaiman, Rob Rogers, Naomi Novik, Anthony Burgess, Dominic Green, Laurie R. King, Barbara Roden, Peter Tremayne, Tim Lebbon, Bradley H. Sinor, Edward D. Hoch, Vonda N. McIntyre, Darrell Schweitzer, Mary Robinette Kowal, H.Paul Jeffers, Geoffrey A. Landis, Amy Myers, Tony Pi, Chris Roberson, Mark Valentine</td><td>The Improbable Adventures of Sherlock Holmes</td></tr>",
                            "<tr><td>Bill Willingham, Mark Buckingham, Steve Leialoha, James Jean</td><td>Fables, Vol. 2: Animal Farm</td></tr>",
                            "<tr><td>James     Baldwin, Kıvanç Güney</td><td>The Fire Next Time</td></tr>",
                            "<tr><td>Grant Morrison, Frank Quitely</td><td>We3</td></tr>",
                            "<tr><td>Rick Riordan, John Rocco</td><td>Percy Jackson's Greek Gods (A Percy Jackson and the Olympians Guide)</td></tr>",
                            "<tr><td>Arthur Koestler, Daphne Hardy</td><td>Darkness at Noon</td></tr>",
                            "<tr><td>Diane Arbus, Stan Grossfeld, Doon Arbus, Marvin Israel</td><td>Diane Arbus: Monograph</td></tr>",
                            "<tr><td>Frank E. Peretti, Ted Dekker</td><td>House</td></tr>",
                            "<tr><td>V.E. Schwab, Victoria Schwab</td><td>Vicious (Villains, #1)</td></tr>",
                            "<tr><td>Penelope Douglas, Nelson Hobbs</td><td>Until You (Fall Away, #1.5)</td></tr>",
                            "<tr><td>Dallas Hartwig, Melissa Hartwig</td><td>It Starts with Food: Discover the Whole30 and Change Your Life in Unexpected Ways</td></tr>",
                            "<tr><td>J. Lynn, Jennifer L. Armentrout</td><td>Be with Me (Wait for You, #2)</td></tr>",
                            "<tr><td>Jussi Adler-Olsen, K.E. Semmel</td><td>The Absent One (Department Q, #2)</td></tr>",
                            "<tr><td>Robert Kirkman, Charlie Adlard, Cliff Rathburn</td><td>The Walking Dead, Vol. 05: The Best Defense</td></tr>",
                            "<tr><td>Marshall Goldsmith, Mark Reiter</td><td>What Got You Here Won't Get You There: How Successful People Become Even More Successful</td></tr>",
                            "<tr><td>Kieron Gillen, Jamie McKelvie, Matt Wilson, Clayton Cowles</td><td>The Wicked + The Divine, Vol. 1: The Faust Act</td></tr>",
                            "<tr><td>Esther Hicks, Jerry Hicks</td><td>The Law of Attraction: The Basics of the Teachings of Abraham</td></tr>",
                            "<tr><td>Holly Black, Tony DiTerlizzi</td><td>Lucinda's Secret (The Spiderwick Chronicles, #3)</td></tr>",
                            "<tr><td>Beverly Cleary, Tracy Dockray</td><td>Henry Huggins (Henry Huggins, #1)</td></tr>",
                            "<tr><td>Russell Hoban, Garth Williams</td><td>Bedtime for Frances</td></tr>",
                            "<tr><td>Tetsuko Kuroyanagi, Chihiro Iwasaki, Dorothy Britton</td><td>Totto-chan: The Little Girl at the Window</td></tr>",
                            "<tr><td>James Patterson, Liza Marklund</td><td>The Postcard Killers</td></tr>",
                            "<tr><td>Julietta Suzuki, Tomo Kimura</td><td>Kamisama Kiss, Vol. 1</td></tr>",
                            "<tr><td>Avery Monsen, Jory John</td><td>All My Friends Are Dead</td></tr>",
                            "<tr><td>Johnny Cash, Patrick   Carr</td><td>Cash</td></tr>",
                            "<tr><td>Isak Dinesen, Karen Blixen</td><td>Out of Africa</td></tr>",
                            "<tr><td>Brian Jacques, Gary Chalk</td><td>Mariel of Redwall (Redwall, #4)</td></tr>",
                            "<tr><td>William Shakespeare, Cynthia Marshall, Barbara A. Mowat, Paul Werstine</td><td>Antony and Cleopatra</td></tr>",
                            "<tr><td>Randy Shilts, William Greider</td><td>And the Band Played On: Politics, People, and the AIDS Epidemic</td></tr>",
                            "<tr><td>Miranda July, Brigitte Sire</td><td>It Chooses You</td></tr>",
                            "<tr><td>Hubert Selby Jr., Gilbert Sorrentino</td><td>Last Exit to Brooklyn</td></tr>",
                            "<tr><td>Mario Vargas Llosa, Edith Grossman</td><td>The Feast of the Goat</td></tr>",
                            "<tr><td>James Patterson, David Ellis</td><td>Invisible</td></tr>",
                            "<tr><td>Douglas Preston, Lincoln Child</td><td>Thunderhead</td></tr>",
                            "<tr><td>Diane Mowat, W.W. Jacobs</td><td>The Monkey's Paw (Oxford Bookworms)</td></tr>",
                            "<tr><td>Jerry Bridges, Foster W. Cline, Jim Fay</td><td>The Pursuit of Holiness</td></tr>",
                            "<tr><td>James Patterson, Maxine Paetro</td><td>Confessions of a Murder Suspect (Confessions, #1)</td></tr>",
                            "<tr><td>Brian K. Vaughan, Pia Guerra, Goran Sudžuka, José Marzán Jr.</td><td>Y: The Last Man, Vol. 6: Girl on Girl (Y: The Last Man, #6)</td></tr>",
                            "<tr><td>Laura Joffe Numeroff, Felicia Bond</td><td>If You Give a Pig a Party</td></tr>",
                            "<tr><td>Henryk Sienkiewicz, W.S. Kuniczak</td><td>Quo Vadis</td></tr>",
                            "<tr><td>Raymond E. Feist, Janny Wurts</td><td>Servant of the Empire (The Empire Trilogy, #2)</td></tr>",
                            "<tr><td>Deborah Guarino, Steven Kellogg</td><td>Is Your Mama a Llama?</td></tr>",
                            "<tr><td>Robert Descharnes, Gilles Néret</td><td>Dali: The Paintings</td></tr>",
                            "<tr><td>Dean Koontz, Leigh Nichols</td><td>Cold Fire / Hideaway / The Key to Midnight</td></tr>",
                            "<tr><td>Henning Mankell, Steven T. Murray</td><td>The Fifth Woman (Kurt Wallander, #6)</td></tr>",
                            "<tr><td>Guy de Maupassant, Douglas Parmée</td><td>Bel-Ami</td></tr>",
                            "<tr><td>María Dueñas, Daniel Hahn</td><td>The Time in Between</td></tr>",
                            "<tr><td>Anonymous, Ananda Maitreya, Thich Nhat Hanh, Balangoda Ananda Maitreya Maitreya</td><td>The Dhammapada</td></tr>",
                            "<tr><td>James Patterson, Maxine Paetro</td><td>Swimsuit</td></tr>",
                            "<tr><td>خالد الخميسي, Khaled Al Khamissi</td><td>تاكسي: حواديت المشاوير</td></tr>",
                            "<tr><td>Scott Westerfeld, Keith Thompson</td><td>Goliath (Leviathan, #3)</td></tr>",
                            "<tr><td>Akira Amano, JN Productions, Frances E. Wall</td><td>Reborn! Vol. 01: Reborn Arrives! (Reborn!, #1)</td></tr>",
                            "<tr><td>Joe Hill, Gabriel Rodríguez</td><td>Locke &amp; Key, Vol. 3: Crown of Shadows</td></tr>",
                            "<tr><td>Arthur C. Clarke, Gentry Lee</td><td>The Garden of Rama (Rama, #3)</td></tr>",
                            "<tr><td>Scott Snyder, Jock, Francesco Francavilla, Jared K. Fletcher, Sal Cipriano, David   Baron</td><td>Batman: The Black Mirror</td></tr>",
                            "<tr><td>James Patterson, Marshall Karp</td><td>Kill Me If You Can</td></tr>",
                            "<tr><td>Laura Joffe Numeroff, Felicia Bond</td><td>If You Take a Mouse to the Movies</td></tr>",
                            "<tr><td>Laurell K. Hamilton, Laural Merlington</td><td>A Lick of Frost (Merry Gentry, #6)</td></tr>",
                            "<tr><td>Orson Scott Card, James Cameron</td><td>The Abyss</td></tr>",
                            "<tr><td>Katarina Bivald, Alice Menzies</td><td>The Readers of Broken Wheel Recommend</td></tr>",
                            "<tr><td>Richard Dawkins, Dave McKean</td><td>The Magic of Reality: How We Know What's Really True</td></tr>",
                            "<tr><td>Karen Kingsbury, Gary Smalley</td><td>Remember (Redemption, #2)</td></tr>",
                            "<tr><td>Walt Disney Company, Ellen Titlebaum</td><td>Beauty and the Beast</td></tr>",
                            "<tr><td>Joseph Delaney, Patrick  Arrasmith</td><td>Night of the Soul Stealer (The Last Apprentice / Wardstone Chronicles, #3)</td></tr>",
                            "<tr><td>Sadegh Hedayat, D.P. Costello</td><td>The Blind Owl</td></tr>",
                            "<tr><td>Eric Litwin, James Dean</td><td>Pete the Cat: I Love My White Shoes</td></tr>",
                            "<tr><td>Jonathan Stroud, Simon  Jones</td><td>The Ring of Solomon (Bartimaeus, #0.5)</td></tr>",
                            "<tr><td>Ina Garten, Maura McEvoy</td><td>Barefoot Contessa Family Style: Easy Ideas and Recipes That Make Everyone Feel Like Family</td></tr>",
                            "<tr><td>H.P. Lovecraft, China Miéville, S.T. Joshi</td><td>At the Mountains of Madness</td></tr>",
                            "<tr><td>Garth Ennis, Steve Dillon</td><td>Preacher, Volume 9: Alamo</td></tr>",
                            "<tr><td>Jorge Luis Borges, Andrew Hurley</td><td>Collected Fictions</td></tr>",
                            "<tr><td>Carol Tavris, Elliot Aronson</td><td>Mistakes Were Made (But Not by Me): Why We Justify Foolish Beliefs, Bad Decisions, and Hurtful Acts</td></tr>",
                            "<tr><td>Richard Bachman, Stephen King</td><td>Roadwork</td></tr>",
                            "<tr><td>Gina Mayer, Mercer Mayer</td><td>Just Me in the Tub (Mercer Mayer's Little Critter)</td></tr>",
                            "<tr><td>Robert Kirkman, Charlie Adlard, Cliff Rathburn</td><td>The Walking Dead, Vol. 06: This Sorrowful Life</td></tr>",
                            "<tr><td>Isabel Allende, Margaret Sayers Peden</td><td>Inés of My Soul</td></tr>",
                            "<tr><td>Geoffrey A. Moore, Regis McKenna</td><td>Crossing the Chasm: Marketing and Selling High-Tech Products to Mainstream Customers</td></tr>",
                            "<tr><td>Milan Kundera, Linda Asher</td><td>Identity</td></tr>",
                            "<tr><td>Owen  West, Dean Koontz</td><td>The Funhouse</td></tr>",
                            "<tr><td>Verna Aardema, Leo Dillon, Diane Dillon</td><td>Why Mosquitoes Buzz in People's Ears</td></tr>",
                            "<tr><td>Carlos Ruiz Zafón, Lucia Graves</td><td>The Prince of Mist (Niebla, #1)</td></tr>",
                            "<tr><td>Laura Ingalls Wilder, Garth Williams</td><td>The First Four Years  (Little House, #9)</td></tr>",
                            "<tr><td>Jacob Grimm, Wilhelm Grimm, منى الخميسي</td><td>Grimm's Fairy Tales</td></tr>",
                            "<tr><td>Allan Pease, Barbara Pease</td><td>The Definitive Book of Body Language</td></tr>",
                            "<tr><td>James Patterson, Michael Ledwidge</td><td>Tick Tock (Michael Bennett, #4)</td></tr>",
                            "<tr><td>Oscar Wilde, Merlin Holland</td><td>Complete Works of Oscar Wilde</td></tr>",
                            "<tr><td>Cook's Illustrated Magazine, John Burgoyne, Carl Tremblay</td><td>The New Best Recipe</td></tr>",
                            "<tr><td>Fábio Moon, Gabriel Bá, Craig Thompson, Dave Stewart, Sean Konot</td><td>Daytripper</td></tr>",
                            "<tr><td>Orhan Pamuk, Maureen Freely</td><td>The Museum of Innocence</td></tr>",
                            "<tr><td>Johann Wolfgang von Goethe, Walter Kaufmann</td><td>Faust</td></tr>",
                            "<tr><td>Masha, Marie Simchow Stern</td><td>Three Little Kittens</td></tr>",
                            "<tr><td>Arthur Conan Doyle, David Timson</td><td>The Valley of Fear</td></tr>",
                            "<tr><td>Garth Ennis, Steve Dillon, Peter Snejbjerg</td><td>Preacher, Volume 6: War in the Sun</td></tr>",
                            "<tr><td>Kresley Cole, Gena Showalter</td><td>Deep Kiss of Winter (Includes: Immortals After Dark, #8; Alien Huntress, #3.5)</td></tr>",
                            "<tr><td>Holly Black, Eliza Wheeler</td><td>Doll Bones</td></tr>",
                            "<tr><td>Joseph Fink, Jeffrey Cranor</td><td>Welcome to Night Vale</td></tr>",
                            "<tr><td>Michael Teitelbaum, Walt Disney Company</td><td>Sleeping Beauty: a Little Golden Book (Disney Princess)</td></tr>",
                            "<tr><td>Eve Ensler, Gloria Steinem</td><td>The Vagina Monologues</td></tr>",
                            "<tr><td>George Eliot, Edmund White</td><td>Daniel Deronda</td></tr>",
                            "<tr><td>Anonymous, Ronald A. Beers, Ronald A. Beers</td><td>Life Application Study Bible: NIV</td></tr>",
                            "<tr><td>Douglas Preston, Lincoln Child</td><td>The Wheel of Darkness (Pendergast, #8)</td></tr>",
                            "<tr><td>Neil Gaiman, Barron Storey, Bill Sienkiewicz, Glenn Fabry, Dave McKean, P. Craig Russell, Milo Manara, Miguelanxo Prado, Frank Quitely, Todd Klein</td><td>The Sandman: Endless Nights</td></tr>",
                            "<tr><td>George Eliot, Joanna Trollope, Hugh Osborne</td><td>Adam Bede</td></tr>",
                            "<tr><td>Yōko Ogawa, Stephen Snyder</td><td>The Housekeeper and the Professor</td></tr>",
                            "<tr><td>Dante Alighieri, Robert M. Durling</td><td>Purgatorio (The Divine Comedy, #2)</td></tr>",
                            "<tr><td>Julie Anne Peters, C.J. Bott</td><td>By the Time You Read This, I'll Be Dead</td></tr>",
                            "<tr><td>Dean Koontz, Ed Gorman, John Bedford Lloyd</td><td>City of Night (Dean Koontz's Frankenstein, #2)</td></tr>",
                            "<tr><td>Isabel Allende, Anne McLean</td><td>Maya's Notebook</td></tr>",
                            "<tr><td>Pseudonymous Bosch, Gilbert Ford</td><td>If You're Reading This, It's Too Late (Secret, #2)</td></tr>",
                            "<tr><td>Lili St. Crow, Lilith Saintcrow</td><td>Betrayals (Strange Angels, #2)</td></tr>",
                            "<tr><td>James Patterson, Howard Roughan</td><td>You've Been Warned</td></tr>",
                            "<tr><td>Blue Balliett, Brett Helquist</td><td>Chasing Vermeer (Chasing Vermeer, #1)</td></tr>",
                            "<tr><td>Dav Pilkey, George Beard, Harold Hutchins</td><td>The Adventures of Ook and Gluk, Kung-Fu Cavemen from the Future</td></tr>",
                            "<tr><td>Robert Louis Stevenson, Tasha Tudor</td><td>A Child's Garden of Verses</td></tr>",
                            "<tr><td>Robert Kirkman, Charlie Adlard</td><td>The Walking Dead, Vol. 12: Life Among Them</td></tr>",
                            "<tr><td>Paulo Freire, Myra Bergman Ramos, Donaldo Macedo, Richard Shaull</td><td>Pedagogy of the Oppressed</td></tr>",
                            "<tr><td>Brad Meltzer, Rags Morales, Michael Bair, Joss Whedon</td><td>Identity Crisis</td></tr>",
                            "<tr><td>Arthur C. Clarke, Gentry Lee</td><td>Rama II (Rama, #2)</td></tr>",
                            "<tr><td>Lemony Snicket, Seth</td><td>Who Could That Be at This Hour? (All the Wrong Questions, #1)</td></tr>",
                            "<tr><td>Bryan Konietzko, Michael Dante DiMartino, Aaron Ehasz, Alison Wilgus, Amy Kim Ganter, Brian Ralph, Corey Lewis, Dave Roman, Elsa Garagarza, Ethan Spaulding, Frank Pittarese, Gurihiru, J. Torres, Joaquim Dos Santos, Johane Matte, John O'Bryan, Joshua Hamilton, Justin Ridge, Kaite Mattila, May Chan, Rawles Marie Lumumba, Reagan Lodge, Tim Hedrick, Tom McWeeney</td><td>Avatar: The Last Airbender: The Lost Adventures</td></tr>",
                            "<tr><td>Radwa Ashour, رضوى عاشور</td><td>الطنطورية</td></tr>",
                            "<tr><td>Bill Willingham, Mark Buckingham, Steve Leialoha, James Jean</td><td>Fables, Vol. 3: Storybook Love</td></tr>",
                            "<tr><td>Claire Huchet Bishop, Kurt Wiese</td><td>The Five Chinese Brothers</td></tr>",
                            "<tr><td>Ridley Pearson, David Frankland</td><td>Disney after Dark (Kingdom Keepers, #1)</td></tr>",
                            "<tr><td>J. Lynn, Jennifer L. Armentrout</td><td>Trust in Me (Wait for You, #1.5)</td></tr>",
                            "<tr><td>Masashi Kishimoto, Frances Wall</td><td>Naruto, Vol. 11: Impassioned Efforts (Naruto, #11)</td></tr>",
                            "<tr><td>Thomas Piketty, Arthur Goldhammer</td><td>Capital in the Twenty-First Century</td></tr>",
                            "<tr><td>Kay Thompson, Hilary Knight</td><td>Eloise </td></tr>",
                            "<tr><td>Nathanael West, Alfred Kazin</td><td>The Day of the Locust</td></tr>",
                            "<tr><td>James Patterson, Richard DiLallo</td><td>Alex Cross's Trial (Alex Cross, #15)</td></tr>",
                            "<tr><td>Ori Brafman, Rom Brafman</td><td>Sway: The Irresistible Pull of Irrational Behavior</td></tr>",
                            "<tr><td>Marguerite Henry, Wesley Dennis</td><td>King of the Wind: The Story of the Godolphin Arabian</td></tr>",
                            "<tr><td>Jostein Gaarder, Sarah Jane Hails</td><td>The Solitaire Mystery: A Novel About Family and Destiny</td></tr>",
                            "<tr><td>Kurtis J. Wiebe, Roc Upchurch</td><td>Rat Queens, Vol. 1: Sass &amp; Sorcery</td></tr>",
                            "<tr><td>Stephen Briggs, Terry Pratchett</td><td>Guards! Guards!: The Play</td></tr>",
                            "<tr><td>Trina Schart Hyman, Johann Grimm, Wilhelm Grimm</td><td>Little Red Riding Hood</td></tr>",
                            "<tr><td>Martin Pistorius, Megan Lloyd Davies</td><td>Ghost Boy</td></tr>",
                            "<tr><td>Roald Dahl, Quentin Blake</td><td>The Magic Finger (Young Puffin Developing Reader)</td></tr>",
                            "<tr><td>René Descartes, Donald A. Cress</td><td>Meditations on First Philosophy</td></tr>",
                            "<tr><td>CLAMP, Maria Simpson</td><td>Cardcaptor Sakura, Vol. 1 (Cardcaptor Sakura, #1)</td></tr>",
                            "<tr><td>Jeffery Hudson, Michael Crichton</td><td>A Case of Need</td></tr>",
                            "<tr><td>P.C. Cast, Kristin Cast</td><td>Revealed (House of Night, #11)</td></tr>",
                            "<tr><td>Anton Chekhov, Michael Frayn</td><td>The Seagull</td></tr>",
                            "<tr><td>Haruki Murakami, 村上 春樹</td><td>1Q84 BOOK 3 (1Q84, #3)</td></tr>",
                            "<tr><td>J.D. Robb, Susan Ericksen</td><td>New York to Dallas (In Death, #33)</td></tr>",
                            "<tr><td>Raymond E. Feist, Janny Wurts</td><td>Mistress of the Empire (The Empire Trilogy, #3)</td></tr>",
                            "<tr><td>Carolyn Keene, Mildred Benson</td><td>The Hidden Staircase (Nancy Drew #2)</td></tr>",
                            "<tr><td>Stephen Briggs, Terry Pratchett</td><td>Interesting Times: The Play</td></tr>",
                            "<tr><td>Joseph Conrad, A. Michael Matin</td><td>Heart of Darkness and Selected Short Fiction</td></tr>",
                            "<tr><td>Bertrand Russell, Paul  Edwards</td><td>Why I Am Not a Christian and Other Essays on Religion and Related Subjects</td></tr>",
                            "<tr><td>Heinrich Böll, محمد اسماعیل‌زاده</td><td>عقاید یک دلقک</td></tr>",
                            "<tr><td>Anonymous, Richard Wilhelm, Cary F. Baynes, C.G. Jung</td><td>The I Ching or Book of Changes</td></tr>",
                            "<tr><td>Scott Snyder, Stephen King, Rafael Albuquerque</td><td>American Vampire, Vol. 1</td></tr>",
                            "<tr><td>Alexis de Tocqueville, Isaac Kramnick, Gerald Bevan</td><td>Democracy in America </td></tr>",
                            "<tr><td>Chris Ryall, Gabriel Rodríguez, Clive Barker</td><td>The Complete Clive Barker's The Great And Secret Show</td></tr>",
                            "<tr><td>Brian Herbert, Kevin J. Anderson</td><td>House Atreides (Prelude to Dune #1)</td></tr>",
                            "<tr><td>Franz Kafka, بهرام مقدادی</td><td>Amerika</td></tr>",
                            "<tr><td>Steve Niles, Ben Templesmith</td><td>30 Days of Night, Vol. 1</td></tr>",
                            "<tr><td>يوسف زيدان, Youssef Ziedan</td><td>النبطي</td></tr>",
                            "<tr><td>Umberto Eco, Richard Dixon</td><td>The Prague Cemetery</td></tr>",
                            "<tr><td>Christopher Hitchens, Titus Lucretius Carus, Omar Khayyám, Thomas Hobbes, Baruch Spinoza, David Hume, James Boswell, Percy Bysshe Shelley, George Eliot, Charles Darwin, Leslie Stephen, Anatole France, Mark Twain, Joseph Conrad, Thomas Hardy, Emma Goldman, H.P. Lovecraft, Carl Van Doren, H.L. Mencken, Sigmund Freud, Albert Einstein, George Orwell, John Betjeman, Chapman Cohen, Bertrand Russell, Philip Larkin, Martin Gardner, Carl Sagan, John Updike, John Leslie Mackie, Michael Shermer, A.J. Ayer, Daniel C. Dennett, Charles Templeton, Richard Dawkins, Victor J. Stenger, Elizabeth S.  Anderson, Penn Jillette, Ian McEwan, Steven Weinberg, Salman Rushdie, Ibn Warraq, Sam Harris, A.C. Grayling, Ayaan Hirsi Ali, John Stuart Mill, Karl Marx</td><td>The Portable Atheist: Essential Readings for the Nonbeliever</td></tr>",
                            "<tr><td>John Stuart Mill, George Sher</td><td>Utilitarianism</td></tr>",
                            "<tr><td>Bill O'Reilly, Martin Dugard</td><td>Killing Patton: The Strange Death of World War II's Most Audacious General</td></tr>",
                            "<tr><td>Keigo Higashino, Alexander O. Smith</td><td>The Devotion of Suspect X</td></tr>",
                            "<tr><td>James Patterson, Michael Ledwidge</td><td>Worst Case (Michael Bennett, #3)</td></tr>",
                            "<tr><td>Brian K. Vaughan, Niko Henrichon</td><td>Pride of Baghdad</td></tr>",
                            "<tr><td>Jane Werner Watson, Corinne Malvern</td><td>Frosty the Snow Man</td></tr>",
                            "<tr><td>Colin Meloy, Carson Ellis</td><td>Wildwood (Wildwood Chronicles, #1)</td></tr>",
                            "<tr><td>Margaret Weis, Tracy Hickman</td><td>Serpent Mage (The Death Gate Cycle, #4)</td></tr>",
                            "<tr><td>Natsumi Ando, Miyuki Kobayashi</td><td>Kitchen Princess, Vol. 01 (Kitchen Princess, #1)</td></tr>",
                            "<tr><td>James Patterson, Mark T. Sullivan</td><td>Private Games (Private #3)</td></tr>",
                            "<tr><td>Victoria Kann, Elizabeth Kann</td><td>Pinkalicious</td></tr>",
                            "<tr><td>Pablo Neruda, Ilan Stavans</td><td>The Poetry of Pablo Neruda</td></tr>",
                            "<tr><td>Jane Austen, Robert William Chapman</td><td>Lady Susan</td></tr>",
                            "<tr><td>Julee Rosso, Sheila Lukins, Michael McLaughlin</td><td>The Silver Palate Cookbook</td></tr>",
                            "<tr><td>Michelle Paver, Geoff Taylor</td><td>Wolf Brother (Chronicles of Ancient Darkness, #1)</td></tr>",
                            "<tr><td>Tsugumi Ohba, Takeshi Obata, Diana Hammermeister</td><td>Bakuman, Band 1: Traum und Realität</td></tr>",
                            "<tr><td>Friedrich Nietzsche, H.L. Mencken</td><td>The Anti-Christ</td></tr>",
                            "<tr><td>K.R. Dwyer, Dean Koontz</td><td>Shattered</td></tr>",
                            "<tr><td>Kyung-Sook Shin, 신경숙, Chi-Young Kim</td><td>Please Look After Mom</td></tr>",
                            "<tr><td>Brian Michael Bendis, Olivier Coipel, Tim Townsend, Rick Magyar, John Dell, Scott Hanna, Frank D'Armata, Chris Eliopoulos, James Taveras, Omar Otieku, Tom Valente, Esad Ribic</td><td>House of M</td></tr>",
                            "<tr><td>Booker T. Washington, Ishmael Reed</td><td>Up from Slavery</td></tr>",
                            "<tr><td>René Goscinny, Albert Uderzo, Anthea Bell, Derek Hockridge</td><td>Asterix the Gaul (Asterix, #1)</td></tr>",
                            "<tr><td>Dave Barry, Ridley Pearson, Greg Call</td><td>Peter and the Secret of Rundoon (Peter and the Starcatchers, #3)</td></tr>",
                            "<tr><td>Yoko Kamio, 神尾葉子</td><td>Boys Over Flowers: Hana Yori Dango, Vol. 1 (Boys Over Flowers, #1)</td></tr>",
                            "<tr><td>Tomoko Hayakawa, David Ury</td><td>The Wallflower, Vol. 1 (The Wallflower, #1)</td></tr>",
                            "<tr><td>Robert Kirkman, Jay Bonansinga</td><td>Rise of the Governor (The Walking Dead #1)</td></tr>",
                            "<tr><td>Ilya Ilf, Eugene Petrov, Maurice Friedberg, John H.C. Richardson</td><td>The Twelve Chairs</td></tr>",
                            "<tr><td>Jack Canfield, Mark Victor Hansen, Kimberly Kirberger</td><td>Chicken Soup for the Teenage Soul: 101 Stories of Life, Love and Learning (Chicken Soup for the Soul)</td></tr>",
                            "<tr><td>The Beatles, Paul McCartney, Ringo Starr, John Lennon, George Harrison</td><td>The Beatles Anthology</td></tr>",
                            "<tr><td>Christopher  Ryan, Cacilda Jethá</td><td>Sex at Dawn: The Prehistoric Origins of Modern Sexuality</td></tr>",
                            "<tr><td>Annette Pollert, L.J. Smith</td><td>Night World: The Ultimate Fan Guide</td></tr>",
                            "<tr><td>Margaret Weis, Tracy Hickman</td><td>Dragonlance Chronicles (Dragonlance #1-3)</td></tr>",
                            "<tr><td>Bill Willingham, Mark Buckingham, David Hahn, Steve Leialoha</td><td>Fables, Vol. 6: Homelands</td></tr>",
                            "<tr><td>Matt Fraction, Chip Zdarsky</td><td>Sex Criminals, Vol. 1: One Weird Trick</td></tr>",
                            "<tr><td>Tim LaHaye, Jerry B. Jenkins</td><td>The Rising: Antichrist is Born  (Before They Were Left Behind, #1)</td></tr>",
                            "<tr><td>Byron Katie, Stephen Mitchell</td><td>Loving What Is: Four Questions That Can Change Your Life</td></tr>",
                            "<tr><td>Sid Fleischman, Peter Sís</td><td>The Whipping Boy</td></tr>",
                            "<tr><td>J.K. Rowling, MinaLima</td><td>Short Stories from Hogwarts of Heroism, Hardship and Dangerous Hobbies (Pottermore Presents, #1)</td></tr>",
                            "<tr><td>George Bernard Shaw, John A. Bertolini</td><td>Pygmalion and Three Other Plays</td></tr>",
                            "<tr><td>Brian Herbert, Kevin J. Anderson</td><td>The Butlerian Jihad (Legends of Dune, #1)</td></tr>",
                            "<tr><td>William Blake, David V. Erdman, Harold Bloom</td><td>The Complete Poetry and Prose</td></tr>",
                            "<tr><td>Tsugumi Ohba, Takeshi Obata</td><td>Death Note, Vol. 2: Confluence (Death Note, #2)</td></tr>",
                            "<tr><td>Katsuhiro Otomo, Yoko Umezawa, Linda M. York, Jo Duffy</td><td>Akira, Vol. 1</td></tr>",
                            "<tr><td>Tachibana Higuchi, 樋口 橘</td><td>Gakuen Alice, Vol. 01 (Gakuen Alice, #1)</td></tr>",
                            "<tr><td>Robert Louis Stevenson, Jenny Davidson</td><td>The Strange Case of Dr. Jekyll and Mr. Hyde and Other Stories </td></tr>",
                            "<tr><td>Gerard Way, Gabriel Bá, Dave Stewart, Nate Piekos, Tony Ong</td><td>The Umbrella Academy, Vol. 1: The Apocalypse Suite</td></tr>",
                            "<tr><td>G. Willow Wilson, Adrian Alphona, Jacob Wyatt</td><td>Ms. Marvel, Vol. 2: Generation Why</td></tr>",
                            "<tr><td>Jenny Han, Siobhan Vivian</td><td>Burn for Burn (Burn for Burn, #1)</td></tr>",
                            "<tr><td>Petra Durst-Benning, Samuel Willcocks</td><td>The Glassblower</td></tr>",
                            "<tr><td>Jim Kjelgaard, Carl Pfeuffer</td><td>Big Red (Big Red, #1)</td></tr>",
                            "<tr><td>Alan Moore, Stephen R. Bissette, John Totleben, Rick Veitch, Ramsey Campbell</td><td>Swamp Thing, Vol. 1: Saga of the Swamp Thing</td></tr>",
                            "<tr><td>Henning Mankell, Laurie Thompson</td><td>The Dogs of Riga (Kurt Wallander, #2)</td></tr>",
                            "<tr><td>Thomas à Kempis, William Benham</td><td>The Imitation of Christ</td></tr>",
                            "<tr><td>Brian K. Vaughan, Fiona Staples</td><td>Saga, Vol. 6 (Saga, #6)</td></tr>",
                            "<tr><td>Chris Colfer, Brandon Dorman</td><td>The Enchantress Returns (The Land of Stories, #2)</td></tr>",
                            "<tr><td>Joseph Delaney, Patrick  Arrasmith</td><td>Attack of the Fiend (The Last Apprentice / Wardstone Chronicles, #4)</td></tr>",
                            "<tr><td>Sam Smith, Doug Grud</td><td>The Jordan Rules</td></tr>",
                            "<tr><td>Roy F. Baumeister, John Tierney</td><td>Willpower: Rediscovering the Greatest Human Strength</td></tr>",
                            "<tr><td>Ford Madox Ford, Kenneth Womack, William Baker</td><td>The Good Soldier</td></tr>",
                            "<tr><td>Margaret Weis, Tracy Hickman</td><td>Into the Labyrinth (The Death Gate Cycle, #6)</td></tr>",
                            "<tr><td>Stan Berenstain, Jan Berenstain</td><td>The Berenstain Bears' Trouble at School</td></tr>",
                            "<tr><td>Robin Furth, Stephen King, Peter Straub, Tony Shasteen, Nei Ruffino</td><td>The Talisman (Volume 1): The Road of Trials</td></tr>",
                            "<tr><td>Alan Moore, Kevin O'Neill</td><td>The League of Extraordinary Gentlemen, Vol. 2</td></tr>",
                            "<tr><td>Natsuo Kirino, Stephen Snyder</td><td>Out</td></tr>",
                            "<tr><td>Philippa Pearce, Susan Einzig</td><td>Tom's Midnight Garden</td></tr>",
                            "<tr><td>Cassandra Clare, Sarah Rees Brennan</td><td>What Really Happened in Peru (The Bane Chronicles, #1)</td></tr>",
                            "<tr><td>David  Perlmutter, Kristin Loberg</td><td>Grain Brain: The Surprising Truth about Wheat, Carbs,  and Sugar--Your Brain's Silent Killers</td></tr>",
                            "<tr><td>Daron Acemoğlu, James A. Robinson</td><td>Why Nations Fail: The Origins of Power, Prosperity, and Poverty</td></tr>",
                            "<tr><td>Isabel Allende, Margaret Sayers Peden</td><td>Zorro</td></tr>",
                            "<tr><td>Garth Ennis, Steve Dillon</td><td>Preacher, Volume 5: Dixie Fried</td></tr>",
                            "<tr><td>D.H. Lawrence, Daphne Merkin</td><td>The Rainbow</td></tr>",
                            "<tr><td>Garth Ennis, Steve Dillon, Steve Pugh, Matt Hollingsworth, Carlos Ezquerra, Richard Case</td><td>Preacher, Volume 4: Ancient History</td></tr>",
                            "<tr><td>Paul Hattaway, Brother Yun</td><td>The Heavenly Man: The Remarkable True Story of Chinese Christian Brother Yun</td></tr>",
                            "<tr><td>Saul Bellow, Philip Roth</td><td>Herzog</td></tr>",
                            "<tr><td>Alaa Al Aswany, علاء الأسواني</td><td>The Yacoubian Building</td></tr>",
                            "<tr><td>Martha Stewart, Victor Schrager</td><td>Martha Stewart's Cookies: The Very Best Treats to Bake and to Share</td></tr>",
                            "<tr><td>Reginald Rose, David Mamet</td><td>Twelve Angry Men</td></tr>",
                            "<tr><td>Neil Gaiman, Andy Kubert, Matt Wagner, Simon Bisley, Bernie Mireault, Mark Buckingham</td><td>Batman: Whatever Happened to the Caped Crusader?</td></tr>",
                            "<tr><td>Joe Hill, Gabriel Rodríguez</td><td>Locke &amp; Key, Vol. 5: Clockworks</td></tr>",
                            "<tr><td>QuinRose, Soumei Hoshino</td><td>Alice in the Country of Hearts, Vol. 01 (Alice in the Country of Hearts, #1)</td></tr>",
                            "<tr><td>Lin-Manuel Miranda, Jeremy McCarter</td><td>Hamilton: The Revolution</td></tr>",
                            "<tr><td>Gregory Maguire, Douglas Smith</td><td>Out of Oz (The Wicked Years, #4)</td></tr>",
                            "<tr><td>O. Henry, Victoria Blake</td><td>Selected Stories</td></tr>",
                            "<tr><td>Janet Briggs, Beth Wittlinger</td><td>The Taste of Home Cookbook</td></tr>",
                            "<tr><td>Truddi Chase, Robert A. Phillips Jr.</td><td>When Rabbit Howls</td></tr>",
                            "<tr><td>Kevin D. Mitnick, William L. Simon, Steve Wozniak</td><td>Ghost in the Wires: My Adventures as the World's Most Wanted Hacker</td></tr>",
                            "<tr><td>Douglas Preston, Lincoln Child</td><td>Cemetery Dance (Pendergast, #9)</td></tr>",
                            "<tr><td>Umberto Eco, William Weaver, R.C.S. Libri</td><td>Baudolino</td></tr>",
                            "<tr><td>James Patterson, Maxine Paetro</td><td>15th Affair (Women's Murder Club #15)</td></tr>",
                            "<tr><td>Helen Marion Palmer, P.D. Eastman</td><td>A Fish Out of Water</td></tr>",
                            "<tr><td>Joe Hill, Gabriel Rodríguez</td><td>Locke &amp; Key, Vol. 4: Keys to the Kingdom</td></tr>",
                            "<tr><td>James Patterson, Andrew Gross</td><td>The Jester</td></tr>",
                            "<tr><td>Cory Doctorow, Jen Wang</td><td>In Real Life</td></tr>",
                            "<tr><td>Lili St. Crow, Lilith Saintcrow</td><td>Jealousy (Strange Angels, #3)</td></tr>",
                            "<tr><td>Ben Avery, Mike S. Miller, George R.R. Martin</td><td>The Hedge Knight (The Hedge Knight Graphic Novels, #1)</td></tr>",
                            "<tr><td>Jerome Lawrence, Robert E.  Lee</td><td>Inherit the Wind</td></tr>",
                            "<tr><td>Pseudonymous Bosch, Gilbert Ford</td><td>This Book Is Not Good for You (Secret, #3)</td></tr>",
                            "<tr><td>J.D. Robb, Nora Roberts</td><td>Judgment in Death (In Death, #11)</td></tr>",
                            "<tr><td>J.J. Abrams, Doug Dorst</td><td>S.</td></tr>",
                            "<tr><td>Omar Khayyám, محمدعلی فروغی, قاسم غنی</td><td>رباعيات خيام</td></tr>",
                            "<tr><td>Brian K. Vaughan, Adrian Alphona</td><td>Runaways, Vol. 1: Pride and Joy (Runaways, #1)</td></tr>",
                            "<tr><td>Melissa Müller, Rita Kimber, Robert Kimber</td><td>Anne Frank : The Biography</td></tr>",
                            "<tr><td>Henning Mankell, Steven T. Murray</td><td>Sidetracked (Kurt Wallander, #5)</td></tr>",
                            "<tr><td>Stephanie Dray, Laura Kamoie</td><td>America's First Daughter</td></tr>",
                            "<tr><td>Mike Carey, Bill Willingham, Peter Gross</td><td>The Unwritten, Vol. 1: Tommy Taylor and the Bogus Identity</td></tr>",
                            "<tr><td>Michel Foucault, Robert Hurley</td><td>The History of Sexuality, Volume 1: An Introduction</td></tr>",
                            "<tr><td>Tim LaHaye, Jerry B. Jenkins</td><td>Armageddon: The Cosmic Battle of the Ages (Left Behind, #11)</td></tr>",
                            "<tr><td>Steven Naifeh, Gregory White Smith</td><td>Van Gogh: The Life</td></tr>",
                            "<tr><td>Elizabeth Ross, ROFry</td><td>The Three Little Pigs</td></tr>",
                            "<tr><td>Alexandre Dumas, David Coward, Auguste Maquet</td><td>Twenty Years After (The D'Artagnan Romances, #2)</td></tr>",
                            "<tr><td>Margaret Weis, Tracy Hickman</td><td>The Seventh Gate (The Death Gate Cycle, #7)</td></tr>",
                            "<tr><td>Trinka Hakes Noble, Steven Kellogg</td><td>The Day Jimmy's Boa Ate the Wash</td></tr>",
                            "<tr><td>Douglas Preston, Lincoln Child</td><td>White Fire (Pendergast, #13)</td></tr>",
                            "<tr><td>Christiane F., Kai Hermann, Horst Rieck</td><td>Wir Kinder vom Bahnhof Zoo</td></tr>",
                            "<tr><td>John             Lewis, Andrew Aydin, Nate Powell</td><td>March: Book One (March, #1)</td></tr>",
                            "<tr><td>Flannery O'Connor, Robert Fitzgerald</td><td>Everything That Rises Must Converge: Stories</td></tr>",
                            "<tr><td>R.K. Narayan, Jhumpa Lahiri</td><td>Malgudi Days</td></tr>",
                            "<tr><td>Oliver Pötzsch, Lee Chadeayne</td><td>The Dark Monk (The Hangman's Daughter, #2)</td></tr>",
                            "<tr><td>Jeff Hertzberg, Zoë François, Mark Luinenburg</td><td>Artisan Bread in Five Minutes a Day: The Discovery That Revolutionizes Home Baking</td></tr>",
                            "<tr><td>John Locke, C.B. Macpherson</td><td>Second Treatise of Government</td></tr>",
                            "<tr><td>Martin Luther King Jr., Clayborne Carson</td><td>The Autobiography of Martin Luther King, Jr.</td></tr>",
                            "<tr><td>Mineko Iwasaki, Rande Brown</td><td>Geisha, a Life</td></tr>",
                            "<tr><td>Sergei Lukyanenko, Andrew Bromfield</td><td>Day Watch (Watch #2)</td></tr>",
                            "<tr><td>Scott Snyder, Greg Capullo, Jonathan Glapion, James Tynion IV, Rafael Albuquerque, Jason Fabok, Becky Cloonan, Andy Clarke, Sandu Florea</td><td>Batman, Volume 2: The City of Owls</td></tr>",
                            "<tr><td>Howard E. Wasdin, Stephen Templin</td><td>SEAL Team Six: Memoirs of an Elite Navy SEAL Sniper</td></tr>",
                            "<tr><td>Plato, G.M.A. Grube, John M. Cooper</td><td>Five Dialogues: Euthyphro, Apology, Crito, Meno, Phaedo</td></tr>",
                            "<tr><td>Irin Carmon, Shana Knizhnik</td><td>Notorious RBG: The Life and Times of Ruth Bader Ginsburg</td></tr>",
                            "<tr><td>Janet Evanovich, Lee Goldberg</td><td>The Chase (Fox and O'Hare, #2)</td></tr>",
                            "<tr><td>Jostein Gaarder, James Anderson</td><td>The Orange Girl</td></tr>",
                            "<tr><td>Leigh Nichols, Dean Koontz</td><td>The House of Thunder</td></tr>",
                            "<tr><td>J.D. Robb, Susan Ericksen</td><td>Witness in Death (In Death, #10)</td></tr>",
                            "<tr><td>Gene Luen Yang, Michael Dante DiMartino, Bryan Konietzko, Gurihiru</td><td>Avatar: The Last Airbender (The Rift, #1)</td></tr>",
                            "<tr><td>J. Michael Straczynski, Shane Davis, Sandra Hope, Barbara Ciardo, Rob Leigh</td><td>Superman: Earth One, Volume 1</td></tr>",
                            "<tr><td>John Foxe, W. Grinton Berry</td><td>Foxe's Book of Martyrs</td></tr>",
                            "<tr><td>Simon Kuper, Stefan Szymanski</td><td>Soccernomics: Why England Loses, Why Germany and Brazil Win, and Why the U.S., Japan, Australia, Turkey--and Even Iraq--Are Destined to Become the Kings of the World's Most Popular Sport</td></tr>",
                            "<tr><td>Betty Friedan, Anna Quindlen</td><td>The Feminine Mystique</td></tr>",
                            "<tr><td>Graham Greene, J.M. Coetzee</td><td>Brighton Rock</td></tr>",
                            "<tr><td>Greg Mortenson, Khaled Hosseini</td><td>Stones Into Schools: Promoting Peace With Books, Not Bombs, in Afghanistan and Pakistan</td></tr>",
                            "<tr><td>James Patterson, Maxine Paetro</td><td>Private #1 Suspect (Private, #2)</td></tr>",
                            "<tr><td>Robert Kirkman, Charlie Adlard, Cliff Rathburn</td><td>The Walking Dead, Vol. 07: The Calm Before</td></tr>",
                            "<tr><td>Garth Ennis, Steve Dillon, John McCrea</td><td>Preacher, Volume 8: All Hell's a-Coming</td></tr>",
                            "<tr><td>Stephen King, Michael Whelan</td><td>The Little Sisters of Eluria (The Dark Tower, #0.5)</td></tr>",
                            "<tr><td>Stan Berenstain, Jan Berenstain</td><td>Inside, Outside, Upside Down (Berenstain Bears Bright and Early Board Book)</td></tr>",
                            "<tr><td>Milan Kundera, Linda Asher</td><td>Ignorance</td></tr>",
                            "<tr><td>William Gibson, Bruce Sterling</td><td>The Difference Engine </td></tr>",
                            "<tr><td>Garth Ennis, Steve Dillon</td><td>Preacher, Volume 7: Salvation</td></tr>",
                            "<tr><td>Clayton M. Christensen, James Allworth, Karen Dillon</td><td>How Will You Measure Your Life?</td></tr>",
                            "<tr><td>Astrid Lindgren, Ilon Wikland, Jill M. Morgan</td><td>The Brothers Lionheart</td></tr>",
                            "<tr><td>J.D. Robb, Susan Ericksen</td><td>Loyalty in Death (In Death, #9)</td></tr>",
                            "<tr><td>Alaa Al Aswany, علاء الأسواني</td><td>نادي السيارات</td></tr>",
                            "<tr><td>Jacqueline Wilson, Nick Sharratt</td><td>The Story of Tracy Beaker</td></tr>",
                            "<tr><td>Leigh Nichols, Dean Koontz</td><td>The Servants of Twilight</td></tr>",
                            "<tr><td>Jack London, Andrew Sinclair</td><td>Martin Eden</td></tr>",
                            "<tr><td>Brian Azzarello, Cliff Chiang, Tony Akins, Dan Green, Matthew Wilson, Jared K. Fletcher</td><td>Wonder Woman, Volume 1: Blood</td></tr>",
                            "<tr><td>William Shakespeare, David Scott Kastan</td><td>King Henry IV, Part 1 (Wars of the Roses, #2)</td></tr>",
                            "<tr><td>Jinsei Kataoka, Kazuma Kondou</td><td>Deadman Wonderland, Volume 1 (Deadman Wonderland, #1)</td></tr>",
                            "<tr><td>David Axton, Dean Koontz</td><td>Icebound</td></tr>",
                            "<tr><td>Caralyn Buehner, Mark Buehner</td><td>Snowmen at Night</td></tr>",
                            "<tr><td>Thomas Paine, Sidney Hook, Jack Fruchtman Jr.</td><td>Common Sense, The Rights of Man and Other Essential Writings</td></tr>",
                            "<tr><td>Cassandra Clare, Sarah Rees Brennan</td><td>Welcome to Shadowhunter Academy (Tales from the Shadowhunter Academy, #1)</td></tr>",
                            "<tr><td>Roald Dahl, Quentin Blake</td><td>Going Solo</td></tr>",
                            "<tr><td>Sara Pennypacker, Marla Frazee</td><td>Clementine (Clementine, #1)</td></tr>",
                            "<tr><td>T.S. Eliot, Edward Gorey</td><td>Old Possum's Book of Practical Cats</td></tr>",
                            "<tr><td>Henning Mankell, Laurie Thompson</td><td>The Man Who Smiled (Kurt Wallander, #4)</td></tr>",
                            "<tr><td>أحلام مستغانمي, Ahlam Mosteghanemi</td><td>عابر سرير</td></tr>",
                            "<tr><td>George C. Perry, Clive Barda, Jane Rice, Andrew Lloyd Webber</td><td>The Complete Phantom of the Opera</td></tr>",
                            "<tr><td>Michael Buckley, Peter Ferguson</td><td>The Unusual Suspects (The Sisters Grimm, #2)</td></tr>",
                            "<tr><td>Liu Cixin, Joel Martinsen</td><td>The Dark Forest (Remembrance of Earth’s Past, #2)</td></tr>",
                            "<tr><td>Douglas Preston, Lincoln Child</td><td>Cold Vengeance (Pendergast, #11)</td></tr>",
                            "<tr><td>Leigh Nichols, Dean Koontz</td><td>The Eyes of Darkness</td></tr>",
                            "<tr><td>J.D. Robb, Nora Roberts</td><td>Treachery in Death (In Death, #32)</td></tr>",
                            "<tr><td>Saul Bellow, Christopher Hitchens</td><td>The Adventures of Augie March</td></tr>",
                            "<tr><td>James Patterson, Chris Tebbetts, Laura Park</td><td>Middle School: The Worst Years of My Life (Midde School, #1)</td></tr>",
                            "<tr><td>Hans Fallada, Michael Hofmann, Geoff Wilkes</td><td>Every Man Dies Alone</td></tr>",
                            "<tr><td>J.D. Robb, Nora Roberts</td><td>Betrayal in Death (In Death, #12)</td></tr>",
                            "<tr><td>C.G. Jung, Joseph L. Henderson, Aniela Jaffé, Jolande Jacobi, John Freeman, Marie-Louise von Franz</td><td>Man and His Symbols</td></tr>",
                            "<tr><td>Lisa Kleypas, Rosalyn Landor</td><td>Tempt Me at Twilight (The Hathaways, #3)</td></tr>",
                            "<tr><td>Douglas Preston, Lincoln Child</td><td>The Ice Limit (Ice Limit #1)</td></tr>",
                            "<tr><td>Vladimir Nabokov, David Lodge</td><td>Pnin</td></tr>",
                            "<tr><td>Eiji Yoshikawa, Charles Terry, Edwin O. Reischauer</td><td>Musashi</td></tr>",
                            "<tr><td>Arnaldur Indriðason, Bernard Scudder</td><td>Jar City (Inspector Erlendur, #3)</td></tr>",
                            "<tr><td>Jim Cymbala, Dean Merrill</td><td>Fresh Wind, Fresh Fire: What Happens When God's Spirit Invades the Heart of His People</td></tr>",
                            "<tr><td>James Patterson, Howard Roughan</td><td>Second Honeymoon (Honeymoon, #2)</td></tr>",
                            "<tr><td>Douglas Adams, Mark Carwardine</td><td>Last Chance to See</td></tr>",
                            "<tr><td>Jean-Paul Sartre, Arlette Elkaïm-Sartre, Annie Cohen-Solal, Carol Macomber</td><td>Existentialism Is a Humanism</td></tr>",
                            "<tr><td>Hans Christian Andersen, Rachel Isadora</td><td>The Little Match Girl</td></tr>",
                            "<tr><td>Tsugumi Ohba, Takeshi Obata</td><td>Death Note, Vol. 3: Hard Run (Death Note, #3)</td></tr>",
                            "<tr><td>Adele Faber, Elaine Mazlish, Kimberly Ann Coe</td><td>How to Talk So Kids Will Listen &amp; Listen So Kids Will Talk</td></tr>",
                            "<tr><td>Joseph Stein, Jerry Bock, Sheldon Harnick</td><td>Fiddler on the Roof</td></tr>",
                            "<tr><td>Janet Evanovich, Charlotte Hughes</td><td>Full House (Full #1)</td></tr>",
                            "<tr><td>Kahlil Gibran, Anthony R. Ferris</td><td>The Broken Wings</td></tr>",
                            "<tr><td>Douglas Preston, Lincoln Child</td><td>Two Graves (Pendergast, #12)</td></tr>",
                            "<tr><td>Nujood Ali, Delphine Minoui, Linda Coverdale</td><td>I Am Nujood, Age 10 and Divorced</td></tr>",
                            "<tr><td>Robert A. Heinlein, Damon Knight</td><td>The Past Through Tomorrow (Future History, #1-21)</td></tr>",
                            "<tr><td>Dan Jurgens, Jerry Ordway, Louise Simonson, Roger Stern, Jon Bogdanove, Tom Grummett, Jackson Butch Guice, Brett Breeding, Rick Burchett, Doug Hazlewood, Dennis Janke, Denis Rodier</td><td>The Death of Superman</td></tr>",
                            "<tr><td>Margaret Weis, Tracy Hickman</td><td>Fire Sea (The Death Gate Cycle, #3)</td></tr>",
                            "<tr><td>Barbara Park, Denise Brunkus</td><td>Junie B. Jones and the  Stupid Smelly Bus (Junie B. Jones, #1)</td></tr>",
                            "<tr><td>Gabriel García Márquez, Gregory Rabassa</td><td>The Autumn of the Patriarch</td></tr>",
                            "<tr><td>Maud Hart Lovelace, Lois Lenski</td><td>Betsy-Tacy (Betsy-Tacy, #1)</td></tr>",
                            "<tr><td>يوسف زيدان, Youssef Ziedan</td><td>محال</td></tr>",
                            "<tr><td>Rudyard Kipling, Jerry Pinkney</td><td>Rikki-Tikki-Tavi</td></tr>",
                            "<tr><td>Grant Morrison, Frank Quitely</td><td>All-Star Superman, Vol. 2</td></tr>",
                            "<tr><td>George R.R. Martin, Elio M. García Jr., Linda Antonsson</td><td>The World of Ice &amp; Fire: The Untold History of Westeros and the Game of Thrones</td></tr>",
                            "<tr><td>Nando Parrado, Vince Rause</td><td>Miracle in the Andes</td></tr>",
                            "<tr><td>Kimberly Brubaker Bradley, مرضیه ورشوساز</td><td>The War that Saved My Life (The War That Saved My Life #1)</td></tr>",
                            "<tr><td>Thomas Mann, Joachim Neugroschel</td><td>Death in Venice and Other Tales</td></tr>",
                            "<tr><td>CLAMP, Anita Sengupta</td><td>Cardcaptor Sakura: Master of the Clow, Vol. 1 (Cardcaptor Sakura, #7)</td></tr>",
                            "<tr><td>Amin Maalouf, Russell Harris</td><td>Samarkand</td></tr>",
                            "<tr><td>Arthur Miller, Christopher Bigsby</td><td>All My Sons</td></tr>",
                            "<tr><td>John Lawrence Peterson, Roberta Carter Clark</td><td>The Littles</td></tr>",
                            "<tr><td>Peggy Parish, Barbara Siebel Thomas</td><td>Amelia Bedelia and the Surprise Shower</td></tr>",
                            "<tr><td>Margaret Weis, Tracy Hickman</td><td>The Hand of Chaos (The Death Gate Cycle, #5)</td></tr>",
                            "<tr><td>William Shakespeare, Barbara A. Mowat, Paul Werstine</td><td>Measure for Measure</td></tr>",
                            "<tr><td>Owen  West, Dean Koontz</td><td>The Mask</td></tr>",
                            "<tr><td>J. Lynn, Jennifer L. Armentrout</td><td>Tempting the Best Man (Gamble Brothers, #1)</td></tr>",
                            "<tr><td>Warren Ellis, Darick Robertson</td><td>Transmetropolitan, Vol. 2: Lust for Life (Transmetropolitan, #2)</td></tr>",
                            "<tr><td>Giada De Laurentiis, Victoria Pearson</td><td>Giada's Family Dinners</td></tr>",
                            "<tr><td>Søren Kierkegaard, Alastair Hannay</td><td>Fear and Trembling</td></tr>",
                            "<tr><td>Peggy Parish, Wallace Tripp</td><td>Come Back, Amelia Bedelia</td></tr>",
                            "<tr><td>Albert Einstein, Nigel Calder, Robert W. Lawson</td><td>Relativity: The Special and the General Theory</td></tr>",
                            "<tr><td>Timothy J. Keller, Kathy  Keller</td><td>The Meaning of Marriage: Facing the Complexities of Commitment with the Wisdom of God</td></tr>",
                            "<tr><td>Grant Morrison, Frank Quitely, Philip Tan, Jonathan Glapion, Alex Sinclair</td><td>Batman &amp; Robin: Batman Reborn</td></tr>",
                            "<tr><td>Arturo Pérez-Reverte, Margaret Jull Costa</td><td>The Flanders Panel</td></tr>",
                            "<tr><td>Janet Stevens, Hans Christian Andersen</td><td>The Princess and the Pea</td></tr>",
                            "<tr><td>F. Scott Fitzgerald, Matthew J. Bruccoli</td><td>The Short Stories</td></tr>",
                            "<tr><td>Jay Crownover, Charlotte Connan de vries</td><td>Rome (Marked Men, #3)</td></tr>",
                            "<tr><td>Laurence Sterne, Melvyn New</td><td>The Life and Opinions of Tristram Shandy, Gentleman</td></tr>",
                            "<tr><td>Giles Andreae, Guy Parker-Rees</td><td>Giraffes Can't Dance</td></tr>",
                            "<tr><td>Mia Ikumi, Reiko Yoshida</td><td>Tokyo Mew Mew, Vol. 1 (Tokyo Mew Mew, #1)</td></tr>",
                            "<tr><td>Neil Gaiman, P. Craig Russell</td><td>Coraline (Illustrated/Graphic Novel Edition)</td></tr>",
                            "<tr><td>John Locke, Peter Laslett, Raymond Geuss</td><td>Two Treatises of Government</td></tr>",
                            "<tr><td>Pablo Neruda, Stephen Tapscott</td><td>100 Love Sonnets</td></tr>",
                            "<tr><td>J.K. Rowling, MinaLima</td><td>Short Stories from Hogwarts of Power, Politics and Pesky Poltergeists (Pottermore Presents, #2)</td></tr>",
                            "<tr><td>Georg Wilhelm Friedrich Hegel, A.V. Miller, John Niemeyer Findlay</td><td>Phenomenology of Spirit</td></tr>",
                            "<tr><td>Jim Butcher, Mark Powers, Ardian Syaf</td><td>The Dresden Files:  Storm Front, Volume 1-  The Gathering Storm</td></tr>",
                            "<tr><td>Brian Jacques, Allan Curless</td><td>The Long Patrol (Redwall, #10)</td></tr>",
                            "<tr><td>A.A. Milne, Ernest H. Shepard</td><td>When We Were Very Young (Winnie-the-Pooh, #3)</td></tr>",
                            "<tr><td>Mika Waltari, ذبیح‌الله منصوری</td><td>سینوهه</td></tr>",
                            "<tr><td>Neil Gaiman, Mark Buckingham</td><td>Odd and the Frost Giants</td></tr>",
                            "<tr><td>Tayeb Salih, Denys Johnson-Davies</td><td>Season of Migration to the North</td></tr>",
                            "<tr><td>Clive Cussler, Michael Pritchard</td><td>Pacific Vortex! (Dirk Pitt, #1)</td></tr>",
                            "<tr><td>Rusty Young, Thomas McFadden</td><td>Marching Powder: A True Story of Friendship, Cocaine, and South America's Strangest Jail</td></tr>",
                            "<tr><td>Marv Wolfman, George Pérez</td><td>Crisis on Infinite Earths</td></tr>",
                            "<tr><td>Astrid Lindgren, Patricia Crampton, Trina Schart Hyman</td><td>Ronia, the Robber's Daughter</td></tr>",
                            "<tr><td>Jo Nesbø, Neil Smith</td><td>Blood on Snow (Blood on Snow, #1)</td></tr>",
                            "<tr><td>Sarah Prineas, Antonio Javier Caparo</td><td>The Magic Thief (Magic Thief, #1)</td></tr>",
                            "<tr><td>Tom Sniegoski, Jeff Smith, Thomas E. Sniegoski, Steve Hamaker</td><td>Bone: Quest for the Spark, Vol. 1</td></tr>",
                            "<tr><td>Mary Beth Chapman, Steven Curtis Chapman</td><td>Choosing to SEE</td></tr>",
                            "<tr><td>Sylvia Plath, Karen V. Kukil</td><td>The Unabridged Journals of Sylvia Plath</td></tr>",
                            "<tr><td>Lili St. Crow, Lilith Saintcrow</td><td>Defiance (Strange Angels, #4)</td></tr>",
                            "<tr><td>Jeph Loeb, Jim Lee, Scott Williams</td><td>Batman: Hush, Vol. 2</td></tr>",
                            "<tr><td>P.C. Cast, Kristin Cast</td><td>Dragon's Oath (House of Night Novellas, #1)</td></tr>",
                            "<tr><td>Edith Wharton, Mary Gordon</td><td>Ethan Frome and Other Short Fiction</td></tr>",
                            "<tr><td>Friedrich Nietzsche, Walter Kaufmann, R.J. Hollingdale</td><td>On the Genealogy of Morals/Ecce Homo</td></tr>",
                            "<tr><td>Howard Schultz, Joanne Gordon</td><td>Onward: How Starbucks Fought for Its Life without Losing Its Soul</td></tr>",
                            "<tr><td>J.D. Robb, Susan Ericksen</td><td>Born in Death (In Death, #23)</td></tr>",
                            "<tr><td>Durjoy Datta, Maanvi Ahuja</td><td>Of Course I Love You...! Till I Find Someone Better...</td></tr>",
                            "<tr><td>José Mauro de Vasconcelos, قاسم صنعوی</td><td>درخت زیبای من</td></tr>",
                            "<tr><td>Morgan Rhodes, Michelle Rowen</td><td>Rebel Spring (Falling Kingdoms, #2)</td></tr>",
                            "<tr><td>James Patterson, Marshall Karp</td><td>NYPD Red 2 (NYPD Red, #2)</td></tr>",
                            "<tr><td>Michael Rosen, Jane Ray</td><td>Shakespeare's Romeo and Juliet</td></tr>",
                            "<tr><td>José Saramago, Margaret Jull Costa</td><td>All the Names</td></tr>",
                            "<tr><td>Karen Kingsbury, Gary Smalley</td><td>Return (Redemption, #3)</td></tr>",
                            "<tr><td>Bill Willingham, Mark Buckingham, Steve Leialoha, Tony Akins, Jimmy Palmiotti</td><td>Fables, Vol. 5: The Mean Seasons</td></tr>",
                            "<tr><td>Robert Shea, Robert Anton Wilson</td><td>The Illuminatus! Trilogy</td></tr>",
                            "<tr><td>Michael Chabon, Jay Ryan</td><td>The Final Solution</td></tr>",
                            "<tr><td>John Layman, Rob Guillory</td><td>Chew, Vol. 2: International Flavor</td></tr>",
                            "<tr><td>Dorie Greenspan, Alan    Richardson</td><td>Baking: From My Home to Yours</td></tr>",
                            "<tr><td>Aya Nakahara, Pookie Rolf</td><td>Love★Com, Vol. 1</td></tr>",
                            "<tr><td>Heidi Murkoff, Sharon Mazel, Heidi Murkoff, Arlene Eisenberg, Sandee Hathaway, Mark D. Widome</td><td>What to Expect the First Year (What to Expect)</td></tr>",
                            "<tr><td>Andrew Stanton, Walt Disney Company</td><td>Finding Nemo</td></tr>",
                            "<tr><td>Herman Parish, Lynn Sweat</td><td>Calling Doctor Amelia Bedelia</td></tr>",
                            "<tr><td>Eric Schmidt, Jonathan Rosenberg</td><td>How Google Works</td></tr>",
                            "<tr><td>A.A. Milne, Ernest H. Shepard</td><td>Now We Are Six (Winnie-the-Pooh, #4)</td></tr>",
                            "<tr><td>José Maria de Eça de Queirós, Ester de Lemos</td><td>Os Maias</td></tr>",
                            "<tr><td>Tim Hamilton, Ray Bradbury</td><td>Fahrenheit 451: The Authorized Adaptation</td></tr>",
                            "<tr><td>Hiroshi Sakurazaka, 桜坂洋, Alexander O. Smith, Joseph Reeder</td><td>All You Need Is Kill</td></tr>",
                            "<tr><td>James Patterson, David Ellis</td><td>Mistress</td></tr>",
                            "<tr><td>René Descartes, Donald A. Cress</td><td>Discourse on Method</td></tr>",
                            "<tr><td>Philip C. Stead, Erin E. Stead</td><td>A Sick Day for Amos McGee</td></tr>",
                            "<tr><td>Erskine Caldwell, Lewis Nordan</td><td>Tobacco Road (Brown Thrasher Books)</td></tr>",
                            "<tr><td>J. Lynn, Jennifer L. Armentrout</td><td>Stay with Me (Wait for You, #3)</td></tr>",
                            "<tr><td>Larry Bird, Earvin Johnson, Jackie MacMullan</td><td>When the Game Was Ours</td></tr>",
                            "<tr><td>Gabriel García Márquez, Edith Grossman</td><td>The General in His Labyrinth</td></tr>",
                            "<tr><td>David Foster Wallace, Michael Pietsch</td><td>The Pale King</td></tr>",
                            "<tr><td>Confucius, D.C. Lau</td><td>The Analects</td></tr>",
                            "<tr><td>Pamela Des Barres, Dave Navarro</td><td>I'm with the Band: Confessions of a Groupie</td></tr>",
                            "<tr><td>Robert Kirkman, Charlie Adlard, Cliff Rathburn</td><td>The Walking Dead, Vol. 09: Here We Remain</td></tr>",
                            "<tr><td>Giuseppe Tomasi di Lampedusa, Archibald Colquhoun</td><td>The Leopard</td></tr>",
                            "<tr><td>Paul Jenkins, Andy Kubert, Richard Isanove, Joe Quesada, Bill Jemas</td><td>Wolverine: Origin</td></tr>",
                            "<tr><td>Patricia Briggs, Eileen Wilks, Karen Chance, Sunny</td><td>On the Prowl (Alpha &amp; Omega, #0.5)</td></tr>",
                            "<tr><td>Alisa Valdes, Alisa Valdes-Rodriguez</td><td>The Dirty Girls Social Club (Dirty Girls, #1)</td></tr>",
                            "<tr><td>Yana Toboso, Tomo Kimura</td><td>Black Butler, Vol. 2 (Black Butler, #2)</td></tr>",
                            "<tr><td>Krista Ritchie, Becca Ritchie</td><td>Addicted to You (Addicted, #1)</td></tr>",
                            "<tr><td>James Patterson, Jill Dembowski, Elijah Wood, Spencer Locke</td><td>The Fire (Witch &amp; Wizard, #3)</td></tr>",
                            "<tr><td>Eleanor Coerr, Ronald Himler</td><td>Sadako and the Thousand Paper Cranes</td></tr>",
                            "<tr><td>Tsugumi Ohba, Takeshi Obata</td><td>Death Note, Vol. 4: Love (Death Note, #4)</td></tr>",
                            "<tr><td>Milan Kundera, Linda Asher</td><td>Slowness</td></tr>",
                            "<tr><td>Robert Kirkman, Charlie Adlard, Cliff Rathburn</td><td>The Walking Dead, Vol. 11: Fear the Hunters</td></tr>",
                            "<tr><td>Sergei Lukyanenko, Andrew Bromfield</td><td>Twilight Watch (Watch #3)</td></tr>",
                            "<tr><td>Sandra Brown, Stephen Lang</td><td>Low Pressure</td></tr>",
                            "<tr><td>Douglas Preston, Lincoln Child</td><td>Riptide</td></tr>",
                            "<tr><td>Thomas Malory, Eugène Vinaver</td><td>King Arthur and His Knights: Selected Tales</td></tr>",
                            "<tr><td>صلاح جاهين, يحيى حقي</td><td>رباعيات صلاح جاهين</td></tr>",
                            "<tr><td>Henry James, Amy Bloom, Pierre A. Walker</td><td>The Wings of the Dove</td></tr>",
                            "<tr><td>Masaru Emoto, David A. Thayne</td><td>The Hidden Messages in Water</td></tr>",
                            "<tr><td>José Saramago, Margaret Jull Costa</td><td>Seeing</td></tr>",
                            "<tr><td>Ben Carson, Cecil Murphey</td><td>Gifted Hands: The Ben Carson Story</td></tr>",
                            "<tr><td>Linda Williams, Megan Lloyd</td><td>The Little Old Lady Who Was Not Afraid of Anything</td></tr>",
                            "<tr><td>Nancy E. Shaw, Margot Apple</td><td>Sheep in a Jeep</td></tr>",
                            "<tr><td>Leo Tolstoy, Isai Kamen, Doris Lessing</td><td>The Kreutzer Sonata</td></tr>",
                            "<tr><td>Bruno Ernst, M.C. Escher, John E. Brigham</td><td>The Magic Mirror of M.C. Escher</td></tr>",
                            "<tr><td>Matsuri Hino, Tomo Kimura</td><td>Vampire Knight, Vol. 9</td></tr>",
                            "<tr><td>Robert Kirkman, Charlie Adlard</td><td>The Walking Dead, Compendium 2</td></tr>",
                            "<tr><td>Al Ries, Jack Trout</td><td>The 22 Immutable Laws of Marketing: Violate Them at Your Own Risk</td></tr>",
                            "<tr><td>Gary Keller, Jay Papasan</td><td>The One Thing: The Surprisingly Simple Truth Behind Extraordinary Results</td></tr>",
                            "<tr><td>Jacqueline Wilson, Nick Sharratt, Sue Heap</td><td>Double Act</td></tr>",
                            "<tr><td>Alisa Kwitney, Neil Gaiman</td><td>The Sandman: King of Dreams</td></tr>",
                            "<tr><td>Marc Guggenheim, Alex Maleev, Stephen King</td><td>Stephen King's N.</td></tr>",
                            "<tr><td>Paul Pen, Simon Bruni</td><td>The Light of the Fireflies</td></tr>",
                            "<tr><td>Terry Pratchett, Stephen Baxter</td><td>The Long War (The Long Earth, #2)</td></tr>",
                            "<tr><td>America's Test Kitchen, Carl Tremblay, Daniel J. Van Ackere</td><td>The America's Test Kitchen Family Cookbook</td></tr>",
                            "<tr><td>William Kamkwamba, Bryan Mealer</td><td>The Boy Who Harnessed the Wind: Creating Currents of Electricity and Hope</td></tr>",
                            "<tr><td>Rob Thomas, Jennifer Graham</td><td>Mr. Kiss and Tell (Veronica Mars, #2)</td></tr>",
                            "<tr><td>Adam Makos, Larry Alexander</td><td>A Higher Call: An Incredible True Story of Combat and Chivalry in the War-Torn Skies of World War II</td></tr>",
                            "<tr><td>Neil Gaiman, Yoshitaka Amano</td><td>The Sandman: The Dream Hunters</td></tr>",
                            "<tr><td>V.S. Ramachandran, Sandra Blakeslee, Oliver Sacks</td><td>Phantoms in the Brain: Probing the Mysteries of the Human Mind</td></tr>",
                            "<tr><td>James Andrew Miller, Tom Shales</td><td>Live from New York: An Uncensored History of Saturday Night Live</td></tr>",
                            "<tr><td>James C. Collins, Morten T. Hansen</td><td>Great by Choice: Uncertainty, Chaos, and Luck--Why Some Thrive Despite Them All</td></tr>",
                            "<tr><td>Richelle Mead, Emma Vieceli, Leigh Dragoon</td><td>Vampire Academy: The Graphic Novel (Vampire Academy: The Graphic Novel, #1)</td></tr>",
                            "<tr><td>Mem Fox, Jane Dyer</td><td>Time for Bed</td></tr>",
                            "<tr><td>J.K. Rowling, Joel Holland</td><td>Very Good Lives: The Fringe Benefits of Failure and the Importance of Imagination</td></tr>",
                            "<tr><td>James Patterson, Michael Ledwidge</td><td>I, Michael Bennett (Michael Bennett, #5)</td></tr>",
                            "<tr><td>Isa Chandra Moskowitz, Terry Hope Romero, Sara Quin</td><td>Vegan Cupcakes Take Over the World: 75 Dairy-Free Recipes for Cupcakes that Rule</td></tr>",
                            "<tr><td>Christopher Yost, Pasqual Ferry, Orson Scott Card</td><td>Ender's Game, Volume 2: Command School</td></tr>",
                            "<tr><td>Anonymous, Lane T. Dennis, Wayne A. Grudem</td><td>ESV Study Bible</td></tr>",
                            "<tr><td>Miklós Nyiszli, Tibère Kremer, Bruno Bettelheim, Richard Seaver</td><td>Auschwitz: A Doctor's Eyewitness Account</td></tr>",
                            "<tr><td>Kathryn Jackson, Byron Jackson, Gustav Tenggren</td><td>The Saggy Baggy Elephant (A Little Golden Book)</td></tr>",
                            "<tr><td>Gustave Flaubert, Robert Baldick, Geoffrey Wall</td><td>Sentimental Education</td></tr>",
                            "<tr><td>Phil Robertson, Mark Schlabach</td><td>Happy, Happy, Happy</td></tr>",
                            "<tr><td>Marion Zimmer Bradley, Diana L. Paxson</td><td>Priestess of Avalon (Avalon, #4)</td></tr>",
                            "<tr><td>Natsuki Takaya, Alethea Nibley, Athena Nibley</td><td>Fruits Basket, Vol. 7</td></tr>",
                            "<tr><td>Joe Navarro, Marvin Karlins</td><td>What Every Body is Saying: An Ex-FBI Agent's Guide to Speed-Reading People</td></tr>",
                            "<tr><td>Stephen Sondheim, Hugh Wheeler, Christopher Godfrey Bond</td><td>Sweeney Todd: The Demon Barber of Fleet Street</td></tr>",
                            "<tr><td>Shūsaku Endō, William Johnston</td><td>Silence</td></tr>",
                            "<tr><td>Gary Chapman, D. Ross Campbell</td><td>The Five Love Languages of Children</td></tr>",
                            "<tr><td>Henry James, Michael Cunningham</td><td>Washington Square</td></tr>",
                            "<tr><td>Carl R. Rogers, Peter D. Kramer</td><td>On Becoming a Person: A Therapist's View of Psychotherapy</td></tr>",
                            "<tr><td>Masami Tsuda, Darcy Lockman, Jack Niida</td><td>Kare Kano: His and Her Circumstances, Vol. 1</td></tr>",
                            "<tr><td>James Patterson, Marshall Karp</td><td>NYPD Red 3 (NYPD Red, #3)</td></tr>",
                            "<tr><td>Brian K. Vaughan, Cliff Chiang, Matthew Wilson</td><td>Paper Girls, Vol. 1 (Paper Girls, #1)</td></tr>",
                            "<tr><td>Frantz Fanon, Jean-Paul Sartre, Richard Philcox, Homi K. Bhabha</td><td>The Wretched of the Earth</td></tr>",
                            "<tr><td>Bruce H. Wilkinson, David Kopp</td><td>Secrets of the Vine: Breaking Through to Abundance</td></tr>",
                            "<tr><td>Anne Frank, Susan Massotty</td><td>Anne Frank's Tales from the Secret Annex</td></tr>",
                            "<tr><td>Lauren Henderson, Chris Manby, Sarah Mlynowski, Jill A. Davis, Stella Duffy, Lisa Jewell, Marian Keyes, Sophie Kinsella, Adèle Lang, Carole Matthews, Anna Maxted, Megan McCafferty, Alisa Valdes, Isabel Wolff, Meg Cabot, Jessica Adams, Louise Bagshawe, Emily Barr, Jenny Colgan, Lynda Curnyn, Jennifer Weiner</td><td>Girls' Night In</td></tr>",
                            "<tr><td>Irvin D. Yalom, Nicola Ferguson</td><td>The Gift of Therapy: An Open Letter to a New Generation of Therapists and Their Patients</td></tr>",
                            "<tr><td>Brian Herbert, Kevin J. Anderson</td><td>House Harkonnen (Prelude to Dune #2)</td></tr>",
                            "<tr><td>Shoichi Aoki, Mark Sanders, Shoich Aoki</td><td>FRUiTS</td></tr>",
                            "<tr><td>Haruki Murakami, Jay Rubin</td><td>1Q84 #1-2 (1Q84, #1-2)</td></tr>",
                            "<tr><td>Mary Westmacott, Agatha Christie</td><td>Absent In The Spring</td></tr>",
                            "<tr><td>Bethany McLean, Peter Elkind</td><td>The Smartest Guys in the Room: The Amazing Rise and Scandalous Fall of Enron</td></tr>",
                            "<tr><td>Douglas Preston, Lincoln Child</td><td>Mount Dragon</td></tr>",
                            "<tr><td>Brian Coffey, Dean Koontz</td><td>The Face of Fear</td></tr>",
                            "<tr><td>James Patterson, Michael Ledwidge</td><td>Gone (Michael Bennett, #6)</td></tr>",
                            "<tr><td>Bill Willingham, Mark Buckingham, Steve Leialoha, Shawn McManus, Andrew Pepoy</td><td>Fables, Vol. 8: Wolves</td></tr>",
                            "<tr><td>Robert Kirkman, Charlie Adlard, Cliff Rathburn</td><td>The Walking Dead, Vol. 14: No Way Out</td></tr>",
                            "<tr><td>Robert Kirkman, Charlie Adlard</td><td>The Walking Dead, Book Two (The Walking Dead #13-24)</td></tr>",
                            "<tr><td>Italo Calvino, William Weaver, Ανταίος Χρυσοστομίδης, Ελευθερία Κοψιδά</td><td>Cosmicomics</td></tr>",
                            "<tr><td>Janne Teller, Martin Aitken</td><td>Nothing</td></tr>",
                            "<tr><td>A.N. Roquelaure, Anne Rice</td><td>Sleeping Beauty Box Set</td></tr>",
                            "<tr><td>Brian Azzarello, Eduardo Risso</td><td>100 Bullets, Vol. 1: First Shot, Last Call</td></tr>",
                            "<tr><td>Liz Kessler, Sarah Gibb</td><td>The Tail of Emily Windsnap (Emily Windsnap, #1)</td></tr>",
                            "<tr><td>Neil Gaiman, Mike Dringenberg, Chris Bachalo, Michael Zulli, Kelly Jones, Charles Vess, Colleen Doran, Malcolm Jones III, Steve Parkhouse, Daniel Vozzo, Lee Loughridge, Steve Oliff, Todd Klein, Dave McKean, Sam Kieth</td><td>The Absolute Sandman, Volume One</td></tr>",
                            "<tr><td>Robert Kirkman, Charlie Adlard, Cliff Rathburn, Rus Wooton</td><td>The Walking Dead, Book Three (The Walking Dead #25-36)</td></tr>",
                            "<tr><td>Kōbō Abe, E. Dale Saunders</td><td>The Woman in the Dunes</td></tr>",
                            "<tr><td>Mario Vargas Llosa, Helen R. Lane</td><td>Aunt Julia and the Scriptwriter</td></tr>",
                            "<tr><td>Warren Ellis, Darick Robertson, Rodney Ramos</td><td>Transmetropolitan, Vol. 3: Year of the Bastard (Transmetropolitan, #3)</td></tr>",
                            "<tr><td>Sheldon Vanauken, C.S. Lewis</td><td>A Severe Mercy: A Story of Faith, Tragedy and Triumph</td></tr>",
                            "<tr><td>Marion Zimmer Bradley, Diana L. Paxson</td><td>The Forest House (Avalon, #2)</td></tr>",
                            "<tr><td>Esther Earl, Lori Earl, Wayne Earl, John Green</td><td>This Star Won't Go Out: The Life and Words of Esther Grace Earl</td></tr>",
                            "<tr><td>Pauline Réage, Sabine d'Estree</td><td>Story of O (Story of O #1)</td></tr>",
                            "<tr><td>George Bernard Shaw, Alan Jay Lerner</td><td>Pygmalion &amp; My Fair Lady</td></tr>",
                            "<tr><td>Mark Millar, J.G. Jones, Brian K. Vaughan</td><td>Wanted</td></tr>",
                            "<tr><td>Tsugumi Ohba, Takeshi Obata</td><td>Death Note, Vol. 8: Target (Death Note, #8)</td></tr>",
                            "<tr><td>Chris Claremont, John Byrne</td><td>X-Men: The Dark Phoenix Saga</td></tr>",
                            "<tr><td>Noam Chomsky, Edward S. Herman</td><td>Manufacturing Consent: The Political Economy of the Mass Media</td></tr>",
                            "<tr><td>Astrid Lindgren, Gerry Bothmer</td><td>Pippi in the South Seas</td></tr>",
                            "<tr><td>Anne Sexton, Maxine Kumin</td><td>The Complete Poems</td></tr>",
                            "<tr><td>Michael Buckley, Peter Ferguson</td><td>The Problem Child (The Sisters Grimm, #3)</td></tr>",
                            "<tr><td>Waris Dirie, Cathleen Miller</td><td>Desert Flower</td></tr>",
                            "<tr><td>Tom Peters, Robert H. Waterman Jr.</td><td>In Search of Excellence: Lessons from America's Best-Run Companies</td></tr>",
                            "<tr><td>James Patterson, Emily Raymond</td><td>First Love</td></tr>",
                            "<tr><td>Bill Finger, Gardner F. Fox, Bob Kane, Jerry Robinson, Sheldon Moldoff</td><td>The Batman Chronicles, Vol. 1</td></tr>",
                            "<tr><td>Isaac Asimov, Bob E. Flick, Jim Gallant</td><td>The Last Question</td></tr>",
                            "<tr><td>Saul Bellow, Luciano Bianciardi</td><td>Henderson the Rain King</td></tr>",
                            "<tr><td>Sarah Blakley-Cartwright, David Leslie Johnson, Catherine Hardwicke</td><td>Red Riding Hood</td></tr>",
                            "<tr><td>Roald Dahl, Quentin Blake</td><td>The Giraffe and the Pelly and Me</td></tr>",
                            "<tr><td>pleasefindthis, Iain S. Thomas, Jon Ellis</td><td>I Wrote This For You</td></tr>",
                            "<tr><td>Ina Garten, Quentin Bacon</td><td>Barefoot in Paris</td></tr>",
                            "<tr><td>Hans Christian Andersen, Lisbeth Zwerger, Anthea Bell</td><td>The Little Mermaid</td></tr>",
                            "<tr><td>Angela Elwell Hunt, Tim Jonke</td><td>The Tale of Three Trees</td></tr>",
                            "<tr><td>John Eldredge, Brent Curtis</td><td>The Sacred Romance Drawing Closer To The Heart Of God</td></tr>",
                            "<tr><td>William Carlos Williams, Charles Tomlinson</td><td>Selected Poems</td></tr>",
                            "<tr><td>Thomas Hardy, Patricia Ingham</td><td>The Woodlanders</td></tr>",
                            "<tr><td>Fernando Pessoa, Richard Zenith</td><td>The Book of Disquiet</td></tr>",
                            "<tr><td>Geoff Johns, Gary Frank, Jon Sibal, Brad Anderson, Rob Leigh</td><td>Batman: Earth One, Volume 1</td></tr>",
                            "<tr><td>Anne Lamott, Sam Lamott</td><td>Some Assembly Required: A Journal of My Son's First Son</td></tr>",
                            "<tr><td>Douglas Preston, Lincoln Child</td><td>Blue Labyrinth (Pendergast, #14)</td></tr>",
                            "<tr><td>Michael Buckley, Peter Ferguson</td><td>Once Upon a Crime (The Sisters Grimm, #4)</td></tr>",
                            "<tr><td>Bill Willingham, Mark Buckingham, Steve Leialoha, Andrew Pepoy, Gene Ha, Joshua Middleton, Iñaki Miranda, Mike Allred</td><td>Fables, Vol. 9: Sons of Empire</td></tr>",
                            "<tr><td>Marion Cunningham, Fannie Merritt Farmer, Archibald Candy Corporation</td><td>The Fannie Farmer Cookbook: Anniversary</td></tr>",
                            "<tr><td>Hergé, Leslie Lonsdale-Cooper, Michael Turner</td><td>Tintin in the Land of the Soviets (Tintin #1)</td></tr>",
                            "<tr><td>Nicholas Ganz, Tristan Manco</td><td>Graffiti World: Street Art from Five Continents</td></tr>",
                            "<tr><td>L.J. Smith, Kevin Williamson, Julie Plec</td><td>Bloodlust (The Vampire Diaries: Stefan's Diaries, #2)</td></tr>",
                            "<tr><td>Anne Rampling, Anne Rice</td><td>Exit to Eden</td></tr>",
                            "<tr><td>Mary-Jane Knight, Rick Riordan</td><td>Percy Jackson &amp; the Olympians:  The Ultimate Guide</td></tr>",
                            "<tr><td>Robert Foster, J.R.R. Tolkien</td><td>The Complete Guide to Middle-Earth</td></tr>",
                            "<tr><td>Kate Chopin, Cynthia Brantley Johnson, Alyssa  Harad</td><td>The Awakening and Selected Stories</td></tr>",
                            "<tr><td>Henning Mankell, Ebba Segerberg</td><td>One Step Behind  (Kurt Wallander, #7)</td></tr>",
                            "<tr><td>Grant Morrison, Andy Kubert, John Van Fleet, Jesse Delperdang</td><td>Batman and Son</td></tr>",
                            "<tr><td>Michael Buckley, Peter Ferguson</td><td>Magic and Other Misdemeanors (The Sisters Grimm, #5)</td></tr>",
                            "<tr><td>Nicky Cruz, Jamie Buckingham</td><td>Run Baby Run</td></tr>",
                            "<tr><td>Daniel Coyle, John Farrell</td><td>The Talent Code: Unlocking the Secret of Skill in Sports, Art, Music, Math, and Just About Everything Else</td></tr>",
                            "<tr><td>Margaret Weis, Tracy Hickman</td><td>Dragons of Summer Flame (Dragonlance: The Second Generation, #2)</td></tr>",
                            "<tr><td>Tsugumi Ohba, Takeshi Obata</td><td>Death Note, Vol. 5: Whiteout (Death Note, #5)</td></tr>",
                            "<tr><td>Benedict Freedman, Nancy Freedman</td><td>Mrs. Mike (Mrs. Mike, #1)</td></tr>",
                            "<tr><td>Tyler Hamilton, Daniel Coyle</td><td>The Secret Race: Inside the Hidden World of the Tour de France: Doping, Cover-ups, and Winning at All Costs</td></tr>",
                            "<tr><td>Isabel Allende, Oliver Brock, Frank Wynne</td><td>Ripper</td></tr>",
                            "<tr><td>Alan    Richardson, Karen Tack</td><td>Hello, Cupcake</td></tr>",
                            "<tr><td>Dick Riley, Pam McAllister, Bruce Cassiday</td><td>The New Bedside, Bathtub and Armchair Companion to Agatha Christie</td></tr>",
                            "<tr><td>Walter Lord, Nathaniel Philbrick</td><td>A Night to Remember</td></tr>",
                            "<tr><td>Richard Russo, Arthur Morey</td><td>That Old Cape Magic</td></tr>",
                            "<tr><td>Clare Naylor, Mimi Hare</td><td>The Second Assistant: A Tale from the Bottom of the Hollywood Ladder</td></tr>",
                            "<tr><td>Charles Dickens, Patricia Ingham, Hablot Knight Browne</td><td>Martin Chuzzlewit</td></tr>",
                            "<tr><td>Marjane Satrapi, Anjali Singh</td><td>Embroideries</td></tr>",
                            "<tr><td>Melissa Anelli, J.K. Rowling</td><td>Harry, a History: The True Story of a Boy Wizard, His Fans, and Life Inside the Harry Potter Phenomenon</td></tr>",
                            "<tr><td>Hope Larson, Madeleine L'Engle</td><td>A Wrinkle in Time: The Graphic Novel</td></tr>",
                            "<tr><td>Henning Mankell, Laurie Thompson</td><td>The White Lioness (Kurt Wallander, #3)</td></tr>",
                            "<tr><td>Margaret Weis, Tracy Hickman</td><td>Elven Star (The Death Gate Cycle, #2)</td></tr>",
                            "<tr><td>Ludwig Wittgenstein, G.E.M. Anscombe</td><td>Philosophical Investigations</td></tr>",
                            "<tr><td>Scott Dikkers, Maria Schneider, John Krewson, Robert Siegel, David Javerbaum, Todd Hanson, Carol Kolb, Mike Loew, Tim Harrod</td><td>Our Dumb Century: The Onion Presents 100 Years of Headlines from America's Finest News Source</td></tr>",
                            "<tr><td>Vince Flynn, Kyle Mills, Armand Schultz</td><td>The Survivor (Mitch Rapp, #14)</td></tr>",
                            "<tr><td>Kiyohiko Azuma, あずま きよひこ</td><td>Yotsuba&amp;!, Vol. 01 (Yotsuba&amp;! #1)</td></tr>",
                            "<tr><td>Black Elk, John G. Neihardt</td><td>Black Elk Speaks: Being the Life Story of a Holy Man of the Oglala Sioux</td></tr>",
                            "<tr><td>Jeph Loeb, Jim Lee, Scott Williams</td><td>Batman: Hush, Vol. 1</td></tr>",
                            "<tr><td>Randy Alcorn, Alex Kendrick, Stephen Kendrick</td><td>Courageous</td></tr>",
                            "<tr><td>Kate DiCamillo, Yoko Tanaka</td><td>The Magician's Elephant</td></tr>",
                            "<tr><td>محمد المنسي قنديل, Mohamed Mansi Qandil</td><td>قمر على سمرقند</td></tr>",
                            "<tr><td>Jack Welch, John A. Byrne, Mike Barnicle</td><td>Jack: Straight from the Gut</td></tr>",
                            "<tr><td>Milan Kundera, Aaron Asher</td><td>Life is Elsewhere</td></tr>",
                            "<tr><td>Tim LaHaye, Jerry B. Jenkins</td><td>Glorious Appearing: The End of Days (Left Behind, #12)</td></tr>",
                            "<tr><td>Aristotle, Joe Sachs</td><td>Metaphysics</td></tr>",
                            "<tr><td>Cynthia Rylant, Stephen Gammell</td><td>The Relatives Came</td></tr>",
                            "<tr><td>Ken Robinson, Lou Aronica</td><td>The Element: How Finding Your Passion Changes Everything</td></tr>",
                            "<tr><td>Jennifer Crusie, Bob Mayer</td><td>Agnes and the Hitman</td></tr>",
                            "<tr><td>Apostolos Doxiadis, Christos H. Papadimitriou, Alecos Papadatos, Annie Di Donna</td><td>Logicomix: An epic search for truth</td></tr>",
                            "<tr><td>Thomas Mann, John E. Woods, T.J. Reed</td><td>Buddenbrooks: The Decline of a Family</td></tr>",
                            "<tr><td>James Patterson, Richard DiLallo</td><td>The Christmas Wedding</td></tr>",
                            "<tr><td>Iris Murdoch, Mary Kinzie</td><td>The Sea, the Sea</td></tr>",
                            "<tr><td>Samuel Shem, John Updike</td><td>The House of God</td></tr>",
                            "<tr><td>Ayşe Kulin, John W. Baker</td><td>Last Train to Istanbul</td></tr>",
                            "<tr><td>Aleksandr Solzhenitsyn, Edward E. Ericson Jr.</td><td>The Gulag Archipelago 1918-1956</td></tr>",
                            "<tr><td>José Saramago, Giovanni Pontiero</td><td>Baltasar and Blimunda</td></tr>",
                            "<tr><td>Rose Levy Beranbaum, Maria Guarnaschelli, Vincent Lee, Manuela Paul, Dean G. Bornstein</td><td>The Cake Bible</td></tr>",
                            "<tr><td>Alan Dean Foster, George Lucas</td><td>A New Hope  (Star Wars: Novelizations #4)</td></tr>",
                            "<tr><td>Christopher Chabris, Daniel Simons</td><td>The Invisible Gorilla: And Other Ways Our Intuitions Deceive Us</td></tr>",
                            "<tr><td>Karen Kingsbury, Gary Smalley</td><td>Rejoice (Redemption, #4)</td></tr>",
                            "<tr><td>Hergé, Leslie Lonsdale-Cooper, Michael Turner</td><td>Tintin in Tibet (Tintin, #20)</td></tr>",
                            "<tr><td>Henning Mankell, Ebba Segerberg</td><td>Firewall (Wallander, #8)</td></tr>",
                            "<tr><td>Michael Buckley, Peter Ferguson</td><td>Tales From the Hood (The Sisters Grimm, #6)</td></tr>",
                            "<tr><td>Charles Bernard Nordhoff, James Norman Hall</td><td>Mutiny on the Bounty (The Bounty Trilogy, #1)</td></tr>",
                            "<tr><td>William Arntz, Betsy Chasse, Mark Vicente</td><td>What the Bleep Do We Know!?: Discovering the Endless Possibilities for Altering Your Everyday Reality</td></tr>",
                            "<tr><td>Elizabeth Gaskell, Shirley Foster</td><td>Mary Barton</td></tr>",
                            "<tr><td>Tsugumi Ohba, Takeshi Obata</td><td>Death Note, Vol. 7: Zero (Death Note, #7)</td></tr>",
                            "<tr><td>Honoré de Balzac, Sylvia Raphael, Christopher Prendergast</td><td>Eugénie Grandet</td></tr>",
                            "<tr><td>Marcella Hazan, Karin Kretschmann</td><td>Essentials of Classic Italian Cooking</td></tr>",
                            "<tr><td>Arnaldur Indriðason, Bernard Scudder</td><td>Silence of the Grave (Inspector Erlendur #4)</td></tr>",
                            "<tr><td>Bill O'Reilly, Martin Dugard</td><td>Killing Reagan: The Violent Assault That Changed a Presidency</td></tr>",
                            "<tr><td>Leah Wilson, Jennifer Lynn Barnes, Mary Borsellino, Sarah Rees Brennan, Terri  Clark, Bree Despain, Adrienne Kress, Sarah Darer Littman, Cara Lockwood, Elizabeth M. Rees, Carrie Ryan, Ned Vizzini, Lili Wilkinson, Blythe Woolston</td><td>The Girl Who Was on Fire: Your Favorite Authors on Suzanne Collins' Hunger Games Trilogy</td></tr>",
                            "<tr><td>Russell Hoban, Lillian Hoban</td><td>A Bargain for Frances</td></tr>",
                            "<tr><td>Jann S. Wenner, Corey Seymour</td><td>Gonzo: The Life of Hunter S. Thompson</td></tr>",
                            "<tr><td>Matsuri Hino, Tomo Kimura</td><td>Vampire Knight, Vol. 4 (Vampire Knight, #4)</td></tr>",
                            "<tr><td>Denis Johnson, Bettina Abarbanell</td><td>Train Dreams</td></tr>",
                            "<tr><td>Charles Harrison, Paul Wood</td><td>Art in Theory 1900 - 2000: An Anthology of Changing Ideas</td></tr>",
                            "<tr><td>Hervé Tullet, Christopher Franceschelli</td><td>Press Here</td></tr>",
                            "<tr><td>Alfred Tennyson, Charles Keeping</td><td>The Lady of Shalott</td></tr>",
                            "<tr><td>Friedrich Nietzsche, Douglas Smith</td><td>On the Genealogy of Morals</td></tr>",
                            "<tr><td>Jamie Delano, John Ridgway, Alfredo Alcalá</td><td>Hellblazer: Original Sins</td></tr>",
                            "<tr><td>Jane Lynch, Lisa Dickey</td><td>Happy Accidents: A Memoir</td></tr>",
                            "<tr><td>Walter Moers, John Brownjohn</td><td>The 13½ Lives of Captain Bluebear (Zamonia, #1)</td></tr>",
                            "<tr><td>Carl Sagan, Ann Druyan</td><td>Billions &amp; Billions: Thoughts on Life and Death at the Brink of the Millennium</td></tr>",
                            "<tr><td>Suetonius, Michael Grant, Robert Graves</td><td>The Twelve Caesars</td></tr>",
                            "<tr><td>Ibraheem Abbas, إبراهيم عباس, Yasser Bahjatt</td><td>حوجن [Ḥawjan]</td></tr>",
                            "<tr><td>Penelope Douglas, Abby Craden, Nelson Hobbs</td><td>Rival (Fall Away, #2)</td></tr>",
                            "<tr><td>James Patterson, Mark Pearson</td><td>Private London (Private #4)</td></tr>",
                            "<tr><td>Bernadette Rossetti-Shustak, Caroline Jayne Church</td><td>I Love You Through and Through</td></tr>",
                            "<tr><td>Jim Krueger, Alex Ross, Doug Braithwaite</td><td>Justice, Volume 1</td></tr>",
                            "<tr><td>William Nicholson, Peter Sís</td><td>The Wind Singer (Wind on Fire, #1)</td></tr>",
                            "<tr><td>Michael Chabon, Gary Gianni</td><td>Gentlemen of the Road</td></tr>",
                            "<tr><td>James Andrew Miller, Tom Shales</td><td>Those Guys Have All the Fun: Inside the World of ESPN</td></tr>",
                            "<tr><td>Tim Tebow, Nathan Whitaker</td><td>Through My Eyes</td></tr>",
                            "<tr><td>Joe Hill, Gabriel Rodríguez</td><td>Locke &amp; Key, Vol. 6: Alpha &amp; Omega</td></tr>",
                            "<tr><td>Patricia M. Scarry, Richard Scarry</td><td>The Country Mouse and the City Mouse; The Fox and the Crow; The Dog and His Bone</td></tr>",
                            "<tr><td>Laura Joffe Numeroff, Felicia Bond</td><td>If You Give a Cat a Cupcake</td></tr>",
                            "<tr><td>Anderson Cooper, Gloria Vanderbilt</td><td>The Rainbow Comes and Goes: A Mother and Son On Life, Love, and Loss</td></tr>",
                            "<tr><td>Sarah L. Delany, A. Elizabeth Delany, Amy Hill Hearth</td><td>Having Our Say: The Delany Sisters' First 100 Years</td></tr>",
                            "<tr><td>Karen Kingsbury, Gary Smalley</td><td>Reunion (Redemption, #5)</td></tr>",
                            "<tr><td>Émile Zola, Robin Buss</td><td>Thérèse Raquin</td></tr>",
                            "<tr><td>Robert W. Chambers, E.F. Bleiler</td><td>The King in Yellow and Other Horror Stories</td></tr>",
                            "<tr><td>Ayn Rand, Nathaniel Branden</td><td>The Virtue of Selfishness: A New Concept of Egoism</td></tr>",
                            "<tr><td>Leo Tolstoy, Louise Maude, Aylmer Maude</td><td>Resurrection</td></tr>",
                            "<tr><td>Janet Evanovich, Lee Goldberg</td><td>The Job (Fox and O'Hare, #3)</td></tr>",
                            "<tr><td>Pascal Mercier, Barbara Harshav</td><td>Night Train to Lisbon</td></tr>",
                            "<tr><td>The Waiter, Steve Dublanica</td><td>Waiter Rant: Thanks for the Tip-Confessions of a Cynical Waiter</td></tr>",
                            "<tr><td>Tom Clancy, Grant Blackwood</td><td>Dead or Alive (Jack Ryan Universe, #13)</td></tr>",
                            "<tr><td>Nancy Leigh DeMoss, Elisabeth Elliot</td><td>Lies Women Believe: And the Truth that Sets Them Free</td></tr>",
                            "<tr><td>Joe Sacco, Edward Said</td><td>Palestine</td></tr>",
                            "<tr><td>Vincent van Gogh, Irving Stone, Jean   Stone</td><td>Dear Theo</td></tr>",
                            "<tr><td>Terry Brooks, George Lucas</td><td>Star Wars - Episode I: The Phantom Menace</td></tr>",
                            "<tr><td>Gene Luen Yang, Michael Dante DiMartino, Gurihiru, Bryan Konietzko</td><td>Avatar: The Last Airbender (The Promise, #2)</td></tr>",
                            "<tr><td>Else Holmelund Minarik, Maurice Sendak</td><td>Little Bear's Friend</td></tr>",
                            "<tr><td>Mourid Barghouti, مريد البرغوثي</td><td>رأيت رام الله</td></tr>",
                            "<tr><td>Marion Zimmer Bradley, Diana L. Paxson</td><td>Lady of Avalon (Avalon, #3)</td></tr>",
                            "<tr><td>Tom Clancy, Mark Greaney</td><td>Threat Vector (Jack Ryan Universe, #15)</td></tr>",
                            "<tr><td>Miles Davis, Quincy Troupe</td><td>Miles: The Autobiography</td></tr>",
                            "<tr><td>Janet Evanovich, Charlotte Hughes</td><td>Full Tilt (Full #2)</td></tr>",
                            "<tr><td>Brian Herbert, Kevin J. Anderson</td><td>The Machine Crusade (Legends of Dune, #2)</td></tr>",
                            "<tr><td>Arthur Conan Doyle, William S. Baring-Gould</td><td>The Annotated Sherlock Holmes: The Four Novels and the Fifty-Six Short Stories Complete (2 Volume Set)</td></tr>",
                            "<tr><td>Penelope Ward, Vi Keeland</td><td>Cocky Bastard</td></tr>",
                            "<tr><td>James Patterson, Michael Ledwidge</td><td>The Dangerous Days of Daniel X (Daniel X, #1)</td></tr>",
                            "<tr><td>Camilla Läckberg, Tiina Nunnally</td><td>The Hidden Child (Patrik Hedström, #5)</td></tr>",
                            "<tr><td>Yasunari Kawabata, Edward G. Seidensticker</td><td>Snow Country</td></tr>",
                            "<tr><td>Fyodor Dostoyevsky, Ergin Altay</td><td>The House of the Dead</td></tr>",
                            "<tr><td>Georges Bataille, Joachim Neugroschel, Dovid Bergelson</td><td>Story of the Eye</td></tr>",
                            "<tr><td>Rainer Maria Rilke, Stephen Mitchell, Robert Hass</td><td>The Selected Poetry of Rainer Maria Rilke</td></tr>",
                            "<tr><td>Gabriel García Márquez, Randolph Hogan</td><td>The Story of a Shipwrecked Sailor</td></tr>",
                            "<tr><td>Warren Ellis, John Cassaday</td><td>Planetary, Volume 1: All Over the World and Other Stories</td></tr>",
                            "<tr><td>Assata Shakur, Angela Y. Davis, Lennox S. Hinds</td><td>Assata: An Autobiography</td></tr>",
                            "<tr><td>Paul Galdone, Peter Christen Asbjørnsen</td><td>The Three Billy Goats Gruff</td></tr>",
                            "<tr><td>Corina Bomann, Alison Layland</td><td>The Moonlit Garden</td></tr>",
                            "<tr><td>Nella Larsen, Ntozake Shange, Thadious M. Davis</td><td>Passing</td></tr>",
                            "<tr><td>Neil Gaiman, Michael Reaves</td><td>InterWorld (InterWorld, #1)</td></tr>",
                            "<tr><td>George Carlin, Tony Hendra</td><td>Last Words</td></tr>",
                            "<tr><td>Betty MacDonald, Alexandra Boiger</td><td>Mrs. Piggle-Wiggle's Magic (Mrs. Piggle Wiggle, #2)</td></tr>",
                            "<tr><td>Roald Dahl, Quentin Blake</td><td>Revolting Rhymes</td></tr>",
                            "<tr><td>John D. Fitzgerald, Mercer Mayer</td><td>The Great Brain (Great Brain #1)</td></tr>",
                            "<tr><td>Paula H. Deen, John Berendt</td><td>The Lady &amp; Sons Savannah Country Cookbook</td></tr>",
                            "<tr><td>Gabriel García Márquez, J.S. Bernstein</td><td>No One Writes to the Colonel and Other Stories</td></tr>",
                            "<tr><td>Warren Ellis, Darick Robertson, Rodney Ramos, Patrick Stewart</td><td>Transmetropolitan, Vol. 5: Lonely City (Transmetropolitan, #5)</td></tr>",
                            "<tr><td>Anatoli Boukreev, G. Weston DeWalt</td><td>The Climb: Tragic Ambitions on Everest</td></tr>",
                            "<tr><td>Natsuki Takaya, Alethea Nibley, Athena Nibley</td><td>Fruits Basket, Vol. 2</td></tr>",
                            "<tr><td>Steve Berry, Scott Brick</td><td>The Paris Vendetta (Cotton Malone, #5)</td></tr>",
                            "<tr><td>William Shakespeare, Roma Gill, Robert          Jackson</td><td>Richard II</td></tr>",
                            "<tr><td>George Gordon Byron, Peter J. Manning, Susan J. Wolfson</td><td>Selected Poems</td></tr>",
                            "<tr><td>Anna Gavalda, Alison Anderson</td><td>Hunting and Gathering</td></tr>",
                            "<tr><td>Peter Lynch, John Rothchild</td><td>One Up On Wall Street: How To Use What You Already Know To Make Money In The Market</td></tr>",
                            "<tr><td>Bertolt Brecht, David Hare</td><td>Mother Courage and Her Children</td></tr>",
                            "<tr><td>Mac Barnett, Jon Klassen</td><td>Extra Yarn (E. B. White Read-Aloud Award. Picture Books)</td></tr>",
                            "<tr><td>Edmund Spenser, Thomas P. Roche, C. Patrick O'Donnell</td><td>The Faerie Queene </td></tr>",
                            "<tr><td>Janet Ahlberg, Allan Ahlberg</td><td>Each Peach Pear Plum</td></tr>",
                            "<tr><td>Gene Kim, Kevin Behr, George Spafford</td><td>The Phoenix Project: A Novel About IT, DevOps, and Helping Your Business Win</td></tr>",
                            "<tr><td>Chris Van Allsburg, Lois Lowry, Kate DiCamillo, M.T. Anderson, Louis Sachar, Stephen King, Tabitha King, Jon Scieszka, Sherman Alexie, Gregory Maguire, Cory Doctorow, Jules Feiffer, Linda Sue Park, Walter Dean Myers, Lemony Snicket</td><td>The Chronicles of Harris Burdick: 14 Amazing Authors Tell the Tales</td></tr>",
                            "<tr><td>Erin Gruwell, Zlata Filipović, The Freedom Writers</td><td>The Freedom Writers Diary</td></tr>",
                            "<tr><td>Susanna Clarke, Charles Vess</td><td>The Ladies of Grace Adieu and Other Stories</td></tr>",
                            "<tr><td>Terry Jones, Brian Froud</td><td>Lady Cottington's Pressed Fairy Book</td></tr>",
                            "<tr><td>Dante Alighieri, Dorothy L. Sayers, Barbara Reynolds</td><td>Paradiso (The Divine Comedy, #3)</td></tr>",
                            "<tr><td>Amy Lichtenhan, A.L. Jackson</td><td>Take This Regret (Take This Regret, #1)</td></tr>",
                            "<tr><td>Larry Niven, Jerry Pournelle</td><td>Footfall</td></tr>",
                            "<tr><td>William Shakespeare, Sylvan Barnet, Alvin Kernan, Russell Fraser</td><td>Four Great Tragedies: Hamlet / Othello / King Lear / Macbeth</td></tr>",
                            "<tr><td>Mary Higgins Clark, Alafair Burke</td><td>I've Got You Under My Skin (Under Suspicion, #1)</td></tr>",
                            "<tr><td>Bill Willingham, Mark Buckingham, Steve Leialoha, Aaron Alexovich, Andrew Pepoy</td><td>Fables, Vol. 10: The Good Prince</td></tr>",
                            "<tr><td>Larry Bond, Patrick Larkin</td><td>Red Phoenix (Red Phoenix #1)</td></tr>",
                            "<tr><td>Leigh Nichols, Dean Koontz</td><td>Shadow Fires</td></tr>",
                            "<tr><td>James Rollins, Rebecca Cantrell</td><td>The Blood Gospel (The Order of the Sanguines, #1)</td></tr>",
                            "<tr><td>Henning Mankell, Laurie Thompson</td><td>The Troubled Man (Kurt Wallander, #10)</td></tr>",
                            "<tr><td>Walter Benjamin, Michael W. Jennings, Brigid Doherty, Edmund F.N. Jephcott, Rodney Livingstone, Howard Eiland, Thomas Y. Levin</td><td>The Work of Art in the Age of Its Technological Reproducibility, and Other Writings on Media</td></tr>",
                            "<tr><td>Sarah Palin, Lynn Vincent, Dewey Whetsell</td><td>Going Rogue: An American Life</td></tr>",
                            "<tr><td>Anne Byrn, Anthony Loew</td><td>The Cake Mix Doctor</td></tr>",
                            "<tr><td>Ali Novak, Fallzswimmer</td><td>My Life with the Walter Boys (My Life with the Walter Boys #1)</td></tr>",
                            "<tr><td>Al Ries, Jack Trout</td><td>Positioning: The Battle for Your Mind: How to Be Seen and Heard in the Overcrowded Marketplace</td></tr>",
                            "<tr><td>Gregory Maguire, Douglas Smith</td><td>Lost</td></tr>",
                            "<tr><td>Chris Colfer, Brandon Dorman</td><td>A Grimm Warning (The Land of Stories, #3)</td></tr>",
                            "<tr><td>Andrew Hunt, Dave Thomas</td><td>The Pragmatic Programmer: From Journeyman to Master</td></tr>",
                            "<tr><td>T.C. Boyle, Richard Poe</td><td>Drop City</td></tr>",
                            "<tr><td>Brian K. Vaughan, Pia Guerra, José Marzán Jr., Pamela Rambo, Clem Robins, J.G. Jones</td><td>Y: The Last Man - The Deluxe Edition Book One</td></tr>",
                            "<tr><td>James Patterson, Michael Ledwidge</td><td>Alert (Michael Bennett, #8)</td></tr>",
                            "<tr><td>Anne Rice, Robert O'Keefe, F. Murray Abraham, Michael York, Kate Nelligan, David Purdham</td><td>Vampire Chronicles: Interview with the Vampire, The Vampire Lestat, The Queen of the Damned (Anne Rice)</td></tr>",
                            "<tr><td>Stan Berenstain, Jan Berenstain</td><td>The Berenstain Bears Forget Their Manners</td></tr>",
                            "<tr><td>Cassandra Clare, Hye-Kyung Baek</td><td>The Infernal Devices: Clockwork Angel (The Infernal Devices: Manga, #1)</td></tr>",
                            "<tr><td>Alan Lee, Ian McKellen</td><td>The Lord of the Rings Sketchbook</td></tr>",
                            "<tr><td>James Patterson, Howard Roughan</td><td>Don't Blink</td></tr>",
                            "<tr><td>Stephen Jones, H.P. Lovecraft, Kim Newman, Brian Mooney, Nicholas Royle, David Langford, Michael Marshall Smith, Brian Lumley, Neil Gaiman, Basil Copper, Jack Yeovil, Guy N. Smith, Adrian Cole, D.F. Lewis, Ramsey Campbell, David Sutton, Peter Tremayne</td><td>Shadows over Innsmouth</td></tr>",
                            "<tr><td>Jeff Brown, Scott Nash, Macky Pamintuan</td><td>Flat Stanley (Flat Stanley, #1)</td></tr>",
                            "<tr><td>Mary Pope Osborne, Salvatore Murdocca</td><td>The Knight at Dawn (Magic Tree House, #2)</td></tr>",
                            "<tr><td>Tsugumi Ohba, Takeshi Obata</td><td>Death Note, Vol. 6: Give-and-Take (Death Note, #6)</td></tr>",
                            "<tr><td>Rick Riordan, Robert Venditti, José Villarrubia, Attila Futaki</td><td>The Lightning Thief: The Graphic Novel (Percy Jackson and the Olympians, #1)</td></tr>",
                            "<tr><td>Clint Hill, Lisa McCubbin</td><td>Mrs. Kennedy and Me: An Intimate Memoir</td></tr>",
                            "<tr><td>William March, Elaine Showalter</td><td>The Bad Seed</td></tr>",
                            "<tr><td>Douglas Preston, Lincoln Child</td><td>Gideon's Sword (Gideon Crew, #1)</td></tr>",
                            "<tr><td>Brian Kilmeade, Don Yaeger</td><td>George Washington's Secret Six: The Spy Ring That Saved the American Revolution</td></tr>",
                            "<tr><td>Eugene Bradley Coco, Ron Dias</td><td>Pinocchio</td></tr>",
                            "<tr><td>Anton Chekhov, Richard Pevear, Larissa Volokhonsky</td><td>The Complete Short Novels</td></tr>",
                            "<tr><td>Stan Berenstain, Jan Berenstain</td><td>The Berenstain Bears Go to School</td></tr>",
                            "<tr><td>Jeph Loeb, Tim Sale, Bjarne Hansen</td><td>Superman for All Seasons</td></tr>",
                            "<tr><td>Federico García Lorca, Antonio Sobejano-Moran, Paola Bianco</td><td>La casa de Bernarda Alba</td></tr>",
                            "<tr><td>Lettie B. Cowman, James Reimann</td><td>Streams in the Desert</td></tr>",
                            "<tr><td>Cassandra Clare, Joshua Lewis</td><td>The Shadowhunter's Codex</td></tr>",
                            "<tr><td>Jenna Jameson, Neil Strauss</td><td>How to Make Love Like a Porn Star: A Cautionary Tale</td></tr>",
                            "<tr><td>Philip Pullman, John Lawrence</td><td>Lyra's Oxford (His Dark Materials, #3.5)</td></tr>",
                            "<tr><td>James Patterson, Mark T. Sullivan</td><td>Private Berlin (Private #5)</td></tr>",
                            "<tr><td>Mary Hoffman, Caroline Binch</td><td>Amazing Grace</td></tr>",
                            "<tr><td>David Eddings, Leigh Eddings</td><td>The Redemption of Althalus</td></tr>",
                            "<tr><td>Brandon Sanderson, Jon Foster</td><td>Skin Deep (Legion, #2)</td></tr>",
                            "<tr><td>François Lelord, Lorenza García</td><td>Hector and the Search for Happiness</td></tr>",
                            "<tr><td>Haruki Murakami, Alfred Birnbaum, Philip Gabriel</td><td>Underground: The Tokyo Gas Attack and the Japanese Psyche</td></tr>",
                            "<tr><td>Brian Coffey, Dean Koontz</td><td>The Voice of the Night</td></tr>",
                            "<tr><td>José Saramago, Margaret Jull Costa</td><td>The Double</td></tr>",
                            "<tr><td>Bob Gale, Devin Grayson, Alex Maleev, Dale Eaglesham</td><td>Batman: No Man's Land, Vol. 1</td></tr>",
                            "<tr><td>Jeffrey D. Sachs, Bono</td><td>The End of Poverty</td></tr>",
                            "<tr><td>Bill Willingham, Mark Buckingham, Steve Leialoha, Jim Fern, Jimmy Palmiotti, Andrew Pepoy</td><td>Fables, Vol. 7: Arabian Nights [and Days] (Fables, #7)</td></tr>",
                            "<tr><td>Jeff Smith, Thomas E. Sniegoski, Steve Hamaker</td><td>Bone: Tall Tales</td></tr>",
                            "<tr><td>Jennifer L. Holm, Tad Carpenter</td><td>The Fourteenth Goldfish</td></tr>",
                            "<tr><td>Kathryn Jackson, Gustav Tenggren</td><td>Tawny Scrawny Lion</td></tr>",
                            "<tr><td>Mark Waid, Alfred Gough, Miles Millar, Dave McCaig, Gerry Alanguilan, Leinil Francis Yu</td><td>Superman: Birthright</td></tr>",
                            "<tr><td>Margret Rey, H.A. Rey, Martha Weston</td><td>Curious George Visits the Library</td></tr>",
                            "<tr><td>E.H. Gombrich, Caroline Mustill, Clifford Harper</td><td>A Little History of the World</td></tr>",
                            "<tr><td>Natsuki Takaya, Alethea Nibley, Athena Nibley</td><td>Fruits Basket, Vol. 4</td></tr>",
                            "<tr><td>Naguib Mahfouz, William M. Hutchins, Olive E. Kenny</td><td>Palace Walk (The Cairo Trilogy #1)</td></tr>",
                            "<tr><td>Stephen Schwartz, Gregory Maguire</td><td>Wicked - Piano/Vocal Arrangement</td></tr>",
                            "<tr><td>Bill Hybels, Lavonne Neff</td><td>Too Busy Not to Pray: Slowing Down to Be With God</td></tr>",
                            "<tr><td>Zig Ziglar, Al Mayton</td><td>See You at the Top</td></tr>",
                            "<tr><td>Aeschylus, Judith Affleck, Philip de May, Patricia E. Easterling, John     Harrison</td><td>Agamemnon (Oresteia, #1)</td></tr>",
                            "<tr><td>David Baggett, Shawn E. Klein</td><td>Harry Potter and Philosophy: If Aristotle Ran Hogwarts</td></tr>",
                            "<tr><td>P.C. Cast, Kristin Cast</td><td>Redeemed (House of Night, #12)</td></tr>",
                            "<tr><td>Frank Miller, Lynn Varley</td><td>Batman: The Dark Knight Strikes Again (The Dark Knight Saga, #2)</td></tr>",
                            "<tr><td>Alice  Miller, Ruth Ward</td><td>The Drama of the Gifted Child: The Search for the True Self</td></tr>",
                            "<tr><td>Roland Barthes, Annette Lavers</td><td>Mythologies</td></tr>",
                            "<tr><td>Aristotle, Malcolm Heath</td><td>Poetics</td></tr>",
                            "<tr><td>Immanuel Kant, Mary J. Gregor, Christine M. Korsgaard</td><td>Groundwork of the Metaphysics of Morals</td></tr>",
                            "<tr><td>Douglas Preston, Lincoln Child</td><td>Crimson Shore (Pendergast, #15)</td></tr>",
                            "<tr><td>James Patterson, Michael Ledwidge</td><td>Burn (Michael Bennett, #7)</td></tr>",
                            "<tr><td>Erlend Loe, Tor Ketil Solberg</td><td>Naïve. Super</td></tr>",
                            "<tr><td>Meca Tanaka, 田中メカ</td><td>キスよりも早く1 [Kisu Yorimo Hayaku 1] (Faster than a Kiss #1)</td></tr>",
                            "<tr><td>P.C. Cast, Kristin Cast</td><td>Lenobia's Vow (House of Night Novellas, #2)</td></tr>",
                            "<tr><td>HaveYouSeenThisGirL, Jan Irene Villar</td><td>Diary ng Panget</td></tr>",
                            "<tr><td>Si Robertson, Mark Schlabach</td><td>Si-cology 1: Tales and Wisdom from Duck Dynasty’s Favorite Uncle</td></tr>",
                            "<tr><td>James Lincoln Collier, Christopher Collier</td><td>My Brother Sam Is Dead</td></tr>",
                            "<tr><td>Anne Rice, Anne Rampling</td><td>Belinda</td></tr>",
                            "<tr><td>Dick King-Smith, Maggie Kneen</td><td>Babe: The Gallant Pig</td></tr>",
                            "<tr><td>Kerry Patterson, Joseph Grenny, David Maxfield, Ron McMillan, Al Switzler</td><td>Influencer: The Power to Change Anything</td></tr>",
                            "<tr><td>Jeff Smith, Steve Hamaker</td><td>The Dragonslayer (Bone, #4)</td></tr>",
                            "<tr><td>Susan S. Adler, Renée Graef, Nancy Niles</td><td>Meet Samantha: An American Girl (American Girls: Samantha, #1)</td></tr>",
                            "<tr><td>Greg Rucka, J.H. Williams III, Rachel Maddow</td><td>Batwoman: Elegy</td></tr>",
                            "<tr><td>Michael Dante DiMartino, Bryan Konietzko</td><td>Avatar Volume 1: The Last Airbender (Avatar #1)</td></tr>",
                            "<tr><td>George R.R. Martin, Gardner R. Dozois, Joe Abercrombie, Gillian Flynn, Matthew Hughes, Joe R. Lansdale, Michael Swanwick, David  Ball, Carrie Vaughn, Scott Lynch, Bradley Denton, Cherie Priest, Daniel Abraham, Paul Cornell, Steven Saylor, Garth Nix, Walter Jon Williams, Phyllis Eisenstein, Lisa Tuttle, Neil Gaiman, Connie Willis, Patrick Rothfuss</td><td>Rogues</td></tr>",
                            "<tr><td>Kevin Malarkey, Alex Malarkey</td><td>The Boy Who Came Back from Heaven: A Remarkable Account of Miracles, Angels, and Life beyond This World</td></tr>",
                            "<tr><td>Juan Gabriel Vásquez, Anne McLean</td><td>The Sound of Things Falling</td></tr>",
                            "<tr><td>William Gibson, Terry Bisson</td><td>Johnny Mnemonic</td></tr>",
                            "<tr><td>Neil Postman, Andrew Postman</td><td>Amusing Ourselves to Death: Public Discourse in the Age of Show Business</td></tr>",
                            "<tr><td>Pattie Boyd, Penny Junor</td><td>Wonderful Tonight</td></tr>",
                            "<tr><td>Roderick Gordon, Brian  Williams</td><td>Tunnels (Tunnels, #1)</td></tr>",
                            "<tr><td>Greg Pak, Aaron Lopresti, Carlo Pagulayan, Juan Santacruz, Gary Frank, Takeshi Miyazawa</td><td>The Incredible Hulk: Planet Hulk</td></tr>",
                            "<tr><td>Arthur C. Clarke, Gentry Lee</td><td>Rama Revealed (Rama, #4)</td></tr>",
                            "<tr><td>Charles Dickens, Norman Page</td><td>The Old Curiosity Shop</td></tr>",
                            "<tr><td>Natsuki Takaya, Alethea Nibley, Athena Nibley</td><td>Fruits Basket, Vol. 14</td></tr>",
                            "<tr><td>Matt Fraction, David Aja, Francesco Francavilla, Steve Lieber, Jesse Hamm, Annie Wu, Matt Hollingsworth, Chris Eliopoulos</td><td>Hawkeye, Volume 2: Little Hits</td></tr>",
                            "<tr><td>Barbara Ann Brennan, Jos. A. Smith</td><td>Hands Of Light</td></tr>",
                            "<tr><td>Lemony Snicket, Brett Helquist</td><td>A Series of Unfortunate Events Box: The Complete Wreck (Books 1-13)</td></tr>",
                            "<tr><td>Brian Michael Bendis, Mark Bagley</td><td>Ultimate Spider-Man, Volume 1: Power and Responsibility</td></tr>",
                            "<tr><td>Agatha Christie, Hugh Fraser</td><td>One, Two, Buckle My Shoe (Hercule Poirot, #22)</td></tr>",
                            "<tr><td>Amie Kaufman, Jay Kristoff, Marie Lu</td><td>Gemina (The Illuminae Files, #2)</td></tr>",
                            "<tr><td>R.D. Blackmore, Michelle Allen</td><td>Lorna Doone</td></tr>",
                            "<tr><td>Agatha Christie, Robin Bailey</td><td>The Clocks (Hercule Poirot, #34)</td></tr>",
                            "<tr><td>Stacy King, SunNeko Lee, Crystal S. Chan, Victor Hugo</td><td>Manga Classics: Les Misérables</td></tr>",
                            "<tr><td>Oliver Pötzsch, Lee Chadeayne</td><td>The Beggar King (The Hangman's Daughter, #3)</td></tr>",
                            "<tr><td>Lars Kepler, Laura A. Wideburg</td><td>The Nightmare (Joona Linna, #2)</td></tr>",
                            "<tr><td>Dr. Seuss, Maurice Sendak, Audrey Geisel</td><td>The Secret Art of Dr. Seuss</td></tr>",
                            "<tr><td>Jacqueline Winspear, Orlagh Cassidy</td><td>Among the Mad (Maisie Dobbs, #6)</td></tr>",
                            "<tr><td>Ryū Murakami, Ralph McCarthy</td><td>In the Miso Soup</td></tr>",
                            "<tr><td>Dick Winters, Cole C. Kingseed</td><td>Beyond Band of Brothers: The War Memoirs of Major Dick Winters</td></tr>",
                            "<tr><td>L. Frank Baum, David McKee</td><td>The Marvelous Land of Oz (Oz, #2)</td></tr>",
                            "<tr><td>Natsuki Takaya, Alethea Nibley, Athena Nibley</td><td>Fruits Basket, Vol. 15</td></tr>",
                            "<tr><td>Morton Rhue, Todd Strasser</td><td>The Wave</td></tr>",
                            "<tr><td>Mary Higgins Clark, Alafair Burke</td><td>The Cinderella Murder (Under Suspicion, #2)</td></tr>",
                            "<tr><td>François Rabelais, M.A. Screech</td><td>Gargantua and Pantagruel</td></tr>",
                            "<tr><td>Hajime Isayama, Hikaru Suruga, Gan Sunaaku</td><td>Attack on Titan: No Regrets, Volume 01</td></tr>",
                            "<tr><td>Ruth Krauss, Crockett Johnson</td><td>The Carrot Seed</td></tr>",
                            "<tr><td>Stephen King, Josh Hamilton</td><td>Riding the Bullet</td></tr>",
                            "<tr><td>Nikolai Gogol, Kevin Hawkes</td><td>The Nose</td></tr>",
                            "<tr><td>Guy Debord, Donald Nicholson-Smith</td><td>The Society of the Spectacle</td></tr>",
                            "<tr><td>Marshall McLuhan, Quentin Fiore, Jerome Agel</td><td>The Medium is the Massage</td></tr>",
                            "<tr><td>Kentaro Miura, Jason DeAngelis</td><td>Berserk, Vol. 1 (Berserk, #1)</td></tr>",
                            "<tr><td>Thomas Merton, Robert Giroux, William H. Shannon</td><td>The Seven Storey Mountain</td></tr>",
                            "<tr><td>Morgan Rhodes, Michelle Rowen</td><td>Gathering Darkness (Falling Kingdoms, #3)</td></tr>",
                            "<tr><td>Alan Dean Foster, Lawrence Kasdan, J.J. Abrams, Michael Arndt</td><td>The Force Awakens (Star Wars)</td></tr>",
                            "<tr><td>Alan Moore, Curt Swan, George Pérez, Kurt Schaffenberger</td><td>Superman: Whatever Happened to the Man of Tomorrow?</td></tr>",
                            "<tr><td>Ralph Waldo Emerson, Peter Norberg</td><td>Essays and Poems</td></tr>",
                            "<tr><td>Gabriel García Márquez, Gregory Rabassa</td><td>Innocent Erendira and Other Stories</td></tr>",
                            "<tr><td>Stendhal, Richard Howard, Robert Andrew Parker</td><td>The Charterhouse of Parma</td></tr>",
                            "<tr><td>Jacqueline Briggs Martin, Mary Azarian</td><td>Snowflake Bentley</td></tr>",
                            "<tr><td>William McDonough, Michael Braungart</td><td>Cradle to Cradle: Remaking the Way We Make Things</td></tr>",
                            "<tr><td>Warren Ellis, Darick Robertson, Rodney Ramos, Keith Akin</td><td>Transmetropolitan, Vol. 4: The New Scum (Transmetropolitan, #4)</td></tr>",
                            "<tr><td>Monty Roberts, Lucy Grealy, Lawrence Scanlan</td><td>The Man Who Listens to Horses</td></tr>",
                            "<tr><td>Michael Baigent, Richard Leigh, Henry Lincoln</td><td>Holy Blood, Holy Grail</td></tr>",
                            "<tr><td>Don DeLillo, محمدصادق رئیسی</td><td>Falling Man</td></tr>",
                            "<tr><td>James Frey, Nils Johnson-Shelton</td><td>The Calling (Endgame, #1)</td></tr>",
                            "<tr><td>Henning Mankell, Laurie Thompson</td><td>The Man from Beijing</td></tr>",
                            "<tr><td>Tom Clancy, Peter Telep</td><td>Against All Enemies (Max Moore, #1)</td></tr>",
                            "<tr><td>Cynthia Hand, Brodi Ashton, Jodi Meadows</td><td>My Lady Jane (The Lady Janies, #1)</td></tr>",
                            "<tr><td>Baruch Spinoza, Edwin M. Curley, Stuart Hampshire, Edwin Curley</td><td>Ethics</td></tr>",
                            "<tr><td>Andre Norton, Mercedes Lackey</td><td>The Elvenbane (Halfblood Chronicles, #1)</td></tr>",
                            "<tr><td>Carlos Ruiz Zafón, Lucia Graves</td><td>The Midnight Palace (Niebla, #2)</td></tr>",
                            "<tr><td>Darwyn Cooke, Dave Stewart, Jared K. Fletcher</td><td>DC: The New Frontier, Volume 1</td></tr>",
                            "<tr><td>Betty MacDonald, Alexandra Boiger</td><td>Hello, Mrs. Piggle-Wiggle (Mrs. Piggle Wiggle, #4)</td></tr>",
                            "<tr><td>Megan McDonald, Peter H. Reynolds</td><td>Judy Moody (Judy Moody, # 1)</td></tr>",
                            "<tr><td>Friedrich Nietzsche, Walter Kaufmann</td><td>The Gay Science</td></tr>",
                            "<tr><td>Donald J. Trump, Tony Schwartz</td><td>Trump: The Art of the Deal</td></tr>",
                            "<tr><td>Natsuki Takaya, Alethea Nibley, Athena Nibley</td><td>Fruits Basket, Vol. 3</td></tr>",
                            "<tr><td>Brian Herbert, Kevin J. Anderson</td><td>House Corrino (Prelude to Dune #3)</td></tr>",
                            "<tr><td>J. Lynn, Jennifer L. Armentrout</td><td>Tempting the Player (Gamble Brothers, #2)</td></tr>",
                            "<tr><td>Anonymous, Juan Mascaró</td><td>The Upanishads: Translations from the Sanskrit</td></tr>",
                            "<tr><td>Gretchen Rubin, Käthe Mazur</td><td>Happier at Home: Kiss More, Jump More, Abandon a Project, Read Samuel Johnson, and My Other Experiments in the Practice of Everyday Life</td></tr>",
                            "<tr><td>Adolfo Bioy Casares, Suzanne Jill Levine, Jorge Luis Borges, Ruth L.C. Simms, Norah Borges de Torre</td><td>The Invention of Morel</td></tr>",
                            "<tr><td>Robert Kirkman, Charlie Adlard, Cliff Rathburn</td><td>The Walking Dead, Vol. 13: Too Far Gone</td></tr>",
                            "<tr><td>Roger Lea MacBride, David Gilleece</td><td>Little House on Rocky Ridge (Little House: The Rocky Ridge Years, #1)</td></tr>",
                            "<tr><td>Dr. Seuss, Theo LeSieg, Roy McKie</td><td>In a People House</td></tr>",
                            "<tr><td>Brian Herbert, Kevin J. Anderson</td><td>Hunters of Dune (Dune Chronicles #7)</td></tr>",
                            "<tr><td>Robert Coles, George Ford</td><td>The Story of Ruby Bridges</td></tr>",
                            "<tr><td>Patty Lovell, David Catrow</td><td>Stand Tall, Molly Lou Melon</td></tr>",
                            "<tr><td>Robert T. Kiyosaki, Sharon L. Lechter</td><td>Rich Dad's Guide to Investing: What the Rich Invest in That the Poor and Middle Class Do Not!</td></tr>",
                            "<tr><td>Jim Loehr, Tony Schwartz</td><td>The Power of Full Engagement: Managing Energy, Not Time, Is the Key to High Performance and Personal Renewal</td></tr>",
                            "<tr><td>Edward Gibbon, Daniel J. Boorstin, Gian Battista Piranesi, Hans-Friedrich Mueller</td><td>The Decline and Fall of the Roman Empire</td></tr>",
                            "<tr><td>Donald Hall, Barbara Cooney</td><td>Ox-Cart Man (Picture Puffin)</td></tr>",
                            "<tr><td>Hugh Lofting, Michael Hague</td><td>The Voyages of Doctor Dolittle (Doctor Dolittle, #2)</td></tr>",
                            "<tr><td>Jeff Lemire, José Villarrubia, Carlos M. Mangual</td><td>Sweet Tooth, Volume 1: Out of the Deep Woods</td></tr>",
                            "<tr><td>Warren Ellis, Adi Granov</td><td>Iron Man: Extremis</td></tr>",
                            "<tr><td>H.P. Lovecraft, Les Edwards, Stephen Jones</td><td>Necronomicon: The Best Weird Tales</td></tr>",
                            "<tr><td>Scott Snyder, Greg Capullo, Jonathan Glapion</td><td>Batman, Volume 3: Death of the Family</td></tr>",
                            "<tr><td>E.E. Cummings, Richard S. Kennedy</td><td>Selected Poems</td></tr>",
                            "<tr><td>Amanda Berry, Gina DeJesus, Mary Jordan, Kevin Sullivan</td><td>Hope: A Memoir of Survival in Cleveland</td></tr>",
                            "<tr><td>Lucy Sykes, Jo Piazza</td><td>The Knockoff</td></tr>",
                            "<tr><td>Else Holmelund Minarik, Maurice Sendak</td><td>A Kiss for Little Bear (An I Can Read Book) by Minarik, Else Holmelund [1984]</td></tr>",
                            "<tr><td>Tom Clancy, Mark Greaney</td><td>Command Authority (Jack Ryan Universe, #16)</td></tr>",
                            "<tr><td>Loek Koopmans, Charles Perrault, Anthea Bell</td><td>Cinderella</td></tr>",
                            "<tr><td>Stan Berenstain, Jan Berenstain</td><td>The Berenstain Bears and Too Much TV</td></tr>",
                            "<tr><td>Penelope Douglas, Jeremy York, Tatiana Sokolov</td><td>Corrupt (Devil's Night, #1)</td></tr>",
                            "<tr><td>Lynsay Sands, Jeaniene Frost</td><td>The Bite Before Christmas (Argeneau, #15.5; Night Huntress, #6.5)</td></tr>",
                            "<tr><td>Amy Brown, Charles  de Lint</td><td>The Art of Amy Brown</td></tr>",
                            "<tr><td>Martin Waddell, Patrick Benson</td><td>Owl Babies</td></tr>",
                            "<tr><td>Ted Andrews, Winston Allen, Margaret K. Andrews</td><td>Animal-Speak: The Spiritual &amp; Magical Powers of Creatures Great &amp; Small</td></tr>",
                            "<tr><td>Perry Moore, Andrew Adamson, C.S. Lewis</td><td>The Chronicles of Narnia - The Lion, the Witch, and the Wardrobe Official Illustrated Movie Companion</td></tr>",
                            "<tr><td>Joan Aiken, Pat Marriott</td><td>The Wolves of Willoughby Chase (The Wolves Chronicles, #1)</td></tr>",
                            "<tr><td>Matsuri Hino, Tomo Kimura</td><td>Vampire Knight, Vol. 3 (Vampire Knight, #3)</td></tr>",
                            "<tr><td>Mary Pope Osborne, Salvatore Murdocca</td><td>Mummies in the Morning (Magic Tree House, #3)</td></tr>",
                            "<tr><td>Jack Kerouac, Joyce Johnson</td><td>Desolation Angels</td></tr>",
                            "<tr><td>W.G. Sebald, Anthea Bell</td><td>Austerlitz</td></tr>",
                            "<tr><td>Esther Hicks, Jerry Hicks</td><td>Money, and the Law of Attraction: Learning to Attract Wealth, Health, and Happiness</td></tr>",
                            "<tr><td>Tom Clancy, Mark Greaney</td><td>Locked On (Jack Ryan Universe, #14)</td></tr>",
                            "<tr><td>Jacqueline Wilson, Nick Sharratt</td><td>The Illustrated Mum</td></tr>",
                            "<tr><td>Aleksandr Griboyedov, Александр Сергеевич Грибоедов</td><td>Горе от ума</td></tr>",
                            "<tr><td>Howard Dully, Charles Fleming</td><td>My Lobotomy</td></tr>",
                            "<tr><td>Ellen Levine, Kadir Nelson</td><td>Henry's Freedom Box: A True Story from the Underground Railroad</td></tr>",
                            "<tr><td>Kami Garcia, Margaret Stohl</td><td>Dream Dark (Caster Chronicles, #2.5)</td></tr>",
                            "<tr><td>Abigail Haas, Abby McDonald</td><td>Dangerous Girls</td></tr>",
                            "<tr><td>Malvina G. Vogel, Arthur Conan Doyle</td><td>Sherlock Holmes and the Case of the Hound of the Baskervilles (Illustrated Classic Editions)</td></tr>",
                            "<tr><td>Matsuri Hino, Tomo Kimura</td><td>Vampire Knight, Vol. 2 (Vampire Knight, #2)</td></tr>",
                            "<tr><td>Grady Hendrix, Michael Rogalski</td><td>Horrorstör</td></tr>",
                            "<tr><td>Joss Whedon, John Cassaday</td><td>Astonishing X-Men, Volume 2: Dangerous</td></tr>",
                            "<tr><td>Inga Muscio, Betty Dodson</td><td>Cunt: A Declaration of Independence</td></tr>",
                            "<tr><td>Naguib Mahfouz, نجيب محفوظ</td><td>الحرافيش</td></tr>",
                            "<tr><td>Giulia Enders, Jill Enders</td><td>Gut: The Inside Story of Our Body’s Most Underrated Organ</td></tr>",
                            "<tr><td>John M. Gottman, Nan Silver</td><td>The Seven Principles for Making Marriage Work: A Practical Guide from the Country's Foremost Relationship Expert</td></tr>",
                            "<tr><td>Yukio Mishima, John Nathan</td><td>The Sailor Who Fell from Grace with the Sea</td></tr>",
                            "<tr><td>Steve Perry, Tom Clancy, Steve Pieczenik</td><td>Breaking Point (Tom Clancy's Net Force, #4)</td></tr>",
                            "<tr><td>Michael Buckley, Peter Ferguson</td><td>The Everafter War (The Sisters Grimm, #7)</td></tr>",
                            "</table>"
                        ]
                    }
                }
            ],
            "execution_count": 7
        },
        {
            "cell_type": "markdown",
            "source": [
                "## QUESTION 2: Ira\n",
                "\n",
                "Ira was asked by a customer for titles that have been tagged \"Meditation\".  As you create a query for Ira, think about how the tables in BooksDB are organized as you write your query."
            ],
            "metadata": {
                "azdata_cell_guid": "06f2a08a-a54e-484e-8053-c74594da9db2"
            },
            "attachments": {}
        },
        {
            "cell_type": "code",
            "source": [
                "-- Code here:\r\n",
                "USE BooksDB\r\n",
                "SELECT title\r\n",
                "FROM books\r\n",
                "WHERE best_book_id = ANY\r\n",
                "(SELECT goodreads_book_id\r\n",
                "FROM book_tags\r\n",
                "WHERE tag_id = ANY(\r\n",
                "SELECT TAG_ID\r\n",
                "FROM tags\r\n",
                "WHERE tag_name = 'meditation'))\r\n",
                ""
            ],
            "metadata": {
                "azdata_cell_guid": "552924f9-a1cc-4979-8f53-15ba959550c2",
                "tags": [],
                "language": "sql"
            },
            "outputs": [
                {
                    "output_type": "display_data",
                    "data": {
                        "text/html": "(39 rows affected)"
                    },
                    "metadata": {}
                },
                {
                    "output_type": "display_data",
                    "data": {
                        "text/html": "Total execution time: 00:00:00.249"
                    },
                    "metadata": {}
                },
                {
                    "output_type": "execute_result",
                    "metadata": {},
                    "execution_count": 14,
                    "data": {
                        "application/vnd.dataresource+json": {
                            "schema": {
                                "fields": [
                                    {
                                        "name": "title"
                                    }
                                ]
                            },
                            "data": [
                                {
                                    "0": "A New Earth: Awakening to Your Life's Purpose"
                                },
                                {
                                    "0": "The Power of Now: A Guide to Spiritual Enlightenment"
                                },
                                {
                                    "0": "The Four Agreements: A Practical Guide to Personal Freedom"
                                },
                                {
                                    "0": "The Art of Happiness"
                                },
                                {
                                    "0": "Meditations"
                                },
                                {
                                    "0": "Way of the Peaceful Warrior: A Book That Changes Lives"
                                },
                                {
                                    "0": "Practicing the Power of Now: Essential Teachings, Meditations, and Exercises from the Power of Now"
                                },
                                {
                                    "0": "Autobiography of a Yogi"
                                },
                                {
                                    "0": "10% Happier: How I Tamed the Voice in My Head, Reduced Stress Without Losing My Edge, and Found Self-Help That Actually Works"
                                },
                                {
                                    "0": "The Seat of the Soul"
                                },
                                {
                                    "0": "The Teachings of Don Juan: A Yaqui Way of Knowledge "
                                },
                                {
                                    "0": "The Essential Rumi"
                                },
                                {
                                    "0": "Zen Mind, Beginner's Mind: Informal Talks on Zen Meditation and Practice"
                                },
                                {
                                    "0": "A Course in Miracles"
                                },
                                {
                                    "0": "The Power of Intention: Learning to Co-create Your World Your Way"
                                },
                                {
                                    "0": "The Practice of the Presence of God"
                                },
                                {
                                    "0": "Wherever You Go, There You Are: Mindfulness Meditation in Everyday Life"
                                },
                                {
                                    "0": "When Things Fall Apart: Heart Advice for Difficult Times"
                                },
                                {
                                    "0": "Be Here Now"
                                },
                                {
                                    "0": "Peace Is Every Step: The Path of Mindfulness in Everyday Life"
                                },
                                {
                                    "0": "Creative Visualization: Use the Power of Your Imagination to Create What You Want in Your Life"
                                },
                                {
                                    "0": "The Tibetan Book of Living and Dying"
                                },
                                {
                                    "0": "Zen of Seeing: Seeing/Drawing as Meditation"
                                },
                                {
                                    "0": "The Untethered Soul: The Journey Beyond Yourself"
                                },
                                {
                                    "0": "Waking Up: A Guide to Spirituality Without Religion"
                                },
                                {
                                    "0": "The I Ching or Book of Changes"
                                },
                                {
                                    "0": "The Happiness Hypothesis: Finding Modern Truth in Ancient Wisdom"
                                },
                                {
                                    "0": "Loving What Is: Four Questions That Can Change Your Life"
                                },
                                {
                                    "0": "The Imitation of Christ"
                                },
                                {
                                    "0": "The Miracle of Mindfulness: An Introduction to the Practice of Meditation"
                                },
                                {
                                    "0": "Care of the Soul: A Guide for Cultivating Depth and Sacredness in Everyday Life"
                                },
                                {
                                    "0": "Change Your Thoughts - Change Your Life: Living the Wisdom of the Tao"
                                },
                                {
                                    "0": "The Way of Zen"
                                },
                                {
                                    "0": "Living Buddha, Living Christ"
                                },
                                {
                                    "0": "Awakening the Buddha Within: Tibetan Wisdom for the Western World"
                                },
                                {
                                    "0": "The Book on the Taboo Against Knowing Who You Are"
                                },
                                {
                                    "0": "The Tenth Insight: Holding the Vision (Celestine Prophecy, #2)"
                                },
                                {
                                    "0": "Thrive: The Third Metric to Redefining Success and Creating a Life of Well-Being, Wisdom, and Wonder"
                                },
                                {
                                    "0": "The Places That Scare You: A Guide to Fearlessness in Difficult Times"
                                }
                            ]
                        },
                        "text/html": [
                            "<table>",
                            "<tr><th>title</th></tr>",
                            "<tr><td>A New Earth: Awakening to Your Life's Purpose</td></tr>",
                            "<tr><td>The Power of Now: A Guide to Spiritual Enlightenment</td></tr>",
                            "<tr><td>The Four Agreements: A Practical Guide to Personal Freedom</td></tr>",
                            "<tr><td>The Art of Happiness</td></tr>",
                            "<tr><td>Meditations</td></tr>",
                            "<tr><td>Way of the Peaceful Warrior: A Book That Changes Lives</td></tr>",
                            "<tr><td>Practicing the Power of Now: Essential Teachings, Meditations, and Exercises from the Power of Now</td></tr>",
                            "<tr><td>Autobiography of a Yogi</td></tr>",
                            "<tr><td>10% Happier: How I Tamed the Voice in My Head, Reduced Stress Without Losing My Edge, and Found Self-Help That Actually Works</td></tr>",
                            "<tr><td>The Seat of the Soul</td></tr>",
                            "<tr><td>The Teachings of Don Juan: A Yaqui Way of Knowledge </td></tr>",
                            "<tr><td>The Essential Rumi</td></tr>",
                            "<tr><td>Zen Mind, Beginner's Mind: Informal Talks on Zen Meditation and Practice</td></tr>",
                            "<tr><td>A Course in Miracles</td></tr>",
                            "<tr><td>The Power of Intention: Learning to Co-create Your World Your Way</td></tr>",
                            "<tr><td>The Practice of the Presence of God</td></tr>",
                            "<tr><td>Wherever You Go, There You Are: Mindfulness Meditation in Everyday Life</td></tr>",
                            "<tr><td>When Things Fall Apart: Heart Advice for Difficult Times</td></tr>",
                            "<tr><td>Be Here Now</td></tr>",
                            "<tr><td>Peace Is Every Step: The Path of Mindfulness in Everyday Life</td></tr>",
                            "<tr><td>Creative Visualization: Use the Power of Your Imagination to Create What You Want in Your Life</td></tr>",
                            "<tr><td>The Tibetan Book of Living and Dying</td></tr>",
                            "<tr><td>Zen of Seeing: Seeing/Drawing as Meditation</td></tr>",
                            "<tr><td>The Untethered Soul: The Journey Beyond Yourself</td></tr>",
                            "<tr><td>Waking Up: A Guide to Spirituality Without Religion</td></tr>",
                            "<tr><td>The I Ching or Book of Changes</td></tr>",
                            "<tr><td>The Happiness Hypothesis: Finding Modern Truth in Ancient Wisdom</td></tr>",
                            "<tr><td>Loving What Is: Four Questions That Can Change Your Life</td></tr>",
                            "<tr><td>The Imitation of Christ</td></tr>",
                            "<tr><td>The Miracle of Mindfulness: An Introduction to the Practice of Meditation</td></tr>",
                            "<tr><td>Care of the Soul: A Guide for Cultivating Depth and Sacredness in Everyday Life</td></tr>",
                            "<tr><td>Change Your Thoughts - Change Your Life: Living the Wisdom of the Tao</td></tr>",
                            "<tr><td>The Way of Zen</td></tr>",
                            "<tr><td>Living Buddha, Living Christ</td></tr>",
                            "<tr><td>Awakening the Buddha Within: Tibetan Wisdom for the Western World</td></tr>",
                            "<tr><td>The Book on the Taboo Against Knowing Who You Are</td></tr>",
                            "<tr><td>The Tenth Insight: Holding the Vision (Celestine Prophecy, #2)</td></tr>",
                            "<tr><td>Thrive: The Third Metric to Redefining Success and Creating a Life of Well-Being, Wisdom, and Wonder</td></tr>",
                            "<tr><td>The Places That Scare You: A Guide to Fearlessness in Difficult Times</td></tr>",
                            "</table>"
                        ]
                    }
                }
            ],
            "execution_count": 14
        },
        {
            "cell_type": "markdown",
            "source": [
                "## QUESTION 3:  Alyce\n",
                "\n",
                "Alyce wants to create a display of books with an average rating of 4.2 or higher, but she only wants books that share both title and original title.  Write a query that displays both the original title and title for Alyce, in descending order by rating.  Make sure that none of the original titles contain NULL values either."
            ],
            "metadata": {
                "azdata_cell_guid": "1d758d74-b4f0-4836-bdfe-d7280b5b4592"
            },
            "attachments": {}
        },
        {
            "cell_type": "code",
            "source": [
                "-- Code here:"
            ],
            "metadata": {
                "azdata_cell_guid": "2c693b4e-6987-4c49-ba55-61094e677608",
                "tags": [],
                "language": "sql"
            },
            "outputs": [
                {
                    "output_type": "display_data",
                    "data": {
                        "text/html": "Commands completed successfully."
                    },
                    "metadata": {}
                },
                {
                    "output_type": "display_data",
                    "data": {
                        "text/html": "Total execution time: 00:00:00.048"
                    },
                    "metadata": {}
                }
            ],
            "execution_count": 3
        },
        {
            "cell_type": "markdown",
            "source": [
                "## QUESTION 4:  Thisbe\n",
                "\n",
                "Thisbe is planning to make a long-term display of popular books that she will update monthly, reflecting different time periods.  She wants to make it reader-centric by including titles that readers have averagely rated higher than the book's actual average rating. \n",
                "\n",
                "**Part A:**   Write a query that compares the publication time with average reader ratings.\n",
                "\n",
                "**Part B:**  She wants the list ordered by year, then the book title"
            ],
            "metadata": {
                "azdata_cell_guid": "c3cb4fa8-802c-4130-8740-2adf20ec6a15"
            },
            "attachments": {}
        },
        {
            "cell_type": "code",
            "source": [
                "-- Code here:"
            ],
            "metadata": {
                "azdata_cell_guid": "164e0a22-349f-45ed-afe8-0753d5a8c6fc",
                "tags": [],
                "language": "sql"
            },
            "outputs": [
                {
                    "output_type": "display_data",
                    "data": {
                        "text/html": "Commands completed successfully."
                    },
                    "metadata": {}
                },
                {
                    "output_type": "display_data",
                    "data": {
                        "text/html": "Total execution time: 00:00:00.051"
                    },
                    "metadata": {}
                }
            ],
            "execution_count": 4
        }
    ]
}